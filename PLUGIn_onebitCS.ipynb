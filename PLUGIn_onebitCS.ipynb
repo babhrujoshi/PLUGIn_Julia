{
 "cells": [
  {
   "cell_type": "code",
   "execution_count": 2,
   "metadata": {},
   "outputs": [
    {
     "name": "stderr",
     "output_type": "stream",
     "text": [
      "WARNING: using JLD.@load in module Main conflicts with an existing identifier.\n"
     ]
    }
   ],
   "source": [
    "using BSON: @load\n",
    "using Flux\n",
    "using Flux: chunk\n",
    "using Flux.Data: DataLoader\n",
    "using ImageFiltering\n",
    "using Images\n",
    "using ImageIO\n",
    "using MLDatasets: FashionMNIST\n",
    "using LinearAlgebra\n",
    "using MLDatasets\n",
    "using Plots\n",
    "using JLD\n",
    "using Statistics"
   ]
  },
  {
   "cell_type": "markdown",
   "metadata": {},
   "source": [
    "Consider the problem of recovering $x\\in\\mathbb{R}^n$ from noisy signed compressive measurements of the form\n",
    "\n",
    "$$y = \\text{sign}(Ax) + \\epsilon, $$\n",
    "\n",
    "where $\\epsilon\\in\\mathbb{R}^n$ is noise and $A \\in \\mathbb{R}^{m\\times n}$ is a known sensing matrix. We assume the unknown signal $x$ lives in the range of known a generative model $G:\\mathbb{R}^k \\rightarrow \\mathbb{R}^n$, i.e. $x = G(z)$ for some $z \\in \\mathbb{R}^k$. We assume the generative model $G$ is  fully-connected feedforward network of the form \n",
    "\n",
    "$$ G(x) = \\sigma_d(A_d\\sigma_{d-1}(A_{d-1} \\cdots \\sigma_1(A_1 z)\\cdots)),$$\n",
    "\n",
    "where $A_i \\in \\mathbb{R}^{n_i \\times n_{i-1}}$ is the weight matrix and $\\sigma_i$ is the activation function correpsonding to the $i\\text{th}$ layer of $G$. Thus, the task of recovering $x$ can be reduced to recovering the corresponding $z$ such that $G(z) = x$. \n",
    "\n",
    "\n",
    "We solve this problem using the following iterative algorithm called Partially Linearized Updates for Generative Inversion (PLUGIn)-1bit:\n",
    "\n",
    "$$x^{k+1} = x^k -\\eta A_1^{\\top}\\cdots A_d^{\\top}A^{\\top}\\left(\\text{sign}(AG(x^k)) - y \\right) .$$\n",
    "\n",
    "Here, $\\eta$ is the stepsize that depends on the weight matrices and the activation functions."
   ]
  },
  {
   "cell_type": "markdown",
   "metadata": {},
   "source": [
    "We now list the function that are relavant to the computation of the esitmate using the PLUGIn-1bit algorithm. The following function can be used to output an estimate $x^{k+1}$ from PLUGIn-1bit from another estimate $x^k$ of the ground truth."
   ]
  },
  {
   "cell_type": "code",
   "execution_count": 3,
   "metadata": {},
   "outputs": [
    {
     "data": {
      "text/plain": [
       "PLUGIN_1bitCS_estimate (generic function with 1 method)"
      ]
     },
     "execution_count": 3,
     "metadata": {},
     "output_type": "execute_result"
    }
   ],
   "source": [
    "# output the plugin Iterate\n",
    "function PLUGIN_1bitCS_estimate(A, G, W, y, z, stepsize)\n",
    "    d = W'*A'* (sign.(A * G(z)) - y )\n",
    "    return z - stepsize * d\n",
    "end"
   ]
  },
  {
   "cell_type": "markdown",
   "metadata": {},
   "source": [
    "One advantage of PLUGIn algorithm in general is that it allows us to pre-multiply the weight matrices. The following function is used to compute $A_d\\cdot A_{d-1}\\cdots A_1$ given a generative model $G$. It also normalizes each weight matrix w.r.t. its top singular value."
   ]
  },
  {
   "cell_type": "code",
   "execution_count": 4,
   "metadata": {},
   "outputs": [
    {
     "data": {
      "text/plain": [
       "normalized_weight_product (generic function with 1 method)"
      ]
     },
     "execution_count": 4,
     "metadata": {},
     "output_type": "execute_result"
    }
   ],
   "source": [
    "function normalized_weight_product(G)\n",
    "    (_, z_dim) = size(Flux.params(G[1])[1]);\n",
    "    W = I(z_dim)\n",
    "    for i in 1:length(G)\n",
    "        _, s, _ = svd(Flux.params(G[i])[1])\n",
    "        W = Flux.params(G[i])[1] * W /s[1]\n",
    "    end\n",
    "    return W\n",
    "end  "
   ]
  },
  {
   "cell_type": "markdown",
   "metadata": {},
   "source": [
    "The following function can be used to create a general generative function with number of nodes in each layer specified. The entries of the weight matrices are initialized to be normalized random normal."
   ]
  },
  {
   "cell_type": "code",
   "execution_count": 5,
   "metadata": {},
   "outputs": [
    {
     "data": {
      "text/plain": [
       "create_network (generic function with 1 method)"
      ]
     },
     "execution_count": 5,
     "metadata": {},
     "output_type": "execute_result"
    }
   ],
   "source": [
    "function create_network(net_param)\n",
    "    n_0 = net_param[1]\n",
    "    n_1 = net_param[2]\n",
    "    L = Chain(Dense(n_0, n_1, relu; initW =(out,in) ->  randn(n_1, n_0)/sqrt(n_1)))\n",
    "\n",
    "    for i in 2:length(net_param)-1\n",
    "        n_0 = net_param[i]\n",
    "        n_1 = net_param[i+1]\n",
    "        L = Chain(L, Dense(n_0, n_1, relu; initW =(out,in) ->  randn(n_1, n_0)/sqrt(n_1)))\n",
    "    end\n",
    "    return L\n",
    "end"
   ]
  },
  {
   "cell_type": "markdown",
   "metadata": {},
   "source": [
    "The following function can be used to estimate the ground truth from signed compressive measurements using the PLUGIn-1bit algorithm:"
   ]
  },
  {
   "cell_type": "code",
   "execution_count": 6,
   "metadata": {},
   "outputs": [
    {
     "data": {
      "text/plain": [
       "PLUGIn_onebitCS (generic function with 1 method)"
      ]
     },
     "execution_count": 6,
     "metadata": {},
     "output_type": "execute_result"
    }
   ],
   "source": [
    "function PLUGIn_onebitCS(G, y, A, max_iter, stepsize, tolerance,lambda, out_toggle)\n",
    "    \n",
    "    (_, z_dim) = size(Flux.params(G[1])[1]);\n",
    "    (m, _) = size(A)\n",
    "    W = I(z_dim)\n",
    "  \n",
    "    #normalize the weights of the network\n",
    "    for i in 1:length(G)\n",
    "        _, s, _ = svd(Flux.params(G[i])[1])\n",
    "        W = Flux.params(G[i])[1] * W /s[1]\n",
    "    end\n",
    "  \n",
    "    z = randn(z_dim)\n",
    "    iter = 1\n",
    "    succ_error = 1\n",
    "  \n",
    "    while iter <= max_iter && succ_error > tolerance\n",
    "      # d gives the PLUGIn direction\n",
    "      d = sign.(A * G(z)) - y\n",
    "      d = W'*A'* d\n",
    "      z -= stepsize * d\n",
    "      succ_error = norm(stepsize * d)\n",
    "      if iter % out_toggle == 0  \n",
    "          println(\"====> In quasi-gradient: Iteration: $iter Successive error: $succ_error\")\n",
    "      end\n",
    "      iter += 1\n",
    "    end\n",
    "    println(\"====> In quasi-gradient: Iteration: $iter Successive error: $succ_error\")\n",
    "  \n",
    "    return z\n",
    "  end"
   ]
  },
  {
   "cell_type": "markdown",
   "metadata": {},
   "source": [
    "In the first experiment, we want to examine the convergence rate of the PLUGIn-bit algorithm as a function of the number of measurement. Define the recovery error  as:\n",
    "$$\\text{recovery error, $\\delta$} := \\left\\| \\tfrac{x^{\\natural}}{\\|x^\\natural\\|} - \\tfrac{x^*}{\\|x^*\\|} \\right\\|,$$\n",
    "where $x^\\natural$ is the recovered estimate of ground truth $x^*$. We hope to see a error decay as $\\delta \\sim \\tfrac{1}{m^\\alpha}$ for some $\\alpha \\in (0,1)$.\n",
    "\n",
    "\n",
    "The following code segment is used to generate the relationship betwen $\\delta$ and $m$.\n",
    "\n",
    "**WARNING** The following code segment can take a while to complete as it will compute the recovery error multiple times for various measurement levels."
   ]
  },
  {
   "cell_type": "code",
   "execution_count": 13,
   "metadata": {},
   "outputs": [
    {
     "ename": "LoadError",
     "evalue": "InterruptException:",
     "output_type": "error",
     "traceback": [
      "InterruptException:",
      "",
      "Stacktrace:",
      " [1] Array",
      "   @ ./boot.jl:457 [inlined]",
      " [2] Array",
      "   @ ./boot.jl:466 [inlined]",
      " [3] similar",
      "   @ ./array.jl:378 [inlined]",
      " [4] similar",
      "   @ ./abstractarray.jl:785 [inlined]",
      " [5] *",
      "   @ /cvmfs/soft.computecanada.ca/easybuild/software/2020/avx2/Core/julia/1.7.0/share/julia/stdlib/v1.7/LinearAlgebra/src/matmul.jl:47 [inlined]",
      " [6] PLUGIN_1bitCS_estimate(A::Matrix{Float64}, G::Chain{Tuple{Chain{Tuple{Dense{typeof(relu), Matrix{Float64}, Vector{Float64}}}}, Dense{typeof(relu), Matrix{Float64}, Vector{Float64}}}}, W::Matrix{Float64}, y::Vector{Float64}, z::Vector{Float64}, stepsize::Int64)",
      "   @ Main ./In[3]:3",
      " [7] top-level scope",
      "   @ ./In[13]:29",
      " [8] eval",
      "   @ ./boot.jl:373 [inlined]",
      " [9] include_string(mapexpr::typeof(REPL.softscope), mod::Module, code::String, filename::String)",
      "   @ Base ./loading.jl:1196"
     ]
    }
   ],
   "source": [
    "net_param = [5, 200, 750]\n",
    "x_dim  = net_param[length(net_param)]\n",
    "z_dim = net_param[1]\n",
    "\n",
    "G = create_network(net_param)\n",
    "    \n",
    "stepsize = 1\n",
    "max_iter = 2000\n",
    "tolerance = 1e-7\n",
    "\n",
    "W = normalized_weight_product(G)\n",
    "m_list = 750:1000:50000\n",
    "trials = 10\n",
    "recov_error_matrix = zeros(length(m_list))\n",
    "\n",
    "for trial in 1:trials\n",
    "    recov_error = []\n",
    "    z = randn(z_dim)\n",
    "\n",
    "    for m in m_list\n",
    "        A = randn(m, x_dim)/sqrt(m)\n",
    "        y = sign.(A*G(z))\n",
    "        z_est = zeros(z_dim)\n",
    "        iter = 1\n",
    "        succ_error = 1\n",
    "\n",
    "        while iter <= max_iter && succ_error > tolerance\n",
    "            z_old = z_est\n",
    "            z_est = PLUGIN_1bitCS_estimate(A, G, W, y, z_est, stepsize)\n",
    "            succ_error = norm(z_old - z_est, 2)\n",
    "            iter += 1\n",
    "        end\n",
    "        push!(recov_error, norm(z/norm(z) - z_est/norm(z_est)))\n",
    "    end\n",
    "    recov_error_matrix = hcat(recov_error_matrix, recov_error)\n",
    "\n",
    "end\n",
    "\n",
    "# change the filename before running this code if you wish to save the results\n",
    "\n",
    "# M = recov_error_matrix[:,2:end]\n",
    "# save(\"result/error_1.jld\", \"error\", M, \"measurement\", m_list, \"trials\", trials)"
   ]
  },
  {
   "cell_type": "markdown",
   "metadata": {},
   "source": [
    "We can now show the relationship between recovery error and measurement level. Note that the plot is in log scale and so we hope to see a linear curve. In this plot, the generative function $G$ a 2-layer deep random neural network and satisfies $5\\rightarrow 200\\rightarrow 750$. The number of measurment ranges is uniformly sampled in the interval [750, 30000]. For each measurment, we report the average of 10 trials. \n",
    "\n",
    "Note that the relationship between recovery error and measurement level \"looks\" linear (in log scale)."
   ]
  },
  {
   "cell_type": "code",
   "execution_count": 12,
   "metadata": {},
   "outputs": [
    {
     "data": {
      "image/svg+xml": "<?xml version=\"1.0\" encoding=\"utf-8\"?>\n<svg xmlns=\"http://www.w3.org/2000/svg\" xmlns:xlink=\"http://www.w3.org/1999/xlink\" width=\"600\" height=\"400\" viewBox=\"0 0 2400 1600\">\n<defs>\n  <clipPath id=\"clip110\">\n    <rect x=\"0\" y=\"0\" width=\"2400\" height=\"1600\"/>\n  </clipPath>\n</defs>\n<path clip-path=\"url(#clip110)\" d=\"\nM0 1600 L2400 1600 L2400 0 L0 0  Z\n  \" fill=\"#ffffff\" fill-rule=\"evenodd\" fill-opacity=\"1\"/>\n<defs>\n  <clipPath id=\"clip111\">\n    <rect x=\"480\" y=\"0\" width=\"1681\" height=\"1600\"/>\n  </clipPath>\n</defs>\n<path clip-path=\"url(#clip110)\" d=\"\nM285.769 1423.18 L2352.76 1423.18 L2352.76 47.2441 L285.769 47.2441  Z\n  \" fill=\"#ffffff\" fill-rule=\"evenodd\" fill-opacity=\"1\"/>\n<defs>\n  <clipPath id=\"clip112\">\n    <rect x=\"285\" y=\"47\" width=\"2068\" height=\"1377\"/>\n  </clipPath>\n</defs>\n<polyline clip-path=\"url(#clip112)\" style=\"stroke:#000000; stroke-linecap:butt; stroke-linejoin:round; stroke-width:2; stroke-opacity:0.1; fill:none\" points=\"\n  719.864,1423.18 719.864,47.2441 \n  \"/>\n<polyline clip-path=\"url(#clip112)\" style=\"stroke:#000000; stroke-linecap:butt; stroke-linejoin:round; stroke-width:2; stroke-opacity:0.1; fill:none\" points=\"\n  1198.09,1423.18 1198.09,47.2441 \n  \"/>\n<polyline clip-path=\"url(#clip112)\" style=\"stroke:#000000; stroke-linecap:butt; stroke-linejoin:round; stroke-width:2; stroke-opacity:0.1; fill:none\" points=\"\n  1676.32,1423.18 1676.32,47.2441 \n  \"/>\n<polyline clip-path=\"url(#clip112)\" style=\"stroke:#000000; stroke-linecap:butt; stroke-linejoin:round; stroke-width:2; stroke-opacity:0.1; fill:none\" points=\"\n  2154.54,1423.18 2154.54,47.2441 \n  \"/>\n<polyline clip-path=\"url(#clip110)\" style=\"stroke:#000000; stroke-linecap:butt; stroke-linejoin:round; stroke-width:4; stroke-opacity:1; fill:none\" points=\"\n  285.769,1423.18 2352.76,1423.18 \n  \"/>\n<polyline clip-path=\"url(#clip110)\" style=\"stroke:#000000; stroke-linecap:butt; stroke-linejoin:round; stroke-width:4; stroke-opacity:1; fill:none\" points=\"\n  719.864,1423.18 719.864,1404.28 \n  \"/>\n<polyline clip-path=\"url(#clip110)\" style=\"stroke:#000000; stroke-linecap:butt; stroke-linejoin:round; stroke-width:4; stroke-opacity:1; fill:none\" points=\"\n  1198.09,1423.18 1198.09,1404.28 \n  \"/>\n<polyline clip-path=\"url(#clip110)\" style=\"stroke:#000000; stroke-linecap:butt; stroke-linejoin:round; stroke-width:4; stroke-opacity:1; fill:none\" points=\"\n  1676.32,1423.18 1676.32,1404.28 \n  \"/>\n<polyline clip-path=\"url(#clip110)\" style=\"stroke:#000000; stroke-linecap:butt; stroke-linejoin:round; stroke-width:4; stroke-opacity:1; fill:none\" points=\"\n  2154.54,1423.18 2154.54,1404.28 \n  \"/>\n<path clip-path=\"url(#clip110)\" d=\"M708.753 1451.02 L730.975 1451.02 L730.975 1453.01 L718.429 1485.58 L713.544 1485.58 L725.35 1454.96 L708.753 1454.96 L708.753 1451.02 Z\" fill=\"#000000\" fill-rule=\"evenodd\" fill-opacity=\"1\" /><path clip-path=\"url(#clip110)\" d=\"M1198.09 1469.17 Q1194.76 1469.17 1192.84 1470.95 Q1190.94 1472.73 1190.94 1475.86 Q1190.94 1478.98 1192.84 1480.77 Q1194.76 1482.55 1198.09 1482.55 Q1201.42 1482.55 1203.35 1480.77 Q1205.27 1478.96 1205.27 1475.86 Q1205.27 1472.73 1203.35 1470.95 Q1201.45 1469.17 1198.09 1469.17 M1193.41 1467.18 Q1190.41 1466.44 1188.72 1464.38 Q1187.05 1462.32 1187.05 1459.35 Q1187.05 1455.21 1189.99 1452.8 Q1192.95 1450.39 1198.09 1450.39 Q1203.25 1450.39 1206.19 1452.8 Q1209.13 1455.21 1209.13 1459.35 Q1209.13 1462.32 1207.44 1464.38 Q1205.78 1466.44 1202.79 1467.18 Q1206.17 1467.96 1208.04 1470.26 Q1209.94 1472.55 1209.94 1475.86 Q1209.94 1480.88 1206.86 1483.57 Q1203.81 1486.25 1198.09 1486.25 Q1192.37 1486.25 1189.29 1483.57 Q1186.24 1480.88 1186.24 1475.86 Q1186.24 1472.55 1188.14 1470.26 Q1190.04 1467.96 1193.41 1467.18 M1191.7 1459.79 Q1191.7 1462.48 1193.37 1463.98 Q1195.06 1465.49 1198.09 1465.49 Q1201.1 1465.49 1202.79 1463.98 Q1204.5 1462.48 1204.5 1459.79 Q1204.5 1457.11 1202.79 1455.6 Q1201.1 1454.1 1198.09 1454.1 Q1195.06 1454.1 1193.37 1455.6 Q1191.7 1457.11 1191.7 1459.79 Z\" fill=\"#000000\" fill-rule=\"evenodd\" fill-opacity=\"1\" /><path clip-path=\"url(#clip110)\" d=\"M1666.62 1484.86 L1666.62 1480.6 Q1668.38 1481.44 1670.18 1481.88 Q1671.99 1482.32 1673.72 1482.32 Q1678.35 1482.32 1680.79 1479.21 Q1683.24 1476.09 1683.59 1469.75 Q1682.24 1471.74 1680.18 1472.8 Q1678.12 1473.87 1675.62 1473.87 Q1670.44 1473.87 1667.41 1470.74 Q1664.4 1467.59 1664.4 1462.15 Q1664.4 1456.83 1667.54 1453.61 Q1670.69 1450.39 1675.92 1450.39 Q1681.92 1450.39 1685.07 1455 Q1688.24 1459.58 1688.24 1468.33 Q1688.24 1476.51 1684.35 1481.39 Q1680.48 1486.25 1673.93 1486.25 Q1672.17 1486.25 1670.37 1485.9 Q1668.56 1485.56 1666.62 1484.86 M1675.92 1470.21 Q1679.07 1470.21 1680.9 1468.06 Q1682.75 1465.9 1682.75 1462.15 Q1682.75 1458.43 1680.9 1456.27 Q1679.07 1454.1 1675.92 1454.1 Q1672.78 1454.1 1670.92 1456.27 Q1669.1 1458.43 1669.1 1462.15 Q1669.1 1465.9 1670.92 1468.06 Q1672.78 1470.21 1675.92 1470.21 Z\" fill=\"#000000\" fill-rule=\"evenodd\" fill-opacity=\"1\" /><path clip-path=\"url(#clip110)\" d=\"M2129.23 1481.64 L2136.87 1481.64 L2136.87 1455.28 L2128.56 1456.95 L2128.56 1452.69 L2136.82 1451.02 L2141.5 1451.02 L2141.5 1481.64 L2149.14 1481.64 L2149.14 1485.58 L2129.23 1485.58 L2129.23 1481.64 Z\" fill=\"#000000\" fill-rule=\"evenodd\" fill-opacity=\"1\" /><path clip-path=\"url(#clip110)\" d=\"M2168.58 1454.1 Q2164.97 1454.1 2163.14 1457.66 Q2161.34 1461.2 2161.34 1468.33 Q2161.34 1475.44 2163.14 1479.01 Q2164.97 1482.55 2168.58 1482.55 Q2172.22 1482.55 2174.02 1479.01 Q2175.85 1475.44 2175.85 1468.33 Q2175.85 1461.2 2174.02 1457.66 Q2172.22 1454.1 2168.58 1454.1 M2168.58 1450.39 Q2174.39 1450.39 2177.45 1455 Q2180.53 1459.58 2180.53 1468.33 Q2180.53 1477.06 2177.45 1481.67 Q2174.39 1486.25 2168.58 1486.25 Q2162.77 1486.25 2159.69 1481.67 Q2156.64 1477.06 2156.64 1468.33 Q2156.64 1459.58 2159.69 1455 Q2162.77 1450.39 2168.58 1450.39 Z\" fill=\"#000000\" fill-rule=\"evenodd\" fill-opacity=\"1\" /><path clip-path=\"url(#clip110)\" d=\"M752.635 1546.53 L752.635 1568.04 L746.778 1568.04 L746.778 1546.72 Q746.778 1541.66 744.805 1539.14 Q742.832 1536.63 738.885 1536.63 Q734.142 1536.63 731.405 1539.65 Q728.668 1542.68 728.668 1547.9 L728.668 1568.04 L722.78 1568.04 L722.78 1532.4 L728.668 1532.4 L728.668 1537.93 Q730.769 1534.72 733.601 1533.13 Q736.466 1531.54 740.19 1531.54 Q746.333 1531.54 749.484 1535.36 Q752.635 1539.14 752.635 1546.53 Z\" fill=\"#000000\" fill-rule=\"evenodd\" fill-opacity=\"1\" /><path clip-path=\"url(#clip110)\" d=\"M763.711 1553.98 L763.711 1532.4 L769.568 1532.4 L769.568 1553.75 Q769.568 1558.81 771.541 1561.36 Q773.514 1563.87 777.461 1563.87 Q782.204 1563.87 784.941 1560.85 Q787.71 1557.83 787.71 1552.61 L787.71 1532.4 L793.566 1532.4 L793.566 1568.04 L787.71 1568.04 L787.71 1562.57 Q785.577 1565.82 782.745 1567.41 Q779.944 1568.97 776.22 1568.97 Q770.077 1568.97 766.894 1565.15 Q763.711 1561.33 763.711 1553.98 M778.448 1531.54 L778.448 1531.54 Z\" fill=\"#000000\" fill-rule=\"evenodd\" fill-opacity=\"1\" /><path clip-path=\"url(#clip110)\" d=\"M833.384 1539.24 Q835.58 1535.29 838.636 1533.41 Q841.691 1531.54 845.829 1531.54 Q851.399 1531.54 854.422 1535.45 Q857.446 1539.33 857.446 1546.53 L857.446 1568.04 L851.558 1568.04 L851.558 1546.72 Q851.558 1541.59 849.744 1539.11 Q847.929 1536.63 844.206 1536.63 Q839.654 1536.63 837.012 1539.65 Q834.371 1542.68 834.371 1547.9 L834.371 1568.04 L828.482 1568.04 L828.482 1546.72 Q828.482 1541.56 826.668 1539.11 Q824.854 1536.63 821.066 1536.63 Q816.578 1536.63 813.937 1539.68 Q811.295 1542.71 811.295 1547.9 L811.295 1568.04 L805.407 1568.04 L805.407 1532.4 L811.295 1532.4 L811.295 1537.93 Q813.3 1534.66 816.101 1533.1 Q818.902 1531.54 822.753 1531.54 Q826.636 1531.54 829.342 1533.51 Q832.079 1535.48 833.384 1539.24 Z\" fill=\"#000000\" fill-rule=\"evenodd\" fill-opacity=\"1\" /><path clip-path=\"url(#clip110)\" d=\"M894.717 1550.25 Q894.717 1543.79 892.044 1540.13 Q889.402 1536.44 884.755 1536.44 Q880.108 1536.44 877.435 1540.13 Q874.793 1543.79 874.793 1550.25 Q874.793 1556.71 877.435 1560.4 Q880.108 1564.07 884.755 1564.07 Q889.402 1564.07 892.044 1560.4 Q894.717 1556.71 894.717 1550.25 M874.793 1537.81 Q876.639 1534.62 879.44 1533.1 Q882.272 1531.54 886.187 1531.54 Q892.68 1531.54 896.723 1536.69 Q900.797 1541.85 900.797 1550.25 Q900.797 1558.65 896.723 1563.81 Q892.68 1568.97 886.187 1568.97 Q882.272 1568.97 879.44 1567.44 Q876.639 1565.88 874.793 1562.7 L874.793 1568.04 L868.904 1568.04 L868.904 1518.52 L874.793 1518.52 L874.793 1537.81 Z\" fill=\"#000000\" fill-rule=\"evenodd\" fill-opacity=\"1\" /><path clip-path=\"url(#clip110)\" d=\"M940.996 1548.76 L940.996 1551.62 L914.069 1551.62 Q914.451 1557.67 917.698 1560.85 Q920.976 1564 926.801 1564 Q930.174 1564 933.325 1563.17 Q936.508 1562.35 939.627 1560.69 L939.627 1566.23 Q936.476 1567.57 933.166 1568.27 Q929.856 1568.97 926.45 1568.97 Q917.92 1568.97 912.923 1564 Q907.958 1559.04 907.958 1550.57 Q907.958 1541.82 912.669 1536.69 Q917.411 1531.54 925.432 1531.54 Q932.625 1531.54 936.795 1536.18 Q940.996 1540.8 940.996 1548.76 M935.14 1547.04 Q935.076 1542.23 932.434 1539.37 Q929.824 1536.5 925.496 1536.5 Q920.594 1536.5 917.634 1539.27 Q914.706 1542.04 914.26 1547.07 L935.14 1547.04 Z\" fill=\"#000000\" fill-rule=\"evenodd\" fill-opacity=\"1\" /><path clip-path=\"url(#clip110)\" d=\"M971.265 1537.87 Q970.278 1537.3 969.101 1537.04 Q967.955 1536.76 966.554 1536.76 Q961.589 1536.76 958.916 1540 Q956.274 1543.22 956.274 1549.27 L956.274 1568.04 L950.386 1568.04 L950.386 1532.4 L956.274 1532.4 L956.274 1537.93 Q958.12 1534.69 961.08 1533.13 Q964.04 1531.54 968.273 1531.54 Q968.878 1531.54 969.61 1531.63 Q970.342 1531.7 971.233 1531.85 L971.265 1537.87 Z\" fill=\"#000000\" fill-rule=\"evenodd\" fill-opacity=\"1\" /><path clip-path=\"url(#clip110)\" d=\"M1011.94 1536.5 Q1007.23 1536.5 1004.49 1540.19 Q1001.76 1543.85 1001.76 1550.25 Q1001.76 1556.65 1004.46 1560.34 Q1007.2 1564 1011.94 1564 Q1016.62 1564 1019.36 1560.31 Q1022.1 1556.62 1022.1 1550.25 Q1022.1 1543.92 1019.36 1540.23 Q1016.62 1536.5 1011.94 1536.5 M1011.94 1531.54 Q1019.58 1531.54 1023.94 1536.5 Q1028.3 1541.47 1028.3 1550.25 Q1028.3 1559 1023.94 1564 Q1019.58 1568.97 1011.94 1568.97 Q1004.27 1568.97 999.911 1564 Q995.582 1559 995.582 1550.25 Q995.582 1541.47 999.911 1536.5 Q1004.27 1531.54 1011.94 1531.54 Z\" fill=\"#000000\" fill-rule=\"evenodd\" fill-opacity=\"1\" /><path clip-path=\"url(#clip110)\" d=\"M1056.06 1518.52 L1056.06 1523.39 L1050.45 1523.39 Q1047.3 1523.39 1046.06 1524.66 Q1044.85 1525.93 1044.85 1529.24 L1044.85 1532.4 L1054.5 1532.4 L1054.5 1536.95 L1044.85 1536.95 L1044.85 1568.04 L1038.96 1568.04 L1038.96 1536.95 L1033.36 1536.95 L1033.36 1532.4 L1038.96 1532.4 L1038.96 1529.91 Q1038.96 1523.96 1041.73 1521.26 Q1044.5 1518.52 1050.52 1518.52 L1056.06 1518.52 Z\" fill=\"#000000\" fill-rule=\"evenodd\" fill-opacity=\"1\" /><path clip-path=\"url(#clip110)\" d=\"M1109.43 1539.24 Q1111.63 1535.29 1114.68 1533.41 Q1117.74 1531.54 1121.88 1531.54 Q1127.45 1531.54 1130.47 1535.45 Q1133.5 1539.33 1133.5 1546.53 L1133.5 1568.04 L1127.61 1568.04 L1127.61 1546.72 Q1127.61 1541.59 1125.79 1539.11 Q1123.98 1536.63 1120.25 1536.63 Q1115.7 1536.63 1113.06 1539.65 Q1110.42 1542.68 1110.42 1547.9 L1110.42 1568.04 L1104.53 1568.04 L1104.53 1546.72 Q1104.53 1541.56 1102.72 1539.11 Q1100.9 1536.63 1097.12 1536.63 Q1092.63 1536.63 1089.99 1539.68 Q1087.34 1542.71 1087.34 1547.9 L1087.34 1568.04 L1081.46 1568.04 L1081.46 1532.4 L1087.34 1532.4 L1087.34 1537.93 Q1089.35 1534.66 1092.15 1533.1 Q1094.95 1531.54 1098.8 1531.54 Q1102.69 1531.54 1105.39 1533.51 Q1108.13 1535.48 1109.43 1539.24 Z\" fill=\"#000000\" fill-rule=\"evenodd\" fill-opacity=\"1\" /><path clip-path=\"url(#clip110)\" d=\"M1175.67 1548.76 L1175.67 1551.62 L1148.74 1551.62 Q1149.12 1557.67 1152.37 1560.85 Q1155.65 1564 1161.47 1564 Q1164.85 1564 1168 1563.17 Q1171.18 1562.35 1174.3 1560.69 L1174.3 1566.23 Q1171.15 1567.57 1167.84 1568.27 Q1164.53 1568.97 1161.12 1568.97 Q1152.59 1568.97 1147.6 1564 Q1142.63 1559.04 1142.63 1550.57 Q1142.63 1541.82 1147.34 1536.69 Q1152.08 1531.54 1160.1 1531.54 Q1167.3 1531.54 1171.47 1536.18 Q1175.67 1540.8 1175.67 1548.76 M1169.81 1547.04 Q1169.75 1542.23 1167.11 1539.37 Q1164.5 1536.5 1160.17 1536.5 Q1155.27 1536.5 1152.31 1539.27 Q1149.38 1542.04 1148.93 1547.07 L1169.81 1547.04 Z\" fill=\"#000000\" fill-rule=\"evenodd\" fill-opacity=\"1\" /><path clip-path=\"url(#clip110)\" d=\"M1201.48 1550.12 Q1194.38 1550.12 1191.65 1551.75 Q1188.91 1553.37 1188.91 1557.29 Q1188.91 1560.4 1190.95 1562.25 Q1193.01 1564.07 1196.55 1564.07 Q1201.42 1564.07 1204.35 1560.63 Q1207.31 1557.16 1207.31 1551.43 L1207.31 1550.12 L1201.48 1550.12 M1213.16 1547.71 L1213.16 1568.04 L1207.31 1568.04 L1207.31 1562.63 Q1205.3 1565.88 1202.31 1567.44 Q1199.32 1568.97 1194.99 1568.97 Q1189.51 1568.97 1186.27 1565.91 Q1183.05 1562.82 1183.05 1557.67 Q1183.05 1551.65 1187.06 1548.6 Q1191.1 1545.54 1199.09 1545.54 L1207.31 1545.54 L1207.31 1544.97 Q1207.31 1540.93 1204.63 1538.73 Q1201.99 1536.5 1197.18 1536.5 Q1194.13 1536.5 1191.23 1537.23 Q1188.34 1537.97 1185.66 1539.43 L1185.66 1534.02 Q1188.88 1532.78 1191.9 1532.17 Q1194.92 1531.54 1197.79 1531.54 Q1205.52 1531.54 1209.34 1535.55 Q1213.16 1539.56 1213.16 1547.71 Z\" fill=\"#000000\" fill-rule=\"evenodd\" fill-opacity=\"1\" /><path clip-path=\"url(#clip110)\" d=\"M1247.95 1533.45 L1247.95 1538.98 Q1245.47 1537.71 1242.79 1537.07 Q1240.12 1536.44 1237.26 1536.44 Q1232.9 1536.44 1230.7 1537.77 Q1228.54 1539.11 1228.54 1541.79 Q1228.54 1543.82 1230.09 1545 Q1231.65 1546.15 1236.36 1547.2 L1238.37 1547.64 Q1244.61 1548.98 1247.22 1551.43 Q1249.86 1553.85 1249.86 1558.21 Q1249.86 1563.17 1245.91 1566.07 Q1242 1568.97 1235.12 1568.97 Q1232.26 1568.97 1229.14 1568.39 Q1226.05 1567.85 1222.61 1566.74 L1222.61 1560.69 Q1225.86 1562.38 1229.01 1563.24 Q1232.16 1564.07 1235.25 1564.07 Q1239.39 1564.07 1241.62 1562.66 Q1243.84 1561.23 1243.84 1558.65 Q1243.84 1556.27 1242.22 1554.99 Q1240.63 1553.72 1235.19 1552.54 L1233.15 1552.07 Q1227.71 1550.92 1225.29 1548.56 Q1222.87 1546.18 1222.87 1542.04 Q1222.87 1537.01 1226.43 1534.27 Q1230 1531.54 1236.56 1531.54 Q1239.8 1531.54 1242.67 1532.01 Q1245.53 1532.49 1247.95 1533.45 Z\" fill=\"#000000\" fill-rule=\"evenodd\" fill-opacity=\"1\" /><path clip-path=\"url(#clip110)\" d=\"M1258.58 1553.98 L1258.58 1532.4 L1264.44 1532.4 L1264.44 1553.75 Q1264.44 1558.81 1266.41 1561.36 Q1268.38 1563.87 1272.33 1563.87 Q1277.07 1563.87 1279.81 1560.85 Q1282.58 1557.83 1282.58 1552.61 L1282.58 1532.4 L1288.44 1532.4 L1288.44 1568.04 L1282.58 1568.04 L1282.58 1562.57 Q1280.45 1565.82 1277.61 1567.41 Q1274.81 1568.97 1271.09 1568.97 Q1264.95 1568.97 1261.76 1565.15 Q1258.58 1561.33 1258.58 1553.98 M1273.32 1531.54 L1273.32 1531.54 Z\" fill=\"#000000\" fill-rule=\"evenodd\" fill-opacity=\"1\" /><path clip-path=\"url(#clip110)\" d=\"M1321.16 1537.87 Q1320.17 1537.3 1318.99 1537.04 Q1317.85 1536.76 1316.45 1536.76 Q1311.48 1536.76 1308.81 1540 Q1306.16 1543.22 1306.16 1549.27 L1306.16 1568.04 L1300.28 1568.04 L1300.28 1532.4 L1306.16 1532.4 L1306.16 1537.93 Q1308.01 1534.69 1310.97 1533.13 Q1313.93 1531.54 1318.16 1531.54 Q1318.77 1531.54 1319.5 1531.63 Q1320.23 1531.7 1321.12 1531.85 L1321.16 1537.87 Z\" fill=\"#000000\" fill-rule=\"evenodd\" fill-opacity=\"1\" /><path clip-path=\"url(#clip110)\" d=\"M1356.36 1548.76 L1356.36 1551.62 L1329.43 1551.62 Q1329.81 1557.67 1333.06 1560.85 Q1336.34 1564 1342.16 1564 Q1345.54 1564 1348.69 1563.17 Q1351.87 1562.35 1354.99 1560.69 L1354.99 1566.23 Q1351.84 1567.57 1348.53 1568.27 Q1345.22 1568.97 1341.81 1568.97 Q1333.28 1568.97 1328.29 1564 Q1323.32 1559.04 1323.32 1550.57 Q1323.32 1541.82 1328.03 1536.69 Q1332.77 1531.54 1340.79 1531.54 Q1347.99 1531.54 1352.16 1536.18 Q1356.36 1540.8 1356.36 1548.76 M1350.5 1547.04 Q1350.44 1542.23 1347.8 1539.37 Q1345.19 1536.5 1340.86 1536.5 Q1335.96 1536.5 1333 1539.27 Q1330.07 1542.04 1329.62 1547.07 L1350.5 1547.04 Z\" fill=\"#000000\" fill-rule=\"evenodd\" fill-opacity=\"1\" /><path clip-path=\"url(#clip110)\" d=\"M1393.73 1539.24 Q1395.92 1535.29 1398.98 1533.41 Q1402.03 1531.54 1406.17 1531.54 Q1411.74 1531.54 1414.76 1535.45 Q1417.79 1539.33 1417.79 1546.53 L1417.79 1568.04 L1411.9 1568.04 L1411.9 1546.72 Q1411.9 1541.59 1410.09 1539.11 Q1408.27 1536.63 1404.55 1536.63 Q1400 1536.63 1397.35 1539.65 Q1394.71 1542.68 1394.71 1547.9 L1394.71 1568.04 L1388.82 1568.04 L1388.82 1546.72 Q1388.82 1541.56 1387.01 1539.11 Q1385.2 1536.63 1381.41 1536.63 Q1376.92 1536.63 1374.28 1539.68 Q1371.64 1542.71 1371.64 1547.9 L1371.64 1568.04 L1365.75 1568.04 L1365.75 1532.4 L1371.64 1532.4 L1371.64 1537.93 Q1373.64 1534.66 1376.44 1533.1 Q1379.24 1531.54 1383.09 1531.54 Q1386.98 1531.54 1389.68 1533.51 Q1392.42 1535.48 1393.73 1539.24 Z\" fill=\"#000000\" fill-rule=\"evenodd\" fill-opacity=\"1\" /><path clip-path=\"url(#clip110)\" d=\"M1459.96 1548.76 L1459.96 1551.62 L1433.03 1551.62 Q1433.42 1557.67 1436.66 1560.85 Q1439.94 1564 1445.76 1564 Q1449.14 1564 1452.29 1563.17 Q1455.47 1562.35 1458.59 1560.69 L1458.59 1566.23 Q1455.44 1567.57 1452.13 1568.27 Q1448.82 1568.97 1445.41 1568.97 Q1436.88 1568.97 1431.89 1564 Q1426.92 1559.04 1426.92 1550.57 Q1426.92 1541.82 1431.63 1536.69 Q1436.38 1531.54 1444.4 1531.54 Q1451.59 1531.54 1455.76 1536.18 Q1459.96 1540.8 1459.96 1548.76 M1454.1 1547.04 Q1454.04 1542.23 1451.4 1539.37 Q1448.79 1536.5 1444.46 1536.5 Q1439.56 1536.5 1436.6 1539.27 Q1433.67 1542.04 1433.22 1547.07 L1454.1 1547.04 Z\" fill=\"#000000\" fill-rule=\"evenodd\" fill-opacity=\"1\" /><path clip-path=\"url(#clip110)\" d=\"M1499.2 1546.53 L1499.2 1568.04 L1493.35 1568.04 L1493.35 1546.72 Q1493.35 1541.66 1491.38 1539.14 Q1489.4 1536.63 1485.45 1536.63 Q1480.71 1536.63 1477.98 1539.65 Q1475.24 1542.68 1475.24 1547.9 L1475.24 1568.04 L1469.35 1568.04 L1469.35 1532.4 L1475.24 1532.4 L1475.24 1537.93 Q1477.34 1534.72 1480.17 1533.13 Q1483.04 1531.54 1486.76 1531.54 Q1492.9 1531.54 1496.05 1535.36 Q1499.2 1539.14 1499.2 1546.53 Z\" fill=\"#000000\" fill-rule=\"evenodd\" fill-opacity=\"1\" /><path clip-path=\"url(#clip110)\" d=\"M1516.68 1522.27 L1516.68 1532.4 L1528.74 1532.4 L1528.74 1536.95 L1516.68 1536.95 L1516.68 1556.3 Q1516.68 1560.66 1517.86 1561.9 Q1519.07 1563.14 1522.73 1563.14 L1528.74 1563.14 L1528.74 1568.04 L1522.73 1568.04 Q1515.95 1568.04 1513.37 1565.53 Q1510.79 1562.98 1510.79 1556.3 L1510.79 1536.95 L1506.49 1536.95 L1506.49 1532.4 L1510.79 1532.4 L1510.79 1522.27 L1516.68 1522.27 Z\" fill=\"#000000\" fill-rule=\"evenodd\" fill-opacity=\"1\" /><path clip-path=\"url(#clip110)\" d=\"M1557.16 1532.4 L1563.02 1532.4 L1563.02 1568.04 L1557.16 1568.04 L1557.16 1532.4 M1557.16 1518.52 L1563.02 1518.52 L1563.02 1525.93 L1557.16 1525.93 L1557.16 1518.52 Z\" fill=\"#000000\" fill-rule=\"evenodd\" fill-opacity=\"1\" /><path clip-path=\"url(#clip110)\" d=\"M1604.91 1546.53 L1604.91 1568.04 L1599.05 1568.04 L1599.05 1546.72 Q1599.05 1541.66 1597.08 1539.14 Q1595.1 1536.63 1591.16 1536.63 Q1586.42 1536.63 1583.68 1539.65 Q1580.94 1542.68 1580.94 1547.9 L1580.94 1568.04 L1575.05 1568.04 L1575.05 1532.4 L1580.94 1532.4 L1580.94 1537.93 Q1583.04 1534.72 1585.87 1533.13 Q1588.74 1531.54 1592.46 1531.54 Q1598.61 1531.54 1601.76 1535.36 Q1604.91 1539.14 1604.91 1546.53 Z\" fill=\"#000000\" fill-rule=\"evenodd\" fill-opacity=\"1\" /><path clip-path=\"url(#clip110)\" d=\"M1637.31 1518.52 L1643.17 1518.52 L1643.17 1568.04 L1637.31 1568.04 L1637.31 1518.52 Z\" fill=\"#000000\" fill-rule=\"evenodd\" fill-opacity=\"1\" /><path clip-path=\"url(#clip110)\" d=\"M1669.23 1536.5 Q1664.52 1536.5 1661.79 1540.19 Q1659.05 1543.85 1659.05 1550.25 Q1659.05 1556.65 1661.75 1560.34 Q1664.49 1564 1669.23 1564 Q1673.91 1564 1676.65 1560.31 Q1679.39 1556.62 1679.39 1550.25 Q1679.39 1543.92 1676.65 1540.23 Q1673.91 1536.5 1669.23 1536.5 M1669.23 1531.54 Q1676.87 1531.54 1681.23 1536.5 Q1685.59 1541.47 1685.59 1550.25 Q1685.59 1559 1681.23 1564 Q1676.87 1568.97 1669.23 1568.97 Q1661.56 1568.97 1657.2 1564 Q1652.87 1559 1652.87 1550.25 Q1652.87 1541.47 1657.2 1536.5 Q1661.56 1531.54 1669.23 1531.54 Z\" fill=\"#000000\" fill-rule=\"evenodd\" fill-opacity=\"1\" /><path clip-path=\"url(#clip110)\" d=\"M1718.76 1549.81 Q1718.76 1543.44 1716.12 1539.94 Q1713.51 1536.44 1708.76 1536.44 Q1704.05 1536.44 1701.41 1539.94 Q1698.8 1543.44 1698.8 1549.81 Q1698.8 1556.14 1701.41 1559.64 Q1704.05 1563.14 1708.76 1563.14 Q1713.51 1563.14 1716.12 1559.64 Q1718.76 1556.14 1718.76 1549.81 M1724.61 1563.62 Q1724.61 1572.72 1720.57 1577.15 Q1716.53 1581.6 1708.19 1581.6 Q1705.1 1581.6 1702.37 1581.13 Q1699.63 1580.68 1697.05 1579.72 L1697.05 1574.03 Q1699.63 1575.43 1702.14 1576.1 Q1704.66 1576.76 1707.27 1576.76 Q1713.03 1576.76 1715.89 1573.74 Q1718.76 1570.75 1718.76 1564.67 L1718.76 1561.77 Q1716.94 1564.92 1714.11 1566.48 Q1711.28 1568.04 1707.33 1568.04 Q1700.78 1568.04 1696.76 1563.05 Q1692.75 1558.05 1692.75 1549.81 Q1692.75 1541.53 1696.76 1536.53 Q1700.78 1531.54 1707.33 1531.54 Q1711.28 1531.54 1714.11 1533.1 Q1716.94 1534.66 1718.76 1537.81 L1718.76 1532.4 L1724.61 1532.4 L1724.61 1563.62 Z\" fill=\"#000000\" fill-rule=\"evenodd\" fill-opacity=\"1\" /><path clip-path=\"url(#clip110)\" d=\"M1780.12 1533.45 L1780.12 1538.98 Q1777.64 1537.71 1774.97 1537.07 Q1772.29 1536.44 1769.43 1536.44 Q1765.07 1536.44 1762.87 1537.77 Q1760.71 1539.11 1760.71 1541.79 Q1760.71 1543.82 1762.27 1545 Q1763.83 1546.15 1768.54 1547.2 L1770.54 1547.64 Q1776.78 1548.98 1779.39 1551.43 Q1782.03 1553.85 1782.03 1558.21 Q1782.03 1563.17 1778.09 1566.07 Q1774.17 1568.97 1767.3 1568.97 Q1764.43 1568.97 1761.31 1568.39 Q1758.23 1567.85 1754.79 1566.74 L1754.79 1560.69 Q1758.03 1562.38 1761.19 1563.24 Q1764.34 1564.07 1767.42 1564.07 Q1771.56 1564.07 1773.79 1562.66 Q1776.02 1561.23 1776.02 1558.65 Q1776.02 1556.27 1774.39 1554.99 Q1772.8 1553.72 1767.36 1552.54 L1765.32 1552.07 Q1759.88 1550.92 1757.46 1548.56 Q1755.04 1546.18 1755.04 1542.04 Q1755.04 1537.01 1758.61 1534.27 Q1762.17 1531.54 1768.73 1531.54 Q1771.98 1531.54 1774.84 1532.01 Q1777.7 1532.49 1780.12 1533.45 Z\" fill=\"#000000\" fill-rule=\"evenodd\" fill-opacity=\"1\" /><path clip-path=\"url(#clip110)\" d=\"M1817.01 1533.76 L1817.01 1539.24 Q1814.53 1537.87 1812.02 1537.2 Q1809.53 1536.5 1806.99 1536.5 Q1801.29 1536.5 1798.14 1540.13 Q1794.99 1543.73 1794.99 1550.25 Q1794.99 1556.78 1798.14 1560.4 Q1801.29 1564 1806.99 1564 Q1809.53 1564 1812.02 1563.33 Q1814.53 1562.63 1817.01 1561.26 L1817.01 1566.68 Q1814.56 1567.82 1811.92 1568.39 Q1809.31 1568.97 1806.35 1568.97 Q1798.3 1568.97 1793.56 1563.91 Q1788.81 1558.85 1788.81 1550.25 Q1788.81 1541.53 1793.59 1536.53 Q1798.39 1531.54 1806.73 1531.54 Q1809.44 1531.54 1812.02 1532.11 Q1814.59 1532.65 1817.01 1533.76 Z\" fill=\"#000000\" fill-rule=\"evenodd\" fill-opacity=\"1\" /><path clip-path=\"url(#clip110)\" d=\"M1843.4 1550.12 Q1836.3 1550.12 1833.56 1551.75 Q1830.83 1553.37 1830.83 1557.29 Q1830.83 1560.4 1832.86 1562.25 Q1834.93 1564.07 1838.47 1564.07 Q1843.34 1564.07 1846.26 1560.63 Q1849.22 1557.16 1849.22 1551.43 L1849.22 1550.12 L1843.4 1550.12 M1855.08 1547.71 L1855.08 1568.04 L1849.22 1568.04 L1849.22 1562.63 Q1847.22 1565.88 1844.23 1567.44 Q1841.23 1568.97 1836.91 1568.97 Q1831.43 1568.97 1828.18 1565.91 Q1824.97 1562.82 1824.97 1557.67 Q1824.97 1551.65 1828.98 1548.6 Q1833.02 1545.54 1841.01 1545.54 L1849.22 1545.54 L1849.22 1544.97 Q1849.22 1540.93 1846.55 1538.73 Q1843.91 1536.5 1839.1 1536.5 Q1836.05 1536.5 1833.15 1537.23 Q1830.25 1537.97 1827.58 1539.43 L1827.58 1534.02 Q1830.79 1532.78 1833.82 1532.17 Q1836.84 1531.54 1839.71 1531.54 Q1847.44 1531.54 1851.26 1535.55 Q1855.08 1539.56 1855.08 1547.71 Z\" fill=\"#000000\" fill-rule=\"evenodd\" fill-opacity=\"1\" /><path clip-path=\"url(#clip110)\" d=\"M1867.14 1518.52 L1873 1518.52 L1873 1568.04 L1867.14 1568.04 L1867.14 1518.52 Z\" fill=\"#000000\" fill-rule=\"evenodd\" fill-opacity=\"1\" /><path clip-path=\"url(#clip110)\" d=\"M1915.74 1548.76 L1915.74 1551.62 L1888.82 1551.62 Q1889.2 1557.67 1892.45 1560.85 Q1895.72 1564 1901.55 1564 Q1904.92 1564 1908.07 1563.17 Q1911.26 1562.35 1914.38 1560.69 L1914.38 1566.23 Q1911.23 1567.57 1907.92 1568.27 Q1904.6 1568.97 1901.2 1568.97 Q1892.67 1568.97 1887.67 1564 Q1882.71 1559.04 1882.71 1550.57 Q1882.71 1541.82 1887.42 1536.69 Q1892.16 1531.54 1900.18 1531.54 Q1907.37 1531.54 1911.54 1536.18 Q1915.74 1540.8 1915.74 1548.76 M1909.89 1547.04 Q1909.82 1542.23 1907.18 1539.37 Q1904.57 1536.5 1900.24 1536.5 Q1895.34 1536.5 1892.38 1539.27 Q1889.45 1542.04 1889.01 1547.07 L1909.89 1547.04 Z\" fill=\"#000000\" fill-rule=\"evenodd\" fill-opacity=\"1\" /><polyline clip-path=\"url(#clip112)\" style=\"stroke:#000000; stroke-linecap:butt; stroke-linejoin:round; stroke-width:2; stroke-opacity:0.1; fill:none\" points=\"\n  285.769,1334.18 2352.76,1334.18 \n  \"/>\n<polyline clip-path=\"url(#clip112)\" style=\"stroke:#000000; stroke-linecap:butt; stroke-linejoin:round; stroke-width:2; stroke-opacity:0.1; fill:none\" points=\"\n  285.769,1169.13 2352.76,1169.13 \n  \"/>\n<polyline clip-path=\"url(#clip112)\" style=\"stroke:#000000; stroke-linecap:butt; stroke-linejoin:round; stroke-width:2; stroke-opacity:0.1; fill:none\" points=\"\n  285.769,1004.08 2352.76,1004.08 \n  \"/>\n<polyline clip-path=\"url(#clip112)\" style=\"stroke:#000000; stroke-linecap:butt; stroke-linejoin:round; stroke-width:2; stroke-opacity:0.1; fill:none\" points=\"\n  285.769,839.026 2352.76,839.026 \n  \"/>\n<polyline clip-path=\"url(#clip112)\" style=\"stroke:#000000; stroke-linecap:butt; stroke-linejoin:round; stroke-width:2; stroke-opacity:0.1; fill:none\" points=\"\n  285.769,673.976 2352.76,673.976 \n  \"/>\n<polyline clip-path=\"url(#clip112)\" style=\"stroke:#000000; stroke-linecap:butt; stroke-linejoin:round; stroke-width:2; stroke-opacity:0.1; fill:none\" points=\"\n  285.769,508.925 2352.76,508.925 \n  \"/>\n<polyline clip-path=\"url(#clip112)\" style=\"stroke:#000000; stroke-linecap:butt; stroke-linejoin:round; stroke-width:2; stroke-opacity:0.1; fill:none\" points=\"\n  285.769,343.875 2352.76,343.875 \n  \"/>\n<polyline clip-path=\"url(#clip112)\" style=\"stroke:#000000; stroke-linecap:butt; stroke-linejoin:round; stroke-width:2; stroke-opacity:0.1; fill:none\" points=\"\n  285.769,178.824 2352.76,178.824 \n  \"/>\n<polyline clip-path=\"url(#clip110)\" style=\"stroke:#000000; stroke-linecap:butt; stroke-linejoin:round; stroke-width:4; stroke-opacity:1; fill:none\" points=\"\n  285.769,1423.18 285.769,47.2441 \n  \"/>\n<polyline clip-path=\"url(#clip110)\" style=\"stroke:#000000; stroke-linecap:butt; stroke-linejoin:round; stroke-width:4; stroke-opacity:1; fill:none\" points=\"\n  285.769,1334.18 304.666,1334.18 \n  \"/>\n<polyline clip-path=\"url(#clip110)\" style=\"stroke:#000000; stroke-linecap:butt; stroke-linejoin:round; stroke-width:4; stroke-opacity:1; fill:none\" points=\"\n  285.769,1169.13 304.666,1169.13 \n  \"/>\n<polyline clip-path=\"url(#clip110)\" style=\"stroke:#000000; stroke-linecap:butt; stroke-linejoin:round; stroke-width:4; stroke-opacity:1; fill:none\" points=\"\n  285.769,1004.08 304.666,1004.08 \n  \"/>\n<polyline clip-path=\"url(#clip110)\" style=\"stroke:#000000; stroke-linecap:butt; stroke-linejoin:round; stroke-width:4; stroke-opacity:1; fill:none\" points=\"\n  285.769,839.026 304.666,839.026 \n  \"/>\n<polyline clip-path=\"url(#clip110)\" style=\"stroke:#000000; stroke-linecap:butt; stroke-linejoin:round; stroke-width:4; stroke-opacity:1; fill:none\" points=\"\n  285.769,673.976 304.666,673.976 \n  \"/>\n<polyline clip-path=\"url(#clip110)\" style=\"stroke:#000000; stroke-linecap:butt; stroke-linejoin:round; stroke-width:4; stroke-opacity:1; fill:none\" points=\"\n  285.769,508.925 304.666,508.925 \n  \"/>\n<polyline clip-path=\"url(#clip110)\" style=\"stroke:#000000; stroke-linecap:butt; stroke-linejoin:round; stroke-width:4; stroke-opacity:1; fill:none\" points=\"\n  285.769,343.875 304.666,343.875 \n  \"/>\n<polyline clip-path=\"url(#clip110)\" style=\"stroke:#000000; stroke-linecap:butt; stroke-linejoin:round; stroke-width:4; stroke-opacity:1; fill:none\" points=\"\n  285.769,178.824 304.666,178.824 \n  \"/>\n<path clip-path=\"url(#clip110)\" d=\"M114.26 1334.63 L143.936 1334.63 L143.936 1338.56 L114.26 1338.56 L114.26 1334.63 Z\" fill=\"#000000\" fill-rule=\"evenodd\" fill-opacity=\"1\" /><path clip-path=\"url(#clip110)\" d=\"M164.028 1319.98 Q160.417 1319.98 158.589 1323.54 Q156.783 1327.08 156.783 1334.21 Q156.783 1341.32 158.589 1344.88 Q160.417 1348.43 164.028 1348.43 Q167.663 1348.43 169.468 1344.88 Q171.297 1341.32 171.297 1334.21 Q171.297 1327.08 169.468 1323.54 Q167.663 1319.98 164.028 1319.98 M164.028 1316.27 Q169.839 1316.27 172.894 1320.88 Q175.973 1325.46 175.973 1334.21 Q175.973 1342.94 172.894 1347.55 Q169.839 1352.13 164.028 1352.13 Q158.218 1352.13 155.14 1347.55 Q152.084 1342.94 152.084 1334.21 Q152.084 1325.46 155.14 1320.88 Q158.218 1316.27 164.028 1316.27 Z\" fill=\"#000000\" fill-rule=\"evenodd\" fill-opacity=\"1\" /><path clip-path=\"url(#clip110)\" d=\"M184.19 1345.58 L189.075 1345.58 L189.075 1351.46 L184.19 1351.46 L184.19 1345.58 Z\" fill=\"#000000\" fill-rule=\"evenodd\" fill-opacity=\"1\" /><path clip-path=\"url(#clip110)\" d=\"M209.26 1319.98 Q205.649 1319.98 203.82 1323.54 Q202.014 1327.08 202.014 1334.21 Q202.014 1341.32 203.82 1344.88 Q205.649 1348.43 209.26 1348.43 Q212.894 1348.43 214.699 1344.88 Q216.528 1341.32 216.528 1334.21 Q216.528 1327.08 214.699 1323.54 Q212.894 1319.98 209.26 1319.98 M209.26 1316.27 Q215.07 1316.27 218.125 1320.88 Q221.204 1325.46 221.204 1334.21 Q221.204 1342.94 218.125 1347.55 Q215.07 1352.13 209.26 1352.13 Q203.449 1352.13 200.371 1347.55 Q197.315 1342.94 197.315 1334.21 Q197.315 1325.46 200.371 1320.88 Q203.449 1316.27 209.26 1316.27 Z\" fill=\"#000000\" fill-rule=\"evenodd\" fill-opacity=\"1\" /><path clip-path=\"url(#clip110)\" d=\"M233.449 1347.52 L249.769 1347.52 L249.769 1351.46 L227.824 1351.46 L227.824 1347.52 Q230.486 1344.77 235.07 1340.14 Q239.676 1335.49 240.857 1334.14 Q243.102 1331.62 243.982 1329.88 Q244.884 1328.12 244.884 1326.43 Q244.884 1323.68 242.94 1321.94 Q241.019 1320.21 237.917 1320.21 Q235.718 1320.21 233.264 1320.97 Q230.834 1321.74 228.056 1323.29 L228.056 1318.56 Q230.88 1317.43 233.334 1316.85 Q235.787 1316.27 237.824 1316.27 Q243.195 1316.27 246.389 1318.96 Q249.584 1321.64 249.584 1326.13 Q249.584 1328.26 248.773 1330.18 Q247.986 1332.08 245.88 1334.68 Q245.301 1335.35 242.199 1338.56 Q239.097 1341.76 233.449 1347.52 Z\" fill=\"#000000\" fill-rule=\"evenodd\" fill-opacity=\"1\" /><path clip-path=\"url(#clip110)\" d=\"M162.431 1154.93 Q158.82 1154.93 156.991 1158.49 Q155.186 1162.03 155.186 1169.16 Q155.186 1176.27 156.991 1179.83 Q158.82 1183.37 162.431 1183.37 Q166.065 1183.37 167.871 1179.83 Q169.7 1176.27 169.7 1169.16 Q169.7 1162.03 167.871 1158.49 Q166.065 1154.93 162.431 1154.93 M162.431 1151.22 Q168.241 1151.22 171.297 1155.83 Q174.376 1160.41 174.376 1169.16 Q174.376 1177.89 171.297 1182.5 Q168.241 1187.08 162.431 1187.08 Q156.621 1187.08 153.542 1182.5 Q150.487 1177.89 150.487 1169.16 Q150.487 1160.41 153.542 1155.83 Q156.621 1151.22 162.431 1151.22 Z\" fill=\"#000000\" fill-rule=\"evenodd\" fill-opacity=\"1\" /><path clip-path=\"url(#clip110)\" d=\"M182.593 1180.53 L187.477 1180.53 L187.477 1186.41 L182.593 1186.41 L182.593 1180.53 Z\" fill=\"#000000\" fill-rule=\"evenodd\" fill-opacity=\"1\" /><path clip-path=\"url(#clip110)\" d=\"M207.662 1154.93 Q204.051 1154.93 202.223 1158.49 Q200.417 1162.03 200.417 1169.16 Q200.417 1176.27 202.223 1179.83 Q204.051 1183.37 207.662 1183.37 Q211.297 1183.37 213.102 1179.83 Q214.931 1176.27 214.931 1169.16 Q214.931 1162.03 213.102 1158.49 Q211.297 1154.93 207.662 1154.93 M207.662 1151.22 Q213.473 1151.22 216.528 1155.83 Q219.607 1160.41 219.607 1169.16 Q219.607 1177.89 216.528 1182.5 Q213.473 1187.08 207.662 1187.08 Q201.852 1187.08 198.774 1182.5 Q195.718 1177.89 195.718 1169.16 Q195.718 1160.41 198.774 1155.83 Q201.852 1151.22 207.662 1151.22 Z\" fill=\"#000000\" fill-rule=\"evenodd\" fill-opacity=\"1\" /><path clip-path=\"url(#clip110)\" d=\"M237.824 1154.93 Q234.213 1154.93 232.385 1158.49 Q230.579 1162.03 230.579 1169.16 Q230.579 1176.27 232.385 1179.83 Q234.213 1183.37 237.824 1183.37 Q241.459 1183.37 243.264 1179.83 Q245.093 1176.27 245.093 1169.16 Q245.093 1162.03 243.264 1158.49 Q241.459 1154.93 237.824 1154.93 M237.824 1151.22 Q243.634 1151.22 246.69 1155.83 Q249.769 1160.41 249.769 1169.16 Q249.769 1177.89 246.69 1182.5 Q243.634 1187.08 237.824 1187.08 Q232.014 1187.08 228.935 1182.5 Q225.88 1177.89 225.88 1169.16 Q225.88 1160.41 228.935 1155.83 Q232.014 1151.22 237.824 1151.22 Z\" fill=\"#000000\" fill-rule=\"evenodd\" fill-opacity=\"1\" /><path clip-path=\"url(#clip110)\" d=\"M164.028 989.875 Q160.417 989.875 158.589 993.44 Q156.783 996.982 156.783 1004.11 Q156.783 1011.22 158.589 1014.78 Q160.417 1018.32 164.028 1018.32 Q167.663 1018.32 169.468 1014.78 Q171.297 1011.22 171.297 1004.11 Q171.297 996.982 169.468 993.44 Q167.663 989.875 164.028 989.875 M164.028 986.172 Q169.839 986.172 172.894 990.778 Q175.973 995.362 175.973 1004.11 Q175.973 1012.84 172.894 1017.44 Q169.839 1022.03 164.028 1022.03 Q158.218 1022.03 155.14 1017.44 Q152.084 1012.84 152.084 1004.11 Q152.084 995.362 155.14 990.778 Q158.218 986.172 164.028 986.172 Z\" fill=\"#000000\" fill-rule=\"evenodd\" fill-opacity=\"1\" /><path clip-path=\"url(#clip110)\" d=\"M184.19 1015.48 L189.075 1015.48 L189.075 1021.36 L184.19 1021.36 L184.19 1015.48 Z\" fill=\"#000000\" fill-rule=\"evenodd\" fill-opacity=\"1\" /><path clip-path=\"url(#clip110)\" d=\"M209.26 989.875 Q205.649 989.875 203.82 993.44 Q202.014 996.982 202.014 1004.11 Q202.014 1011.22 203.82 1014.78 Q205.649 1018.32 209.26 1018.32 Q212.894 1018.32 214.699 1014.78 Q216.528 1011.22 216.528 1004.11 Q216.528 996.982 214.699 993.44 Q212.894 989.875 209.26 989.875 M209.26 986.172 Q215.07 986.172 218.125 990.778 Q221.204 995.362 221.204 1004.11 Q221.204 1012.84 218.125 1017.44 Q215.07 1022.03 209.26 1022.03 Q203.449 1022.03 200.371 1017.44 Q197.315 1012.84 197.315 1004.11 Q197.315 995.362 200.371 990.778 Q203.449 986.172 209.26 986.172 Z\" fill=\"#000000\" fill-rule=\"evenodd\" fill-opacity=\"1\" /><path clip-path=\"url(#clip110)\" d=\"M233.449 1017.42 L249.769 1017.42 L249.769 1021.36 L227.824 1021.36 L227.824 1017.42 Q230.486 1014.67 235.07 1010.04 Q239.676 1005.38 240.857 1004.04 Q243.102 1001.52 243.982 999.783 Q244.884 998.024 244.884 996.334 Q244.884 993.579 242.94 991.843 Q241.019 990.107 237.917 990.107 Q235.718 990.107 233.264 990.871 Q230.834 991.635 228.056 993.186 L228.056 988.463 Q230.88 987.329 233.334 986.75 Q235.787 986.172 237.824 986.172 Q243.195 986.172 246.389 988.857 Q249.584 991.542 249.584 996.033 Q249.584 998.162 248.773 1000.08 Q247.986 1001.98 245.88 1004.57 Q245.301 1005.25 242.199 1008.46 Q239.097 1011.66 233.449 1017.42 Z\" fill=\"#000000\" fill-rule=\"evenodd\" fill-opacity=\"1\" /><path clip-path=\"url(#clip110)\" d=\"M161.945 824.825 Q158.334 824.825 156.505 828.39 Q154.7 831.931 154.7 839.061 Q154.7 846.167 156.505 849.732 Q158.334 853.274 161.945 853.274 Q165.579 853.274 167.385 849.732 Q169.214 846.167 169.214 839.061 Q169.214 831.931 167.385 828.39 Q165.579 824.825 161.945 824.825 M161.945 821.121 Q167.755 821.121 170.811 825.728 Q173.889 830.311 173.889 839.061 Q173.889 847.788 170.811 852.394 Q167.755 856.978 161.945 856.978 Q156.135 856.978 153.056 852.394 Q150.001 847.788 150.001 839.061 Q150.001 830.311 153.056 825.728 Q156.135 821.121 161.945 821.121 Z\" fill=\"#000000\" fill-rule=\"evenodd\" fill-opacity=\"1\" /><path clip-path=\"url(#clip110)\" d=\"M182.107 850.427 L186.991 850.427 L186.991 856.306 L182.107 856.306 L182.107 850.427 Z\" fill=\"#000000\" fill-rule=\"evenodd\" fill-opacity=\"1\" /><path clip-path=\"url(#clip110)\" d=\"M207.176 824.825 Q203.565 824.825 201.737 828.39 Q199.931 831.931 199.931 839.061 Q199.931 846.167 201.737 849.732 Q203.565 853.274 207.176 853.274 Q210.811 853.274 212.616 849.732 Q214.445 846.167 214.445 839.061 Q214.445 831.931 212.616 828.39 Q210.811 824.825 207.176 824.825 M207.176 821.121 Q212.986 821.121 216.042 825.728 Q219.121 830.311 219.121 839.061 Q219.121 847.788 216.042 852.394 Q212.986 856.978 207.176 856.978 Q201.366 856.978 198.287 852.394 Q195.232 847.788 195.232 839.061 Q195.232 830.311 198.287 825.728 Q201.366 821.121 207.176 821.121 Z\" fill=\"#000000\" fill-rule=\"evenodd\" fill-opacity=\"1\" /><path clip-path=\"url(#clip110)\" d=\"M240.185 825.82 L228.38 844.269 L240.185 844.269 L240.185 825.82 M238.959 821.746 L244.838 821.746 L244.838 844.269 L249.769 844.269 L249.769 848.158 L244.838 848.158 L244.838 856.306 L240.185 856.306 L240.185 848.158 L224.584 848.158 L224.584 843.644 L238.959 821.746 Z\" fill=\"#000000\" fill-rule=\"evenodd\" fill-opacity=\"1\" /><path clip-path=\"url(#clip110)\" d=\"M162.269 659.774 Q158.658 659.774 156.829 663.339 Q155.024 666.881 155.024 674.011 Q155.024 681.117 156.829 684.682 Q158.658 688.223 162.269 688.223 Q165.903 688.223 167.709 684.682 Q169.538 681.117 169.538 674.011 Q169.538 666.881 167.709 663.339 Q165.903 659.774 162.269 659.774 M162.269 656.071 Q168.079 656.071 171.135 660.677 Q174.214 665.261 174.214 674.011 Q174.214 682.737 171.135 687.344 Q168.079 691.927 162.269 691.927 Q156.459 691.927 153.38 687.344 Q150.325 682.737 150.325 674.011 Q150.325 665.261 153.38 660.677 Q156.459 656.071 162.269 656.071 Z\" fill=\"#000000\" fill-rule=\"evenodd\" fill-opacity=\"1\" /><path clip-path=\"url(#clip110)\" d=\"M182.431 685.376 L187.315 685.376 L187.315 691.256 L182.431 691.256 L182.431 685.376 Z\" fill=\"#000000\" fill-rule=\"evenodd\" fill-opacity=\"1\" /><path clip-path=\"url(#clip110)\" d=\"M207.5 659.774 Q203.889 659.774 202.061 663.339 Q200.255 666.881 200.255 674.011 Q200.255 681.117 202.061 684.682 Q203.889 688.223 207.5 688.223 Q211.135 688.223 212.94 684.682 Q214.769 681.117 214.769 674.011 Q214.769 666.881 212.94 663.339 Q211.135 659.774 207.5 659.774 M207.5 656.071 Q213.311 656.071 216.366 660.677 Q219.445 665.261 219.445 674.011 Q219.445 682.737 216.366 687.344 Q213.311 691.927 207.5 691.927 Q201.69 691.927 198.612 687.344 Q195.556 682.737 195.556 674.011 Q195.556 665.261 198.612 660.677 Q201.69 656.071 207.5 656.071 Z\" fill=\"#000000\" fill-rule=\"evenodd\" fill-opacity=\"1\" /><path clip-path=\"url(#clip110)\" d=\"M238.241 672.112 Q235.093 672.112 233.241 674.265 Q231.412 676.418 231.412 680.168 Q231.412 683.895 233.241 686.071 Q235.093 688.223 238.241 688.223 Q241.389 688.223 243.218 686.071 Q245.07 683.895 245.07 680.168 Q245.07 676.418 243.218 674.265 Q241.389 672.112 238.241 672.112 M247.523 657.46 L247.523 661.719 Q245.764 660.886 243.959 660.446 Q242.176 660.006 240.417 660.006 Q235.787 660.006 233.334 663.131 Q230.903 666.256 230.556 672.575 Q231.922 670.561 233.982 669.497 Q236.042 668.409 238.519 668.409 Q243.727 668.409 246.736 671.58 Q249.769 674.728 249.769 680.168 Q249.769 685.492 246.621 688.71 Q243.472 691.927 238.241 691.927 Q232.246 691.927 229.074 687.344 Q225.903 682.737 225.903 674.011 Q225.903 665.816 229.792 660.955 Q233.681 656.071 240.232 656.071 Q241.991 656.071 243.773 656.418 Q245.579 656.765 247.523 657.46 Z\" fill=\"#000000\" fill-rule=\"evenodd\" fill-opacity=\"1\" /><path clip-path=\"url(#clip110)\" d=\"M162.524 494.724 Q158.913 494.724 157.084 498.289 Q155.278 501.83 155.278 508.96 Q155.278 516.066 157.084 519.631 Q158.913 523.173 162.524 523.173 Q166.158 523.173 167.964 519.631 Q169.792 516.066 169.792 508.96 Q169.792 501.83 167.964 498.289 Q166.158 494.724 162.524 494.724 M162.524 491.02 Q168.334 491.02 171.389 495.627 Q174.468 500.21 174.468 508.96 Q174.468 517.687 171.389 522.293 Q168.334 526.877 162.524 526.877 Q156.714 526.877 153.635 522.293 Q150.579 517.687 150.579 508.96 Q150.579 500.21 153.635 495.627 Q156.714 491.02 162.524 491.02 Z\" fill=\"#000000\" fill-rule=\"evenodd\" fill-opacity=\"1\" /><path clip-path=\"url(#clip110)\" d=\"M182.686 520.326 L187.57 520.326 L187.57 526.205 L182.686 526.205 L182.686 520.326 Z\" fill=\"#000000\" fill-rule=\"evenodd\" fill-opacity=\"1\" /><path clip-path=\"url(#clip110)\" d=\"M207.755 494.724 Q204.144 494.724 202.315 498.289 Q200.51 501.83 200.51 508.96 Q200.51 516.066 202.315 519.631 Q204.144 523.173 207.755 523.173 Q211.389 523.173 213.195 519.631 Q215.024 516.066 215.024 508.96 Q215.024 501.83 213.195 498.289 Q211.389 494.724 207.755 494.724 M207.755 491.02 Q213.565 491.02 216.621 495.627 Q219.699 500.21 219.699 508.96 Q219.699 517.687 216.621 522.293 Q213.565 526.877 207.755 526.877 Q201.945 526.877 198.866 522.293 Q195.811 517.687 195.811 508.96 Q195.811 500.21 198.866 495.627 Q201.945 491.02 207.755 491.02 Z\" fill=\"#000000\" fill-rule=\"evenodd\" fill-opacity=\"1\" /><path clip-path=\"url(#clip110)\" d=\"M237.917 509.793 Q234.584 509.793 232.662 511.576 Q230.764 513.358 230.764 516.483 Q230.764 519.608 232.662 521.391 Q234.584 523.173 237.917 523.173 Q241.25 523.173 243.172 521.391 Q245.093 519.585 245.093 516.483 Q245.093 513.358 243.172 511.576 Q241.273 509.793 237.917 509.793 M233.241 507.803 Q230.232 507.062 228.542 505.002 Q226.875 502.942 226.875 499.979 Q226.875 495.835 229.815 493.428 Q232.778 491.02 237.917 491.02 Q243.079 491.02 246.019 493.428 Q248.959 495.835 248.959 499.979 Q248.959 502.942 247.269 505.002 Q245.602 507.062 242.616 507.803 Q245.996 508.59 247.871 510.881 Q249.769 513.173 249.769 516.483 Q249.769 521.506 246.69 524.191 Q243.634 526.877 237.917 526.877 Q232.199 526.877 229.121 524.191 Q226.065 521.506 226.065 516.483 Q226.065 513.173 227.963 510.881 Q229.861 508.59 233.241 507.803 M231.528 500.418 Q231.528 503.104 233.195 504.608 Q234.885 506.113 237.917 506.113 Q240.926 506.113 242.616 504.608 Q244.329 503.104 244.329 500.418 Q244.329 497.733 242.616 496.229 Q240.926 494.724 237.917 494.724 Q234.885 494.724 233.195 496.229 Q231.528 497.733 231.528 500.418 Z\" fill=\"#000000\" fill-rule=\"evenodd\" fill-opacity=\"1\" /><path clip-path=\"url(#clip110)\" d=\"M162.431 329.674 Q158.82 329.674 156.991 333.238 Q155.186 336.78 155.186 343.91 Q155.186 351.016 156.991 354.581 Q158.82 358.122 162.431 358.122 Q166.065 358.122 167.871 354.581 Q169.7 351.016 169.7 343.91 Q169.7 336.78 167.871 333.238 Q166.065 329.674 162.431 329.674 M162.431 325.97 Q168.241 325.97 171.297 330.576 Q174.376 335.16 174.376 343.91 Q174.376 352.636 171.297 357.243 Q168.241 361.826 162.431 361.826 Q156.621 361.826 153.542 357.243 Q150.487 352.636 150.487 343.91 Q150.487 335.16 153.542 330.576 Q156.621 325.97 162.431 325.97 Z\" fill=\"#000000\" fill-rule=\"evenodd\" fill-opacity=\"1\" /><path clip-path=\"url(#clip110)\" d=\"M182.593 355.275 L187.477 355.275 L187.477 361.155 L182.593 361.155 L182.593 355.275 Z\" fill=\"#000000\" fill-rule=\"evenodd\" fill-opacity=\"1\" /><path clip-path=\"url(#clip110)\" d=\"M198.473 357.22 L206.112 357.22 L206.112 330.854 L197.801 332.521 L197.801 328.261 L206.065 326.595 L210.741 326.595 L210.741 357.22 L218.38 357.22 L218.38 361.155 L198.473 361.155 L198.473 357.22 Z\" fill=\"#000000\" fill-rule=\"evenodd\" fill-opacity=\"1\" /><path clip-path=\"url(#clip110)\" d=\"M237.824 329.674 Q234.213 329.674 232.385 333.238 Q230.579 336.78 230.579 343.91 Q230.579 351.016 232.385 354.581 Q234.213 358.122 237.824 358.122 Q241.459 358.122 243.264 354.581 Q245.093 351.016 245.093 343.91 Q245.093 336.78 243.264 333.238 Q241.459 329.674 237.824 329.674 M237.824 325.97 Q243.634 325.97 246.69 330.576 Q249.769 335.16 249.769 343.91 Q249.769 352.636 246.69 357.243 Q243.634 361.826 237.824 361.826 Q232.014 361.826 228.935 357.243 Q225.88 352.636 225.88 343.91 Q225.88 335.16 228.935 330.576 Q232.014 325.97 237.824 325.97 Z\" fill=\"#000000\" fill-rule=\"evenodd\" fill-opacity=\"1\" /><path clip-path=\"url(#clip110)\" d=\"M164.028 164.623 Q160.417 164.623 158.589 168.188 Q156.783 171.729 156.783 178.859 Q156.783 185.966 158.589 189.53 Q160.417 193.072 164.028 193.072 Q167.663 193.072 169.468 189.53 Q171.297 185.966 171.297 178.859 Q171.297 171.729 169.468 168.188 Q167.663 164.623 164.028 164.623 M164.028 160.919 Q169.839 160.919 172.894 165.526 Q175.973 170.109 175.973 178.859 Q175.973 187.586 172.894 192.192 Q169.839 196.776 164.028 196.776 Q158.218 196.776 155.14 192.192 Q152.084 187.586 152.084 178.859 Q152.084 170.109 155.14 165.526 Q158.218 160.919 164.028 160.919 Z\" fill=\"#000000\" fill-rule=\"evenodd\" fill-opacity=\"1\" /><path clip-path=\"url(#clip110)\" d=\"M184.19 190.225 L189.075 190.225 L189.075 196.104 L184.19 196.104 L184.19 190.225 Z\" fill=\"#000000\" fill-rule=\"evenodd\" fill-opacity=\"1\" /><path clip-path=\"url(#clip110)\" d=\"M200.07 192.169 L207.709 192.169 L207.709 165.804 L199.399 167.47 L199.399 163.211 L207.662 161.544 L212.338 161.544 L212.338 192.169 L219.977 192.169 L219.977 196.104 L200.07 196.104 L200.07 192.169 Z\" fill=\"#000000\" fill-rule=\"evenodd\" fill-opacity=\"1\" /><path clip-path=\"url(#clip110)\" d=\"M233.449 192.169 L249.769 192.169 L249.769 196.104 L227.824 196.104 L227.824 192.169 Q230.486 189.415 235.07 184.785 Q239.676 180.132 240.857 178.79 Q243.102 176.267 243.982 174.53 Q244.884 172.771 244.884 171.081 Q244.884 168.327 242.94 166.591 Q241.019 164.855 237.917 164.855 Q235.718 164.855 233.264 165.618 Q230.834 166.382 228.056 167.933 L228.056 163.211 Q230.88 162.077 233.334 161.498 Q235.787 160.919 237.824 160.919 Q243.195 160.919 246.389 163.605 Q249.584 166.29 249.584 170.78 Q249.584 172.91 248.773 174.831 Q247.986 176.729 245.88 179.322 Q245.301 179.993 242.199 183.211 Q239.097 186.405 233.449 192.169 Z\" fill=\"#000000\" fill-rule=\"evenodd\" fill-opacity=\"1\" /><path clip-path=\"url(#clip110)\" d=\"M46.0847 1090.5 Q46.0847 1097.6 47.7079 1100.33 Q49.3312 1103.07 53.2461 1103.07 Q56.3653 1103.07 58.2114 1101.03 Q60.0256 1098.96 60.0256 1095.43 Q60.0256 1090.56 56.5881 1087.63 Q53.1188 1084.67 47.3897 1084.67 L46.0847 1084.67 L46.0847 1090.5 M43.6657 1078.82 L64.0042 1078.82 L64.0042 1084.67 L58.5933 1084.67 Q61.8398 1086.68 63.3994 1089.67 Q64.9272 1092.66 64.9272 1096.99 Q64.9272 1102.47 61.8716 1105.71 Q58.7843 1108.93 53.6281 1108.93 Q47.6125 1108.93 44.5569 1104.92 Q41.5014 1100.87 41.5014 1092.89 L41.5014 1084.67 L40.9285 1084.67 Q36.8862 1084.67 34.6901 1087.35 Q32.4621 1089.99 32.4621 1094.79 Q32.4621 1097.85 33.1941 1100.75 Q33.9262 1103.64 35.3903 1106.32 L29.9795 1106.32 Q28.7381 1103.1 28.1334 1100.08 Q27.4968 1097.05 27.4968 1094.19 Q27.4968 1086.46 31.5072 1082.64 Q35.5176 1078.82 43.6657 1078.82 Z\" fill=\"#000000\" fill-rule=\"evenodd\" fill-opacity=\"1\" /><path clip-path=\"url(#clip110)\" d=\"M28.3562 1070.96 L28.3562 1064.75 L58.275 1053.61 L28.3562 1042.47 L28.3562 1036.26 L64.0042 1049.63 L64.0042 1057.59 L28.3562 1070.96 Z\" fill=\"#000000\" fill-rule=\"evenodd\" fill-opacity=\"1\" /><path clip-path=\"url(#clip110)\" d=\"M44.7161 997.686 L47.5806 997.686 L47.5806 1024.61 Q53.6281 1024.23 56.8109 1020.98 Q59.9619 1017.71 59.9619 1011.88 Q59.9619 1008.51 59.1344 1005.36 Q58.3069 1002.17 56.6518 999.055 L62.1899 999.055 Q63.5267 1002.21 64.227 1005.52 Q64.9272 1008.83 64.9272 1012.23 Q64.9272 1020.76 59.9619 1025.76 Q54.9967 1030.72 46.5303 1030.72 Q37.7774 1030.72 32.6531 1026.01 Q27.4968 1021.27 27.4968 1013.25 Q27.4968 1006.06 32.1438 1001.89 Q36.7589 997.686 44.7161 997.686 M42.9973 1003.54 Q38.1912 1003.61 35.3266 1006.25 Q32.4621 1008.86 32.4621 1013.19 Q32.4621 1018.09 35.2312 1021.05 Q38.0002 1023.98 43.0292 1024.42 L42.9973 1003.54 Z\" fill=\"#000000\" fill-rule=\"evenodd\" fill-opacity=\"1\" /><path clip-path=\"url(#clip110)\" d=\"M33.8307 967.417 Q33.2578 968.404 33.0032 969.581 Q32.7167 970.727 32.7167 972.128 Q32.7167 977.093 35.9632 979.767 Q39.1779 982.408 45.2253 982.408 L64.0042 982.408 L64.0042 988.297 L28.3562 988.297 L28.3562 982.408 L33.8944 982.408 Q30.6479 980.562 29.0883 977.602 Q27.4968 974.642 27.4968 970.409 Q27.4968 969.804 27.5923 969.072 Q27.656 968.34 27.8151 967.449 L33.8307 967.417 Z\" fill=\"#000000\" fill-rule=\"evenodd\" fill-opacity=\"1\" /><path clip-path=\"url(#clip110)\" d=\"M46.0847 945.073 Q46.0847 952.171 47.7079 954.908 Q49.3312 957.646 53.2461 957.646 Q56.3653 957.646 58.2114 955.609 Q60.0256 953.54 60.0256 950.007 Q60.0256 945.137 56.5881 942.209 Q53.1188 939.249 47.3897 939.249 L46.0847 939.249 L46.0847 945.073 M43.6657 933.392 L64.0042 933.392 L64.0042 939.249 L58.5933 939.249 Q61.8398 941.254 63.3994 944.246 Q64.9272 947.238 64.9272 951.566 Q64.9272 957.041 61.8716 960.287 Q58.7843 963.502 53.6281 963.502 Q47.6125 963.502 44.5569 959.492 Q41.5014 955.45 41.5014 947.461 L41.5014 939.249 L40.9285 939.249 Q36.8862 939.249 34.6901 941.922 Q32.4621 944.564 32.4621 949.37 Q32.4621 952.426 33.1941 955.322 Q33.9262 958.219 35.3903 960.892 L29.9795 960.892 Q28.7381 957.678 28.1334 954.654 Q27.4968 951.63 27.4968 948.766 Q27.4968 941.031 31.5072 937.212 Q35.5176 933.392 43.6657 933.392 Z\" fill=\"#000000\" fill-rule=\"evenodd\" fill-opacity=\"1\" /><path clip-path=\"url(#clip110)\" d=\"M45.7664 897.872 Q39.4007 897.872 35.8996 900.513 Q32.3984 903.123 32.3984 907.866 Q32.3984 912.576 35.8996 915.218 Q39.4007 917.828 45.7664 917.828 Q52.1003 917.828 55.6014 915.218 Q59.1026 912.576 59.1026 907.866 Q59.1026 903.123 55.6014 900.513 Q52.1003 897.872 45.7664 897.872 M59.58 892.015 Q68.683 892.015 73.1071 896.057 Q77.5631 900.1 77.5631 908.439 Q77.5631 911.526 77.0857 914.263 Q76.6401 917.001 75.6852 919.579 L69.9879 919.579 Q71.3884 917.001 72.0568 914.486 Q72.7252 911.972 72.7252 909.362 Q72.7252 903.601 69.7015 900.736 Q66.7096 897.872 60.6303 897.872 L57.7339 897.872 Q60.885 899.686 62.4446 902.519 Q64.0042 905.351 64.0042 909.298 Q64.0042 915.855 59.0071 919.865 Q54.01 923.876 45.7664 923.876 Q37.491 923.876 32.4939 919.865 Q27.4968 915.855 27.4968 909.298 Q27.4968 905.351 29.0564 902.519 Q30.616 899.686 33.7671 897.872 L28.3562 897.872 L28.3562 892.015 L59.58 892.015 Z\" fill=\"#000000\" fill-rule=\"evenodd\" fill-opacity=\"1\" /><path clip-path=\"url(#clip110)\" d=\"M44.7161 849.46 L47.5806 849.46 L47.5806 876.387 Q53.6281 876.005 56.8109 872.759 Q59.9619 869.481 59.9619 863.656 Q59.9619 860.282 59.1344 857.131 Q58.3069 853.948 56.6518 850.829 L62.1899 850.829 Q63.5267 853.98 64.227 857.29 Q64.9272 860.6 64.9272 864.006 Q64.9272 872.536 59.9619 877.533 Q54.9967 882.499 46.5303 882.499 Q37.7774 882.499 32.6531 877.788 Q27.4968 873.045 27.4968 865.025 Q27.4968 857.831 32.1438 853.662 Q36.7589 849.46 44.7161 849.46 M42.9973 855.317 Q38.1912 855.381 35.3266 858.022 Q32.4621 860.632 32.4621 864.961 Q32.4621 869.863 35.2312 872.823 Q38.0002 875.751 43.0292 876.196 L42.9973 855.317 Z\" fill=\"#000000\" fill-rule=\"evenodd\" fill-opacity=\"1\" /><path clip-path=\"url(#clip110)\" d=\"M33.8307 798.471 Q33.2578 799.458 33.0032 800.636 Q32.7167 801.781 32.7167 803.182 Q32.7167 808.147 35.9632 810.821 Q39.1779 813.462 45.2253 813.462 L64.0042 813.462 L64.0042 819.351 L28.3562 819.351 L28.3562 813.462 L33.8944 813.462 Q30.6479 811.616 29.0883 808.656 Q27.4968 805.696 27.4968 801.463 Q27.4968 800.858 27.5923 800.126 Q27.656 799.394 27.8151 798.503 L33.8307 798.471 Z\" fill=\"#000000\" fill-rule=\"evenodd\" fill-opacity=\"1\" /><path clip-path=\"url(#clip110)\" d=\"M44.7161 763.269 L47.5806 763.269 L47.5806 790.196 Q53.6281 789.814 56.8109 786.567 Q59.9619 783.289 59.9619 777.464 Q59.9619 774.091 59.1344 770.939 Q58.3069 767.757 56.6518 764.637 L62.1899 764.637 Q63.5267 767.788 64.227 771.099 Q64.9272 774.409 64.9272 777.814 Q64.9272 786.345 59.9619 791.342 Q54.9967 796.307 46.5303 796.307 Q37.7774 796.307 32.6531 791.596 Q27.4968 786.854 27.4968 778.833 Q27.4968 771.64 32.1438 767.47 Q36.7589 763.269 44.7161 763.269 M42.9973 769.125 Q38.1912 769.189 35.3266 771.831 Q32.4621 774.441 32.4621 778.769 Q32.4621 783.671 35.2312 786.631 Q38.0002 789.559 43.0292 790.005 L42.9973 769.125 Z\" fill=\"#000000\" fill-rule=\"evenodd\" fill-opacity=\"1\" /><path clip-path=\"url(#clip110)\" d=\"M29.7248 728.003 L35.1993 728.003 Q33.8307 730.485 33.1623 733 Q32.4621 735.483 32.4621 738.029 Q32.4621 743.726 36.0905 746.877 Q39.6872 750.028 46.212 750.028 Q52.7369 750.028 56.3653 746.877 Q59.9619 743.726 59.9619 738.029 Q59.9619 735.483 59.2935 733 Q58.5933 730.485 57.2247 728.003 L62.6355 728.003 Q63.7814 730.454 64.3543 733.095 Q64.9272 735.705 64.9272 738.665 Q64.9272 746.718 59.8664 751.46 Q54.8057 756.203 46.212 756.203 Q37.491 756.203 32.4939 751.429 Q27.4968 746.622 27.4968 738.283 Q27.4968 735.578 28.0697 733 Q28.6108 730.422 29.7248 728.003 Z\" fill=\"#000000\" fill-rule=\"evenodd\" fill-opacity=\"1\" /><path clip-path=\"url(#clip110)\" d=\"M32.4621 704.004 Q32.4621 708.715 36.1542 711.452 Q39.8145 714.189 46.212 714.189 Q52.6095 714.189 56.3017 711.484 Q59.9619 708.747 59.9619 704.004 Q59.9619 699.325 56.2698 696.588 Q52.5777 693.851 46.212 693.851 Q39.8781 693.851 36.186 696.588 Q32.4621 699.325 32.4621 704.004 M27.4968 704.004 Q27.4968 696.365 32.4621 692.005 Q37.4273 687.644 46.212 687.644 Q54.9649 687.644 59.9619 692.005 Q64.9272 696.365 64.9272 704.004 Q64.9272 711.675 59.9619 716.035 Q54.9649 720.364 46.212 720.364 Q37.4273 720.364 32.4621 716.035 Q27.4968 711.675 27.4968 704.004 Z\" fill=\"#000000\" fill-rule=\"evenodd\" fill-opacity=\"1\" /><path clip-path=\"url(#clip110)\" d=\"M28.3562 682.138 L28.3562 675.931 L58.275 664.791 L28.3562 653.651 L28.3562 647.445 L64.0042 660.813 L64.0042 668.77 L28.3562 682.138 Z\" fill=\"#000000\" fill-rule=\"evenodd\" fill-opacity=\"1\" /><path clip-path=\"url(#clip110)\" d=\"M44.7161 608.869 L47.5806 608.869 L47.5806 635.796 Q53.6281 635.414 56.8109 632.167 Q59.9619 628.889 59.9619 623.064 Q59.9619 619.69 59.1344 616.539 Q58.3069 613.356 56.6518 610.237 L62.1899 610.237 Q63.5267 613.388 64.227 616.698 Q64.9272 620.009 64.9272 623.414 Q64.9272 631.944 59.9619 636.941 Q54.9967 641.907 46.5303 641.907 Q37.7774 641.907 32.6531 637.196 Q27.4968 632.454 27.4968 624.433 Q27.4968 617.24 32.1438 613.07 Q36.7589 608.869 44.7161 608.869 M42.9973 614.725 Q38.1912 614.789 35.3266 617.43 Q32.4621 620.04 32.4621 624.369 Q32.4621 629.271 35.2312 632.231 Q38.0002 635.159 43.0292 635.605 L42.9973 614.725 Z\" fill=\"#000000\" fill-rule=\"evenodd\" fill-opacity=\"1\" /><path clip-path=\"url(#clip110)\" d=\"M33.8307 578.6 Q33.2578 579.586 33.0032 580.764 Q32.7167 581.91 32.7167 583.31 Q32.7167 588.276 35.9632 590.949 Q39.1779 593.591 45.2253 593.591 L64.0042 593.591 L64.0042 599.479 L28.3562 599.479 L28.3562 593.591 L33.8944 593.591 Q30.6479 591.745 29.0883 588.785 Q27.4968 585.825 27.4968 581.592 Q27.4968 580.987 27.5923 580.255 Q27.656 579.523 27.8151 578.631 L33.8307 578.6 Z\" fill=\"#000000\" fill-rule=\"evenodd\" fill-opacity=\"1\" /><path clip-path=\"url(#clip110)\" d=\"M67.3143 557.625 Q73.68 560.107 75.6216 562.463 Q77.5631 564.818 77.5631 568.765 L77.5631 573.443 L72.6615 573.443 L72.6615 570.006 Q72.6615 567.587 71.5157 566.25 Q70.3699 564.913 66.1048 563.29 L63.4312 562.24 L28.3562 576.658 L28.3562 570.452 L56.238 559.312 L28.3562 548.172 L28.3562 541.965 L67.3143 557.625 Z\" fill=\"#000000\" fill-rule=\"evenodd\" fill-opacity=\"1\" /><path clip-path=\"url(#clip110)\" d=\"M44.7161 482.668 L47.5806 482.668 L47.5806 509.595 Q53.6281 509.213 56.8109 505.967 Q59.9619 502.689 59.9619 496.864 Q59.9619 493.49 59.1344 490.339 Q58.3069 487.156 56.6518 484.037 L62.1899 484.037 Q63.5267 487.188 64.227 490.498 Q64.9272 493.808 64.9272 497.214 Q64.9272 505.744 59.9619 510.741 Q54.9967 515.706 46.5303 515.706 Q37.7774 515.706 32.6531 510.996 Q27.4968 506.253 27.4968 498.233 Q27.4968 491.039 32.1438 486.87 Q36.7589 482.668 44.7161 482.668 M42.9973 488.525 Q38.1912 488.589 35.3266 491.23 Q32.4621 493.84 32.4621 498.169 Q32.4621 503.071 35.2312 506.031 Q38.0002 508.959 43.0292 509.404 L42.9973 488.525 Z\" fill=\"#000000\" fill-rule=\"evenodd\" fill-opacity=\"1\" /><path clip-path=\"url(#clip110)\" d=\"M33.8307 452.4 Q33.2578 453.386 33.0032 454.564 Q32.7167 455.71 32.7167 457.11 Q32.7167 462.075 35.9632 464.749 Q39.1779 467.391 45.2253 467.391 L64.0042 467.391 L64.0042 473.279 L28.3562 473.279 L28.3562 467.391 L33.8944 467.391 Q30.6479 465.545 29.0883 462.585 Q27.4968 459.625 27.4968 455.391 Q27.4968 454.787 27.5923 454.055 Q27.656 453.323 27.8151 452.431 L33.8307 452.4 Z\" fill=\"#000000\" fill-rule=\"evenodd\" fill-opacity=\"1\" /><path clip-path=\"url(#clip110)\" d=\"M33.8307 426.746 Q33.2578 427.732 33.0032 428.91 Q32.7167 430.056 32.7167 431.456 Q32.7167 436.422 35.9632 439.095 Q39.1779 441.737 45.2253 441.737 L64.0042 441.737 L64.0042 447.625 L28.3562 447.625 L28.3562 441.737 L33.8944 441.737 Q30.6479 439.891 29.0883 436.931 Q27.4968 433.971 27.4968 429.738 Q27.4968 429.133 27.5923 428.401 Q27.656 427.669 27.8151 426.778 L33.8307 426.746 Z\" fill=\"#000000\" fill-rule=\"evenodd\" fill-opacity=\"1\" /><path clip-path=\"url(#clip110)\" d=\"M32.4621 408.222 Q32.4621 412.932 36.1542 415.669 Q39.8145 418.407 46.212 418.407 Q52.6095 418.407 56.3017 415.701 Q59.9619 412.964 59.9619 408.222 Q59.9619 403.543 56.2698 400.805 Q52.5777 398.068 46.212 398.068 Q39.8781 398.068 36.186 400.805 Q32.4621 403.543 32.4621 408.222 M27.4968 408.222 Q27.4968 400.583 32.4621 396.222 Q37.4273 391.862 46.212 391.862 Q54.9649 391.862 59.9619 396.222 Q64.9272 400.583 64.9272 408.222 Q64.9272 415.892 59.9619 420.253 Q54.9649 424.581 46.212 424.581 Q37.4273 424.581 32.4621 420.253 Q27.4968 415.892 27.4968 408.222 Z\" fill=\"#000000\" fill-rule=\"evenodd\" fill-opacity=\"1\" /><path clip-path=\"url(#clip110)\" d=\"M33.8307 361.497 Q33.2578 362.484 33.0032 363.662 Q32.7167 364.807 32.7167 366.208 Q32.7167 371.173 35.9632 373.847 Q39.1779 376.488 45.2253 376.488 L64.0042 376.488 L64.0042 382.377 L28.3562 382.377 L28.3562 376.488 L33.8944 376.488 Q30.6479 374.642 29.0883 371.682 Q27.4968 368.722 27.4968 364.489 Q27.4968 363.884 27.5923 363.152 Q27.656 362.42 27.8151 361.529 L33.8307 361.497 Z\" fill=\"#000000\" fill-rule=\"evenodd\" fill-opacity=\"1\" /><path clip-path=\"url(#clip112)\" d=\"\nM344.268 86.1857 L869.654 696.253 L1113.94 192.55 L1274.85 892.831 L1395.04 514.63 L1491.01 677.11 L1570.9 1008.37 L1639.33 1141.54 L1699.19 553.026 L1752.38 451.149 \n  L1800.24 989.532 L1843.75 712.006 L1883.62 809.499 L1920.43 851.625 L1954.6 940.592 L1986.49 1143.92 L2016.39 1149.15 L2044.53 873.161 L2071.11 1053.04 L2096.28 1096.68 \n  L2120.2 1079.41 L2142.98 924.552 L2164.72 1146.36 L2185.51 1128.88 L2205.44 1039.95 L2224.57 1057.43 L2242.97 1054.18 L2260.68 1146.13 L2277.76 811.295 L2294.26 1153.67 \n  L2294.26 1167.49 L2277.76 1269.31 L2260.68 1165.28 L2242.97 1213.26 L2224.57 1211.8 L2205.44 1208.96 L2185.51 1177.02 L2164.72 1170.16 L2142.98 1237.98 L2120.2 1203.57 \n  L2096.28 1188.8 L2071.11 1204.14 L2044.53 1215.65 L2016.39 1168.21 L1986.49 1168.84 L1954.6 1215.8 L1920.43 1236.57 L1883.62 1339.61 L1843.75 1261.32 L1800.24 1237.81 \n  L1752.38 1382.15 L1699.19 1324.26 L1639.33 1163.41 L1570.9 1205.6 L1491.01 1281.3 L1395.04 1373.23 L1274.85 1164.84 L1113.94 1384.24 L869.654 1215.39 L344.268 1223.65 \n   Z\n  \" fill=\"#009af9\" fill-rule=\"evenodd\" fill-opacity=\"0.35\"/>\n<polyline clip-path=\"url(#clip112)\" style=\"stroke:#009af9; stroke-linecap:butt; stroke-linejoin:round; stroke-width:4; stroke-opacity:1; fill:none\" points=\"\n  344.268,86.1857 869.654,696.253 1113.94,192.55 1274.85,892.831 1395.04,514.63 1491.01,677.11 1570.9,1008.37 1639.33,1141.54 1699.19,553.026 1752.38,451.149 \n  1800.24,989.532 1843.75,712.006 1883.62,809.499 1920.43,851.625 1954.6,940.592 1986.49,1143.92 2016.39,1149.15 2044.53,873.161 2071.11,1053.04 2096.28,1096.68 \n  2120.2,1079.41 2142.98,924.552 2164.72,1146.36 2185.51,1128.88 2205.44,1039.95 2224.57,1057.43 2242.97,1054.18 2260.68,1146.13 2277.76,811.295 2294.26,1153.67 \n  \n  \"/>\n<polyline clip-path=\"url(#clip112)\" style=\"stroke:#e26f46; stroke-linecap:butt; stroke-linejoin:round; stroke-width:4; stroke-opacity:1; fill:none\" points=\"\n  344.268,654.917 869.654,955.821 1113.94,788.394 1274.85,1028.84 1395.04,943.932 1491.01,979.206 1570.9,1106.99 1639.33,1152.48 1699.19,938.641 1752.38,916.649 \n  1800.24,1113.67 1843.75,986.663 1883.62,1074.56 1920.43,1044.1 1954.6,1078.2 1986.49,1156.38 2016.39,1158.68 2044.53,1044.4 2071.11,1128.59 2096.28,1142.74 \n  2120.2,1141.49 2142.98,1081.27 2164.72,1158.26 2185.51,1152.95 2205.44,1124.45 2224.57,1134.61 2242.97,1133.72 2260.68,1155.71 2277.76,1040.3 2294.26,1160.58 \n  \n  \"/>\n<path clip-path=\"url(#clip110)\" d=\"\nM1710.87 196.789 L2283.86 196.789 L2283.86 93.1086 L1710.87 93.1086  Z\n  \" fill=\"#ffffff\" fill-rule=\"evenodd\" fill-opacity=\"1\"/>\n<polyline clip-path=\"url(#clip110)\" style=\"stroke:#000000; stroke-linecap:butt; stroke-linejoin:round; stroke-width:4; stroke-opacity:1; fill:none\" points=\"\n  1710.87,196.789 2283.86,196.789 2283.86,93.1086 1710.87,93.1086 1710.87,196.789 \n  \"/>\n<polyline clip-path=\"url(#clip110)\" style=\"stroke:#e26f46; stroke-linecap:butt; stroke-linejoin:round; stroke-width:4; stroke-opacity:1; fill:none\" points=\"\n  1734.87,144.949 1878.87,144.949 \n  \"/>\n<path clip-path=\"url(#clip110)\" d=\"M1918.06 140.284 Q1917.34 139.868 1916.48 139.682 Q1915.65 139.474 1914.63 139.474 Q1911.02 139.474 1909.08 141.835 Q1907.15 144.173 1907.15 148.571 L1907.15 162.229 L1902.87 162.229 L1902.87 136.303 L1907.15 136.303 L1907.15 140.331 Q1908.5 137.969 1910.65 136.835 Q1912.8 135.678 1915.88 135.678 Q1916.32 135.678 1916.85 135.747 Q1917.39 135.794 1918.03 135.909 L1918.06 140.284 Z\" fill=\"#000000\" fill-rule=\"evenodd\" fill-opacity=\"1\" /><path clip-path=\"url(#clip110)\" d=\"M1943.66 148.201 L1943.66 150.284 L1924.08 150.284 Q1924.35 154.682 1926.71 156.997 Q1929.1 159.289 1933.33 159.289 Q1935.79 159.289 1938.08 158.687 Q1940.39 158.085 1942.66 156.881 L1942.66 160.909 Q1940.37 161.881 1937.96 162.391 Q1935.56 162.9 1933.08 162.9 Q1926.88 162.9 1923.24 159.289 Q1919.63 155.678 1919.63 149.52 Q1919.63 143.155 1923.06 139.428 Q1926.51 135.678 1932.34 135.678 Q1937.57 135.678 1940.6 139.057 Q1943.66 142.414 1943.66 148.201 M1939.4 146.951 Q1939.35 143.456 1937.43 141.372 Q1935.53 139.289 1932.39 139.289 Q1928.82 139.289 1926.67 141.303 Q1924.54 143.317 1924.21 146.974 L1939.4 146.951 Z\" fill=\"#000000\" fill-rule=\"evenodd\" fill-opacity=\"1\" /><path clip-path=\"url(#clip110)\" d=\"M1969.31 137.298 L1969.31 141.28 Q1967.5 140.284 1965.67 139.798 Q1963.87 139.289 1962.02 139.289 Q1957.87 139.289 1955.58 141.928 Q1953.29 144.544 1953.29 149.289 Q1953.29 154.034 1955.58 156.673 Q1957.87 159.289 1962.02 159.289 Q1963.87 159.289 1965.67 158.803 Q1967.5 158.293 1969.31 157.298 L1969.31 161.233 Q1967.52 162.067 1965.6 162.483 Q1963.71 162.9 1961.55 162.9 Q1955.7 162.9 1952.25 159.219 Q1948.8 155.539 1948.8 149.289 Q1948.8 142.946 1952.27 139.312 Q1955.77 135.678 1961.83 135.678 Q1963.8 135.678 1965.67 136.095 Q1967.55 136.488 1969.31 137.298 Z\" fill=\"#000000\" fill-rule=\"evenodd\" fill-opacity=\"1\" /><path clip-path=\"url(#clip110)\" d=\"M1986.76 139.289 Q1983.33 139.289 1981.34 141.974 Q1979.35 144.636 1979.35 149.289 Q1979.35 153.942 1981.32 156.627 Q1983.31 159.289 1986.76 159.289 Q1990.16 159.289 1992.15 156.604 Q1994.14 153.918 1994.14 149.289 Q1994.14 144.682 1992.15 141.997 Q1990.16 139.289 1986.76 139.289 M1986.76 135.678 Q1992.32 135.678 1995.49 139.289 Q1998.66 142.9 1998.66 149.289 Q1998.66 155.655 1995.49 159.289 Q1992.32 162.9 1986.76 162.9 Q1981.18 162.9 1978.01 159.289 Q1974.86 155.655 1974.86 149.289 Q1974.86 142.9 1978.01 139.289 Q1981.18 135.678 1986.76 135.678 Z\" fill=\"#000000\" fill-rule=\"evenodd\" fill-opacity=\"1\" /><path clip-path=\"url(#clip110)\" d=\"M2002.66 136.303 L2007.18 136.303 L2015.28 158.062 L2023.38 136.303 L2027.89 136.303 L2018.17 162.229 L2012.39 162.229 L2002.66 136.303 Z\" fill=\"#000000\" fill-rule=\"evenodd\" fill-opacity=\"1\" /><path clip-path=\"url(#clip110)\" d=\"M2055.95 148.201 L2055.95 150.284 L2036.37 150.284 Q2036.64 154.682 2039.01 156.997 Q2041.39 159.289 2045.63 159.289 Q2048.08 159.289 2050.37 158.687 Q2052.69 158.085 2054.95 156.881 L2054.95 160.909 Q2052.66 161.881 2050.26 162.391 Q2047.85 162.9 2045.37 162.9 Q2039.17 162.9 2035.53 159.289 Q2031.92 155.678 2031.92 149.52 Q2031.92 143.155 2035.35 139.428 Q2038.8 135.678 2044.63 135.678 Q2049.86 135.678 2052.89 139.057 Q2055.95 142.414 2055.95 148.201 M2051.69 146.951 Q2051.64 143.456 2049.72 141.372 Q2047.82 139.289 2044.68 139.289 Q2041.11 139.289 2038.96 141.303 Q2036.83 143.317 2036.51 146.974 L2051.69 146.951 Z\" fill=\"#000000\" fill-rule=\"evenodd\" fill-opacity=\"1\" /><path clip-path=\"url(#clip110)\" d=\"M2077.96 140.284 Q2077.25 139.868 2076.39 139.682 Q2075.56 139.474 2074.54 139.474 Q2070.93 139.474 2068.98 141.835 Q2067.06 144.173 2067.06 148.571 L2067.06 162.229 L2062.78 162.229 L2062.78 136.303 L2067.06 136.303 L2067.06 140.331 Q2068.4 137.969 2070.56 136.835 Q2072.71 135.678 2075.79 135.678 Q2076.23 135.678 2076.76 135.747 Q2077.29 135.794 2077.94 135.909 L2077.96 140.284 Z\" fill=\"#000000\" fill-rule=\"evenodd\" fill-opacity=\"1\" /><path clip-path=\"url(#clip110)\" d=\"M2093.22 164.636 Q2091.41 169.266 2089.7 170.678 Q2087.99 172.09 2085.12 172.09 L2081.71 172.09 L2081.71 168.525 L2084.21 168.525 Q2085.97 168.525 2086.95 167.692 Q2087.92 166.858 2089.1 163.756 L2089.86 161.812 L2079.38 136.303 L2083.89 136.303 L2091.99 156.581 L2100.09 136.303 L2104.61 136.303 L2093.22 164.636 Z\" fill=\"#000000\" fill-rule=\"evenodd\" fill-opacity=\"1\" /><path clip-path=\"url(#clip110)\" d=\"M2147.73 148.201 L2147.73 150.284 L2128.15 150.284 Q2128.43 154.682 2130.79 156.997 Q2133.17 159.289 2137.41 159.289 Q2139.86 159.289 2142.15 158.687 Q2144.47 158.085 2146.74 156.881 L2146.74 160.909 Q2144.44 161.881 2142.04 162.391 Q2139.63 162.9 2137.15 162.9 Q2130.95 162.9 2127.32 159.289 Q2123.7 155.678 2123.7 149.52 Q2123.7 143.155 2127.13 139.428 Q2130.58 135.678 2136.41 135.678 Q2141.64 135.678 2144.68 139.057 Q2147.73 142.414 2147.73 148.201 M2143.47 146.951 Q2143.43 143.456 2141.5 141.372 Q2139.61 139.289 2136.46 139.289 Q2132.89 139.289 2130.74 141.303 Q2128.61 143.317 2128.29 146.974 L2143.47 146.951 Z\" fill=\"#000000\" fill-rule=\"evenodd\" fill-opacity=\"1\" /><path clip-path=\"url(#clip110)\" d=\"M2169.75 140.284 Q2169.03 139.868 2168.17 139.682 Q2167.34 139.474 2166.32 139.474 Q2162.71 139.474 2160.76 141.835 Q2158.84 144.173 2158.84 148.571 L2158.84 162.229 L2154.56 162.229 L2154.56 136.303 L2158.84 136.303 L2158.84 140.331 Q2160.19 137.969 2162.34 136.835 Q2164.49 135.678 2167.57 135.678 Q2168.01 135.678 2168.54 135.747 Q2169.07 135.794 2169.72 135.909 L2169.75 140.284 Z\" fill=\"#000000\" fill-rule=\"evenodd\" fill-opacity=\"1\" /><path clip-path=\"url(#clip110)\" d=\"M2188.4 140.284 Q2187.69 139.868 2186.83 139.682 Q2186 139.474 2184.98 139.474 Q2181.37 139.474 2179.42 141.835 Q2177.5 144.173 2177.5 148.571 L2177.5 162.229 L2173.22 162.229 L2173.22 136.303 L2177.5 136.303 L2177.5 140.331 Q2178.84 137.969 2181 136.835 Q2183.15 135.678 2186.23 135.678 Q2186.67 135.678 2187.2 135.747 Q2187.73 135.794 2188.38 135.909 L2188.4 140.284 Z\" fill=\"#000000\" fill-rule=\"evenodd\" fill-opacity=\"1\" /><path clip-path=\"url(#clip110)\" d=\"M2201.88 139.289 Q2198.45 139.289 2196.46 141.974 Q2194.47 144.636 2194.47 149.289 Q2194.47 153.942 2196.44 156.627 Q2198.43 159.289 2201.88 159.289 Q2205.28 159.289 2207.27 156.604 Q2209.26 153.918 2209.26 149.289 Q2209.26 144.682 2207.27 141.997 Q2205.28 139.289 2201.88 139.289 M2201.88 135.678 Q2207.43 135.678 2210.6 139.289 Q2213.77 142.9 2213.77 149.289 Q2213.77 155.655 2210.6 159.289 Q2207.43 162.9 2201.88 162.9 Q2196.3 162.9 2193.13 159.289 Q2189.98 155.655 2189.98 149.289 Q2189.98 142.9 2193.13 139.289 Q2196.3 135.678 2201.88 135.678 Z\" fill=\"#000000\" fill-rule=\"evenodd\" fill-opacity=\"1\" /><path clip-path=\"url(#clip110)\" d=\"M2235.86 140.284 Q2235.14 139.868 2234.28 139.682 Q2233.45 139.474 2232.43 139.474 Q2228.82 139.474 2226.87 141.835 Q2224.95 144.173 2224.95 148.571 L2224.95 162.229 L2220.67 162.229 L2220.67 136.303 L2224.95 136.303 L2224.95 140.331 Q2226.3 137.969 2228.45 136.835 Q2230.6 135.678 2233.68 135.678 Q2234.12 135.678 2234.65 135.747 Q2235.19 135.794 2235.83 135.909 L2235.86 140.284 Z\" fill=\"#000000\" fill-rule=\"evenodd\" fill-opacity=\"1\" /></svg>\n"
     },
     "execution_count": 12,
     "metadata": {},
     "output_type": "execute_result"
    }
   ],
   "source": [
    "M2 = load(\"result/error.jld\", \"error\")\n",
    "m_list = load(\"result/error.jld\", \"measurement\")\n",
    "\n",
    "average_recov = mean(M2, dims=2)\n",
    "std_recov = std(M2, dims=2)\n",
    "plot(log.(m_list), average_recov + std_recov, fillrange = average_recov - std_recov,fillalpha = 0.35, c = 1, label = false)\n",
    "plot!(log.(m_list), average_recov, label = \"recovery error\", xlabel = \"number of measurement in log scale\", ylabel = \"average recovery error\")\n"
   ]
  },
  {
   "cell_type": "markdown",
   "metadata": {},
   "source": [
    "The following code segment can be used to estimate the ground truth using the function PLUGIn_onebitCS."
   ]
  },
  {
   "cell_type": "code",
   "execution_count": 4,
   "metadata": {},
   "outputs": [
    {
     "name": "stdout",
     "output_type": "stream",
     "text": [
      "====> In quasi-gradient: Iteration: 1000 Successive error: 0.04955781631789774\n",
      "====> In quasi-gradient: Iteration: 2000 Successive error: 0.10578377106837247\n",
      "====> In quasi-gradient: Iteration: 3000 Successive error: 0.179273944458588\n",
      "====> In quasi-gradient: Iteration: 4000 Successive error: 0.0978842833014582\n",
      "====> In quasi-gradient: Iteration: 5000 Successive error: 0.09073658913575064\n",
      "====> In quasi-gradient: Iteration: 6000 Successive error: 0.18762423367142522\n",
      "====> In quasi-gradient: Iteration: 7000 Successive error: 0.14405084162435544\n",
      "====> In quasi-gradient: Iteration: 8000 Successive error: 0.29345628502536225\n",
      "====> In quasi-gradient: Iteration: 9000 Successive error: 0.14090214879915675\n",
      "====> In quasi-gradient: Iteration: 10000 Successive error: 0.19772574576799729\n",
      "====> In quasi-gradient: Iteration: 10001 Successive error: 0.19772574576799729\n",
      "recovery error: 0.019457811876944658, reconstruction error: 0.5316056983400247\n"
     ]
    }
   ],
   "source": [
    "    \n",
    "G = Chain(\n",
    "    Dense(5, 75, relu, bias = false; initW =(out,in) ->  randn(75, 5)/sqrt(75)),\n",
    "    Dense(75, 100, relu, bias = false; initW =(out,in) -> randn(75, 75)/sqrt(75)),\n",
    "    Dense(75, 150, relu, bias = false; initW =(out,in) -> randn(150, 75)/sqrt(150))\n",
    ")\n",
    "\n",
    "\n",
    "z = randn(5)\n",
    "m = 10000; A = randn(m, 150)/sqrt(m)\n",
    "y = sign.(A*G(z)) + 1e-14 * randn(m)\n",
    "\n",
    "stepsize = 1\n",
    "tolerance = 1e-14\n",
    "max_iter = 10000\n",
    "out_toggle = 1000\n",
    "lambda = 100\n",
    "z_rec = PLUGIn_onebitCS(G,y,A, max_iter, stepsize, tolerance, lambda, out_toggle)\n",
    "recov_error = norm(z/norm(z) - z_rec/norm(z_rec))\n",
    "recon_error = norm(G(z) - G(z_rec))\n",
    "println(\"recovery error: $recov_error, reconstruction error: $recon_error\")"
   ]
  },
  {
   "cell_type": "markdown",
   "metadata": {},
   "source": [
    "The following code segment is an attempt to implement another algorithm for 1-bit CS with generative model introduced in the paper:\n",
    "https://arxiv.org/pdf/1908.05368.pdf \n",
    "\n",
    "This still needs to be debugged."
   ]
  },
  {
   "cell_type": "code",
   "execution_count": null,
   "metadata": {},
   "outputs": [
    {
     "name": "stdout",
     "output_type": "stream",
     "text": [
      "====> In quasi-gradient: Iteration: 1000 Successive error: 5.186242623879012e-5\n",
      "recovery error: 0.05487163727428996, reconstruction error: 0.22544613623562687\n"
     ]
    }
   ],
   "source": [
    "#using Zygote to solve ERM for a synthetic problem\n",
    "\n",
    "\n",
    "G = Chain(\n",
    "    Dense(5, 75, relu, bias = false; initW =(out,in) ->  randn(75, 5)/sqrt(75)),\n",
    "    Dense(75, 75, relu, bias = false; initW =(out,in) -> randn(75, 75)/sqrt(75)),\n",
    "    Dense(75, 150, relu, bias = false; initW =(out,in) -> randn(150, 75)/sqrt(150))\n",
    ")\n",
    "\n",
    "\n",
    "z = randn(5)\n",
    "m = 5000; A = randn(m, 150)/sqrt(m)\n",
    "y = sign.(A*G(z)) + 1e-14 * randn(m)\n",
    "\n",
    "stepsize = .1\n",
    "tolerance = 1e-7\n",
    "max_iter = 1000\n",
    "out_toggle = 1000\n",
    "lambda = 10\n",
    "\n",
    "z_rec = randn(5)\n",
    "\n",
    "\n",
    "for i in 1:max_iter\n",
    "\n",
    "    d = gradient(z_rec -> norm(G(z_rec),2)^2 - 2*lambda * y'*(A * G(z_rec))/m, z_rec)[1]\n",
    "    z_rec -= stepsize * d\n",
    "    succ_error = norm(stepsize * d)\n",
    "    if i % out_toggle == 0  \n",
    "        println(\"====> In quasi-gradient: Iteration: $i Successive error: $succ_error\")\n",
    "    end\n",
    "end\n",
    "\n",
    "\n",
    "# z_rec = PLUGIn_onebitCS(G,y,A, max_iter, stepsize, tolerance, out_toggle)\n",
    "recov_error = norm(z/norm(z) - z_rec/norm(z_rec))\n",
    "recon_error = norm(G(z) - G(z_rec))\n",
    "println(\"recovery error: $recov_error, reconstruction error: $recon_error\")"
   ]
  },
  {
   "cell_type": "code",
   "execution_count": null,
   "metadata": {},
   "outputs": [],
   "source": []
  }
 ],
 "metadata": {
  "kernelspec": {
   "display_name": "Julia 1.7.0",
   "language": "julia",
   "name": "julia-1.7"
  },
  "language_info": {
   "file_extension": ".jl",
   "mimetype": "application/julia",
   "name": "julia",
   "version": "1.7.0"
  },
  "orig_nbformat": 4
 },
 "nbformat": 4,
 "nbformat_minor": 2
}
