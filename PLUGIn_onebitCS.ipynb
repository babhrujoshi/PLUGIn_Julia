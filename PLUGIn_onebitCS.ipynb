{
 "cells": [
  {
   "cell_type": "code",
   "execution_count": 2,
   "metadata": {},
   "outputs": [],
   "source": [
    "using BSON: @load\n",
    "using Flux\n",
    "using Flux: chunk\n",
    "using Flux.Data: DataLoader\n",
    "using ImageFiltering\n",
    "using Images\n",
    "using ImageIO\n",
    "using MLDatasets: FashionMNIST\n",
    "using LinearAlgebra\n",
    "using MLDatasets\n",
    "using Plots"
   ]
  },
  {
   "cell_type": "code",
   "execution_count": 44,
   "metadata": {},
   "outputs": [
    {
     "data": {
      "text/plain": [
       "PLUGIN_1bitCS_estimate (generic function with 1 method)"
      ]
     },
     "execution_count": 44,
     "metadata": {},
     "output_type": "execute_result"
    }
   ],
   "source": [
    "# output the plugin Iterate\n",
    "function PLUGIN_1bitCS_estimate(A, G, W, y, z, stepsize)\n",
    "    d = W'*A'* (sign.(A * G(z)) - y )\n",
    "    return z - stepsize * d\n",
    "end"
   ]
  },
  {
   "cell_type": "code",
   "execution_count": 6,
   "metadata": {},
   "outputs": [
    {
     "data": {
      "text/plain": [
       "normalized_weight_product (generic function with 1 method)"
      ]
     },
     "execution_count": 6,
     "metadata": {},
     "output_type": "execute_result"
    }
   ],
   "source": [
    "function normalized_weight_product(G)\n",
    "    (_, z_dim) = size(Flux.params(G[1])[1]);\n",
    "    W = I(z_dim)\n",
    "    for i in 1:length(G)\n",
    "        _, s, _ = svd(Flux.params(G[i])[1])\n",
    "        W = Flux.params(G[i])[1] * W /s[1]\n",
    "    end\n",
    "    return W\n",
    "end  "
   ]
  },
  {
   "cell_type": "code",
   "execution_count": 30,
   "metadata": {},
   "outputs": [
    {
     "data": {
      "text/plain": [
       "create_network (generic function with 1 method)"
      ]
     },
     "execution_count": 30,
     "metadata": {},
     "output_type": "execute_result"
    }
   ],
   "source": [
    "function create_network(net_param)\n",
    "    n_0 = net_param[1]\n",
    "    n_1 = net_param[2]\n",
    "    L = Chain(Dense(n_0, n_1, relu; initW =(out,in) ->  randn(n_1, n_0)/sqrt(n_1)))\n",
    "\n",
    "    for i in 2:length(net_param)-1\n",
    "        n_0 = net_param[i]\n",
    "        n_1 = net_param[i+1]\n",
    "        L = Chain(L, Dense(n_0, n_1, relu; initW =(out,in) ->  randn(n_1, n_0)/sqrt(n_1)))\n",
    "    end\n",
    "    return L\n",
    "end"
   ]
  },
  {
   "cell_type": "code",
   "execution_count": 3,
   "metadata": {},
   "outputs": [
    {
     "data": {
      "text/plain": [
       "PLUGIn_onebitCS (generic function with 1 method)"
      ]
     },
     "execution_count": 3,
     "metadata": {},
     "output_type": "execute_result"
    }
   ],
   "source": [
    "function PLUGIn_onebitCS(G, y, A, max_iter, stepsize, tolerance,lambda, out_toggle)\n",
    "    \n",
    "    (_, z_dim) = size(Flux.params(G[1])[1]);\n",
    "    (m, _) = size(A)\n",
    "    W = I(z_dim)\n",
    "  \n",
    "    #normalize the weights of the network\n",
    "    for i in 1:length(G)\n",
    "        _, s, _ = svd(Flux.params(G[i])[1])\n",
    "        W = Flux.params(G[i])[1] * W /s[1]\n",
    "    end\n",
    "  \n",
    "    z = randn(z_dim)\n",
    "    iter = 1\n",
    "    succ_error = 1\n",
    "  \n",
    "    while iter <= max_iter && succ_error > tolerance\n",
    "      \n",
    "      # d gives the PLUGIn direction\n",
    "      # d = ( A * G(z) - y .* abs.(A * G(z)) )\n",
    "      d = ( sign.(A * G(z)) - y )\n",
    "      d = W'*A'* d\n",
    "\n",
    "      # d = W'*G(z) - lambda *W'*A'*y/m\n",
    "      z -= stepsize * d\n",
    "      succ_error = norm(stepsize * d)\n",
    "      if iter % out_toggle == 0  \n",
    "          println(\"====> In quasi-gradient: Iteration: $iter Successive error: $succ_error\")\n",
    "      end\n",
    "      iter += 1\n",
    "    end\n",
    "    println(\"====> In quasi-gradient: Iteration: $iter Successive error: $succ_error\")\n",
    "  \n",
    "    return z\n",
    "  end"
   ]
  },
  {
   "cell_type": "code",
   "execution_count": 60,
   "metadata": {},
   "outputs": [],
   "source": [
    "net_param = [5, 50, 100]\n",
    "x_dim  = net_param[length(net_param)]\n",
    "z_dim = net_param[1]\n",
    "\n",
    "G = create_network(net_param)\n",
    "    \n",
    "z = randn(z_dim)\n",
    "\n",
    "stepsize = 1\n",
    "max_iter = 10000\n",
    "\n",
    "W = normalized_weight_product(G)\n",
    "m_list = 100:200:10000\n",
    "trials = 10\n",
    "recov_error_matrix = zeros(length(m_list))\n",
    "\n",
    "for trial in 1:trials\n",
    "    recov_error = []\n",
    "    for m in m_list\n",
    "        m = 10000; A = randn(m, x_dim)/sqrt(m)\n",
    "        y = sign.(A*G(z))\n",
    "        z_est = randn(z_dim)\n",
    "\n",
    "        for i in 1:max_iter\n",
    "            z_est = PLUGIN_1bitCS_estimate(A, G, W, y, z_est, stepsize)\n",
    "        end\n",
    "        push!(recov_error, norm(z/norm(z) - z_est/norm(z_est)))\n",
    "    end\n",
    "    recov_error_matrix = hcat(recov_error_matrix, recov_error)\n",
    "\n",
    "end\n"
   ]
  },
  {
   "cell_type": "code",
   "execution_count": 61,
   "metadata": {},
   "outputs": [
    {
     "data": {
      "text/plain": [
       "50×11 Matrix{Any}:\n",
       " 0.0  0.00530429   0.000397491  0.000933536  …  0.000895497  0.00405505\n",
       " 0.0  0.00215341   0.000492093  0.000932274     0.0907098    0.00580754\n",
       " 0.0  0.000338926  0.00604599   0.0874054       0.0184323    0.00161265\n",
       " 0.0  0.0314474    0.000499508  0.117293        0.00530382   0.000642\n",
       " 0.0  0.000418221  0.000689049  0.000362201     0.000145309  0.0891402\n",
       " 0.0  0.0762617    0.00597236   0.0657673    …  0.000584569  0.130582\n",
       " 0.0  0.0838702    0.0654509    0.00218104      0.0389315    0.000625007\n",
       " 0.0  0.0384453    0.00126724   0.152545        0.128068     0.224189\n",
       " 0.0  0.000627341  0.0113955    0.00170872      0.0232853    0.000645494\n",
       " 0.0  0.00961671   0.0988441    0.000800526     0.0149709    0.00349703\n",
       " 0.0  0.0664115    0.135421     0.000471577  …  0.152798     0.0114424\n",
       " 0.0  0.00109809   0.00438725   0.0236465       0.0438523    0.00189693\n",
       " 0.0  0.00530789   0.00496118   0.00585331      0.00537849   0.0778847\n",
       " ⋮                                           ⋱               ⋮\n",
       " 0.0  0.0692053    0.00255174   0.00349351      0.0233116    0.0111258\n",
       " 0.0  0.000389816  0.14101      0.0158169       0.000906892  0.120697\n",
       " 0.0  0.103238     0.0299501    0.108594     …  0.146427     0.011783\n",
       " 0.0  0.0277575    0.000715182  0.152246        0.182186     0.00435573\n",
       " 0.0  0.00908811   0.0331516    0.146222        0.000406254  0.0458056\n",
       " 0.0  0.0153223    0.110243     0.000534984     0.0039968    0.0359478\n",
       " 0.0  0.000272167  0.00979399   0.125945        0.0200567    0.103518\n",
       " 0.0  0.0196068    0.00127911   0.000693596  …  0.0927544    0.00530403\n",
       " 0.0  0.015675     0.0102178    0.0127212       0.0844131    0.0311716\n",
       " 0.0  0.00993999   0.123371     0.00855409      0.000915159  0.0583369\n",
       " 0.0  0.000226134  0.0808809    0.00162658      0.0137803    0.000839289\n",
       " 0.0  0.000806171  0.000472247  0.0103838       0.0556283    0.114754"
      ]
     },
     "execution_count": 61,
     "metadata": {},
     "output_type": "execute_result"
    }
   ],
   "source": [
    "recov_error_matrix"
   ]
  },
  {
   "cell_type": "code",
   "execution_count": 4,
   "metadata": {},
   "outputs": [
    {
     "name": "stdout",
     "output_type": "stream",
     "text": [
      "====> In quasi-gradient: Iteration: 1000 Successive error: 0.04955781631789774\n",
      "====> In quasi-gradient: Iteration: 2000 Successive error: 0.10578377106837247\n",
      "====> In quasi-gradient: Iteration: 3000 Successive error: 0.179273944458588\n",
      "====> In quasi-gradient: Iteration: 4000 Successive error: 0.0978842833014582\n",
      "====> In quasi-gradient: Iteration: 5000 Successive error: 0.09073658913575064\n",
      "====> In quasi-gradient: Iteration: 6000 Successive error: 0.18762423367142522\n",
      "====> In quasi-gradient: Iteration: 7000 Successive error: 0.14405084162435544\n",
      "====> In quasi-gradient: Iteration: 8000 Successive error: 0.29345628502536225\n",
      "====> In quasi-gradient: Iteration: 9000 Successive error: 0.14090214879915675\n",
      "====> In quasi-gradient: Iteration: 10000 Successive error: 0.19772574576799729\n",
      "====> In quasi-gradient: Iteration: 10001 Successive error: 0.19772574576799729\n",
      "recovery error: 0.019457811876944658, reconstruction error: 0.5316056983400247\n"
     ]
    }
   ],
   "source": [
    "       \n",
    "\n",
    "G = Chain(\n",
    "    Dense(5, 75, relu, bias = false; initW =(out,in) ->  randn(75, 5)/sqrt(75)),\n",
    "    Dense(75, 100, relu, bias = false; initW =(out,in) -> randn(75, 75)/sqrt(75)),\n",
    "    Dense(75, 150, relu, bias = false; initW =(out,in) -> randn(150, 75)/sqrt(150))\n",
    ")\n",
    "\n",
    "\n",
    "z = randn(5)\n",
    "m = 10000; A = randn(m, 150)/sqrt(m)\n",
    "y = sign.(A*G(z)) + 1e-14 * randn(m)\n",
    "\n",
    "stepsize = 1\n",
    "tolerance = 1e-14\n",
    "max_iter = 10000\n",
    "out_toggle = 1000\n",
    "lambda = 100\n",
    "z_rec = PLUGIn_onebitCS(G,y,A, max_iter, stepsize, tolerance, lambda, out_toggle)\n",
    "recov_error = norm(z/norm(z) - z_rec/norm(z_rec))\n",
    "recon_error = norm(G(z) - G(z_rec))\n",
    "println(\"recovery error: $recov_error, reconstruction error: $recon_error\")"
   ]
  },
  {
   "cell_type": "code",
   "execution_count": 19,
   "metadata": {},
   "outputs": [
    {
     "data": {
      "text/plain": [
       "75-element Vector{Float64}:\n",
       " 0.06424112093451002\n",
       " 0.16878344885888327\n",
       " 0.0\n",
       " 0.03876436509600022\n",
       " 0.14809107093039625\n",
       " 0.19732114775678872\n",
       " 0.2787184666914869\n",
       " 0.17201826110481755\n",
       " 0.0\n",
       " 0.006473245880808026\n",
       " 0.21977642442566125\n",
       " 0.2823436904598369\n",
       " 0.0\n",
       " ⋮\n",
       " 0.09118656564201674\n",
       " 0.0\n",
       " 0.0\n",
       " 0.0\n",
       " 0.0\n",
       " 0.0\n",
       " 0.0\n",
       " 0.05515709700285547\n",
       " 0.13719326332082812\n",
       " 0.0\n",
       " 0.0157081181463716\n",
       " 0.13010968771439982"
      ]
     },
     "execution_count": 19,
     "metadata": {},
     "output_type": "execute_result"
    }
   ],
   "source": [
    "\n",
    "G = Dense(5, 75, relu, bias = false; initW =(out,in) ->  randn(75, 5)/sqrt(75))\n",
    "G = Chain(G)\n",
    "G2 = Dense(75, 75, relu, bias = false; initW =(out,in) ->  randn(75, 75)/sqrt(75))\n",
    "\n",
    "G2 = Chain(G,G2)\n",
    "\n",
    "G2(randn(5))"
   ]
  },
  {
   "cell_type": "code",
   "execution_count": null,
   "metadata": {},
   "outputs": [
    {
     "name": "stdout",
     "output_type": "stream",
     "text": [
      "====> In quasi-gradient: Iteration: 1000 Successive error: 5.186242623879012e-5\n",
      "recovery error: 0.05487163727428996, reconstruction error: 0.22544613623562687\n"
     ]
    }
   ],
   "source": [
    "#using Zygote to solve ERM for a synthetic problem\n",
    "\n",
    "\n",
    "G = Chain(\n",
    "    Dense(5, 75, relu, bias = false; initW =(out,in) ->  randn(75, 5)/sqrt(75)),\n",
    "    Dense(75, 75, relu, bias = false; initW =(out,in) -> randn(75, 75)/sqrt(75)),\n",
    "    Dense(75, 150, relu, bias = false; initW =(out,in) -> randn(150, 75)/sqrt(150))\n",
    ")\n",
    "\n",
    "\n",
    "z = randn(5)\n",
    "m = 5000; A = randn(m, 150)/sqrt(m)\n",
    "y = sign.(A*G(z)) + 1e-14 * randn(m)\n",
    "\n",
    "stepsize = .1\n",
    "tolerance = 1e-7\n",
    "max_iter = 1000\n",
    "out_toggle = 1000\n",
    "lambda = 10\n",
    "\n",
    "z_rec = randn(5)\n",
    "\n",
    "\n",
    "for i in 1:max_iter\n",
    "\n",
    "    d = gradient(z_rec -> norm(G(z_rec),2)^2 - 2*lambda * y'*(A * G(z_rec))/m, z_rec)[1]\n",
    "    z_rec -= stepsize * d\n",
    "    succ_error = norm(stepsize * d)\n",
    "    if i % out_toggle == 0  \n",
    "        println(\"====> In quasi-gradient: Iteration: $i Successive error: $succ_error\")\n",
    "    end\n",
    "end\n",
    "\n",
    "\n",
    "# z_rec = PLUGIn_onebitCS(G,y,A, max_iter, stepsize, tolerance, out_toggle)\n",
    "recov_error = norm(z/norm(z) - z_rec/norm(z_rec))\n",
    "recon_error = norm(G(z) - G(z_rec))\n",
    "println(\"recovery error: $recov_error, reconstruction error: $recon_error\")"
   ]
  },
  {
   "cell_type": "code",
   "execution_count": null,
   "metadata": {},
   "outputs": [],
   "source": []
  }
 ],
 "metadata": {
  "kernelspec": {
   "display_name": "Julia 1.7.0",
   "language": "julia",
   "name": "julia-1.7"
  },
  "language_info": {
   "file_extension": ".jl",
   "mimetype": "application/julia",
   "name": "julia",
   "version": "1.7.0"
  },
  "orig_nbformat": 4
 },
 "nbformat": 4,
 "nbformat_minor": 2
}
