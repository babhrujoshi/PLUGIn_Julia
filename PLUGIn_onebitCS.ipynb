{
 "cells": [
  {
   "cell_type": "code",
   "execution_count": 2,
   "metadata": {},
   "outputs": [],
   "source": [
    "using BSON: @load\n",
    "using Flux\n",
    "using Flux: chunk\n",
    "using Flux.Data: DataLoader\n",
    "using ImageFiltering\n",
    "using Images\n",
    "using ImageIO\n",
    "using MLDatasets: FashionMNIST\n",
    "using LinearAlgebra\n",
    "using MLDatasets\n",
    "using Plots"
   ]
  },
  {
   "cell_type": "code",
   "execution_count": 21,
   "metadata": {},
   "outputs": [
    {
     "data": {
      "text/plain": [
       "PLUGIN_1bitCS_iterate (generic function with 1 method)"
      ]
     },
     "execution_count": 21,
     "metadata": {},
     "output_type": "execute_result"
    }
   ],
   "source": [
    "# output the plugin Iterate\n",
    "function PLUGIN_1bitCS_iterate(A, G, W, y, z, stepsize)\n",
    "    d = W'*A'* (sign.(A * G(z)) - y )\n",
    "    return z - stepsize * d\n",
    "end"
   ]
  },
  {
   "cell_type": "code",
   "execution_count": 6,
   "metadata": {},
   "outputs": [
    {
     "data": {
      "text/plain": [
       "normalized_weight_product (generic function with 1 method)"
      ]
     },
     "execution_count": 6,
     "metadata": {},
     "output_type": "execute_result"
    }
   ],
   "source": [
    "function normalized_weight_product(G)\n",
    "    (_, z_dim) = size(Flux.params(G[1])[1]);\n",
    "    W = I(z_dim)\n",
    "    for i in 1:length(G)\n",
    "        _, s, _ = svd(Flux.params(G[i])[1])\n",
    "        W = Flux.params(G[i])[1] * W /s[1]\n",
    "    end\n",
    "    return W\n",
    "end  "
   ]
  },
  {
   "cell_type": "code",
   "execution_count": 30,
   "metadata": {},
   "outputs": [
    {
     "data": {
      "text/plain": [
       "create_network (generic function with 1 method)"
      ]
     },
     "execution_count": 30,
     "metadata": {},
     "output_type": "execute_result"
    }
   ],
   "source": [
    "function create_network(net_param)\n",
    "    n_0 = net_param[1]\n",
    "    n_1 = net_param[2]\n",
    "    L = Chain(Dense(n_0, n_1, relu; initW =(out,in) ->  randn(n_1, n_0)/sqrt(n_1)))\n",
    "\n",
    "    for i in 2:length(net_param)-1\n",
    "        n_0 = net_param[i]\n",
    "        n_1 = net_param[i+1]\n",
    "        L = Chain(L, Dense(n_0, n_1, relu; initW =(out,in) ->  randn(n_1, n_0)/sqrt(n_1)))\n",
    "    end\n",
    "    return L\n",
    "end"
   ]
  },
  {
   "cell_type": "code",
   "execution_count": 3,
   "metadata": {},
   "outputs": [
    {
     "data": {
      "text/plain": [
       "PLUGIn_onebitCS (generic function with 1 method)"
      ]
     },
     "execution_count": 3,
     "metadata": {},
     "output_type": "execute_result"
    }
   ],
   "source": [
    "function PLUGIn_onebitCS(G, y, A, max_iter, stepsize, tolerance,lambda, out_toggle)\n",
    "    \n",
    "    (_, z_dim) = size(Flux.params(G[1])[1]);\n",
    "    (m, _) = size(A)\n",
    "    W = I(z_dim)\n",
    "  \n",
    "    #normalize the weights of the network\n",
    "    for i in 1:length(G)\n",
    "        _, s, _ = svd(Flux.params(G[i])[1])\n",
    "        W = Flux.params(G[i])[1] * W /s[1]\n",
    "    end\n",
    "  \n",
    "    z = randn(z_dim)\n",
    "    iter = 1\n",
    "    succ_error = 1\n",
    "  \n",
    "    while iter <= max_iter && succ_error > tolerance\n",
    "      \n",
    "      # d gives the PLUGIn direction\n",
    "      # d = ( A * G(z) - y .* abs.(A * G(z)) )\n",
    "      d = ( sign.(A * G(z)) - y )\n",
    "      d = W'*A'* d\n",
    "\n",
    "      # d = W'*G(z) - lambda *W'*A'*y/m\n",
    "      z -= stepsize * d\n",
    "      succ_error = norm(stepsize * d)\n",
    "      if iter % out_toggle == 0  \n",
    "          println(\"====> In quasi-gradient: Iteration: $iter Successive error: $succ_error\")\n",
    "      end\n",
    "      iter += 1\n",
    "    end\n",
    "    println(\"====> In quasi-gradient: Iteration: $iter Successive error: $succ_error\")\n",
    "  \n",
    "    return z\n",
    "  end"
   ]
  },
  {
   "cell_type": "code",
   "execution_count": 43,
   "metadata": {},
   "outputs": [
    {
     "data": {
      "image/svg+xml": "<?xml version=\"1.0\" encoding=\"utf-8\"?>\n<svg xmlns=\"http://www.w3.org/2000/svg\" xmlns:xlink=\"http://www.w3.org/1999/xlink\" width=\"600\" height=\"400\" viewBox=\"0 0 2400 1600\">\n<defs>\n  <clipPath id=\"clip580\">\n    <rect x=\"0\" y=\"0\" width=\"2400\" height=\"1600\"/>\n  </clipPath>\n</defs>\n<path clip-path=\"url(#clip580)\" d=\"\nM0 1600 L2400 1600 L2400 0 L0 0  Z\n  \" fill=\"#ffffff\" fill-rule=\"evenodd\" fill-opacity=\"1\"/>\n<defs>\n  <clipPath id=\"clip581\">\n    <rect x=\"480\" y=\"0\" width=\"1681\" height=\"1600\"/>\n  </clipPath>\n</defs>\n<path clip-path=\"url(#clip580)\" d=\"\nM186.274 1486.45 L2352.76 1486.45 L2352.76 47.2441 L186.274 47.2441  Z\n  \" fill=\"#ffffff\" fill-rule=\"evenodd\" fill-opacity=\"1\"/>\n<defs>\n  <clipPath id=\"clip582\">\n    <rect x=\"186\" y=\"47\" width=\"2167\" height=\"1440\"/>\n  </clipPath>\n</defs>\n<polyline clip-path=\"url(#clip582)\" style=\"stroke:#000000; stroke-linecap:butt; stroke-linejoin:round; stroke-width:2; stroke-opacity:0.1; fill:none\" points=\"\n  474.684,1486.45 474.684,47.2441 \n  \"/>\n<polyline clip-path=\"url(#clip582)\" style=\"stroke:#000000; stroke-linecap:butt; stroke-linejoin:round; stroke-width:2; stroke-opacity:0.1; fill:none\" points=\"\n  928.873,1486.45 928.873,47.2441 \n  \"/>\n<polyline clip-path=\"url(#clip582)\" style=\"stroke:#000000; stroke-linecap:butt; stroke-linejoin:round; stroke-width:2; stroke-opacity:0.1; fill:none\" points=\"\n  1383.06,1486.45 1383.06,47.2441 \n  \"/>\n<polyline clip-path=\"url(#clip582)\" style=\"stroke:#000000; stroke-linecap:butt; stroke-linejoin:round; stroke-width:2; stroke-opacity:0.1; fill:none\" points=\"\n  1837.25,1486.45 1837.25,47.2441 \n  \"/>\n<polyline clip-path=\"url(#clip582)\" style=\"stroke:#000000; stroke-linecap:butt; stroke-linejoin:round; stroke-width:2; stroke-opacity:0.1; fill:none\" points=\"\n  2291.44,1486.45 2291.44,47.2441 \n  \"/>\n<polyline clip-path=\"url(#clip580)\" style=\"stroke:#000000; stroke-linecap:butt; stroke-linejoin:round; stroke-width:4; stroke-opacity:1; fill:none\" points=\"\n  186.274,1486.45 2352.76,1486.45 \n  \"/>\n<polyline clip-path=\"url(#clip580)\" style=\"stroke:#000000; stroke-linecap:butt; stroke-linejoin:round; stroke-width:4; stroke-opacity:1; fill:none\" points=\"\n  474.684,1486.45 474.684,1467.55 \n  \"/>\n<polyline clip-path=\"url(#clip580)\" style=\"stroke:#000000; stroke-linecap:butt; stroke-linejoin:round; stroke-width:4; stroke-opacity:1; fill:none\" points=\"\n  928.873,1486.45 928.873,1467.55 \n  \"/>\n<polyline clip-path=\"url(#clip580)\" style=\"stroke:#000000; stroke-linecap:butt; stroke-linejoin:round; stroke-width:4; stroke-opacity:1; fill:none\" points=\"\n  1383.06,1486.45 1383.06,1467.55 \n  \"/>\n<polyline clip-path=\"url(#clip580)\" style=\"stroke:#000000; stroke-linecap:butt; stroke-linejoin:round; stroke-width:4; stroke-opacity:1; fill:none\" points=\"\n  1837.25,1486.45 1837.25,1467.55 \n  \"/>\n<polyline clip-path=\"url(#clip580)\" style=\"stroke:#000000; stroke-linecap:butt; stroke-linejoin:round; stroke-width:4; stroke-opacity:1; fill:none\" points=\"\n  2291.44,1486.45 2291.44,1467.55 \n  \"/>\n<path clip-path=\"url(#clip580)\" d=\"M469.337 1544.91 L485.656 1544.91 L485.656 1548.85 L463.712 1548.85 L463.712 1544.91 Q466.374 1542.16 470.957 1537.53 Q475.564 1532.88 476.744 1531.53 Q478.99 1529.01 479.869 1527.27 Q480.772 1525.51 480.772 1523.82 Q480.772 1521.07 478.828 1519.33 Q476.906 1517.6 473.804 1517.6 Q471.605 1517.6 469.152 1518.36 Q466.721 1519.13 463.943 1520.68 L463.943 1515.95 Q466.767 1514.82 469.221 1514.24 Q471.675 1513.66 473.712 1513.66 Q479.082 1513.66 482.277 1516.35 Q485.471 1519.03 485.471 1523.52 Q485.471 1525.65 484.661 1527.57 Q483.874 1529.47 481.767 1532.07 Q481.189 1532.74 478.087 1535.95 Q474.985 1539.15 469.337 1544.91 Z\" fill=\"#000000\" fill-rule=\"evenodd\" fill-opacity=\"1\" /><path clip-path=\"url(#clip580)\" d=\"M931.882 1518.36 L920.077 1536.81 L931.882 1536.81 L931.882 1518.36 M930.656 1514.29 L936.535 1514.29 L936.535 1536.81 L941.466 1536.81 L941.466 1540.7 L936.535 1540.7 L936.535 1548.85 L931.882 1548.85 L931.882 1540.7 L916.281 1540.7 L916.281 1536.19 L930.656 1514.29 Z\" fill=\"#000000\" fill-rule=\"evenodd\" fill-opacity=\"1\" /><path clip-path=\"url(#clip580)\" d=\"M1383.47 1529.7 Q1380.32 1529.7 1378.47 1531.86 Q1376.64 1534.01 1376.64 1537.76 Q1376.64 1541.49 1378.47 1543.66 Q1380.32 1545.82 1383.47 1545.82 Q1386.62 1545.82 1388.44 1543.66 Q1390.3 1541.49 1390.3 1537.76 Q1390.3 1534.01 1388.44 1531.86 Q1386.62 1529.7 1383.47 1529.7 M1392.75 1515.05 L1392.75 1519.31 Q1390.99 1518.48 1389.18 1518.04 Q1387.4 1517.6 1385.64 1517.6 Q1381.01 1517.6 1378.56 1520.72 Q1376.13 1523.85 1375.78 1530.17 Q1377.15 1528.15 1379.21 1527.09 Q1381.27 1526 1383.75 1526 Q1388.95 1526 1391.96 1529.17 Q1395 1532.32 1395 1537.76 Q1395 1543.08 1391.85 1546.3 Q1388.7 1549.52 1383.47 1549.52 Q1377.47 1549.52 1374.3 1544.94 Q1371.13 1540.33 1371.13 1531.6 Q1371.13 1523.41 1375.02 1518.55 Q1378.91 1513.66 1385.46 1513.66 Q1387.22 1513.66 1389 1514.01 Q1390.81 1514.36 1392.75 1515.05 Z\" fill=\"#000000\" fill-rule=\"evenodd\" fill-opacity=\"1\" /><path clip-path=\"url(#clip580)\" d=\"M1837.25 1532.44 Q1833.92 1532.44 1832 1534.22 Q1830.1 1536 1830.1 1539.13 Q1830.1 1542.25 1832 1544.03 Q1833.92 1545.82 1837.25 1545.82 Q1840.58 1545.82 1842.51 1544.03 Q1844.43 1542.23 1844.43 1539.13 Q1844.43 1536 1842.51 1534.22 Q1840.61 1532.44 1837.25 1532.44 M1832.58 1530.45 Q1829.57 1529.7 1827.88 1527.64 Q1826.21 1525.58 1826.21 1522.62 Q1826.21 1518.48 1829.15 1516.07 Q1832.11 1513.66 1837.25 1513.66 Q1842.41 1513.66 1845.35 1516.07 Q1848.29 1518.48 1848.29 1522.62 Q1848.29 1525.58 1846.6 1527.64 Q1844.94 1529.7 1841.95 1530.45 Q1845.33 1531.23 1847.2 1533.52 Q1849.1 1535.82 1849.1 1539.13 Q1849.1 1544.15 1846.02 1546.83 Q1842.97 1549.52 1837.25 1549.52 Q1831.53 1549.52 1828.46 1546.83 Q1825.4 1544.15 1825.4 1539.13 Q1825.4 1535.82 1827.3 1533.52 Q1829.2 1531.23 1832.58 1530.45 M1830.86 1523.06 Q1830.86 1525.75 1832.53 1527.25 Q1834.22 1528.76 1837.25 1528.76 Q1840.26 1528.76 1841.95 1527.25 Q1843.66 1525.75 1843.66 1523.06 Q1843.66 1520.38 1841.95 1518.87 Q1840.26 1517.37 1837.25 1517.37 Q1834.22 1517.37 1832.53 1518.87 Q1830.86 1520.38 1830.86 1523.06 Z\" fill=\"#000000\" fill-rule=\"evenodd\" fill-opacity=\"1\" /><path clip-path=\"url(#clip580)\" d=\"M2266.13 1544.91 L2273.77 1544.91 L2273.77 1518.55 L2265.46 1520.21 L2265.46 1515.95 L2273.72 1514.29 L2278.4 1514.29 L2278.4 1544.91 L2286.04 1544.91 L2286.04 1548.85 L2266.13 1548.85 L2266.13 1544.91 Z\" fill=\"#000000\" fill-rule=\"evenodd\" fill-opacity=\"1\" /><path clip-path=\"url(#clip580)\" d=\"M2305.48 1517.37 Q2301.87 1517.37 2300.04 1520.93 Q2298.23 1524.47 2298.23 1531.6 Q2298.23 1538.71 2300.04 1542.27 Q2301.87 1545.82 2305.48 1545.82 Q2309.11 1545.82 2310.92 1542.27 Q2312.75 1538.71 2312.75 1531.6 Q2312.75 1524.47 2310.92 1520.93 Q2309.11 1517.37 2305.48 1517.37 M2305.48 1513.66 Q2311.29 1513.66 2314.35 1518.27 Q2317.42 1522.85 2317.42 1531.6 Q2317.42 1540.33 2314.35 1544.94 Q2311.29 1549.52 2305.48 1549.52 Q2299.67 1549.52 2296.59 1544.94 Q2293.54 1540.33 2293.54 1531.6 Q2293.54 1522.85 2296.59 1518.27 Q2299.67 1513.66 2305.48 1513.66 Z\" fill=\"#000000\" fill-rule=\"evenodd\" fill-opacity=\"1\" /><polyline clip-path=\"url(#clip582)\" style=\"stroke:#000000; stroke-linecap:butt; stroke-linejoin:round; stroke-width:2; stroke-opacity:0.1; fill:none\" points=\"\n  186.274,1448.37 2352.76,1448.37 \n  \"/>\n<polyline clip-path=\"url(#clip582)\" style=\"stroke:#000000; stroke-linecap:butt; stroke-linejoin:round; stroke-width:2; stroke-opacity:0.1; fill:none\" points=\"\n  186.274,1179.95 2352.76,1179.95 \n  \"/>\n<polyline clip-path=\"url(#clip582)\" style=\"stroke:#000000; stroke-linecap:butt; stroke-linejoin:round; stroke-width:2; stroke-opacity:0.1; fill:none\" points=\"\n  186.274,911.528 2352.76,911.528 \n  \"/>\n<polyline clip-path=\"url(#clip582)\" style=\"stroke:#000000; stroke-linecap:butt; stroke-linejoin:round; stroke-width:2; stroke-opacity:0.1; fill:none\" points=\"\n  186.274,643.105 2352.76,643.105 \n  \"/>\n<polyline clip-path=\"url(#clip582)\" style=\"stroke:#000000; stroke-linecap:butt; stroke-linejoin:round; stroke-width:2; stroke-opacity:0.1; fill:none\" points=\"\n  186.274,374.682 2352.76,374.682 \n  \"/>\n<polyline clip-path=\"url(#clip582)\" style=\"stroke:#000000; stroke-linecap:butt; stroke-linejoin:round; stroke-width:2; stroke-opacity:0.1; fill:none\" points=\"\n  186.274,106.26 2352.76,106.26 \n  \"/>\n<polyline clip-path=\"url(#clip580)\" style=\"stroke:#000000; stroke-linecap:butt; stroke-linejoin:round; stroke-width:4; stroke-opacity:1; fill:none\" points=\"\n  186.274,1486.45 186.274,47.2441 \n  \"/>\n<polyline clip-path=\"url(#clip580)\" style=\"stroke:#000000; stroke-linecap:butt; stroke-linejoin:round; stroke-width:4; stroke-opacity:1; fill:none\" points=\"\n  186.274,1448.37 205.172,1448.37 \n  \"/>\n<polyline clip-path=\"url(#clip580)\" style=\"stroke:#000000; stroke-linecap:butt; stroke-linejoin:round; stroke-width:4; stroke-opacity:1; fill:none\" points=\"\n  186.274,1179.95 205.172,1179.95 \n  \"/>\n<polyline clip-path=\"url(#clip580)\" style=\"stroke:#000000; stroke-linecap:butt; stroke-linejoin:round; stroke-width:4; stroke-opacity:1; fill:none\" points=\"\n  186.274,911.528 205.172,911.528 \n  \"/>\n<polyline clip-path=\"url(#clip580)\" style=\"stroke:#000000; stroke-linecap:butt; stroke-linejoin:round; stroke-width:4; stroke-opacity:1; fill:none\" points=\"\n  186.274,643.105 205.172,643.105 \n  \"/>\n<polyline clip-path=\"url(#clip580)\" style=\"stroke:#000000; stroke-linecap:butt; stroke-linejoin:round; stroke-width:4; stroke-opacity:1; fill:none\" points=\"\n  186.274,374.682 205.172,374.682 \n  \"/>\n<polyline clip-path=\"url(#clip580)\" style=\"stroke:#000000; stroke-linecap:butt; stroke-linejoin:round; stroke-width:4; stroke-opacity:1; fill:none\" points=\"\n  186.274,106.26 205.172,106.26 \n  \"/>\n<path clip-path=\"url(#clip580)\" d=\"M62.9365 1434.17 Q59.3254 1434.17 57.4967 1437.74 Q55.6912 1441.28 55.6912 1448.41 Q55.6912 1455.51 57.4967 1459.08 Q59.3254 1462.62 62.9365 1462.62 Q66.5707 1462.62 68.3763 1459.08 Q70.205 1455.51 70.205 1448.41 Q70.205 1441.28 68.3763 1437.74 Q66.5707 1434.17 62.9365 1434.17 M62.9365 1430.47 Q68.7467 1430.47 71.8022 1435.07 Q74.8809 1439.66 74.8809 1448.41 Q74.8809 1457.13 71.8022 1461.74 Q68.7467 1466.32 62.9365 1466.32 Q57.1264 1466.32 54.0477 1461.74 Q50.9921 1457.13 50.9921 1448.41 Q50.9921 1439.66 54.0477 1435.07 Q57.1264 1430.47 62.9365 1430.47 Z\" fill=\"#000000\" fill-rule=\"evenodd\" fill-opacity=\"1\" /><path clip-path=\"url(#clip580)\" d=\"M83.0984 1459.77 L87.9827 1459.77 L87.9827 1465.65 L83.0984 1465.65 L83.0984 1459.77 Z\" fill=\"#000000\" fill-rule=\"evenodd\" fill-opacity=\"1\" /><path clip-path=\"url(#clip580)\" d=\"M108.168 1434.17 Q104.557 1434.17 102.728 1437.74 Q100.922 1441.28 100.922 1448.41 Q100.922 1455.51 102.728 1459.08 Q104.557 1462.62 108.168 1462.62 Q111.802 1462.62 113.608 1459.08 Q115.436 1455.51 115.436 1448.41 Q115.436 1441.28 113.608 1437.74 Q111.802 1434.17 108.168 1434.17 M108.168 1430.47 Q113.978 1430.47 117.033 1435.07 Q120.112 1439.66 120.112 1448.41 Q120.112 1457.13 117.033 1461.74 Q113.978 1466.32 108.168 1466.32 Q102.358 1466.32 99.2789 1461.74 Q96.2234 1457.13 96.2234 1448.41 Q96.2234 1439.66 99.2789 1435.07 Q102.358 1430.47 108.168 1430.47 Z\" fill=\"#000000\" fill-rule=\"evenodd\" fill-opacity=\"1\" /><path clip-path=\"url(#clip580)\" d=\"M138.33 1434.17 Q134.719 1434.17 132.89 1437.74 Q131.084 1441.28 131.084 1448.41 Q131.084 1455.51 132.89 1459.08 Q134.719 1462.62 138.33 1462.62 Q141.964 1462.62 143.769 1459.08 Q145.598 1455.51 145.598 1448.41 Q145.598 1441.28 143.769 1437.74 Q141.964 1434.17 138.33 1434.17 M138.33 1430.47 Q144.14 1430.47 147.195 1435.07 Q150.274 1439.66 150.274 1448.41 Q150.274 1457.13 147.195 1461.74 Q144.14 1466.32 138.33 1466.32 Q132.519 1466.32 129.441 1461.74 Q126.385 1457.13 126.385 1448.41 Q126.385 1439.66 129.441 1435.07 Q132.519 1430.47 138.33 1430.47 Z\" fill=\"#000000\" fill-rule=\"evenodd\" fill-opacity=\"1\" /><path clip-path=\"url(#clip580)\" d=\"M63.9319 1165.75 Q60.3208 1165.75 58.4921 1169.31 Q56.6865 1172.86 56.6865 1179.99 Q56.6865 1187.09 58.4921 1190.66 Q60.3208 1194.2 63.9319 1194.2 Q67.5661 1194.2 69.3717 1190.66 Q71.2004 1187.09 71.2004 1179.99 Q71.2004 1172.86 69.3717 1169.31 Q67.5661 1165.75 63.9319 1165.75 M63.9319 1162.05 Q69.742 1162.05 72.7976 1166.65 Q75.8763 1171.24 75.8763 1179.99 Q75.8763 1188.71 72.7976 1193.32 Q69.742 1197.9 63.9319 1197.9 Q58.1217 1197.9 55.043 1193.32 Q51.9875 1188.71 51.9875 1179.99 Q51.9875 1171.24 55.043 1166.65 Q58.1217 1162.05 63.9319 1162.05 Z\" fill=\"#000000\" fill-rule=\"evenodd\" fill-opacity=\"1\" /><path clip-path=\"url(#clip580)\" d=\"M84.0938 1191.35 L88.978 1191.35 L88.978 1197.23 L84.0938 1197.23 L84.0938 1191.35 Z\" fill=\"#000000\" fill-rule=\"evenodd\" fill-opacity=\"1\" /><path clip-path=\"url(#clip580)\" d=\"M109.163 1165.75 Q105.552 1165.75 103.723 1169.31 Q101.918 1172.86 101.918 1179.99 Q101.918 1187.09 103.723 1190.66 Q105.552 1194.2 109.163 1194.2 Q112.797 1194.2 114.603 1190.66 Q116.432 1187.09 116.432 1179.99 Q116.432 1172.86 114.603 1169.31 Q112.797 1165.75 109.163 1165.75 M109.163 1162.05 Q114.973 1162.05 118.029 1166.65 Q121.107 1171.24 121.107 1179.99 Q121.107 1188.71 118.029 1193.32 Q114.973 1197.9 109.163 1197.9 Q103.353 1197.9 100.274 1193.32 Q97.2187 1188.71 97.2187 1179.99 Q97.2187 1171.24 100.274 1166.65 Q103.353 1162.05 109.163 1162.05 Z\" fill=\"#000000\" fill-rule=\"evenodd\" fill-opacity=\"1\" /><path clip-path=\"url(#clip580)\" d=\"M129.371 1162.67 L147.728 1162.67 L147.728 1166.61 L133.654 1166.61 L133.654 1175.08 Q134.672 1174.73 135.691 1174.57 Q136.709 1174.38 137.728 1174.38 Q143.515 1174.38 146.894 1177.55 Q150.274 1180.73 150.274 1186.14 Q150.274 1191.72 146.802 1194.82 Q143.33 1197.9 137.01 1197.9 Q134.834 1197.9 132.566 1197.53 Q130.32 1197.16 127.913 1196.42 L127.913 1191.72 Q129.996 1192.86 132.219 1193.41 Q134.441 1193.97 136.918 1193.97 Q140.922 1193.97 143.26 1191.86 Q145.598 1189.75 145.598 1186.14 Q145.598 1182.53 143.26 1180.42 Q140.922 1178.32 136.918 1178.32 Q135.043 1178.32 133.168 1178.74 Q131.316 1179.15 129.371 1180.03 L129.371 1162.67 Z\" fill=\"#000000\" fill-rule=\"evenodd\" fill-opacity=\"1\" /><path clip-path=\"url(#clip580)\" d=\"M62.9365 897.326 Q59.3254 897.326 57.4967 900.891 Q55.6912 904.433 55.6912 911.562 Q55.6912 918.669 57.4967 922.234 Q59.3254 925.775 62.9365 925.775 Q66.5707 925.775 68.3763 922.234 Q70.205 918.669 70.205 911.562 Q70.205 904.433 68.3763 900.891 Q66.5707 897.326 62.9365 897.326 M62.9365 893.623 Q68.7467 893.623 71.8022 898.229 Q74.8809 902.813 74.8809 911.562 Q74.8809 920.289 71.8022 924.896 Q68.7467 929.479 62.9365 929.479 Q57.1264 929.479 54.0477 924.896 Q50.9921 920.289 50.9921 911.562 Q50.9921 902.813 54.0477 898.229 Q57.1264 893.623 62.9365 893.623 Z\" fill=\"#000000\" fill-rule=\"evenodd\" fill-opacity=\"1\" /><path clip-path=\"url(#clip580)\" d=\"M83.0984 922.928 L87.9827 922.928 L87.9827 928.808 L83.0984 928.808 L83.0984 922.928 Z\" fill=\"#000000\" fill-rule=\"evenodd\" fill-opacity=\"1\" /><path clip-path=\"url(#clip580)\" d=\"M98.978 924.873 L106.617 924.873 L106.617 898.507 L98.3067 900.174 L98.3067 895.914 L106.571 894.248 L111.246 894.248 L111.246 924.873 L118.885 924.873 L118.885 928.808 L98.978 928.808 L98.978 924.873 Z\" fill=\"#000000\" fill-rule=\"evenodd\" fill-opacity=\"1\" /><path clip-path=\"url(#clip580)\" d=\"M138.33 897.326 Q134.719 897.326 132.89 900.891 Q131.084 904.433 131.084 911.562 Q131.084 918.669 132.89 922.234 Q134.719 925.775 138.33 925.775 Q141.964 925.775 143.769 922.234 Q145.598 918.669 145.598 911.562 Q145.598 904.433 143.769 900.891 Q141.964 897.326 138.33 897.326 M138.33 893.623 Q144.14 893.623 147.195 898.229 Q150.274 902.813 150.274 911.562 Q150.274 920.289 147.195 924.896 Q144.14 929.479 138.33 929.479 Q132.519 929.479 129.441 924.896 Q126.385 920.289 126.385 911.562 Q126.385 902.813 129.441 898.229 Q132.519 893.623 138.33 893.623 Z\" fill=\"#000000\" fill-rule=\"evenodd\" fill-opacity=\"1\" /><path clip-path=\"url(#clip580)\" d=\"M63.9319 628.904 Q60.3208 628.904 58.4921 632.469 Q56.6865 636.01 56.6865 643.14 Q56.6865 650.246 58.4921 653.811 Q60.3208 657.353 63.9319 657.353 Q67.5661 657.353 69.3717 653.811 Q71.2004 650.246 71.2004 643.14 Q71.2004 636.01 69.3717 632.469 Q67.5661 628.904 63.9319 628.904 M63.9319 625.2 Q69.742 625.2 72.7976 629.807 Q75.8763 634.39 75.8763 643.14 Q75.8763 651.867 72.7976 656.473 Q69.742 661.056 63.9319 661.056 Q58.1217 661.056 55.043 656.473 Q51.9875 651.867 51.9875 643.14 Q51.9875 634.39 55.043 629.807 Q58.1217 625.2 63.9319 625.2 Z\" fill=\"#000000\" fill-rule=\"evenodd\" fill-opacity=\"1\" /><path clip-path=\"url(#clip580)\" d=\"M84.0938 654.506 L88.978 654.506 L88.978 660.385 L84.0938 660.385 L84.0938 654.506 Z\" fill=\"#000000\" fill-rule=\"evenodd\" fill-opacity=\"1\" /><path clip-path=\"url(#clip580)\" d=\"M99.9733 656.45 L107.612 656.45 L107.612 630.084 L99.3021 631.751 L99.3021 627.492 L107.566 625.825 L112.242 625.825 L112.242 656.45 L119.881 656.45 L119.881 660.385 L99.9733 660.385 L99.9733 656.45 Z\" fill=\"#000000\" fill-rule=\"evenodd\" fill-opacity=\"1\" /><path clip-path=\"url(#clip580)\" d=\"M129.371 625.825 L147.728 625.825 L147.728 629.76 L133.654 629.76 L133.654 638.232 Q134.672 637.885 135.691 637.723 Q136.709 637.538 137.728 637.538 Q143.515 637.538 146.894 640.709 Q150.274 643.881 150.274 649.297 Q150.274 654.876 146.802 657.978 Q143.33 661.056 137.01 661.056 Q134.834 661.056 132.566 660.686 Q130.32 660.316 127.913 659.575 L127.913 654.876 Q129.996 656.01 132.219 656.566 Q134.441 657.121 136.918 657.121 Q140.922 657.121 143.26 655.015 Q145.598 652.908 145.598 649.297 Q145.598 645.686 143.26 643.58 Q140.922 641.473 136.918 641.473 Q135.043 641.473 133.168 641.89 Q131.316 642.307 129.371 643.186 L129.371 625.825 Z\" fill=\"#000000\" fill-rule=\"evenodd\" fill-opacity=\"1\" /><path clip-path=\"url(#clip580)\" d=\"M62.9365 360.481 Q59.3254 360.481 57.4967 364.046 Q55.6912 367.588 55.6912 374.717 Q55.6912 381.824 57.4967 385.388 Q59.3254 388.93 62.9365 388.93 Q66.5707 388.93 68.3763 385.388 Q70.205 381.824 70.205 374.717 Q70.205 367.588 68.3763 364.046 Q66.5707 360.481 62.9365 360.481 M62.9365 356.777 Q68.7467 356.777 71.8022 361.384 Q74.8809 365.967 74.8809 374.717 Q74.8809 383.444 71.8022 388.05 Q68.7467 392.634 62.9365 392.634 Q57.1264 392.634 54.0477 388.05 Q50.9921 383.444 50.9921 374.717 Q50.9921 365.967 54.0477 361.384 Q57.1264 356.777 62.9365 356.777 Z\" fill=\"#000000\" fill-rule=\"evenodd\" fill-opacity=\"1\" /><path clip-path=\"url(#clip580)\" d=\"M83.0984 386.083 L87.9827 386.083 L87.9827 391.962 L83.0984 391.962 L83.0984 386.083 Z\" fill=\"#000000\" fill-rule=\"evenodd\" fill-opacity=\"1\" /><path clip-path=\"url(#clip580)\" d=\"M102.196 388.027 L118.515 388.027 L118.515 391.962 L96.5706 391.962 L96.5706 388.027 Q99.2326 385.273 103.816 380.643 Q108.422 375.99 109.603 374.648 Q111.848 372.125 112.728 370.389 Q113.631 368.629 113.631 366.939 Q113.631 364.185 111.686 362.449 Q109.765 360.713 106.663 360.713 Q104.464 360.713 102.01 361.477 Q99.5798 362.24 96.8021 363.791 L96.8021 359.069 Q99.6261 357.935 102.08 357.356 Q104.534 356.777 106.571 356.777 Q111.941 356.777 115.135 359.463 Q118.33 362.148 118.33 366.639 Q118.33 368.768 117.52 370.689 Q116.733 372.588 114.626 375.18 Q114.047 375.851 110.946 379.069 Q107.844 382.263 102.196 388.027 Z\" fill=\"#000000\" fill-rule=\"evenodd\" fill-opacity=\"1\" /><path clip-path=\"url(#clip580)\" d=\"M138.33 360.481 Q134.719 360.481 132.89 364.046 Q131.084 367.588 131.084 374.717 Q131.084 381.824 132.89 385.388 Q134.719 388.93 138.33 388.93 Q141.964 388.93 143.769 385.388 Q145.598 381.824 145.598 374.717 Q145.598 367.588 143.769 364.046 Q141.964 360.481 138.33 360.481 M138.33 356.777 Q144.14 356.777 147.195 361.384 Q150.274 365.967 150.274 374.717 Q150.274 383.444 147.195 388.05 Q144.14 392.634 138.33 392.634 Q132.519 392.634 129.441 388.05 Q126.385 383.444 126.385 374.717 Q126.385 365.967 129.441 361.384 Q132.519 356.777 138.33 356.777 Z\" fill=\"#000000\" fill-rule=\"evenodd\" fill-opacity=\"1\" /><path clip-path=\"url(#clip580)\" d=\"M63.9319 92.0586 Q60.3208 92.0586 58.4921 95.6233 Q56.6865 99.165 56.6865 106.295 Q56.6865 113.401 58.4921 116.966 Q60.3208 120.507 63.9319 120.507 Q67.5661 120.507 69.3717 116.966 Q71.2004 113.401 71.2004 106.295 Q71.2004 99.165 69.3717 95.6233 Q67.5661 92.0586 63.9319 92.0586 M63.9319 88.3549 Q69.742 88.3549 72.7976 92.9613 Q75.8763 97.5446 75.8763 106.295 Q75.8763 115.021 72.7976 119.628 Q69.742 124.211 63.9319 124.211 Q58.1217 124.211 55.043 119.628 Q51.9875 115.021 51.9875 106.295 Q51.9875 97.5446 55.043 92.9613 Q58.1217 88.3549 63.9319 88.3549 Z\" fill=\"#000000\" fill-rule=\"evenodd\" fill-opacity=\"1\" /><path clip-path=\"url(#clip580)\" d=\"M84.0938 117.66 L88.978 117.66 L88.978 123.54 L84.0938 123.54 L84.0938 117.66 Z\" fill=\"#000000\" fill-rule=\"evenodd\" fill-opacity=\"1\" /><path clip-path=\"url(#clip580)\" d=\"M103.191 119.605 L119.51 119.605 L119.51 123.54 L97.566 123.54 L97.566 119.605 Q100.228 116.85 104.811 112.22 Q109.418 107.568 110.598 106.225 Q112.844 103.702 113.723 101.966 Q114.626 100.207 114.626 98.5169 Q114.626 95.7622 112.682 94.0261 Q110.76 92.29 107.658 92.29 Q105.459 92.29 103.006 93.0539 Q100.575 93.8178 97.7974 95.3687 L97.7974 90.6465 Q100.621 89.5123 103.075 88.9336 Q105.529 88.3549 107.566 88.3549 Q112.936 88.3549 116.131 91.04 Q119.325 93.7252 119.325 98.2159 Q119.325 100.346 118.515 102.267 Q117.728 104.165 115.621 106.758 Q115.043 107.429 111.941 110.646 Q108.839 113.841 103.191 119.605 Z\" fill=\"#000000\" fill-rule=\"evenodd\" fill-opacity=\"1\" /><path clip-path=\"url(#clip580)\" d=\"M129.371 88.9799 L147.728 88.9799 L147.728 92.915 L133.654 92.915 L133.654 101.387 Q134.672 101.04 135.691 100.878 Q136.709 100.693 137.728 100.693 Q143.515 100.693 146.894 103.864 Q150.274 107.035 150.274 112.452 Q150.274 118.031 146.802 121.132 Q143.33 124.211 137.01 124.211 Q134.834 124.211 132.566 123.841 Q130.32 123.47 127.913 122.73 L127.913 118.031 Q129.996 119.165 132.219 119.72 Q134.441 120.276 136.918 120.276 Q140.922 120.276 143.26 118.17 Q145.598 116.063 145.598 112.452 Q145.598 108.841 143.26 106.734 Q140.922 104.628 136.918 104.628 Q135.043 104.628 133.168 105.045 Q131.316 105.461 129.371 106.341 L129.371 88.9799 Z\" fill=\"#000000\" fill-rule=\"evenodd\" fill-opacity=\"1\" /><polyline clip-path=\"url(#clip582)\" style=\"stroke:#009af9; stroke-linecap:butt; stroke-linejoin:round; stroke-width:4; stroke-opacity:1; fill:none\" points=\"\n  247.59,1437.51 474.684,1442.2 701.779,1440.29 928.873,1003.41 1155.97,1408.09 1383.06,1422.62 1610.16,1443.75 1837.25,1258.94 2064.35,87.9763 2291.44,1445.72 \n  \n  \"/>\n<path clip-path=\"url(#clip580)\" d=\"\nM1988.11 198.898 L2280.54 198.898 L2280.54 95.2176 L1988.11 95.2176  Z\n  \" fill=\"#ffffff\" fill-rule=\"evenodd\" fill-opacity=\"1\"/>\n<polyline clip-path=\"url(#clip580)\" style=\"stroke:#000000; stroke-linecap:butt; stroke-linejoin:round; stroke-width:4; stroke-opacity:1; fill:none\" points=\"\n  1988.11,198.898 2280.54,198.898 2280.54,95.2176 1988.11,95.2176 1988.11,198.898 \n  \"/>\n<polyline clip-path=\"url(#clip580)\" style=\"stroke:#009af9; stroke-linecap:butt; stroke-linejoin:round; stroke-width:4; stroke-opacity:1; fill:none\" points=\"\n  2012.11,147.058 2156.11,147.058 \n  \"/>\n<path clip-path=\"url(#clip580)\" d=\"M2193.95 166.745 Q2192.15 171.375 2190.43 172.787 Q2188.72 174.199 2185.85 174.199 L2182.45 174.199 L2182.45 170.634 L2184.95 170.634 Q2186.71 170.634 2187.68 169.8 Q2188.65 168.967 2189.83 165.865 L2190.6 163.921 L2180.11 138.412 L2184.62 138.412 L2192.73 158.689 L2200.83 138.412 L2205.34 138.412 L2193.95 166.745 Z\" fill=\"#000000\" fill-rule=\"evenodd\" fill-opacity=\"1\" /><path clip-path=\"url(#clip580)\" d=\"M2212.63 160.402 L2220.27 160.402 L2220.27 134.037 L2211.96 135.703 L2211.96 131.444 L2220.23 129.778 L2224.9 129.778 L2224.9 160.402 L2232.54 160.402 L2232.54 164.338 L2212.63 164.338 L2212.63 160.402 Z\" fill=\"#000000\" fill-rule=\"evenodd\" fill-opacity=\"1\" /></svg>\n"
     },
     "execution_count": 43,
     "metadata": {},
     "output_type": "execute_result"
    }
   ],
   "source": [
    "net_param = [5, 50, 100]\n",
    "G = create_network(net_param)\n",
    "    \n",
    "z = randn(5)\n",
    "\n",
    "stepsize = 1\n",
    "max_iter = 5000\n",
    "\n",
    "W = normalized_weight_product(G)\n",
    "m_list = 100:1000:10000\n",
    "\n",
    "recov_error = []\n",
    "for m in m_list\n",
    "\n",
    "    m = 10000; A = randn(m, 100)/sqrt(m)\n",
    "    y = sign.(A*G(z))\n",
    "    z_est = randn(5)\n",
    "\n",
    "    for i in 1:max_iter\n",
    "        z_est = PLUGIN_1bitCS_iterate(A, G, W, y, z_est, stepsize)\n",
    "    end\n",
    "\n",
    "    push!(recov_error, norm(z/norm(z) - z_est/norm(z_est)))\n",
    "end\n",
    "plot(recov_error)\n"
   ]
  },
  {
   "cell_type": "code",
   "execution_count": 4,
   "metadata": {},
   "outputs": [
    {
     "name": "stdout",
     "output_type": "stream",
     "text": [
      "====> In quasi-gradient: Iteration: 1000 Successive error: 0.04955781631789774\n",
      "====> In quasi-gradient: Iteration: 2000 Successive error: 0.10578377106837247\n",
      "====> In quasi-gradient: Iteration: 3000 Successive error: 0.179273944458588\n",
      "====> In quasi-gradient: Iteration: 4000 Successive error: 0.0978842833014582\n",
      "====> In quasi-gradient: Iteration: 5000 Successive error: 0.09073658913575064\n",
      "====> In quasi-gradient: Iteration: 6000 Successive error: 0.18762423367142522\n",
      "====> In quasi-gradient: Iteration: 7000 Successive error: 0.14405084162435544\n",
      "====> In quasi-gradient: Iteration: 8000 Successive error: 0.29345628502536225\n",
      "====> In quasi-gradient: Iteration: 9000 Successive error: 0.14090214879915675\n",
      "====> In quasi-gradient: Iteration: 10000 Successive error: 0.19772574576799729\n",
      "====> In quasi-gradient: Iteration: 10001 Successive error: 0.19772574576799729\n",
      "recovery error: 0.019457811876944658, reconstruction error: 0.5316056983400247\n"
     ]
    }
   ],
   "source": [
    "       \n",
    "\n",
    "G = Chain(\n",
    "    Dense(5, 75, relu, bias = false; initW =(out,in) ->  randn(75, 5)/sqrt(75)),\n",
    "    Dense(75, 100, relu, bias = false; initW =(out,in) -> randn(75, 75)/sqrt(75)),\n",
    "    Dense(75, 150, relu, bias = false; initW =(out,in) -> randn(150, 75)/sqrt(150))\n",
    ")\n",
    "\n",
    "\n",
    "z = randn(5)\n",
    "m = 10000; A = randn(m, 150)/sqrt(m)\n",
    "y = sign.(A*G(z)) + 1e-14 * randn(m)\n",
    "\n",
    "stepsize = 1\n",
    "tolerance = 1e-14\n",
    "max_iter = 10000\n",
    "out_toggle = 1000\n",
    "lambda = 100\n",
    "z_rec = PLUGIn_onebitCS(G,y,A, max_iter, stepsize, tolerance, lambda, out_toggle)\n",
    "recov_error = norm(z/norm(z) - z_rec/norm(z_rec))\n",
    "recon_error = norm(G(z) - G(z_rec))\n",
    "println(\"recovery error: $recov_error, reconstruction error: $recon_error\")"
   ]
  },
  {
   "cell_type": "code",
   "execution_count": 19,
   "metadata": {},
   "outputs": [
    {
     "data": {
      "text/plain": [
       "75-element Vector{Float64}:\n",
       " 0.06424112093451002\n",
       " 0.16878344885888327\n",
       " 0.0\n",
       " 0.03876436509600022\n",
       " 0.14809107093039625\n",
       " 0.19732114775678872\n",
       " 0.2787184666914869\n",
       " 0.17201826110481755\n",
       " 0.0\n",
       " 0.006473245880808026\n",
       " 0.21977642442566125\n",
       " 0.2823436904598369\n",
       " 0.0\n",
       " ⋮\n",
       " 0.09118656564201674\n",
       " 0.0\n",
       " 0.0\n",
       " 0.0\n",
       " 0.0\n",
       " 0.0\n",
       " 0.0\n",
       " 0.05515709700285547\n",
       " 0.13719326332082812\n",
       " 0.0\n",
       " 0.0157081181463716\n",
       " 0.13010968771439982"
      ]
     },
     "execution_count": 19,
     "metadata": {},
     "output_type": "execute_result"
    }
   ],
   "source": [
    "\n",
    "G = Dense(5, 75, relu, bias = false; initW =(out,in) ->  randn(75, 5)/sqrt(75))\n",
    "G = Chain(G)\n",
    "G2 = Dense(75, 75, relu, bias = false; initW =(out,in) ->  randn(75, 75)/sqrt(75))\n",
    "\n",
    "G2 = Chain(G,G2)\n",
    "\n",
    "G2(randn(5))"
   ]
  },
  {
   "cell_type": "code",
   "execution_count": null,
   "metadata": {},
   "outputs": [
    {
     "name": "stdout",
     "output_type": "stream",
     "text": [
      "====> In quasi-gradient: Iteration: 1000 Successive error: 5.186242623879012e-5\n",
      "recovery error: 0.05487163727428996, reconstruction error: 0.22544613623562687\n"
     ]
    }
   ],
   "source": [
    "#using Zygote to solve ERM for a synthetic problem\n",
    "\n",
    "\n",
    "G = Chain(\n",
    "    Dense(5, 75, relu, bias = false; initW =(out,in) ->  randn(75, 5)/sqrt(75)),\n",
    "    Dense(75, 75, relu, bias = false; initW =(out,in) -> randn(75, 75)/sqrt(75)),\n",
    "    Dense(75, 150, relu, bias = false; initW =(out,in) -> randn(150, 75)/sqrt(150))\n",
    ")\n",
    "\n",
    "\n",
    "z = randn(5)\n",
    "m = 5000; A = randn(m, 150)/sqrt(m)\n",
    "y = sign.(A*G(z)) + 1e-14 * randn(m)\n",
    "\n",
    "stepsize = .1\n",
    "tolerance = 1e-7\n",
    "max_iter = 1000\n",
    "out_toggle = 1000\n",
    "lambda = 10\n",
    "\n",
    "z_rec = randn(5)\n",
    "\n",
    "\n",
    "for i in 1:max_iter\n",
    "\n",
    "    d = gradient(z_rec -> norm(G(z_rec),2)^2 - 2*lambda * y'*(A * G(z_rec))/m, z_rec)[1]\n",
    "    z_rec -= stepsize * d\n",
    "    succ_error = norm(stepsize * d)\n",
    "    if i % out_toggle == 0  \n",
    "        println(\"====> In quasi-gradient: Iteration: $i Successive error: $succ_error\")\n",
    "    end\n",
    "end\n",
    "\n",
    "\n",
    "# z_rec = PLUGIn_onebitCS(G,y,A, max_iter, stepsize, tolerance, out_toggle)\n",
    "recov_error = norm(z/norm(z) - z_rec/norm(z_rec))\n",
    "recon_error = norm(G(z) - G(z_rec))\n",
    "println(\"recovery error: $recov_error, reconstruction error: $recon_error\")"
   ]
  },
  {
   "cell_type": "code",
   "execution_count": null,
   "metadata": {},
   "outputs": [],
   "source": []
  }
 ],
 "metadata": {
  "kernelspec": {
   "display_name": "Julia 1.7.0",
   "language": "julia",
   "name": "julia-1.7"
  },
  "language_info": {
   "file_extension": ".jl",
   "mimetype": "application/julia",
   "name": "julia",
   "version": "1.7.0"
  },
  "orig_nbformat": 4
 },
 "nbformat": 4,
 "nbformat_minor": 2
}
