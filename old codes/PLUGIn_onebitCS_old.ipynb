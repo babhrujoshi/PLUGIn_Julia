{
 "cells": [
  {
   "cell_type": "code",
   "execution_count": 1,
   "metadata": {},
   "outputs": [
    {
     "name": "stderr",
     "output_type": "stream",
     "text": [
      "WARNING: using JLD.@load in module Main conflicts with an existing identifier.\n"
     ]
    }
   ],
   "source": [
    "using BSON: @load\n",
    "using Flux\n",
    "using Flux: chunk\n",
    "using Flux.Data: DataLoader\n",
    "using ImageFiltering\n",
    "using Images\n",
    "using ImageIO\n",
    "using MLDatasets: FashionMNIST\n",
    "using LinearAlgebra\n",
    "using MLDatasets\n",
    "using Plots\n",
    "using JLD\n",
    "using Statistics\n",
    "using LaTeXStrings\n"
   ]
  },
  {
   "cell_type": "markdown",
   "metadata": {},
   "source": [
    "Consider the problem of recovering $x\\in\\mathbb{R}^n$ from noisy signed compressive measurements of the form\n",
    "\n",
    "$$y = \\text{sign}(Ax) + \\epsilon, $$\n",
    "\n",
    "where $\\epsilon\\in\\mathbb{R}^n$ is noise and $A \\in \\mathbb{R}^{m\\times n}$ is a known sensing matrix. We assume the unknown signal $x$ lives in the range of known a generative model $G:\\mathbb{R}^k \\rightarrow \\mathbb{R}^n$, i.e. $x = G(z)$ for some $z \\in \\mathbb{R}^k$. We assume the generative model $G$ is  fully-connected feedforward network of the form \n",
    "\n",
    "$$ G(x) = \\sigma_d(A_d\\sigma_{d-1}(A_{d-1} \\cdots \\sigma_1(A_1 z)\\cdots)),$$\n",
    "\n",
    "where $A_i \\in \\mathbb{R}^{n_i \\times n_{i-1}}$ is the weight matrix and $\\sigma_i$ is the activation function correpsonding to the $i\\text{th}$ layer of $G$. Thus, the task of recovering $x$ can be reduced to recovering the corresponding $z$ such that $G(z) = x$. \n",
    "\n",
    "\n",
    "We solve this problem using the following iterative algorithm called Partially Linearized Updates for Generative Inversion (PLUGIn)-1bit:\n",
    "\n",
    "$$x^{k+1} = x^k -\\eta A_1^{\\top}\\cdots A_d^{\\top}A^{\\top}\\left(\\text{sign}(AG(x^k)) - y \\right) .$$\n",
    "\n",
    "Here, $\\eta$ is the stepsize that depends on the weight matrices and the activation functions."
   ]
  },
  {
   "cell_type": "markdown",
   "metadata": {},
   "source": [
    "We now list the function that are relavant to the computation of the esitmate using the PLUGIn-1bit algorithm. The following function can be used to output an estimate $x^{k+1}$ from PLUGIn-1bit from another estimate $x^k$ of the ground truth."
   ]
  },
  {
   "cell_type": "code",
   "execution_count": 2,
   "metadata": {},
   "outputs": [
    {
     "data": {
      "text/plain": [
       "PLUGIN_CS_estimate (generic function with 1 method)"
      ]
     },
     "execution_count": 2,
     "metadata": {},
     "output_type": "execute_result"
    }
   ],
   "source": [
    "# output the plugin Iterate\n",
    "function PLUGIN_1bitCS_estimate(A, G, W, y, z, stepsize)\n",
    "    d = W'*A'* (sign.(A * G(z)) - y )\n",
    "    return z - stepsize * d\n",
    "end\n",
    "\n",
    "# output the plugin Iterate\n",
    "function PLUGIN_CS_estimate(A, G, W, y, z, stepsize)\n",
    "    d = W'*A'* (A * G(z) - y )\n",
    "    return z - stepsize * d\n",
    "end"
   ]
  },
  {
   "cell_type": "markdown",
   "metadata": {},
   "source": [
    "One advantage of PLUGIn algorithm in general is that it allows us to pre-multiply the weight matrices. The following function is used to compute $A_d\\cdot A_{d-1}\\cdots A_1$ given a generative model $G$. It also normalizes each weight matrix w.r.t. its top singular value."
   ]
  },
  {
   "cell_type": "code",
   "execution_count": 3,
   "metadata": {},
   "outputs": [
    {
     "data": {
      "text/plain": [
       "normalized_weight_product (generic function with 1 method)"
      ]
     },
     "execution_count": 3,
     "metadata": {},
     "output_type": "execute_result"
    }
   ],
   "source": [
    "function normalized_weight_product(G)\n",
    "    (_, z_dim) = size(Flux.params(G[1])[1]);\n",
    "    W = I(z_dim)\n",
    "    for i in 1:length(G)\n",
    "        _, s, _ = svd(Flux.params(G[i])[1])\n",
    "        W = Flux.params(G[i])[1] * W /s[1]\n",
    "    end\n",
    "    return W\n",
    "end  "
   ]
  },
  {
   "cell_type": "markdown",
   "metadata": {},
   "source": [
    "The following function can be used to create a general generative function with number of nodes in each layer specified. The entries of the weight matrices are initialized to be normalized random normal."
   ]
  },
  {
   "cell_type": "code",
   "execution_count": 4,
   "metadata": {},
   "outputs": [
    {
     "data": {
      "text/plain": [
       "create_network (generic function with 1 method)"
      ]
     },
     "execution_count": 4,
     "metadata": {},
     "output_type": "execute_result"
    }
   ],
   "source": [
    "function create_network(net_param)\n",
    "    n_0 = net_param[1]\n",
    "    n_1 = net_param[2]\n",
    "    L = Chain(Dense(n_0, n_1, relu; initW =(out,in) ->  randn(n_1, n_0)/sqrt(n_1)))\n",
    "\n",
    "    for i in 2:length(net_param)-1\n",
    "        n_0 = net_param[i]\n",
    "        n_1 = net_param[i+1]\n",
    "        L = Chain(L, Dense(n_0, n_1, relu; initW =(out,in) ->  randn(n_1, n_0)/sqrt(n_1)))\n",
    "    end\n",
    "    return L\n",
    "end"
   ]
  },
  {
   "cell_type": "markdown",
   "metadata": {},
   "source": [
    "The following function can be used to estimate the ground truth from signed compressive measurements using the PLUGIn-1bit algorithm:"
   ]
  },
  {
   "cell_type": "code",
   "execution_count": 5,
   "metadata": {},
   "outputs": [
    {
     "data": {
      "text/plain": [
       "PLUGIn_onebitCS (generic function with 1 method)"
      ]
     },
     "execution_count": 5,
     "metadata": {},
     "output_type": "execute_result"
    }
   ],
   "source": [
    "function PLUGIn_onebitCS(G, y, A, max_iter, stepsize, tolerance, out_toggle)\n",
    "    \n",
    "    (_, z_dim) = size(Flux.params(G[1])[1]);\n",
    "    (m, _) = size(A)\n",
    "    W = I(z_dim)\n",
    "  \n",
    "    #normalize the weights of the network\n",
    "    for i in 1:length(G)\n",
    "        _, s, _ = svd(Flux.params(G[i])[1])\n",
    "        W = Flux.params(G[i])[1] * W /s[1]\n",
    "    end\n",
    "  \n",
    "    z = randn(z_dim)\n",
    "    iter = 1\n",
    "    succ_error = 1\n",
    "  \n",
    "    while iter <= max_iter && succ_error > tolerance\n",
    "      # d gives the PLUGIn direction\n",
    "      d = sign.(A * G(z)) - y\n",
    "      d = W'*A'* d\n",
    "      z -= stepsize * d\n",
    "      succ_error = norm(stepsize * d)\n",
    "      if iter % out_toggle == 0  \n",
    "          println(\"====> In quasi-gradient: Iteration: $iter Successive error: $succ_error\")\n",
    "      end\n",
    "      iter += 1\n",
    "    end\n",
    "    println(\"====> In quasi-gradient: Iteration: $iter Successive error: $succ_error\")\n",
    "  \n",
    "    return z\n",
    "  end"
   ]
  },
  {
   "cell_type": "code",
   "execution_count": 9,
   "metadata": {},
   "outputs": [
    {
     "data": {
      "text/plain": [
       "PLUGIN_kbitCS_estimate (generic function with 1 method)"
      ]
     },
     "execution_count": 9,
     "metadata": {},
     "output_type": "execute_result"
    }
   ],
   "source": [
    "function k_quantized(z,k)\n",
    "    return round.((k-1)*z)/(k-1)\n",
    "end\n",
    "\n",
    "function scalar_quantizer(z,k,delta)\n",
    "    if  abs(z) < k*delta/2\n",
    "        z = delta * floor(z/delta) + delta/2\n",
    "    else\n",
    "        z = k*delta/2\n",
    "    end\n",
    "    return z\n",
    "end\n",
    "\n",
    "function sigma_delta_quant(y, k, delta)\n",
    "    m = length(y)\n",
    "    u = zeros(m+1)\n",
    "    for i in 1:m\n",
    "        q = scalar_quantizer(y[i] + u[i], k, delta)\n",
    "        u[i+1] = u[i] + y[i] - q\n",
    "        y[i] = q\n",
    "    end\n",
    "    return y, u\n",
    "end\n",
    "\n",
    "\n",
    "# output the plugin Iterate\n",
    "function PLUGIN_kbitCS_estimate(A, G, W, y, z, k, stepsize)\n",
    "    d = W'*A'* (k_quantized(A * G(z), k) - y )\n",
    "    return z - stepsize * d\n",
    "end"
   ]
  },
  {
   "cell_type": "markdown",
   "metadata": {},
   "source": [
    "In the first experiment, we want to examine the convergence rate of the PLUGIn-bit algorithm as a function of the number of measurement. Define the recovery error  as:\n",
    "$$\\text{recovery error, $\\delta$} := \\left\\| \\tfrac{x^{\\natural}}{\\|x^\\natural\\|} - \\tfrac{x^*}{\\|x^*\\|} \\right\\|,$$\n",
    "where $x^\\natural$ is the recovered estimate of ground truth $x^*$. We hope to see a error decay as $\\delta \\sim \\tfrac{1}{m^\\alpha}$ for some $\\alpha \\in (0,1)$.\n",
    "\n",
    "\n",
    "The following code segment is used to generate the relationship betwen $\\delta$ and $m$."
   ]
  },
  {
   "cell_type": "markdown",
   "metadata": {},
   "source": [
    "**WARNING** The following code segment can take a while to complete as it will compute the recovery error multiple times for various measurement levels. To see a instance of the result, skip to the next code segment that loads the reults of a pre-compiled instance."
   ]
  },
  {
   "cell_type": "code",
   "execution_count": null,
   "metadata": {},
   "outputs": [],
   "source": [
    "net_param = [5, 200, 750]\n",
    "x_dim  = net_param[length(net_param)]\n",
    "z_dim = net_param[1]\n",
    "\n",
    "G = create_network(net_param)\n",
    "    \n",
    "stepsize = 1\n",
    "max_iter = 2000\n",
    "tolerance = 1e-7\n",
    "\n",
    "W = normalized_weight_product(G)\n",
    "m_list = 750:1000:50000\n",
    "trials = 10\n",
    "recov_error_matrix = zeros(length(m_list))\n",
    "\n",
    "for trial in 1:trials\n",
    "    recov_error = []\n",
    "    z = randn(z_dim)\n",
    "\n",
    "    for m in m_list\n",
    "        A = randn(m, x_dim)/sqrt(m)\n",
    "        y = sign.(A*G(z))\n",
    "        z_est = zeros(z_dim)\n",
    "        iter = 1\n",
    "        succ_error = 1\n",
    "\n",
    "        while iter <= max_iter && succ_error > tolerance\n",
    "            z_old = z_est\n",
    "            z_est = PLUGIN_1bitCS_estimate(A, G, W, y, z_est, stepsize)\n",
    "            succ_error = norm(z_old - z_est, 2)\n",
    "            iter += 1\n",
    "        end\n",
    "        push!(recov_error, norm(z/norm(z) - z_est/norm(z_est)))\n",
    "    end\n",
    "    recov_error_matrix = hcat(recov_error_matrix, recov_error)\n",
    "\n",
    "end\n",
    "\n",
    "# change the filename before running this code if you wish to save the results\n",
    "\n",
    "# M = recov_error_matrix[:,2:end]\n",
    "# save(\"result/error_1.jld\", \"error\", M, \"measurement\", m_list, \"trials\", trials)"
   ]
  },
  {
   "cell_type": "markdown",
   "metadata": {},
   "source": [
    "We can now show the relationship between recovery error and measurement level. Note that the plot is in log scale and so we hope to see a linear curve. In this plot, the generative function $G$ a 2-layer deep random neural network and satisfies $5\\rightarrow 200\\rightarrow 750$. The number of measurment ranges is uniformly sampled in the interval [750, 30000]. For each measurment, we report the average of 10 trials. \n",
    "\n",
    "Note that the relationship between recovery error and measurement level \"looks\" linear (in log scale)."
   ]
  },
  {
   "cell_type": "code",
   "execution_count": 37,
   "metadata": {},
   "outputs": [
    {
     "data": {
      "image/png": "[encoded data removed]",
      "image/svg+xml": "<?xml version=\"1.0\" encoding=\"utf-8\"?>\n<svg xmlns=\"http://www.w3.org/2000/svg\" xmlns:xlink=\"http://www.w3.org/1999/xlink\" width=\"600\" height=\"400\" viewBox=\"0 0 2400 1600\">\n<defs>\n  <clipPath id=\"clip900\">\n    <rect x=\"0\" y=\"0\" width=\"2400\" height=\"1600\"/>\n  </clipPath>\n</defs>\n<path clip-path=\"url(#clip900)\" d=\"\nM0 1600 L2400 1600 L2400 0 L0 0  Z\n  \" fill=\"#ffffff\" fill-rule=\"evenodd\" fill-opacity=\"1\"/>\n<defs>\n  <clipPath id=\"clip901\">\n    <rect x=\"480\" y=\"0\" width=\"1681\" height=\"1600\"/>\n  </clipPath>\n</defs>\n<defs>\n  <clipPath id=\"clip902\">\n    <rect x=\"251\" y=\"47\" width=\"2102\" height=\"1365\"/>\n  </clipPath>\n</defs>\n<path clip-path=\"url(#clip900)\" d=\"\nM251.842 1410.9 L2352.76 1410.9 L2352.76 47.2441 L251.842 47.2441  Z\n  \" fill=\"#ffffff\" fill-rule=\"evenodd\" fill-opacity=\"1\"/>\n<polyline clip-path=\"url(#clip902)\" style=\"stroke:#000000; stroke-linecap:butt; stroke-linejoin:round; stroke-width:2; stroke-opacity:0.1; fill:none\" points=\"\n  648.225,1410.9 648.225,47.2441 \n  \"/>\n<polyline clip-path=\"url(#clip902)\" style=\"stroke:#000000; stroke-linecap:butt; stroke-linejoin:round; stroke-width:2; stroke-opacity:0.1; fill:none\" points=\"\n  1767.46,1410.9 1767.46,47.2441 \n  \"/>\n<polyline clip-path=\"url(#clip900)\" style=\"stroke:#000000; stroke-linecap:butt; stroke-linejoin:round; stroke-width:4; stroke-opacity:1; fill:none\" points=\"\n  251.842,1410.9 2352.76,1410.9 \n  \"/>\n<polyline clip-path=\"url(#clip900)\" style=\"stroke:#000000; stroke-linecap:butt; stroke-linejoin:round; stroke-width:4; stroke-opacity:1; fill:none\" points=\"\n  648.225,1410.9 648.225,1392 \n  \"/>\n<polyline clip-path=\"url(#clip900)\" style=\"stroke:#000000; stroke-linecap:butt; stroke-linejoin:round; stroke-width:4; stroke-opacity:1; fill:none\" points=\"\n  1767.46,1410.9 1767.46,1392 \n  \"/>\n<path clip-path=\"url(#clip900)\" d=\"M613.668 1485.02 L621.307 1485.02 L621.307 1458.66 L612.997 1460.32 L612.997 1456.06 L621.261 1454.4 L625.937 1454.4 L625.937 1485.02 L633.575 1485.02 L633.575 1488.96 L613.668 1488.96 L613.668 1485.02 Z\" fill=\"#000000\" fill-rule=\"evenodd\" fill-opacity=\"1\" /><path clip-path=\"url(#clip900)\" d=\"M653.02 1457.48 Q649.409 1457.48 647.58 1461.04 Q645.774 1464.58 645.774 1471.71 Q645.774 1478.82 647.58 1482.38 Q649.409 1485.92 653.02 1485.92 Q656.654 1485.92 658.46 1482.38 Q660.288 1478.82 660.288 1471.71 Q660.288 1464.58 658.46 1461.04 Q656.654 1457.48 653.02 1457.48 M653.02 1453.77 Q658.83 1453.77 661.885 1458.38 Q664.964 1462.96 664.964 1471.71 Q664.964 1480.44 661.885 1485.04 Q658.83 1489.63 653.02 1489.63 Q647.21 1489.63 644.131 1485.04 Q641.075 1480.44 641.075 1471.71 Q641.075 1462.96 644.131 1458.38 Q647.21 1453.77 653.02 1453.77 Z\" fill=\"#000000\" fill-rule=\"evenodd\" fill-opacity=\"1\" /><path clip-path=\"url(#clip900)\" d=\"M677.659 1446.41 Q680.387 1446.99 681.91 1448.83 Q683.452 1450.68 683.452 1453.38 Q683.452 1457.54 680.593 1459.82 Q677.735 1462.09 672.468 1462.09 Q670.701 1462.09 668.82 1461.73 Q666.958 1461.4 664.964 1460.7 L664.964 1457.03 Q666.544 1457.95 668.425 1458.42 Q670.306 1458.89 672.356 1458.89 Q675.929 1458.89 677.791 1457.48 Q679.672 1456.07 679.672 1453.38 Q679.672 1450.9 677.923 1449.51 Q676.192 1448.1 673.089 1448.1 L669.817 1448.1 L669.817 1444.98 L673.24 1444.98 Q676.042 1444.98 677.528 1443.87 Q679.014 1442.74 679.014 1440.63 Q679.014 1438.47 677.471 1437.32 Q675.948 1436.16 673.089 1436.16 Q671.528 1436.16 669.741 1436.49 Q667.955 1436.83 665.811 1437.55 L665.811 1434.16 Q667.973 1433.56 669.854 1433.26 Q671.754 1432.96 673.428 1432.96 Q677.753 1432.96 680.274 1434.93 Q682.794 1436.89 682.794 1440.24 Q682.794 1442.57 681.459 1444.19 Q680.123 1445.79 677.659 1446.41 Z\" fill=\"#000000\" fill-rule=\"evenodd\" fill-opacity=\"1\" /><path clip-path=\"url(#clip900)\" d=\"M1731.91 1485.02 L1739.55 1485.02 L1739.55 1458.66 L1731.24 1460.32 L1731.24 1456.06 L1739.51 1454.4 L1744.18 1454.4 L1744.18 1485.02 L1751.82 1485.02 L1751.82 1488.96 L1731.91 1488.96 L1731.91 1485.02 Z\" fill=\"#000000\" fill-rule=\"evenodd\" fill-opacity=\"1\" /><path clip-path=\"url(#clip900)\" d=\"M1771.26 1457.48 Q1767.65 1457.48 1765.82 1461.04 Q1764.02 1464.58 1764.02 1471.71 Q1764.02 1478.82 1765.82 1482.38 Q1767.65 1485.92 1771.26 1485.92 Q1774.9 1485.92 1776.7 1482.38 Q1778.53 1478.82 1778.53 1471.71 Q1778.53 1464.58 1776.7 1461.04 Q1774.9 1457.48 1771.26 1457.48 M1771.26 1453.77 Q1777.07 1453.77 1780.13 1458.38 Q1783.21 1462.96 1783.21 1471.71 Q1783.21 1480.44 1780.13 1485.04 Q1777.07 1489.63 1771.26 1489.63 Q1765.45 1489.63 1762.38 1485.04 Q1759.32 1480.44 1759.32 1471.71 Q1759.32 1462.96 1762.38 1458.38 Q1765.45 1453.77 1771.26 1453.77 Z\" fill=\"#000000\" fill-rule=\"evenodd\" fill-opacity=\"1\" /><path clip-path=\"url(#clip900)\" d=\"M1795.89 1436.78 L1786.29 1451.77 L1795.89 1451.77 L1795.89 1436.78 M1794.89 1433.47 L1799.67 1433.47 L1799.67 1451.77 L1803.67 1451.77 L1803.67 1454.93 L1799.67 1454.93 L1799.67 1461.55 L1795.89 1461.55 L1795.89 1454.93 L1783.21 1454.93 L1783.21 1451.26 L1794.89 1433.47 Z\" fill=\"#000000\" fill-rule=\"evenodd\" fill-opacity=\"1\" /><path clip-path=\"url(#clip900)\" d=\"M929.173 1552.67 L929.173 1574.19 L923.317 1574.19 L923.317 1552.86 Q923.317 1547.8 921.343 1545.29 Q919.37 1542.77 915.423 1542.77 Q910.681 1542.77 907.944 1545.79 Q905.206 1548.82 905.206 1554.04 L905.206 1574.19 L899.318 1574.19 L899.318 1538.54 L905.206 1538.54 L905.206 1544.08 Q907.307 1540.86 910.14 1539.27 Q913.004 1537.68 916.728 1537.68 Q922.871 1537.68 926.022 1541.5 Q929.173 1545.29 929.173 1552.67 Z\" fill=\"#000000\" fill-rule=\"evenodd\" fill-opacity=\"1\" /><path clip-path=\"url(#clip900)\" d=\"M940.25 1560.12 L940.25 1538.54 L946.106 1538.54 L946.106 1559.89 Q946.106 1564.96 948.079 1567.5 Q950.053 1570.02 953.999 1570.02 Q958.742 1570.02 961.479 1566.99 Q964.248 1563.97 964.248 1558.75 L964.248 1538.54 L970.105 1538.54 L970.105 1574.19 L964.248 1574.19 L964.248 1568.71 Q962.116 1571.96 959.283 1573.55 Q956.482 1575.11 952.758 1575.11 Q946.615 1575.11 943.432 1571.29 Q940.25 1567.47 940.25 1560.12 M954.986 1537.68 L954.986 1537.68 Z\" fill=\"#000000\" fill-rule=\"evenodd\" fill-opacity=\"1\" /><path clip-path=\"url(#clip900)\" d=\"M1009.92 1545.38 Q1012.12 1541.43 1015.17 1539.56 Q1018.23 1537.68 1022.37 1537.68 Q1027.94 1537.68 1030.96 1541.59 Q1033.98 1545.48 1033.98 1552.67 L1033.98 1574.19 L1028.1 1574.19 L1028.1 1552.86 Q1028.1 1547.74 1026.28 1545.25 Q1024.47 1542.77 1020.74 1542.77 Q1016.19 1542.77 1013.55 1545.79 Q1010.91 1548.82 1010.91 1554.04 L1010.91 1574.19 L1005.02 1574.19 L1005.02 1552.86 Q1005.02 1547.7 1003.21 1545.25 Q1001.39 1542.77 997.605 1542.77 Q993.117 1542.77 990.475 1545.83 Q987.833 1548.85 987.833 1554.04 L987.833 1574.19 L981.945 1574.19 L981.945 1538.54 L987.833 1538.54 L987.833 1544.08 Q989.838 1540.8 992.639 1539.24 Q995.44 1537.68 999.292 1537.68 Q1003.17 1537.68 1005.88 1539.65 Q1008.62 1541.62 1009.92 1545.38 Z\" fill=\"#000000\" fill-rule=\"evenodd\" fill-opacity=\"1\" /><path clip-path=\"url(#clip900)\" d=\"M1071.26 1556.39 Q1071.26 1549.93 1068.58 1546.27 Q1065.94 1542.58 1061.29 1542.58 Q1056.65 1542.58 1053.97 1546.27 Q1051.33 1549.93 1051.33 1556.39 Q1051.33 1562.85 1053.97 1566.55 Q1056.65 1570.21 1061.29 1570.21 Q1065.94 1570.21 1068.58 1566.55 Q1071.26 1562.85 1071.26 1556.39 M1051.33 1543.95 Q1053.18 1540.77 1055.98 1539.24 Q1058.81 1537.68 1062.73 1537.68 Q1069.22 1537.68 1073.26 1542.83 Q1077.34 1547.99 1077.34 1556.39 Q1077.34 1564.8 1073.26 1569.95 Q1069.22 1575.11 1062.73 1575.11 Q1058.81 1575.11 1055.98 1573.58 Q1053.18 1572.02 1051.33 1568.84 L1051.33 1574.19 L1045.44 1574.19 L1045.44 1524.66 L1051.33 1524.66 L1051.33 1543.95 Z\" fill=\"#000000\" fill-rule=\"evenodd\" fill-opacity=\"1\" /><path clip-path=\"url(#clip900)\" d=\"M1117.53 1554.9 L1117.53 1557.76 L1090.61 1557.76 Q1090.99 1563.81 1094.24 1566.99 Q1097.51 1570.14 1103.34 1570.14 Q1106.71 1570.14 1109.86 1569.32 Q1113.05 1568.49 1116.17 1566.83 L1116.17 1572.37 Q1113.01 1573.71 1109.7 1574.41 Q1106.39 1575.11 1102.99 1575.11 Q1094.46 1575.11 1089.46 1570.14 Q1084.5 1565.18 1084.5 1556.71 Q1084.5 1547.96 1089.21 1542.83 Q1093.95 1537.68 1101.97 1537.68 Q1109.16 1537.68 1113.33 1542.33 Q1117.53 1546.94 1117.53 1554.9 M1111.68 1553.18 Q1111.61 1548.37 1108.97 1545.51 Q1106.36 1542.64 1102.03 1542.64 Q1097.13 1542.64 1094.17 1545.41 Q1091.24 1548.18 1090.8 1553.21 L1111.68 1553.18 Z\" fill=\"#000000\" fill-rule=\"evenodd\" fill-opacity=\"1\" /><path clip-path=\"url(#clip900)\" d=\"M1147.8 1544.01 Q1146.82 1543.44 1145.64 1543.18 Q1144.49 1542.9 1143.09 1542.9 Q1138.13 1542.9 1135.45 1546.14 Q1132.81 1549.36 1132.81 1555.41 L1132.81 1574.19 L1126.92 1574.19 L1126.92 1538.54 L1132.81 1538.54 L1132.81 1544.08 Q1134.66 1540.83 1137.62 1539.27 Q1140.58 1537.68 1144.81 1537.68 Q1145.42 1537.68 1146.15 1537.77 Q1146.88 1537.84 1147.77 1538 L1147.8 1544.01 Z\" fill=\"#000000\" fill-rule=\"evenodd\" fill-opacity=\"1\" /><path clip-path=\"url(#clip900)\" d=\"M1188.48 1542.64 Q1183.77 1542.64 1181.03 1546.34 Q1178.3 1550 1178.3 1556.39 Q1178.3 1562.79 1181 1566.48 Q1183.74 1570.14 1188.48 1570.14 Q1193.16 1570.14 1195.9 1566.45 Q1198.63 1562.76 1198.63 1556.39 Q1198.63 1550.06 1195.9 1546.37 Q1193.16 1542.64 1188.48 1542.64 M1188.48 1537.68 Q1196.12 1537.68 1200.48 1542.64 Q1204.84 1547.61 1204.84 1556.39 Q1204.84 1565.15 1200.48 1570.14 Q1196.12 1575.11 1188.48 1575.11 Q1180.81 1575.11 1176.45 1570.14 Q1172.12 1565.15 1172.12 1556.39 Q1172.12 1547.61 1176.45 1542.64 Q1180.81 1537.68 1188.48 1537.68 Z\" fill=\"#000000\" fill-rule=\"evenodd\" fill-opacity=\"1\" /><path clip-path=\"url(#clip900)\" d=\"M1232.59 1524.66 L1232.59 1529.53 L1226.99 1529.53 Q1223.84 1529.53 1222.6 1530.8 Q1221.39 1532.08 1221.39 1535.39 L1221.39 1538.54 L1231.04 1538.54 L1231.04 1543.09 L1221.39 1543.09 L1221.39 1574.19 L1215.5 1574.19 L1215.5 1543.09 L1209.9 1543.09 L1209.9 1538.54 L1215.5 1538.54 L1215.5 1536.05 Q1215.5 1530.1 1218.27 1527.4 Q1221.04 1524.66 1227.06 1524.66 L1232.59 1524.66 Z\" fill=\"#000000\" fill-rule=\"evenodd\" fill-opacity=\"1\" /><path clip-path=\"url(#clip900)\" d=\"M1285.97 1545.38 Q1288.17 1541.43 1291.22 1539.56 Q1294.28 1537.68 1298.42 1537.68 Q1303.99 1537.68 1307.01 1541.59 Q1310.03 1545.48 1310.03 1552.67 L1310.03 1574.19 L1304.15 1574.19 L1304.15 1552.86 Q1304.15 1547.74 1302.33 1545.25 Q1300.52 1542.77 1296.79 1542.77 Q1292.24 1542.77 1289.6 1545.79 Q1286.96 1548.82 1286.96 1554.04 L1286.96 1574.19 L1281.07 1574.19 L1281.07 1552.86 Q1281.07 1547.7 1279.26 1545.25 Q1277.44 1542.77 1273.65 1542.77 Q1269.17 1542.77 1266.52 1545.83 Q1263.88 1548.85 1263.88 1554.04 L1263.88 1574.19 L1257.99 1574.19 L1257.99 1538.54 L1263.88 1538.54 L1263.88 1544.08 Q1265.89 1540.8 1268.69 1539.24 Q1271.49 1537.68 1275.34 1537.68 Q1279.22 1537.68 1281.93 1539.65 Q1284.67 1541.62 1285.97 1545.38 Z\" fill=\"#000000\" fill-rule=\"evenodd\" fill-opacity=\"1\" /><path clip-path=\"url(#clip900)\" d=\"M1352.21 1554.9 L1352.21 1557.76 L1325.28 1557.76 Q1325.66 1563.81 1328.91 1566.99 Q1332.19 1570.14 1338.01 1570.14 Q1341.38 1570.14 1344.54 1569.32 Q1347.72 1568.49 1350.84 1566.83 L1350.84 1572.37 Q1347.69 1573.71 1344.38 1574.41 Q1341.07 1575.11 1337.66 1575.11 Q1329.13 1575.11 1324.13 1570.14 Q1319.17 1565.18 1319.17 1556.71 Q1319.17 1547.96 1323.88 1542.83 Q1328.62 1537.68 1336.64 1537.68 Q1343.84 1537.68 1348 1542.33 Q1352.21 1546.94 1352.21 1554.9 M1346.35 1553.18 Q1346.29 1548.37 1343.64 1545.51 Q1341.03 1542.64 1336.71 1542.64 Q1331.8 1542.64 1328.84 1545.41 Q1325.92 1548.18 1325.47 1553.21 L1346.35 1553.18 Z\" fill=\"#000000\" fill-rule=\"evenodd\" fill-opacity=\"1\" /><path clip-path=\"url(#clip900)\" d=\"M1378.02 1556.27 Q1370.92 1556.27 1368.18 1557.89 Q1365.45 1559.51 1365.45 1563.43 Q1365.45 1566.55 1367.48 1568.39 Q1369.55 1570.21 1373.09 1570.21 Q1377.96 1570.21 1380.88 1566.77 Q1383.84 1563.3 1383.84 1557.57 L1383.84 1556.27 L1378.02 1556.27 M1389.7 1553.85 L1389.7 1574.19 L1383.84 1574.19 L1383.84 1568.77 Q1381.84 1572.02 1378.85 1573.58 Q1375.85 1575.11 1371.53 1575.11 Q1366.05 1575.11 1362.81 1572.05 Q1359.59 1568.97 1359.59 1563.81 Q1359.59 1557.79 1363.6 1554.74 Q1367.64 1551.68 1375.63 1551.68 L1383.84 1551.68 L1383.84 1551.11 Q1383.84 1547.07 1381.17 1544.87 Q1378.53 1542.64 1373.72 1542.64 Q1370.67 1542.64 1367.77 1543.38 Q1364.87 1544.11 1362.2 1545.57 L1362.2 1540.16 Q1365.42 1538.92 1368.44 1538.31 Q1371.46 1537.68 1374.33 1537.68 Q1382.06 1537.68 1385.88 1541.69 Q1389.7 1545.7 1389.7 1553.85 Z\" fill=\"#000000\" fill-rule=\"evenodd\" fill-opacity=\"1\" /><path clip-path=\"url(#clip900)\" d=\"M1424.49 1539.59 L1424.49 1545.13 Q1422.01 1543.85 1419.33 1543.22 Q1416.66 1542.58 1413.79 1542.58 Q1409.43 1542.58 1407.24 1543.92 Q1405.07 1545.25 1405.07 1547.93 Q1405.07 1549.96 1406.63 1551.14 Q1408.19 1552.29 1412.9 1553.34 L1414.91 1553.78 Q1421.15 1555.12 1423.76 1557.57 Q1426.4 1559.99 1426.4 1564.35 Q1426.4 1569.32 1422.45 1572.21 Q1418.54 1575.11 1411.66 1575.11 Q1408.8 1575.11 1405.68 1574.54 Q1402.59 1573.99 1399.15 1572.88 L1399.15 1566.83 Q1402.4 1568.52 1405.55 1569.38 Q1408.7 1570.21 1411.79 1570.21 Q1415.93 1570.21 1418.15 1568.81 Q1420.38 1567.37 1420.38 1564.8 Q1420.38 1562.41 1418.76 1561.14 Q1417.17 1559.86 1411.73 1558.68 L1409.69 1558.21 Q1404.25 1557.06 1401.83 1554.71 Q1399.41 1552.32 1399.41 1548.18 Q1399.41 1543.15 1402.97 1540.42 Q1406.54 1537.68 1413.09 1537.68 Q1416.34 1537.68 1419.21 1538.16 Q1422.07 1538.63 1424.49 1539.59 Z\" fill=\"#000000\" fill-rule=\"evenodd\" fill-opacity=\"1\" /><path clip-path=\"url(#clip900)\" d=\"M1435.12 1560.12 L1435.12 1538.54 L1440.98 1538.54 L1440.98 1559.89 Q1440.98 1564.96 1442.95 1567.5 Q1444.92 1570.02 1448.87 1570.02 Q1453.61 1570.02 1456.35 1566.99 Q1459.12 1563.97 1459.12 1558.75 L1459.12 1538.54 L1464.97 1538.54 L1464.97 1574.19 L1459.12 1574.19 L1459.12 1568.71 Q1456.99 1571.96 1454.15 1573.55 Q1451.35 1575.11 1447.63 1575.11 Q1441.49 1575.11 1438.3 1571.29 Q1435.12 1567.47 1435.12 1560.12 M1449.86 1537.68 L1449.86 1537.68 Z\" fill=\"#000000\" fill-rule=\"evenodd\" fill-opacity=\"1\" /><path clip-path=\"url(#clip900)\" d=\"M1497.69 1544.01 Q1496.71 1543.44 1495.53 1543.18 Q1494.38 1542.9 1492.98 1542.9 Q1488.02 1542.9 1485.35 1546.14 Q1482.7 1549.36 1482.7 1555.41 L1482.7 1574.19 L1476.81 1574.19 L1476.81 1538.54 L1482.7 1538.54 L1482.7 1544.08 Q1484.55 1540.83 1487.51 1539.27 Q1490.47 1537.68 1494.7 1537.68 Q1495.31 1537.68 1496.04 1537.77 Q1496.77 1537.84 1497.66 1538 L1497.69 1544.01 Z\" fill=\"#000000\" fill-rule=\"evenodd\" fill-opacity=\"1\" /><path clip-path=\"url(#clip900)\" d=\"M1532.9 1554.9 L1532.9 1557.76 L1505.97 1557.76 Q1506.35 1563.81 1509.6 1566.99 Q1512.88 1570.14 1518.7 1570.14 Q1522.08 1570.14 1525.23 1569.32 Q1528.41 1568.49 1531.53 1566.83 L1531.53 1572.37 Q1528.38 1573.71 1525.07 1574.41 Q1521.76 1575.11 1518.35 1575.11 Q1509.82 1575.11 1504.82 1570.14 Q1499.86 1565.18 1499.86 1556.71 Q1499.86 1547.96 1504.57 1542.83 Q1509.31 1537.68 1517.33 1537.68 Q1524.53 1537.68 1528.7 1542.33 Q1532.9 1546.94 1532.9 1554.9 M1527.04 1553.18 Q1526.98 1548.37 1524.33 1545.51 Q1521.73 1542.64 1517.4 1542.64 Q1512.49 1542.64 1509.53 1545.41 Q1506.61 1548.18 1506.16 1553.21 L1527.04 1553.18 Z\" fill=\"#000000\" fill-rule=\"evenodd\" fill-opacity=\"1\" /><path clip-path=\"url(#clip900)\" d=\"M1570.26 1545.38 Q1572.46 1541.43 1575.52 1539.56 Q1578.57 1537.68 1582.71 1537.68 Q1588.28 1537.68 1591.3 1541.59 Q1594.33 1545.48 1594.33 1552.67 L1594.33 1574.19 L1588.44 1574.19 L1588.44 1552.86 Q1588.44 1547.74 1586.62 1545.25 Q1584.81 1542.77 1581.09 1542.77 Q1576.53 1542.77 1573.89 1545.79 Q1571.25 1548.82 1571.25 1554.04 L1571.25 1574.19 L1565.36 1574.19 L1565.36 1552.86 Q1565.36 1547.7 1563.55 1545.25 Q1561.73 1542.77 1557.95 1542.77 Q1553.46 1542.77 1550.82 1545.83 Q1548.17 1548.85 1548.17 1554.04 L1548.17 1574.19 L1542.29 1574.19 L1542.29 1538.54 L1548.17 1538.54 L1548.17 1544.08 Q1550.18 1540.8 1552.98 1539.24 Q1555.78 1537.68 1559.63 1537.68 Q1563.52 1537.68 1566.22 1539.65 Q1568.96 1541.62 1570.26 1545.38 Z\" fill=\"#000000\" fill-rule=\"evenodd\" fill-opacity=\"1\" /><path clip-path=\"url(#clip900)\" d=\"M1636.5 1554.9 L1636.5 1557.76 L1609.57 1557.76 Q1609.95 1563.81 1613.2 1566.99 Q1616.48 1570.14 1622.3 1570.14 Q1625.68 1570.14 1628.83 1569.32 Q1632.01 1568.49 1635.13 1566.83 L1635.13 1572.37 Q1631.98 1573.71 1628.67 1574.41 Q1625.36 1575.11 1621.95 1575.11 Q1613.42 1575.11 1608.43 1570.14 Q1603.46 1565.18 1603.46 1556.71 Q1603.46 1547.96 1608.17 1542.83 Q1612.91 1537.68 1620.93 1537.68 Q1628.13 1537.68 1632.3 1542.33 Q1636.5 1546.94 1636.5 1554.9 M1630.64 1553.18 Q1630.58 1548.37 1627.94 1545.51 Q1625.33 1542.64 1621 1542.64 Q1616.1 1542.64 1613.14 1545.41 Q1610.21 1548.18 1609.76 1553.21 L1630.64 1553.18 Z\" fill=\"#000000\" fill-rule=\"evenodd\" fill-opacity=\"1\" /><path clip-path=\"url(#clip900)\" d=\"M1675.74 1552.67 L1675.74 1574.19 L1669.89 1574.19 L1669.89 1552.86 Q1669.89 1547.8 1667.91 1545.29 Q1665.94 1542.77 1661.99 1542.77 Q1657.25 1542.77 1654.51 1545.79 Q1651.78 1548.82 1651.78 1554.04 L1651.78 1574.19 L1645.89 1574.19 L1645.89 1538.54 L1651.78 1538.54 L1651.78 1544.08 Q1653.88 1540.86 1656.71 1539.27 Q1659.57 1537.68 1663.3 1537.68 Q1669.44 1537.68 1672.59 1541.5 Q1675.74 1545.29 1675.74 1552.67 Z\" fill=\"#000000\" fill-rule=\"evenodd\" fill-opacity=\"1\" /><path clip-path=\"url(#clip900)\" d=\"M1693.22 1528.42 L1693.22 1538.54 L1705.28 1538.54 L1705.28 1543.09 L1693.22 1543.09 L1693.22 1562.44 Q1693.22 1566.8 1694.39 1568.04 Q1695.6 1569.28 1699.26 1569.28 L1705.28 1569.28 L1705.28 1574.19 L1699.26 1574.19 Q1692.49 1574.19 1689.91 1571.67 Q1687.33 1569.12 1687.33 1562.44 L1687.33 1543.09 L1683.03 1543.09 L1683.03 1538.54 L1687.33 1538.54 L1687.33 1528.42 L1693.22 1528.42 Z\" fill=\"#000000\" fill-rule=\"evenodd\" fill-opacity=\"1\" /><polyline clip-path=\"url(#clip902)\" style=\"stroke:#000000; stroke-linecap:butt; stroke-linejoin:round; stroke-width:2; stroke-opacity:0.1; fill:none\" points=\"\n  251.842,1383.21 2352.76,1383.21 \n  \"/>\n<polyline clip-path=\"url(#clip902)\" style=\"stroke:#000000; stroke-linecap:butt; stroke-linejoin:round; stroke-width:2; stroke-opacity:0.1; fill:none\" points=\"\n  251.842,660.262 2352.76,660.262 \n  \"/>\n<polyline clip-path=\"url(#clip900)\" style=\"stroke:#000000; stroke-linecap:butt; stroke-linejoin:round; stroke-width:4; stroke-opacity:1; fill:none\" points=\"\n  251.842,1410.9 251.842,47.2441 \n  \"/>\n<polyline clip-path=\"url(#clip900)\" style=\"stroke:#000000; stroke-linecap:butt; stroke-linejoin:round; stroke-width:4; stroke-opacity:1; fill:none\" points=\"\n  251.842,1383.21 270.74,1383.21 \n  \"/>\n<polyline clip-path=\"url(#clip900)\" style=\"stroke:#000000; stroke-linecap:butt; stroke-linejoin:round; stroke-width:4; stroke-opacity:1; fill:none\" points=\"\n  251.842,660.262 270.74,660.262 \n  \"/>\n<path clip-path=\"url(#clip900)\" d=\"M114.931 1403.01 L122.57 1403.01 L122.57 1376.64 L114.26 1378.31 L114.26 1374.05 L122.524 1372.38 L127.2 1372.38 L127.2 1403.01 L134.839 1403.01 L134.839 1406.94 L114.931 1406.94 L114.931 1403.01 Z\" fill=\"#000000\" fill-rule=\"evenodd\" fill-opacity=\"1\" /><path clip-path=\"url(#clip900)\" d=\"M154.283 1375.46 Q150.672 1375.46 148.843 1379.02 Q147.038 1382.57 147.038 1389.7 Q147.038 1396.8 148.843 1400.37 Q150.672 1403.91 154.283 1403.91 Q157.917 1403.91 159.723 1400.37 Q161.552 1396.8 161.552 1389.7 Q161.552 1382.57 159.723 1379.02 Q157.917 1375.46 154.283 1375.46 M154.283 1371.76 Q160.093 1371.76 163.149 1376.36 Q166.227 1380.95 166.227 1389.7 Q166.227 1398.42 163.149 1403.03 Q160.093 1407.61 154.283 1407.61 Q148.473 1407.61 145.394 1403.03 Q142.339 1398.42 142.339 1389.7 Q142.339 1380.95 145.394 1376.36 Q148.473 1371.76 154.283 1371.76 Z\" fill=\"#000000\" fill-rule=\"evenodd\" fill-opacity=\"1\" /><path clip-path=\"url(#clip900)\" d=\"M166.227 1365.86 L190.339 1365.86 L190.339 1369.05 L166.227 1369.05 L166.227 1365.86 Z\" fill=\"#000000\" fill-rule=\"evenodd\" fill-opacity=\"1\" /><path clip-path=\"url(#clip900)\" d=\"M210.05 1364.39 Q212.777 1364.97 214.3 1366.82 Q215.842 1368.66 215.842 1371.37 Q215.842 1375.52 212.984 1377.8 Q210.125 1380.08 204.859 1380.08 Q203.091 1380.08 201.21 1379.72 Q199.348 1379.38 197.354 1378.68 L197.354 1375.02 Q198.934 1375.94 200.815 1376.41 Q202.696 1376.88 204.746 1376.88 Q208.319 1376.88 210.181 1375.47 Q212.062 1374.06 212.062 1371.37 Q212.062 1368.89 210.313 1367.49 Q208.583 1366.08 205.479 1366.08 L202.207 1366.08 L202.207 1362.96 L205.63 1362.96 Q208.432 1362.96 209.918 1361.85 Q211.404 1360.72 211.404 1358.62 Q211.404 1356.45 209.861 1355.31 Q208.338 1354.14 205.479 1354.14 Q203.918 1354.14 202.132 1354.48 Q200.345 1354.82 198.201 1355.53 L198.201 1352.15 Q200.364 1351.54 202.244 1351.24 Q204.144 1350.94 205.818 1350.94 Q210.144 1350.94 212.664 1352.92 Q215.184 1354.87 215.184 1358.22 Q215.184 1360.55 213.849 1362.17 Q212.513 1363.77 210.05 1364.39 Z\" fill=\"#000000\" fill-rule=\"evenodd\" fill-opacity=\"1\" /><path clip-path=\"url(#clip900)\" d=\"M115.703 680.055 L123.341 680.055 L123.341 653.689 L115.031 655.356 L115.031 651.096 L123.295 649.43 L127.971 649.43 L127.971 680.055 L135.61 680.055 L135.61 683.99 L115.703 683.99 L115.703 680.055 Z\" fill=\"#000000\" fill-rule=\"evenodd\" fill-opacity=\"1\" /><path clip-path=\"url(#clip900)\" d=\"M155.054 652.508 Q151.443 652.508 149.614 656.073 Q147.809 659.615 147.809 666.744 Q147.809 673.851 149.614 677.416 Q151.443 680.957 155.054 680.957 Q158.688 680.957 160.494 677.416 Q162.323 673.851 162.323 666.744 Q162.323 659.615 160.494 656.073 Q158.688 652.508 155.054 652.508 M155.054 648.805 Q160.864 648.805 163.92 653.411 Q166.999 657.995 166.999 666.744 Q166.999 675.471 163.92 680.078 Q160.864 684.661 155.054 684.661 Q149.244 684.661 146.165 680.078 Q143.11 675.471 143.11 666.744 Q143.11 657.995 146.165 653.411 Q149.244 648.805 155.054 648.805 Z\" fill=\"#000000\" fill-rule=\"evenodd\" fill-opacity=\"1\" /><path clip-path=\"url(#clip900)\" d=\"M166.999 642.906 L191.11 642.906 L191.11 646.103 L166.999 646.103 L166.999 642.906 Z\" fill=\"#000000\" fill-rule=\"evenodd\" fill-opacity=\"1\" /><path clip-path=\"url(#clip900)\" d=\"M202.583 653.382 L215.842 653.382 L215.842 656.579 L198.013 656.579 L198.013 653.382 Q200.175 651.144 203.899 647.382 Q207.642 643.602 208.601 642.511 Q210.426 640.461 211.14 639.051 Q211.874 637.621 211.874 636.248 Q211.874 634.01 210.294 632.599 Q208.733 631.189 206.213 631.189 Q204.426 631.189 202.432 631.81 Q200.458 632.43 198.201 633.69 L198.201 629.854 Q200.495 628.932 202.489 628.462 Q204.482 627.992 206.138 627.992 Q210.501 627.992 213.096 630.173 Q215.692 632.355 215.692 636.004 Q215.692 637.734 215.034 639.295 Q214.394 640.837 212.683 642.944 Q212.212 643.489 209.692 646.103 Q207.172 648.699 202.583 653.382 Z\" fill=\"#000000\" fill-rule=\"evenodd\" fill-opacity=\"1\" /><path clip-path=\"url(#clip900)\" d=\"M33.8307 1070.42 Q33.2578 1071.4 33.0032 1072.58 Q32.7167 1073.73 32.7167 1075.13 Q32.7167 1080.09 35.9632 1082.76 Q39.1779 1085.41 45.2253 1085.41 L64.0042 1085.41 L64.0042 1091.29 L28.3562 1091.29 L28.3562 1085.41 L33.8944 1085.41 Q30.6479 1083.56 29.0883 1080.6 Q27.4968 1077.64 27.4968 1073.41 Q27.4968 1072.8 27.5923 1072.07 Q27.656 1071.34 27.8151 1070.45 L33.8307 1070.42 Z\" fill=\"#000000\" fill-rule=\"evenodd\" fill-opacity=\"1\" /><path clip-path=\"url(#clip900)\" d=\"M44.7161 1035.21 L47.5806 1035.21 L47.5806 1062.14 Q53.6281 1061.76 56.8109 1058.51 Q59.9619 1055.23 59.9619 1049.41 Q59.9619 1046.03 59.1344 1042.88 Q58.3069 1039.7 56.6518 1036.58 L62.1899 1036.58 Q63.5267 1039.73 64.227 1043.04 Q64.9272 1046.35 64.9272 1049.76 Q64.9272 1058.29 59.9619 1063.29 Q54.9967 1068.25 46.5303 1068.25 Q37.7774 1068.25 32.6531 1063.54 Q27.4968 1058.8 27.4968 1050.78 Q27.4968 1043.58 32.1438 1039.41 Q36.7589 1035.21 44.7161 1035.21 M42.9973 1041.07 Q38.1912 1041.13 35.3266 1043.77 Q32.4621 1046.38 32.4621 1050.71 Q32.4621 1055.62 35.2312 1058.58 Q38.0002 1061.5 43.0292 1061.95 L42.9973 1041.07 Z\" fill=\"#000000\" fill-rule=\"evenodd\" fill-opacity=\"1\" /><path clip-path=\"url(#clip900)\" d=\"M14.479 1025.6 L14.479 1019.74 L64.0042 1019.74 L64.0042 1025.6 L14.479 1025.6 Z\" fill=\"#000000\" fill-rule=\"evenodd\" fill-opacity=\"1\" /><path clip-path=\"url(#clip900)\" d=\"M46.0847 991.29 Q46.0847 998.388 47.7079 1001.12 Q49.3312 1003.86 53.2461 1003.86 Q56.3653 1003.86 58.2114 1001.82 Q60.0256 999.756 60.0256 996.223 Q60.0256 991.353 56.5881 988.425 Q53.1188 985.465 47.3897 985.465 L46.0847 985.465 L46.0847 991.29 M43.6657 979.609 L64.0042 979.609 L64.0042 985.465 L58.5933 985.465 Q61.8398 987.47 63.3994 990.462 Q64.9272 993.454 64.9272 997.783 Q64.9272 1003.26 61.8716 1006.5 Q58.7843 1009.72 53.6281 1009.72 Q47.6125 1009.72 44.5569 1005.71 Q41.5014 1001.67 41.5014 993.677 L41.5014 985.465 L40.9285 985.465 Q36.8862 985.465 34.6901 988.139 Q32.4621 990.78 32.4621 995.587 Q32.4621 998.642 33.1941 1001.54 Q33.9262 1004.43 35.3903 1007.11 L29.9795 1007.11 Q28.7381 1003.89 28.1334 1000.87 Q27.4968 997.846 27.4968 994.982 Q27.4968 987.248 31.5072 983.428 Q35.5176 979.609 43.6657 979.609 Z\" fill=\"#000000\" fill-rule=\"evenodd\" fill-opacity=\"1\" /><path clip-path=\"url(#clip900)\" d=\"M18.2347 961.753 L28.3562 961.753 L28.3562 949.69 L32.9077 949.69 L32.9077 961.753 L52.2594 961.753 Q56.6199 961.753 57.8613 960.575 Q59.1026 959.366 59.1026 955.705 L59.1026 949.69 L64.0042 949.69 L64.0042 955.705 Q64.0042 962.485 61.4897 965.063 Q58.9434 967.641 52.2594 967.641 L32.9077 967.641 L32.9077 971.938 L28.3562 971.938 L28.3562 967.641 L18.2347 967.641 L18.2347 961.753 Z\" fill=\"#000000\" fill-rule=\"evenodd\" fill-opacity=\"1\" /><path clip-path=\"url(#clip900)\" d=\"M28.3562 941.987 L28.3562 936.131 L64.0042 936.131 L64.0042 941.987 L28.3562 941.987 M14.479 941.987 L14.479 936.131 L21.895 936.131 L21.895 941.987 L14.479 941.987 Z\" fill=\"#000000\" fill-rule=\"evenodd\" fill-opacity=\"1\" /><path clip-path=\"url(#clip900)\" d=\"M28.3562 928.078 L28.3562 921.872 L58.275 910.732 L28.3562 899.592 L28.3562 893.385 L64.0042 906.753 L64.0042 914.71 L28.3562 928.078 Z\" fill=\"#000000\" fill-rule=\"evenodd\" fill-opacity=\"1\" /><path clip-path=\"url(#clip900)\" d=\"M44.7161 854.809 L47.5806 854.809 L47.5806 881.736 Q53.6281 881.354 56.8109 878.107 Q59.9619 874.829 59.9619 869.005 Q59.9619 865.631 59.1344 862.48 Q58.3069 859.297 56.6518 856.178 L62.1899 856.178 Q63.5267 859.329 64.227 862.639 Q64.9272 865.949 64.9272 869.355 Q64.9272 877.885 59.9619 882.882 Q54.9967 887.847 46.5303 887.847 Q37.7774 887.847 32.6531 883.136 Q27.4968 878.394 27.4968 870.373 Q27.4968 863.18 32.1438 859.01 Q36.7589 854.809 44.7161 854.809 M42.9973 860.665 Q38.1912 860.729 35.3266 863.371 Q32.4621 865.981 32.4621 870.309 Q32.4621 875.211 35.2312 878.171 Q38.0002 881.099 43.0292 881.545 L42.9973 860.665 Z\" fill=\"#000000\" fill-rule=\"evenodd\" fill-opacity=\"1\" /><path clip-path=\"url(#clip900)\" d=\"M33.8307 803.82 Q33.2578 804.806 33.0032 805.984 Q32.7167 807.13 32.7167 808.53 Q32.7167 813.496 35.9632 816.169 Q39.1779 818.811 45.2253 818.811 L64.0042 818.811 L64.0042 824.699 L28.3562 824.699 L28.3562 818.811 L33.8944 818.811 Q30.6479 816.965 29.0883 814.005 Q27.4968 811.045 27.4968 806.812 Q27.4968 806.207 27.5923 805.475 Q27.656 804.743 27.8151 803.852 L33.8307 803.82 Z\" fill=\"#000000\" fill-rule=\"evenodd\" fill-opacity=\"1\" /><path clip-path=\"url(#clip900)\" d=\"M44.7161 768.617 L47.5806 768.617 L47.5806 795.544 Q53.6281 795.162 56.8109 791.916 Q59.9619 788.637 59.9619 782.813 Q59.9619 779.439 59.1344 776.288 Q58.3069 773.105 56.6518 769.986 L62.1899 769.986 Q63.5267 773.137 64.227 776.447 Q64.9272 779.757 64.9272 783.163 Q64.9272 791.693 59.9619 796.69 Q54.9967 801.655 46.5303 801.655 Q37.7774 801.655 32.6531 796.945 Q27.4968 792.202 27.4968 784.181 Q27.4968 776.988 32.1438 772.819 Q36.7589 768.617 44.7161 768.617 M42.9973 774.474 Q38.1912 774.537 35.3266 777.179 Q32.4621 779.789 32.4621 784.118 Q32.4621 789.019 35.2312 791.979 Q38.0002 794.908 43.0292 795.353 L42.9973 774.474 Z\" fill=\"#000000\" fill-rule=\"evenodd\" fill-opacity=\"1\" /><path clip-path=\"url(#clip900)\" d=\"M29.7248 733.351 L35.1993 733.351 Q33.8307 735.834 33.1623 738.348 Q32.4621 740.831 32.4621 743.377 Q32.4621 749.075 36.0905 752.226 Q39.6872 755.377 46.212 755.377 Q52.7369 755.377 56.3653 752.226 Q59.9619 749.075 59.9619 743.377 Q59.9619 740.831 59.2935 738.348 Q58.5933 735.834 57.2247 733.351 L62.6355 733.351 Q63.7814 735.802 64.3543 738.444 Q64.9272 741.054 64.9272 744.014 Q64.9272 752.066 59.8664 756.809 Q54.8057 761.551 46.212 761.551 Q37.491 761.551 32.4939 756.777 Q27.4968 751.971 27.4968 743.632 Q27.4968 740.926 28.0697 738.348 Q28.6108 735.77 29.7248 733.351 Z\" fill=\"#000000\" fill-rule=\"evenodd\" fill-opacity=\"1\" /><path clip-path=\"url(#clip900)\" d=\"M32.4621 709.353 Q32.4621 714.063 36.1542 716.8 Q39.8145 719.538 46.212 719.538 Q52.6095 719.538 56.3017 716.832 Q59.9619 714.095 59.9619 709.353 Q59.9619 704.674 56.2698 701.937 Q52.5777 699.199 46.212 699.199 Q39.8781 699.199 36.186 701.937 Q32.4621 704.674 32.4621 709.353 M27.4968 709.353 Q27.4968 701.714 32.4621 697.353 Q37.4273 692.993 46.212 692.993 Q54.9649 692.993 59.9619 697.353 Q64.9272 701.714 64.9272 709.353 Q64.9272 717.023 59.9619 721.384 Q54.9649 725.712 46.212 725.712 Q37.4273 725.712 32.4621 721.384 Q27.4968 717.023 27.4968 709.353 Z\" fill=\"#000000\" fill-rule=\"evenodd\" fill-opacity=\"1\" /><path clip-path=\"url(#clip900)\" d=\"M28.3562 687.486 L28.3562 681.28 L58.275 670.14 L28.3562 659 L28.3562 652.793 L64.0042 666.161 L64.0042 674.118 L28.3562 687.486 Z\" fill=\"#000000\" fill-rule=\"evenodd\" fill-opacity=\"1\" /><path clip-path=\"url(#clip900)\" d=\"M44.7161 614.217 L47.5806 614.217 L47.5806 641.144 Q53.6281 640.762 56.8109 637.516 Q59.9619 634.237 59.9619 628.413 Q59.9619 625.039 59.1344 621.888 Q58.3069 618.705 56.6518 615.586 L62.1899 615.586 Q63.5267 618.737 64.227 622.047 Q64.9272 625.357 64.9272 628.763 Q64.9272 637.293 59.9619 642.29 Q54.9967 647.255 46.5303 647.255 Q37.7774 647.255 32.6531 642.545 Q27.4968 637.802 27.4968 629.781 Q27.4968 622.588 32.1438 618.418 Q36.7589 614.217 44.7161 614.217 M42.9973 620.074 Q38.1912 620.137 35.3266 622.779 Q32.4621 625.389 32.4621 629.718 Q32.4621 634.619 35.2312 637.579 Q38.0002 640.507 43.0292 640.953 L42.9973 620.074 Z\" fill=\"#000000\" fill-rule=\"evenodd\" fill-opacity=\"1\" /><path clip-path=\"url(#clip900)\" d=\"M33.8307 583.948 Q33.2578 584.935 33.0032 586.113 Q32.7167 587.258 32.7167 588.659 Q32.7167 593.624 35.9632 596.298 Q39.1779 598.939 45.2253 598.939 L64.0042 598.939 L64.0042 604.828 L28.3562 604.828 L28.3562 598.939 L33.8944 598.939 Q30.6479 597.093 29.0883 594.133 Q27.4968 591.173 27.4968 586.94 Q27.4968 586.335 27.5923 585.603 Q27.656 584.871 27.8151 583.98 L33.8307 583.948 Z\" fill=\"#000000\" fill-rule=\"evenodd\" fill-opacity=\"1\" /><path clip-path=\"url(#clip900)\" d=\"M67.3143 562.973 Q73.68 565.456 75.6216 567.811 Q77.5631 570.166 77.5631 574.113 L77.5631 578.792 L72.6615 578.792 L72.6615 575.354 Q72.6615 572.935 71.5157 571.599 Q70.3699 570.262 66.1048 568.639 L63.4312 567.588 L28.3562 582.007 L28.3562 575.8 L56.238 564.66 L28.3562 553.52 L28.3562 547.314 L67.3143 562.973 Z\" fill=\"#000000\" fill-rule=\"evenodd\" fill-opacity=\"1\" /><path clip-path=\"url(#clip900)\" d=\"M44.7161 488.017 L47.5806 488.017 L47.5806 514.944 Q53.6281 514.562 56.8109 511.315 Q59.9619 508.037 59.9619 502.212 Q59.9619 498.839 59.1344 495.688 Q58.3069 492.505 56.6518 489.386 L62.1899 489.386 Q63.5267 492.537 64.227 495.847 Q64.9272 499.157 64.9272 502.563 Q64.9272 511.093 59.9619 516.09 Q54.9967 521.055 46.5303 521.055 Q37.7774 521.055 32.6531 516.344 Q27.4968 511.602 27.4968 503.581 Q27.4968 496.388 32.1438 492.218 Q36.7589 488.017 44.7161 488.017 M42.9973 493.873 Q38.1912 493.937 35.3266 496.579 Q32.4621 499.189 32.4621 503.517 Q32.4621 508.419 35.2312 511.379 Q38.0002 514.307 43.0292 514.753 L42.9973 493.873 Z\" fill=\"#000000\" fill-rule=\"evenodd\" fill-opacity=\"1\" /><path clip-path=\"url(#clip900)\" d=\"M33.8307 457.748 Q33.2578 458.735 33.0032 459.912 Q32.7167 461.058 32.7167 462.459 Q32.7167 467.424 35.9632 470.098 Q39.1779 472.739 45.2253 472.739 L64.0042 472.739 L64.0042 478.628 L28.3562 478.628 L28.3562 472.739 L33.8944 472.739 Q30.6479 470.893 29.0883 467.933 Q27.4968 464.973 27.4968 460.74 Q27.4968 460.135 27.5923 459.403 Q27.656 458.671 27.8151 457.78 L33.8307 457.748 Z\" fill=\"#000000\" fill-rule=\"evenodd\" fill-opacity=\"1\" /><path clip-path=\"url(#clip900)\" d=\"M33.8307 432.094 Q33.2578 433.081 33.0032 434.259 Q32.7167 435.404 32.7167 436.805 Q32.7167 441.77 35.9632 444.444 Q39.1779 447.085 45.2253 447.085 L64.0042 447.085 L64.0042 452.974 L28.3562 452.974 L28.3562 447.085 L33.8944 447.085 Q30.6479 445.239 29.0883 442.279 Q27.4968 439.319 27.4968 435.086 Q27.4968 434.481 27.5923 433.749 Q27.656 433.017 27.8151 432.126 L33.8307 432.094 Z\" fill=\"#000000\" fill-rule=\"evenodd\" fill-opacity=\"1\" /><path clip-path=\"url(#clip900)\" d=\"M32.4621 413.57 Q32.4621 418.281 36.1542 421.018 Q39.8145 423.755 46.212 423.755 Q52.6095 423.755 56.3017 421.05 Q59.9619 418.312 59.9619 413.57 Q59.9619 408.891 56.2698 406.154 Q52.5777 403.417 46.212 403.417 Q39.8781 403.417 36.186 406.154 Q32.4621 408.891 32.4621 413.57 M27.4968 413.57 Q27.4968 405.931 32.4621 401.571 Q37.4273 397.21 46.212 397.21 Q54.9649 397.21 59.9619 401.571 Q64.9272 405.931 64.9272 413.57 Q64.9272 421.241 59.9619 425.601 Q54.9649 429.93 46.212 429.93 Q37.4273 429.93 32.4621 425.601 Q27.4968 421.241 27.4968 413.57 Z\" fill=\"#000000\" fill-rule=\"evenodd\" fill-opacity=\"1\" /><path clip-path=\"url(#clip900)\" d=\"M33.8307 366.846 Q33.2578 367.832 33.0032 369.01 Q32.7167 370.156 32.7167 371.556 Q32.7167 376.522 35.9632 379.195 Q39.1779 381.837 45.2253 381.837 L64.0042 381.837 L64.0042 387.725 L28.3562 387.725 L28.3562 381.837 L33.8944 381.837 Q30.6479 379.991 29.0883 377.031 Q27.4968 374.071 27.4968 369.838 Q27.4968 369.233 27.5923 368.501 Q27.656 367.769 27.8151 366.878 L33.8307 366.846 Z\" fill=\"#000000\" fill-rule=\"evenodd\" fill-opacity=\"1\" /><polyline clip-path=\"url(#clip902)\" style=\"stroke:#009af9; stroke-linecap:butt; stroke-linejoin:round; stroke-width:8; stroke-opacity:1; fill:none\" points=\"\n  311.302,85.838 845.311,362.105 1093.61,180.198 1257.16,493.666 1379.32,345.076 1476.86,398.563 1558.06,749.332 1627.62,1162.81 1688.46,337.783 1742.52,309.17 \n  1791.17,785.07 1835.39,411.139 1875.92,617.485 1913.33,529.818 1948.06,629.804 1980.48,1246.74 2010.87,1309.22 2039.47,530.595 2066.48,883.458 2092.07,1018.26 \n  2116.38,1003.74 2139.53,640.592 2161.63,1296.83 2182.77,1171.82 2203.02,852.958 2222.47,933.965 2241.17,925.933 2259.17,1230.52 2276.53,520.44 2293.3,1372.3 \n  \n  \"/>\n<polyline clip-path=\"url(#clip902)\" style=\"stroke:#e26f46; stroke-linecap:butt; stroke-linejoin:round; stroke-width:8; stroke-opacity:1; fill:none\" points=\"\n  311.302,189.971 845.311,362.439 1093.61,442.632 1257.16,495.454 1379.32,534.907 1476.86,566.41 1558.06,592.635 1627.62,615.1 1688.46,634.749 1742.52,652.21 \n  1791.17,667.922 1835.39,682.203 1875.92,695.293 1913.33,707.375 1948.06,718.593 1980.48,729.062 2010.87,738.877 2039.47,748.114 2066.48,756.838 2092.07,765.103 \n  2116.38,772.954 2139.53,780.431 2161.63,787.568 2182.77,794.394 2203.02,800.936 2222.47,807.217 2241.17,813.255 2259.17,819.07 2276.53,824.678 2293.3,830.091 \n  \n  \"/>\n<path clip-path=\"url(#clip900)\" d=\"\nM1716.31 360.717 L2282.73 360.717 L2282.73 92.6992 L1716.31 92.6992  Z\n  \" fill=\"#ffffff\" fill-rule=\"evenodd\" fill-opacity=\"1\"/>\n<polyline clip-path=\"url(#clip900)\" style=\"stroke:#000000; stroke-linecap:butt; stroke-linejoin:round; stroke-width:4; stroke-opacity:1; fill:none\" points=\"\n  1716.31,360.717 2282.73,360.717 2282.73,92.6992 1716.31,92.6992 1716.31,360.717 \n  \"/>\n<polyline clip-path=\"url(#clip900)\" style=\"stroke:#009af9; stroke-linecap:butt; stroke-linejoin:round; stroke-width:4; stroke-opacity:1; fill:none\" points=\"\n  1739.65,182.039 1879.71,182.039 \n  \"/>\n<path clip-path=\"url(#clip900)\" d=\"M1918.24 177.374 Q1917.52 176.958 1916.67 176.772 Q1915.83 176.564 1914.81 176.564 Q1911.2 176.564 1909.26 178.925 Q1907.34 181.263 1907.34 185.661 L1907.34 199.319 L1903.05 199.319 L1903.05 173.393 L1907.34 173.393 L1907.34 177.421 Q1908.68 175.059 1910.83 173.925 Q1912.98 172.768 1916.06 172.768 Q1916.5 172.768 1917.04 172.837 Q1917.57 172.884 1918.22 172.999 L1918.24 177.374 Z\" fill=\"#000000\" fill-rule=\"evenodd\" fill-opacity=\"1\" /><path clip-path=\"url(#clip900)\" d=\"M1943.84 185.291 L1943.84 187.374 L1924.26 187.374 Q1924.54 191.772 1926.9 194.087 Q1929.28 196.379 1933.52 196.379 Q1935.97 196.379 1938.26 195.777 Q1940.58 195.175 1942.85 193.971 L1942.85 197.999 Q1940.55 198.971 1938.15 199.481 Q1935.74 199.99 1933.26 199.99 Q1927.06 199.99 1923.42 196.379 Q1919.81 192.768 1919.81 186.61 Q1919.81 180.245 1923.24 176.518 Q1926.69 172.768 1932.52 172.768 Q1937.75 172.768 1940.79 176.147 Q1943.84 179.504 1943.84 185.291 M1939.58 184.041 Q1939.54 180.546 1937.61 178.462 Q1935.72 176.379 1932.57 176.379 Q1929 176.379 1926.85 178.393 Q1924.72 180.407 1924.4 184.064 L1939.58 184.041 Z\" fill=\"#000000\" fill-rule=\"evenodd\" fill-opacity=\"1\" /><path clip-path=\"url(#clip900)\" d=\"M1969.49 174.388 L1969.49 178.37 Q1967.68 177.374 1965.85 176.888 Q1964.05 176.379 1962.2 176.379 Q1958.05 176.379 1955.76 179.018 Q1953.47 181.633 1953.47 186.379 Q1953.47 191.124 1955.76 193.763 Q1958.05 196.379 1962.2 196.379 Q1964.05 196.379 1965.85 195.893 Q1967.68 195.383 1969.49 194.388 L1969.49 198.323 Q1967.71 199.157 1965.79 199.573 Q1963.89 199.99 1961.73 199.99 Q1955.88 199.99 1952.43 196.309 Q1948.98 192.629 1948.98 186.379 Q1948.98 180.036 1952.45 176.402 Q1955.95 172.768 1962.01 172.768 Q1963.98 172.768 1965.85 173.184 Q1967.73 173.578 1969.49 174.388 Z\" fill=\"#000000\" fill-rule=\"evenodd\" fill-opacity=\"1\" /><path clip-path=\"url(#clip900)\" d=\"M1986.94 176.379 Q1983.52 176.379 1981.53 179.064 Q1979.54 181.726 1979.54 186.379 Q1979.54 191.032 1981.5 193.717 Q1983.49 196.379 1986.94 196.379 Q1990.35 196.379 1992.34 193.694 Q1994.33 191.008 1994.33 186.379 Q1994.33 181.772 1992.34 179.087 Q1990.35 176.379 1986.94 176.379 M1986.94 172.768 Q1992.5 172.768 1995.67 176.379 Q1998.84 179.99 1998.84 186.379 Q1998.84 192.745 1995.67 196.379 Q1992.5 199.99 1986.94 199.99 Q1981.36 199.99 1978.19 196.379 Q1975.04 192.745 1975.04 186.379 Q1975.04 179.99 1978.19 176.379 Q1981.36 172.768 1986.94 172.768 Z\" fill=\"#000000\" fill-rule=\"evenodd\" fill-opacity=\"1\" /><path clip-path=\"url(#clip900)\" d=\"M2002.85 173.393 L2007.36 173.393 L2015.46 195.152 L2023.56 173.393 L2028.08 173.393 L2018.35 199.319 L2012.57 199.319 L2002.85 173.393 Z\" fill=\"#000000\" fill-rule=\"evenodd\" fill-opacity=\"1\" /><path clip-path=\"url(#clip900)\" d=\"M2056.13 185.291 L2056.13 187.374 L2036.55 187.374 Q2036.83 191.772 2039.19 194.087 Q2041.57 196.379 2045.81 196.379 Q2048.26 196.379 2050.55 195.777 Q2052.87 195.175 2055.14 193.971 L2055.14 197.999 Q2052.85 198.971 2050.44 199.481 Q2048.03 199.99 2045.55 199.99 Q2039.35 199.99 2035.72 196.379 Q2032.1 192.768 2032.1 186.61 Q2032.1 180.245 2035.53 176.518 Q2038.98 172.768 2044.81 172.768 Q2050.04 172.768 2053.08 176.147 Q2056.13 179.504 2056.13 185.291 M2051.87 184.041 Q2051.83 180.546 2049.91 178.462 Q2048.01 176.379 2044.86 176.379 Q2041.29 176.379 2039.14 178.393 Q2037.01 180.407 2036.69 184.064 L2051.87 184.041 Z\" fill=\"#000000\" fill-rule=\"evenodd\" fill-opacity=\"1\" /><path clip-path=\"url(#clip900)\" d=\"M2078.15 177.374 Q2077.43 176.958 2076.57 176.772 Q2075.74 176.564 2074.72 176.564 Q2071.11 176.564 2069.16 178.925 Q2067.24 181.263 2067.24 185.661 L2067.24 199.319 L2062.96 199.319 L2062.96 173.393 L2067.24 173.393 L2067.24 177.421 Q2068.59 175.059 2070.74 173.925 Q2072.89 172.768 2075.97 172.768 Q2076.41 172.768 2076.94 172.837 Q2077.47 172.884 2078.12 172.999 L2078.15 177.374 Z\" fill=\"#000000\" fill-rule=\"evenodd\" fill-opacity=\"1\" /><path clip-path=\"url(#clip900)\" d=\"M2093.4 201.726 Q2091.59 206.356 2089.88 207.768 Q2088.17 209.18 2085.3 209.18 L2081.9 209.18 L2081.9 205.615 L2084.4 205.615 Q2086.16 205.615 2087.13 204.782 Q2088.1 203.948 2089.28 200.846 L2090.04 198.902 L2079.56 173.393 L2084.07 173.393 L2092.17 193.67 L2100.28 173.393 L2104.79 173.393 L2093.4 201.726 Z\" fill=\"#000000\" fill-rule=\"evenodd\" fill-opacity=\"1\" /><path clip-path=\"url(#clip900)\" d=\"M2147.91 185.291 L2147.91 187.374 L2128.33 187.374 Q2128.61 191.772 2130.97 194.087 Q2133.35 196.379 2137.59 196.379 Q2140.04 196.379 2142.34 195.777 Q2144.65 195.175 2146.92 193.971 L2146.92 197.999 Q2144.63 198.971 2142.22 199.481 Q2139.81 199.99 2137.34 199.99 Q2131.13 199.99 2127.5 196.379 Q2123.89 192.768 2123.89 186.61 Q2123.89 180.245 2127.31 176.518 Q2130.76 172.768 2136.59 172.768 Q2141.83 172.768 2144.86 176.147 Q2147.91 179.504 2147.91 185.291 M2143.65 184.041 Q2143.61 180.546 2141.69 178.462 Q2139.79 176.379 2136.64 176.379 Q2133.08 176.379 2130.92 178.393 Q2128.79 180.407 2128.47 184.064 L2143.65 184.041 Z\" fill=\"#000000\" fill-rule=\"evenodd\" fill-opacity=\"1\" /><path clip-path=\"url(#clip900)\" d=\"M2169.93 177.374 Q2169.21 176.958 2168.35 176.772 Q2167.52 176.564 2166.5 176.564 Q2162.89 176.564 2160.95 178.925 Q2159.03 181.263 2159.03 185.661 L2159.03 199.319 L2154.74 199.319 L2154.74 173.393 L2159.03 173.393 L2159.03 177.421 Q2160.37 175.059 2162.52 173.925 Q2164.67 172.768 2167.75 172.768 Q2168.19 172.768 2168.72 172.837 Q2169.26 172.884 2169.9 172.999 L2169.93 177.374 Z\" fill=\"#000000\" fill-rule=\"evenodd\" fill-opacity=\"1\" /><path clip-path=\"url(#clip900)\" d=\"M2188.59 177.374 Q2187.87 176.958 2187.01 176.772 Q2186.18 176.564 2185.16 176.564 Q2181.55 176.564 2179.6 178.925 Q2177.68 181.263 2177.68 185.661 L2177.68 199.319 L2173.4 199.319 L2173.4 173.393 L2177.68 173.393 L2177.68 177.421 Q2179.02 175.059 2181.18 173.925 Q2183.33 172.768 2186.41 172.768 Q2186.85 172.768 2187.38 172.837 Q2187.91 172.884 2188.56 172.999 L2188.59 177.374 Z\" fill=\"#000000\" fill-rule=\"evenodd\" fill-opacity=\"1\" /><path clip-path=\"url(#clip900)\" d=\"M2202.06 176.379 Q2198.63 176.379 2196.64 179.064 Q2194.65 181.726 2194.65 186.379 Q2194.65 191.032 2196.62 193.717 Q2198.61 196.379 2202.06 196.379 Q2205.46 196.379 2207.45 193.694 Q2209.44 191.008 2209.44 186.379 Q2209.44 181.772 2207.45 179.087 Q2205.46 176.379 2202.06 176.379 M2202.06 172.768 Q2207.61 172.768 2210.78 176.379 Q2213.96 179.99 2213.96 186.379 Q2213.96 192.745 2210.78 196.379 Q2207.61 199.99 2202.06 199.99 Q2196.48 199.99 2193.31 196.379 Q2190.16 192.745 2190.16 186.379 Q2190.16 179.99 2193.31 176.379 Q2196.48 172.768 2202.06 172.768 Z\" fill=\"#000000\" fill-rule=\"evenodd\" fill-opacity=\"1\" /><path clip-path=\"url(#clip900)\" d=\"M2236.04 177.374 Q2235.32 176.958 2234.46 176.772 Q2233.63 176.564 2232.61 176.564 Q2229 176.564 2227.06 178.925 Q2225.14 181.263 2225.14 185.661 L2225.14 199.319 L2220.85 199.319 L2220.85 173.393 L2225.14 173.393 L2225.14 177.421 Q2226.48 175.059 2228.63 173.925 Q2230.78 172.768 2233.86 172.768 Q2234.3 172.768 2234.83 172.837 Q2235.37 172.884 2236.02 172.999 L2236.04 177.374 Z\" fill=\"#000000\" fill-rule=\"evenodd\" fill-opacity=\"1\" /><polyline clip-path=\"url(#clip900)\" style=\"stroke:#e26f46; stroke-linecap:butt; stroke-linejoin:round; stroke-width:4; stroke-opacity:1; fill:none\" points=\"\n  1739.65,271.378 1879.71,271.378 \n  \"/>\n<path clip-path=\"url(#clip900)\" d=\"M1939.29 237.88 L1939.29 236.381 Q1945.06 236.381 1948.03 233.313 Q1948.85 233.313 1948.99 233.5 Q1949.13 233.687 1949.13 234.554 L1949.13 261.466 Q1949.13 262.895 1949.83 263.34 Q1950.54 263.785 1953.61 263.785 L1955.13 263.785 L1955.13 265.261 Q1953.44 265.12 1947.35 265.12 Q1941.26 265.12 1939.6 265.261 L1939.6 263.785 L1941.12 263.785 Q1944.14 263.785 1944.87 263.364 Q1945.59 262.919 1945.59 261.466 L1945.59 236.615 Q1943.09 237.88 1939.29 237.88 Z\" fill=\"#000000\" fill-rule=\"evenodd\" fill-opacity=\"1\" /><path clip-path=\"url(#clip900)\" d=\"\nM1913.29 278.061 L1986.86 278.061 L1986.86 275.501 L1913.29 275.501  Z\n  \" fill=\"#000000\" fill-rule=\"evenodd\" fill-opacity=\"1\"/>\n<path clip-path=\"url(#clip900)\" d=\"M1913.29 313.035 L1918.05 305.692 L1919.99 315.435 L1920.35 317.21 Q1920.44 316.746 1920.68 315.96 Q1920.94 315.153 1920.98 314.951 L1927.37 290.401 Q1927.42 290.239 1927.48 289.977 Q1927.56 289.695 1927.6 289.594 Q1927.64 289.493 1927.7 289.291 Q1927.76 289.09 1927.8 289.029 Q1927.84 288.948 1927.9 288.807 Q1927.96 288.666 1928.04 288.626 Q1928.12 288.585 1928.22 288.505 Q1928.32 288.424 1928.44 288.404 Q1928.59 288.384 1928.73 288.363 Q1928.87 288.343 1929.07 288.343 L1932.68 288.343 Q1933.95 288.343 1933.95 289.17 Q1933.95 289.997 1932.72 289.997 L1929.19 289.997 L1920.86 321.85 Q1920.74 322.314 1920.64 322.496 Q1920.56 322.677 1920.27 322.839 Q1919.99 323 1919.49 323 L1919.08 323 L1916.44 309.868 L1913.96 313.7 L1913.29 313.035 Z\" fill=\"#000000\" fill-rule=\"evenodd\" fill-opacity=\"1\" /><path clip-path=\"url(#clip900)\" d=\"\nM1932.59 290.017 L1981.74 290.017 L1981.74 288.301 L1932.59 288.301  Z\n  \" fill=\"#000000\" fill-rule=\"evenodd\" fill-opacity=\"1\"/>\n<path clip-path=\"url(#clip900)\" d=\"M1977.01 315.138 Q1977.01 315.326 1976.8 316.052 Q1976.59 316.778 1976.07 317.902 Q1975.58 319.026 1974.88 320.057 Q1974.2 321.064 1973.08 321.814 Q1971.98 322.54 1970.71 322.54 Q1969.02 322.54 1967.9 321.416 Q1966.78 320.291 1966.78 318.605 Q1966.78 317.691 1967.41 315.958 Q1970.38 308.041 1970.38 305.207 Q1970.38 301.858 1967.78 301.858 Q1966.31 301.858 1964.97 302.467 Q1963.64 303.076 1962.77 303.919 Q1961.9 304.762 1961.22 305.722 Q1960.55 306.683 1960.24 307.315 Q1959.96 307.948 1959.89 308.229 L1957.01 319.799 Q1956.77 320.783 1956.61 321.252 Q1956.45 321.72 1956 322.118 Q1955.56 322.54 1954.85 322.54 Q1954.27 322.54 1953.85 322.188 Q1953.45 321.837 1953.45 321.228 Q1953.45 321.134 1953.57 320.643 Q1953.68 320.151 1953.85 319.471 Q1954.01 318.792 1954.08 318.394 Q1954.92 315.209 1955.04 314.764 L1956.38 309.189 Q1957.1 306.425 1957.1 305.207 Q1957.1 301.858 1954.5 301.858 Q1953.21 301.858 1952 302.35 Q1950.8 302.818 1949.98 303.474 Q1949.16 304.13 1948.41 305.043 Q1947.69 305.933 1947.31 306.542 Q1946.96 307.128 1946.68 307.713 L1946.07 310.102 Q1945.93 310.758 1945.25 313.311 L1944.2 317.644 Q1943.45 320.877 1943.28 321.181 Q1943.05 321.837 1942.53 322.188 Q1942.02 322.54 1941.5 322.54 Q1940.92 322.54 1940.52 322.188 Q1940.12 321.837 1940.12 321.228 Q1940.12 321.134 1940.19 320.783 Q1940.26 320.432 1940.38 319.94 Q1940.5 319.448 1940.54 319.167 L1943.33 308.088 Q1943.85 306.074 1943.96 305.441 Q1944.1 304.786 1944.1 304.059 Q1944.1 301.858 1942.6 301.858 Q1941.39 301.858 1940.59 303.31 Q1939.79 304.762 1939.11 307.573 Q1938.9 308.346 1938.76 308.51 Q1938.65 308.674 1938.29 308.674 Q1937.71 308.65 1937.71 308.182 Q1937.71 308.065 1937.9 307.315 Q1938.08 306.566 1938.43 305.441 Q1938.81 304.294 1939.21 303.544 Q1939.44 303.052 1939.65 302.724 Q1939.86 302.396 1940.29 301.881 Q1940.71 301.366 1941.34 301.085 Q1941.97 300.804 1942.74 300.804 Q1944.45 300.804 1945.72 301.905 Q1947.01 303.005 1947.17 304.973 Q1950.29 300.804 1954.64 300.804 Q1957.1 300.804 1958.58 302.045 Q1959.96 303.24 1960.12 305.441 Q1963.36 300.804 1967.95 300.804 Q1970.59 300.804 1972.02 302.186 Q1973.45 303.544 1973.45 305.933 Q1973.45 307.175 1972.82 309.54 Q1972.19 311.883 1971.77 313.054 Q1971.34 314.225 1970.52 316.473 Q1969.66 318.628 1969.66 319.893 Q1969.66 320.713 1969.94 321.088 Q1970.22 321.462 1970.83 321.462 Q1971.77 321.462 1972.58 320.924 Q1973.4 320.361 1973.99 319.448 Q1974.6 318.511 1975 317.574 Q1975.4 316.614 1975.7 315.536 Q1975.89 314.951 1975.98 314.81 Q1976.1 314.67 1976.43 314.67 Q1977.01 314.67 1977.01 315.138 Z\" fill=\"#000000\" fill-rule=\"evenodd\" fill-opacity=\"1\" /></svg>\n",
      "text/html": [
       "<?xml version=\"1.0\" encoding=\"utf-8\"?>\n",
       "<svg xmlns=\"http://www.w3.org/2000/svg\" xmlns:xlink=\"http://www.w3.org/1999/xlink\" width=\"600\" height=\"400\" viewBox=\"0 0 2400 1600\">\n",
       "<defs>\n",
       "  <clipPath id=\"clip950\">\n",
       "    <rect x=\"0\" y=\"0\" width=\"2400\" height=\"1600\"/>\n",
       "  </clipPath>\n",
       "</defs>\n",
       "<path clip-path=\"url(#clip950)\" d=\"\n",
       "M0 1600 L2400 1600 L2400 0 L0 0  Z\n",
       "  \" fill=\"#ffffff\" fill-rule=\"evenodd\" fill-opacity=\"1\"/>\n",
       "<defs>\n",
       "  <clipPath id=\"clip951\">\n",
       "    <rect x=\"480\" y=\"0\" width=\"1681\" height=\"1600\"/>\n",
       "  </clipPath>\n",
       "</defs>\n",
       "<defs>\n",
       "  <clipPath id=\"clip952\">\n",
       "    <rect x=\"251\" y=\"47\" width=\"2102\" height=\"1365\"/>\n",
       "  </clipPath>\n",
       "</defs>\n",
       "<path clip-path=\"url(#clip950)\" d=\"\n",
       "M251.842 1410.9 L2352.76 1410.9 L2352.76 47.2441 L251.842 47.2441  Z\n",
       "  \" fill=\"#ffffff\" fill-rule=\"evenodd\" fill-opacity=\"1\"/>\n",
       "<polyline clip-path=\"url(#clip952)\" style=\"stroke:#000000; stroke-linecap:butt; stroke-linejoin:round; stroke-width:2; stroke-opacity:0.1; fill:none\" points=\"\n",
       "  648.225,1410.9 648.225,47.2441 \n",
       "  \"/>\n",
       "<polyline clip-path=\"url(#clip952)\" style=\"stroke:#000000; stroke-linecap:butt; stroke-linejoin:round; stroke-width:2; stroke-opacity:0.1; fill:none\" points=\"\n",
       "  1767.46,1410.9 1767.46,47.2441 \n",
       "  \"/>\n",
       "<polyline clip-path=\"url(#clip950)\" style=\"stroke:#000000; stroke-linecap:butt; stroke-linejoin:round; stroke-width:4; stroke-opacity:1; fill:none\" points=\"\n",
       "  251.842,1410.9 2352.76,1410.9 \n",
       "  \"/>\n",
       "<polyline clip-path=\"url(#clip950)\" style=\"stroke:#000000; stroke-linecap:butt; stroke-linejoin:round; stroke-width:4; stroke-opacity:1; fill:none\" points=\"\n",
       "  648.225,1410.9 648.225,1392 \n",
       "  \"/>\n",
       "<polyline clip-path=\"url(#clip950)\" style=\"stroke:#000000; stroke-linecap:butt; stroke-linejoin:round; stroke-width:4; stroke-opacity:1; fill:none\" points=\"\n",
       "  1767.46,1410.9 1767.46,1392 \n",
       "  \"/>\n",
       "<path clip-path=\"url(#clip950)\" d=\"M613.668 1485.02 L621.307 1485.02 L621.307 1458.66 L612.997 1460.32 L612.997 1456.06 L621.261 1454.4 L625.937 1454.4 L625.937 1485.02 L633.575 1485.02 L633.575 1488.96 L613.668 1488.96 L613.668 1485.02 Z\" fill=\"#000000\" fill-rule=\"evenodd\" fill-opacity=\"1\" /><path clip-path=\"url(#clip950)\" d=\"M653.02 1457.48 Q649.409 1457.48 647.58 1461.04 Q645.774 1464.58 645.774 1471.71 Q645.774 1478.82 647.58 1482.38 Q649.409 1485.92 653.02 1485.92 Q656.654 1485.92 658.46 1482.38 Q660.288 1478.82 660.288 1471.71 Q660.288 1464.58 658.46 1461.04 Q656.654 1457.48 653.02 1457.48 M653.02 1453.77 Q658.83 1453.77 661.885 1458.38 Q664.964 1462.96 664.964 1471.71 Q664.964 1480.44 661.885 1485.04 Q658.83 1489.63 653.02 1489.63 Q647.21 1489.63 644.131 1485.04 Q641.075 1480.44 641.075 1471.71 Q641.075 1462.96 644.131 1458.38 Q647.21 1453.77 653.02 1453.77 Z\" fill=\"#000000\" fill-rule=\"evenodd\" fill-opacity=\"1\" /><path clip-path=\"url(#clip950)\" d=\"M677.659 1446.41 Q680.387 1446.99 681.91 1448.83 Q683.452 1450.68 683.452 1453.38 Q683.452 1457.54 680.593 1459.82 Q677.735 1462.09 672.468 1462.09 Q670.701 1462.09 668.82 1461.73 Q666.958 1461.4 664.964 1460.7 L664.964 1457.03 Q666.544 1457.95 668.425 1458.42 Q670.306 1458.89 672.356 1458.89 Q675.929 1458.89 677.791 1457.48 Q679.672 1456.07 679.672 1453.38 Q679.672 1450.9 677.923 1449.51 Q676.192 1448.1 673.089 1448.1 L669.817 1448.1 L669.817 1444.98 L673.24 1444.98 Q676.042 1444.98 677.528 1443.87 Q679.014 1442.74 679.014 1440.63 Q679.014 1438.47 677.471 1437.32 Q675.948 1436.16 673.089 1436.16 Q671.528 1436.16 669.741 1436.49 Q667.955 1436.83 665.811 1437.55 L665.811 1434.16 Q667.973 1433.56 669.854 1433.26 Q671.754 1432.96 673.428 1432.96 Q677.753 1432.96 680.274 1434.93 Q682.794 1436.89 682.794 1440.24 Q682.794 1442.57 681.459 1444.19 Q680.123 1445.79 677.659 1446.41 Z\" fill=\"#000000\" fill-rule=\"evenodd\" fill-opacity=\"1\" /><path clip-path=\"url(#clip950)\" d=\"M1731.91 1485.02 L1739.55 1485.02 L1739.55 1458.66 L1731.24 1460.32 L1731.24 1456.06 L1739.51 1454.4 L1744.18 1454.4 L1744.18 1485.02 L1751.82 1485.02 L1751.82 1488.96 L1731.91 1488.96 L1731.91 1485.02 Z\" fill=\"#000000\" fill-rule=\"evenodd\" fill-opacity=\"1\" /><path clip-path=\"url(#clip950)\" d=\"M1771.26 1457.48 Q1767.65 1457.48 1765.82 1461.04 Q1764.02 1464.58 1764.02 1471.71 Q1764.02 1478.82 1765.82 1482.38 Q1767.65 1485.92 1771.26 1485.92 Q1774.9 1485.92 1776.7 1482.38 Q1778.53 1478.82 1778.53 1471.71 Q1778.53 1464.58 1776.7 1461.04 Q1774.9 1457.48 1771.26 1457.48 M1771.26 1453.77 Q1777.07 1453.77 1780.13 1458.38 Q1783.21 1462.96 1783.21 1471.71 Q1783.21 1480.44 1780.13 1485.04 Q1777.07 1489.63 1771.26 1489.63 Q1765.45 1489.63 1762.38 1485.04 Q1759.32 1480.44 1759.32 1471.71 Q1759.32 1462.96 1762.38 1458.38 Q1765.45 1453.77 1771.26 1453.77 Z\" fill=\"#000000\" fill-rule=\"evenodd\" fill-opacity=\"1\" /><path clip-path=\"url(#clip950)\" d=\"M1795.89 1436.78 L1786.29 1451.77 L1795.89 1451.77 L1795.89 1436.78 M1794.89 1433.47 L1799.67 1433.47 L1799.67 1451.77 L1803.67 1451.77 L1803.67 1454.93 L1799.67 1454.93 L1799.67 1461.55 L1795.89 1461.55 L1795.89 1454.93 L1783.21 1454.93 L1783.21 1451.26 L1794.89 1433.47 Z\" fill=\"#000000\" fill-rule=\"evenodd\" fill-opacity=\"1\" /><path clip-path=\"url(#clip950)\" d=\"M929.173 1552.67 L929.173 1574.19 L923.317 1574.19 L923.317 1552.86 Q923.317 1547.8 921.343 1545.29 Q919.37 1542.77 915.423 1542.77 Q910.681 1542.77 907.944 1545.79 Q905.206 1548.82 905.206 1554.04 L905.206 1574.19 L899.318 1574.19 L899.318 1538.54 L905.206 1538.54 L905.206 1544.08 Q907.307 1540.86 910.14 1539.27 Q913.004 1537.68 916.728 1537.68 Q922.871 1537.68 926.022 1541.5 Q929.173 1545.29 929.173 1552.67 Z\" fill=\"#000000\" fill-rule=\"evenodd\" fill-opacity=\"1\" /><path clip-path=\"url(#clip950)\" d=\"M940.25 1560.12 L940.25 1538.54 L946.106 1538.54 L946.106 1559.89 Q946.106 1564.96 948.079 1567.5 Q950.053 1570.02 953.999 1570.02 Q958.742 1570.02 961.479 1566.99 Q964.248 1563.97 964.248 1558.75 L964.248 1538.54 L970.105 1538.54 L970.105 1574.19 L964.248 1574.19 L964.248 1568.71 Q962.116 1571.96 959.283 1573.55 Q956.482 1575.11 952.758 1575.11 Q946.615 1575.11 943.432 1571.29 Q940.25 1567.47 940.25 1560.12 M954.986 1537.68 L954.986 1537.68 Z\" fill=\"#000000\" fill-rule=\"evenodd\" fill-opacity=\"1\" /><path clip-path=\"url(#clip950)\" d=\"M1009.92 1545.38 Q1012.12 1541.43 1015.17 1539.56 Q1018.23 1537.68 1022.37 1537.68 Q1027.94 1537.68 1030.96 1541.59 Q1033.98 1545.48 1033.98 1552.67 L1033.98 1574.19 L1028.1 1574.19 L1028.1 1552.86 Q1028.1 1547.74 1026.28 1545.25 Q1024.47 1542.77 1020.74 1542.77 Q1016.19 1542.77 1013.55 1545.79 Q1010.91 1548.82 1010.91 1554.04 L1010.91 1574.19 L1005.02 1574.19 L1005.02 1552.86 Q1005.02 1547.7 1003.21 1545.25 Q1001.39 1542.77 997.605 1542.77 Q993.117 1542.77 990.475 1545.83 Q987.833 1548.85 987.833 1554.04 L987.833 1574.19 L981.945 1574.19 L981.945 1538.54 L987.833 1538.54 L987.833 1544.08 Q989.838 1540.8 992.639 1539.24 Q995.44 1537.68 999.292 1537.68 Q1003.17 1537.68 1005.88 1539.65 Q1008.62 1541.62 1009.92 1545.38 Z\" fill=\"#000000\" fill-rule=\"evenodd\" fill-opacity=\"1\" /><path clip-path=\"url(#clip950)\" d=\"M1071.26 1556.39 Q1071.26 1549.93 1068.58 1546.27 Q1065.94 1542.58 1061.29 1542.58 Q1056.65 1542.58 1053.97 1546.27 Q1051.33 1549.93 1051.33 1556.39 Q1051.33 1562.85 1053.97 1566.55 Q1056.65 1570.21 1061.29 1570.21 Q1065.94 1570.21 1068.58 1566.55 Q1071.26 1562.85 1071.26 1556.39 M1051.33 1543.95 Q1053.18 1540.77 1055.98 1539.24 Q1058.81 1537.68 1062.73 1537.68 Q1069.22 1537.68 1073.26 1542.83 Q1077.34 1547.99 1077.34 1556.39 Q1077.34 1564.8 1073.26 1569.95 Q1069.22 1575.11 1062.73 1575.11 Q1058.81 1575.11 1055.98 1573.58 Q1053.18 1572.02 1051.33 1568.84 L1051.33 1574.19 L1045.44 1574.19 L1045.44 1524.66 L1051.33 1524.66 L1051.33 1543.95 Z\" fill=\"#000000\" fill-rule=\"evenodd\" fill-opacity=\"1\" /><path clip-path=\"url(#clip950)\" d=\"M1117.53 1554.9 L1117.53 1557.76 L1090.61 1557.76 Q1090.99 1563.81 1094.24 1566.99 Q1097.51 1570.14 1103.34 1570.14 Q1106.71 1570.14 1109.86 1569.32 Q1113.05 1568.49 1116.17 1566.83 L1116.17 1572.37 Q1113.01 1573.71 1109.7 1574.41 Q1106.39 1575.11 1102.99 1575.11 Q1094.46 1575.11 1089.46 1570.14 Q1084.5 1565.18 1084.5 1556.71 Q1084.5 1547.96 1089.21 1542.83 Q1093.95 1537.68 1101.97 1537.68 Q1109.16 1537.68 1113.33 1542.33 Q1117.53 1546.94 1117.53 1554.9 M1111.68 1553.18 Q1111.61 1548.37 1108.97 1545.51 Q1106.36 1542.64 1102.03 1542.64 Q1097.13 1542.64 1094.17 1545.41 Q1091.24 1548.18 1090.8 1553.21 L1111.68 1553.18 Z\" fill=\"#000000\" fill-rule=\"evenodd\" fill-opacity=\"1\" /><path clip-path=\"url(#clip950)\" d=\"M1147.8 1544.01 Q1146.82 1543.44 1145.64 1543.18 Q1144.49 1542.9 1143.09 1542.9 Q1138.13 1542.9 1135.45 1546.14 Q1132.81 1549.36 1132.81 1555.41 L1132.81 1574.19 L1126.92 1574.19 L1126.92 1538.54 L1132.81 1538.54 L1132.81 1544.08 Q1134.66 1540.83 1137.62 1539.27 Q1140.58 1537.68 1144.81 1537.68 Q1145.42 1537.68 1146.15 1537.77 Q1146.88 1537.84 1147.77 1538 L1147.8 1544.01 Z\" fill=\"#000000\" fill-rule=\"evenodd\" fill-opacity=\"1\" /><path clip-path=\"url(#clip950)\" d=\"M1188.48 1542.64 Q1183.77 1542.64 1181.03 1546.34 Q1178.3 1550 1178.3 1556.39 Q1178.3 1562.79 1181 1566.48 Q1183.74 1570.14 1188.48 1570.14 Q1193.16 1570.14 1195.9 1566.45 Q1198.63 1562.76 1198.63 1556.39 Q1198.63 1550.06 1195.9 1546.37 Q1193.16 1542.64 1188.48 1542.64 M1188.48 1537.68 Q1196.12 1537.68 1200.48 1542.64 Q1204.84 1547.61 1204.84 1556.39 Q1204.84 1565.15 1200.48 1570.14 Q1196.12 1575.11 1188.48 1575.11 Q1180.81 1575.11 1176.45 1570.14 Q1172.12 1565.15 1172.12 1556.39 Q1172.12 1547.61 1176.45 1542.64 Q1180.81 1537.68 1188.48 1537.68 Z\" fill=\"#000000\" fill-rule=\"evenodd\" fill-opacity=\"1\" /><path clip-path=\"url(#clip950)\" d=\"M1232.59 1524.66 L1232.59 1529.53 L1226.99 1529.53 Q1223.84 1529.53 1222.6 1530.8 Q1221.39 1532.08 1221.39 1535.39 L1221.39 1538.54 L1231.04 1538.54 L1231.04 1543.09 L1221.39 1543.09 L1221.39 1574.19 L1215.5 1574.19 L1215.5 1543.09 L1209.9 1543.09 L1209.9 1538.54 L1215.5 1538.54 L1215.5 1536.05 Q1215.5 1530.1 1218.27 1527.4 Q1221.04 1524.66 1227.06 1524.66 L1232.59 1524.66 Z\" fill=\"#000000\" fill-rule=\"evenodd\" fill-opacity=\"1\" /><path clip-path=\"url(#clip950)\" d=\"M1285.97 1545.38 Q1288.17 1541.43 1291.22 1539.56 Q1294.28 1537.68 1298.42 1537.68 Q1303.99 1537.68 1307.01 1541.59 Q1310.03 1545.48 1310.03 1552.67 L1310.03 1574.19 L1304.15 1574.19 L1304.15 1552.86 Q1304.15 1547.74 1302.33 1545.25 Q1300.52 1542.77 1296.79 1542.77 Q1292.24 1542.77 1289.6 1545.79 Q1286.96 1548.82 1286.96 1554.04 L1286.96 1574.19 L1281.07 1574.19 L1281.07 1552.86 Q1281.07 1547.7 1279.26 1545.25 Q1277.44 1542.77 1273.65 1542.77 Q1269.17 1542.77 1266.52 1545.83 Q1263.88 1548.85 1263.88 1554.04 L1263.88 1574.19 L1257.99 1574.19 L1257.99 1538.54 L1263.88 1538.54 L1263.88 1544.08 Q1265.89 1540.8 1268.69 1539.24 Q1271.49 1537.68 1275.34 1537.68 Q1279.22 1537.68 1281.93 1539.65 Q1284.67 1541.62 1285.97 1545.38 Z\" fill=\"#000000\" fill-rule=\"evenodd\" fill-opacity=\"1\" /><path clip-path=\"url(#clip950)\" d=\"M1352.21 1554.9 L1352.21 1557.76 L1325.28 1557.76 Q1325.66 1563.81 1328.91 1566.99 Q1332.19 1570.14 1338.01 1570.14 Q1341.38 1570.14 1344.54 1569.32 Q1347.72 1568.49 1350.84 1566.83 L1350.84 1572.37 Q1347.69 1573.71 1344.38 1574.41 Q1341.07 1575.11 1337.66 1575.11 Q1329.13 1575.11 1324.13 1570.14 Q1319.17 1565.18 1319.17 1556.71 Q1319.17 1547.96 1323.88 1542.83 Q1328.62 1537.68 1336.64 1537.68 Q1343.84 1537.68 1348 1542.33 Q1352.21 1546.94 1352.21 1554.9 M1346.35 1553.18 Q1346.29 1548.37 1343.64 1545.51 Q1341.03 1542.64 1336.71 1542.64 Q1331.8 1542.64 1328.84 1545.41 Q1325.92 1548.18 1325.47 1553.21 L1346.35 1553.18 Z\" fill=\"#000000\" fill-rule=\"evenodd\" fill-opacity=\"1\" /><path clip-path=\"url(#clip950)\" d=\"M1378.02 1556.27 Q1370.92 1556.27 1368.18 1557.89 Q1365.45 1559.51 1365.45 1563.43 Q1365.45 1566.55 1367.48 1568.39 Q1369.55 1570.21 1373.09 1570.21 Q1377.96 1570.21 1380.88 1566.77 Q1383.84 1563.3 1383.84 1557.57 L1383.84 1556.27 L1378.02 1556.27 M1389.7 1553.85 L1389.7 1574.19 L1383.84 1574.19 L1383.84 1568.77 Q1381.84 1572.02 1378.85 1573.58 Q1375.85 1575.11 1371.53 1575.11 Q1366.05 1575.11 1362.81 1572.05 Q1359.59 1568.97 1359.59 1563.81 Q1359.59 1557.79 1363.6 1554.74 Q1367.64 1551.68 1375.63 1551.68 L1383.84 1551.68 L1383.84 1551.11 Q1383.84 1547.07 1381.17 1544.87 Q1378.53 1542.64 1373.72 1542.64 Q1370.67 1542.64 1367.77 1543.38 Q1364.87 1544.11 1362.2 1545.57 L1362.2 1540.16 Q1365.42 1538.92 1368.44 1538.31 Q1371.46 1537.68 1374.33 1537.68 Q1382.06 1537.68 1385.88 1541.69 Q1389.7 1545.7 1389.7 1553.85 Z\" fill=\"#000000\" fill-rule=\"evenodd\" fill-opacity=\"1\" /><path clip-path=\"url(#clip950)\" d=\"M1424.49 1539.59 L1424.49 1545.13 Q1422.01 1543.85 1419.33 1543.22 Q1416.66 1542.58 1413.79 1542.58 Q1409.43 1542.58 1407.24 1543.92 Q1405.07 1545.25 1405.07 1547.93 Q1405.07 1549.96 1406.63 1551.14 Q1408.19 1552.29 1412.9 1553.34 L1414.91 1553.78 Q1421.15 1555.12 1423.76 1557.57 Q1426.4 1559.99 1426.4 1564.35 Q1426.4 1569.32 1422.45 1572.21 Q1418.54 1575.11 1411.66 1575.11 Q1408.8 1575.11 1405.68 1574.54 Q1402.59 1573.99 1399.15 1572.88 L1399.15 1566.83 Q1402.4 1568.52 1405.55 1569.38 Q1408.7 1570.21 1411.79 1570.21 Q1415.93 1570.21 1418.15 1568.81 Q1420.38 1567.37 1420.38 1564.8 Q1420.38 1562.41 1418.76 1561.14 Q1417.17 1559.86 1411.73 1558.68 L1409.69 1558.21 Q1404.25 1557.06 1401.83 1554.71 Q1399.41 1552.32 1399.41 1548.18 Q1399.41 1543.15 1402.97 1540.42 Q1406.54 1537.68 1413.09 1537.68 Q1416.34 1537.68 1419.21 1538.16 Q1422.07 1538.63 1424.49 1539.59 Z\" fill=\"#000000\" fill-rule=\"evenodd\" fill-opacity=\"1\" /><path clip-path=\"url(#clip950)\" d=\"M1435.12 1560.12 L1435.12 1538.54 L1440.98 1538.54 L1440.98 1559.89 Q1440.98 1564.96 1442.95 1567.5 Q1444.92 1570.02 1448.87 1570.02 Q1453.61 1570.02 1456.35 1566.99 Q1459.12 1563.97 1459.12 1558.75 L1459.12 1538.54 L1464.97 1538.54 L1464.97 1574.19 L1459.12 1574.19 L1459.12 1568.71 Q1456.99 1571.96 1454.15 1573.55 Q1451.35 1575.11 1447.63 1575.11 Q1441.49 1575.11 1438.3 1571.29 Q1435.12 1567.47 1435.12 1560.12 M1449.86 1537.68 L1449.86 1537.68 Z\" fill=\"#000000\" fill-rule=\"evenodd\" fill-opacity=\"1\" /><path clip-path=\"url(#clip950)\" d=\"M1497.69 1544.01 Q1496.71 1543.44 1495.53 1543.18 Q1494.38 1542.9 1492.98 1542.9 Q1488.02 1542.9 1485.35 1546.14 Q1482.7 1549.36 1482.7 1555.41 L1482.7 1574.19 L1476.81 1574.19 L1476.81 1538.54 L1482.7 1538.54 L1482.7 1544.08 Q1484.55 1540.83 1487.51 1539.27 Q1490.47 1537.68 1494.7 1537.68 Q1495.31 1537.68 1496.04 1537.77 Q1496.77 1537.84 1497.66 1538 L1497.69 1544.01 Z\" fill=\"#000000\" fill-rule=\"evenodd\" fill-opacity=\"1\" /><path clip-path=\"url(#clip950)\" d=\"M1532.9 1554.9 L1532.9 1557.76 L1505.97 1557.76 Q1506.35 1563.81 1509.6 1566.99 Q1512.88 1570.14 1518.7 1570.14 Q1522.08 1570.14 1525.23 1569.32 Q1528.41 1568.49 1531.53 1566.83 L1531.53 1572.37 Q1528.38 1573.71 1525.07 1574.41 Q1521.76 1575.11 1518.35 1575.11 Q1509.82 1575.11 1504.82 1570.14 Q1499.86 1565.18 1499.86 1556.71 Q1499.86 1547.96 1504.57 1542.83 Q1509.31 1537.68 1517.33 1537.68 Q1524.53 1537.68 1528.7 1542.33 Q1532.9 1546.94 1532.9 1554.9 M1527.04 1553.18 Q1526.98 1548.37 1524.33 1545.51 Q1521.73 1542.64 1517.4 1542.64 Q1512.49 1542.64 1509.53 1545.41 Q1506.61 1548.18 1506.16 1553.21 L1527.04 1553.18 Z\" fill=\"#000000\" fill-rule=\"evenodd\" fill-opacity=\"1\" /><path clip-path=\"url(#clip950)\" d=\"M1570.26 1545.38 Q1572.46 1541.43 1575.52 1539.56 Q1578.57 1537.68 1582.71 1537.68 Q1588.28 1537.68 1591.3 1541.59 Q1594.33 1545.48 1594.33 1552.67 L1594.33 1574.19 L1588.44 1574.19 L1588.44 1552.86 Q1588.44 1547.74 1586.62 1545.25 Q1584.81 1542.77 1581.09 1542.77 Q1576.53 1542.77 1573.89 1545.79 Q1571.25 1548.82 1571.25 1554.04 L1571.25 1574.19 L1565.36 1574.19 L1565.36 1552.86 Q1565.36 1547.7 1563.55 1545.25 Q1561.73 1542.77 1557.95 1542.77 Q1553.46 1542.77 1550.82 1545.83 Q1548.17 1548.85 1548.17 1554.04 L1548.17 1574.19 L1542.29 1574.19 L1542.29 1538.54 L1548.17 1538.54 L1548.17 1544.08 Q1550.18 1540.8 1552.98 1539.24 Q1555.78 1537.68 1559.63 1537.68 Q1563.52 1537.68 1566.22 1539.65 Q1568.96 1541.62 1570.26 1545.38 Z\" fill=\"#000000\" fill-rule=\"evenodd\" fill-opacity=\"1\" /><path clip-path=\"url(#clip950)\" d=\"M1636.5 1554.9 L1636.5 1557.76 L1609.57 1557.76 Q1609.95 1563.81 1613.2 1566.99 Q1616.48 1570.14 1622.3 1570.14 Q1625.68 1570.14 1628.83 1569.32 Q1632.01 1568.49 1635.13 1566.83 L1635.13 1572.37 Q1631.98 1573.71 1628.67 1574.41 Q1625.36 1575.11 1621.95 1575.11 Q1613.42 1575.11 1608.43 1570.14 Q1603.46 1565.18 1603.46 1556.71 Q1603.46 1547.96 1608.17 1542.83 Q1612.91 1537.68 1620.93 1537.68 Q1628.13 1537.68 1632.3 1542.33 Q1636.5 1546.94 1636.5 1554.9 M1630.64 1553.18 Q1630.58 1548.37 1627.94 1545.51 Q1625.33 1542.64 1621 1542.64 Q1616.1 1542.64 1613.14 1545.41 Q1610.21 1548.18 1609.76 1553.21 L1630.64 1553.18 Z\" fill=\"#000000\" fill-rule=\"evenodd\" fill-opacity=\"1\" /><path clip-path=\"url(#clip950)\" d=\"M1675.74 1552.67 L1675.74 1574.19 L1669.89 1574.19 L1669.89 1552.86 Q1669.89 1547.8 1667.91 1545.29 Q1665.94 1542.77 1661.99 1542.77 Q1657.25 1542.77 1654.51 1545.79 Q1651.78 1548.82 1651.78 1554.04 L1651.78 1574.19 L1645.89 1574.19 L1645.89 1538.54 L1651.78 1538.54 L1651.78 1544.08 Q1653.88 1540.86 1656.71 1539.27 Q1659.57 1537.68 1663.3 1537.68 Q1669.44 1537.68 1672.59 1541.5 Q1675.74 1545.29 1675.74 1552.67 Z\" fill=\"#000000\" fill-rule=\"evenodd\" fill-opacity=\"1\" /><path clip-path=\"url(#clip950)\" d=\"M1693.22 1528.42 L1693.22 1538.54 L1705.28 1538.54 L1705.28 1543.09 L1693.22 1543.09 L1693.22 1562.44 Q1693.22 1566.8 1694.39 1568.04 Q1695.6 1569.28 1699.26 1569.28 L1705.28 1569.28 L1705.28 1574.19 L1699.26 1574.19 Q1692.49 1574.19 1689.91 1571.67 Q1687.33 1569.12 1687.33 1562.44 L1687.33 1543.09 L1683.03 1543.09 L1683.03 1538.54 L1687.33 1538.54 L1687.33 1528.42 L1693.22 1528.42 Z\" fill=\"#000000\" fill-rule=\"evenodd\" fill-opacity=\"1\" /><polyline clip-path=\"url(#clip952)\" style=\"stroke:#000000; stroke-linecap:butt; stroke-linejoin:round; stroke-width:2; stroke-opacity:0.1; fill:none\" points=\"\n",
       "  251.842,1383.21 2352.76,1383.21 \n",
       "  \"/>\n",
       "<polyline clip-path=\"url(#clip952)\" style=\"stroke:#000000; stroke-linecap:butt; stroke-linejoin:round; stroke-width:2; stroke-opacity:0.1; fill:none\" points=\"\n",
       "  251.842,660.262 2352.76,660.262 \n",
       "  \"/>\n",
       "<polyline clip-path=\"url(#clip950)\" style=\"stroke:#000000; stroke-linecap:butt; stroke-linejoin:round; stroke-width:4; stroke-opacity:1; fill:none\" points=\"\n",
       "  251.842,1410.9 251.842,47.2441 \n",
       "  \"/>\n",
       "<polyline clip-path=\"url(#clip950)\" style=\"stroke:#000000; stroke-linecap:butt; stroke-linejoin:round; stroke-width:4; stroke-opacity:1; fill:none\" points=\"\n",
       "  251.842,1383.21 270.74,1383.21 \n",
       "  \"/>\n",
       "<polyline clip-path=\"url(#clip950)\" style=\"stroke:#000000; stroke-linecap:butt; stroke-linejoin:round; stroke-width:4; stroke-opacity:1; fill:none\" points=\"\n",
       "  251.842,660.262 270.74,660.262 \n",
       "  \"/>\n",
       "<path clip-path=\"url(#clip950)\" d=\"M114.931 1403.01 L122.57 1403.01 L122.57 1376.64 L114.26 1378.31 L114.26 1374.05 L122.524 1372.38 L127.2 1372.38 L127.2 1403.01 L134.839 1403.01 L134.839 1406.94 L114.931 1406.94 L114.931 1403.01 Z\" fill=\"#000000\" fill-rule=\"evenodd\" fill-opacity=\"1\" /><path clip-path=\"url(#clip950)\" d=\"M154.283 1375.46 Q150.672 1375.46 148.843 1379.02 Q147.038 1382.57 147.038 1389.7 Q147.038 1396.8 148.843 1400.37 Q150.672 1403.91 154.283 1403.91 Q157.917 1403.91 159.723 1400.37 Q161.552 1396.8 161.552 1389.7 Q161.552 1382.57 159.723 1379.02 Q157.917 1375.46 154.283 1375.46 M154.283 1371.76 Q160.093 1371.76 163.149 1376.36 Q166.227 1380.95 166.227 1389.7 Q166.227 1398.42 163.149 1403.03 Q160.093 1407.61 154.283 1407.61 Q148.473 1407.61 145.394 1403.03 Q142.339 1398.42 142.339 1389.7 Q142.339 1380.95 145.394 1376.36 Q148.473 1371.76 154.283 1371.76 Z\" fill=\"#000000\" fill-rule=\"evenodd\" fill-opacity=\"1\" /><path clip-path=\"url(#clip950)\" d=\"M166.227 1365.86 L190.339 1365.86 L190.339 1369.05 L166.227 1369.05 L166.227 1365.86 Z\" fill=\"#000000\" fill-rule=\"evenodd\" fill-opacity=\"1\" /><path clip-path=\"url(#clip950)\" d=\"M210.05 1364.39 Q212.777 1364.97 214.3 1366.82 Q215.842 1368.66 215.842 1371.37 Q215.842 1375.52 212.984 1377.8 Q210.125 1380.08 204.859 1380.08 Q203.091 1380.08 201.21 1379.72 Q199.348 1379.38 197.354 1378.68 L197.354 1375.02 Q198.934 1375.94 200.815 1376.41 Q202.696 1376.88 204.746 1376.88 Q208.319 1376.88 210.181 1375.47 Q212.062 1374.06 212.062 1371.37 Q212.062 1368.89 210.313 1367.49 Q208.583 1366.08 205.479 1366.08 L202.207 1366.08 L202.207 1362.96 L205.63 1362.96 Q208.432 1362.96 209.918 1361.85 Q211.404 1360.72 211.404 1358.62 Q211.404 1356.45 209.861 1355.31 Q208.338 1354.14 205.479 1354.14 Q203.918 1354.14 202.132 1354.48 Q200.345 1354.82 198.201 1355.53 L198.201 1352.15 Q200.364 1351.54 202.244 1351.24 Q204.144 1350.94 205.818 1350.94 Q210.144 1350.94 212.664 1352.92 Q215.184 1354.87 215.184 1358.22 Q215.184 1360.55 213.849 1362.17 Q212.513 1363.77 210.05 1364.39 Z\" fill=\"#000000\" fill-rule=\"evenodd\" fill-opacity=\"1\" /><path clip-path=\"url(#clip950)\" d=\"M115.703 680.055 L123.341 680.055 L123.341 653.689 L115.031 655.356 L115.031 651.096 L123.295 649.43 L127.971 649.43 L127.971 680.055 L135.61 680.055 L135.61 683.99 L115.703 683.99 L115.703 680.055 Z\" fill=\"#000000\" fill-rule=\"evenodd\" fill-opacity=\"1\" /><path clip-path=\"url(#clip950)\" d=\"M155.054 652.508 Q151.443 652.508 149.614 656.073 Q147.809 659.615 147.809 666.744 Q147.809 673.851 149.614 677.416 Q151.443 680.957 155.054 680.957 Q158.688 680.957 160.494 677.416 Q162.323 673.851 162.323 666.744 Q162.323 659.615 160.494 656.073 Q158.688 652.508 155.054 652.508 M155.054 648.805 Q160.864 648.805 163.92 653.411 Q166.999 657.995 166.999 666.744 Q166.999 675.471 163.92 680.078 Q160.864 684.661 155.054 684.661 Q149.244 684.661 146.165 680.078 Q143.11 675.471 143.11 666.744 Q143.11 657.995 146.165 653.411 Q149.244 648.805 155.054 648.805 Z\" fill=\"#000000\" fill-rule=\"evenodd\" fill-opacity=\"1\" /><path clip-path=\"url(#clip950)\" d=\"M166.999 642.906 L191.11 642.906 L191.11 646.103 L166.999 646.103 L166.999 642.906 Z\" fill=\"#000000\" fill-rule=\"evenodd\" fill-opacity=\"1\" /><path clip-path=\"url(#clip950)\" d=\"M202.583 653.382 L215.842 653.382 L215.842 656.579 L198.013 656.579 L198.013 653.382 Q200.175 651.144 203.899 647.382 Q207.642 643.602 208.601 642.511 Q210.426 640.461 211.14 639.051 Q211.874 637.621 211.874 636.248 Q211.874 634.01 210.294 632.599 Q208.733 631.189 206.213 631.189 Q204.426 631.189 202.432 631.81 Q200.458 632.43 198.201 633.69 L198.201 629.854 Q200.495 628.932 202.489 628.462 Q204.482 627.992 206.138 627.992 Q210.501 627.992 213.096 630.173 Q215.692 632.355 215.692 636.004 Q215.692 637.734 215.034 639.295 Q214.394 640.837 212.683 642.944 Q212.212 643.489 209.692 646.103 Q207.172 648.699 202.583 653.382 Z\" fill=\"#000000\" fill-rule=\"evenodd\" fill-opacity=\"1\" /><path clip-path=\"url(#clip950)\" d=\"M33.8307 1070.42 Q33.2578 1071.4 33.0032 1072.58 Q32.7167 1073.73 32.7167 1075.13 Q32.7167 1080.09 35.9632 1082.76 Q39.1779 1085.41 45.2253 1085.41 L64.0042 1085.41 L64.0042 1091.29 L28.3562 1091.29 L28.3562 1085.41 L33.8944 1085.41 Q30.6479 1083.56 29.0883 1080.6 Q27.4968 1077.64 27.4968 1073.41 Q27.4968 1072.8 27.5923 1072.07 Q27.656 1071.34 27.8151 1070.45 L33.8307 1070.42 Z\" fill=\"#000000\" fill-rule=\"evenodd\" fill-opacity=\"1\" /><path clip-path=\"url(#clip950)\" d=\"M44.7161 1035.21 L47.5806 1035.21 L47.5806 1062.14 Q53.6281 1061.76 56.8109 1058.51 Q59.9619 1055.23 59.9619 1049.41 Q59.9619 1046.03 59.1344 1042.88 Q58.3069 1039.7 56.6518 1036.58 L62.1899 1036.58 Q63.5267 1039.73 64.227 1043.04 Q64.9272 1046.35 64.9272 1049.76 Q64.9272 1058.29 59.9619 1063.29 Q54.9967 1068.25 46.5303 1068.25 Q37.7774 1068.25 32.6531 1063.54 Q27.4968 1058.8 27.4968 1050.78 Q27.4968 1043.58 32.1438 1039.41 Q36.7589 1035.21 44.7161 1035.21 M42.9973 1041.07 Q38.1912 1041.13 35.3266 1043.77 Q32.4621 1046.38 32.4621 1050.71 Q32.4621 1055.62 35.2312 1058.58 Q38.0002 1061.5 43.0292 1061.95 L42.9973 1041.07 Z\" fill=\"#000000\" fill-rule=\"evenodd\" fill-opacity=\"1\" /><path clip-path=\"url(#clip950)\" d=\"M14.479 1025.6 L14.479 1019.74 L64.0042 1019.74 L64.0042 1025.6 L14.479 1025.6 Z\" fill=\"#000000\" fill-rule=\"evenodd\" fill-opacity=\"1\" /><path clip-path=\"url(#clip950)\" d=\"M46.0847 991.29 Q46.0847 998.388 47.7079 1001.12 Q49.3312 1003.86 53.2461 1003.86 Q56.3653 1003.86 58.2114 1001.82 Q60.0256 999.756 60.0256 996.223 Q60.0256 991.353 56.5881 988.425 Q53.1188 985.465 47.3897 985.465 L46.0847 985.465 L46.0847 991.29 M43.6657 979.609 L64.0042 979.609 L64.0042 985.465 L58.5933 985.465 Q61.8398 987.47 63.3994 990.462 Q64.9272 993.454 64.9272 997.783 Q64.9272 1003.26 61.8716 1006.5 Q58.7843 1009.72 53.6281 1009.72 Q47.6125 1009.72 44.5569 1005.71 Q41.5014 1001.67 41.5014 993.677 L41.5014 985.465 L40.9285 985.465 Q36.8862 985.465 34.6901 988.139 Q32.4621 990.78 32.4621 995.587 Q32.4621 998.642 33.1941 1001.54 Q33.9262 1004.43 35.3903 1007.11 L29.9795 1007.11 Q28.7381 1003.89 28.1334 1000.87 Q27.4968 997.846 27.4968 994.982 Q27.4968 987.248 31.5072 983.428 Q35.5176 979.609 43.6657 979.609 Z\" fill=\"#000000\" fill-rule=\"evenodd\" fill-opacity=\"1\" /><path clip-path=\"url(#clip950)\" d=\"M18.2347 961.753 L28.3562 961.753 L28.3562 949.69 L32.9077 949.69 L32.9077 961.753 L52.2594 961.753 Q56.6199 961.753 57.8613 960.575 Q59.1026 959.366 59.1026 955.705 L59.1026 949.69 L64.0042 949.69 L64.0042 955.705 Q64.0042 962.485 61.4897 965.063 Q58.9434 967.641 52.2594 967.641 L32.9077 967.641 L32.9077 971.938 L28.3562 971.938 L28.3562 967.641 L18.2347 967.641 L18.2347 961.753 Z\" fill=\"#000000\" fill-rule=\"evenodd\" fill-opacity=\"1\" /><path clip-path=\"url(#clip950)\" d=\"M28.3562 941.987 L28.3562 936.131 L64.0042 936.131 L64.0042 941.987 L28.3562 941.987 M14.479 941.987 L14.479 936.131 L21.895 936.131 L21.895 941.987 L14.479 941.987 Z\" fill=\"#000000\" fill-rule=\"evenodd\" fill-opacity=\"1\" /><path clip-path=\"url(#clip950)\" d=\"M28.3562 928.078 L28.3562 921.872 L58.275 910.732 L28.3562 899.592 L28.3562 893.385 L64.0042 906.753 L64.0042 914.71 L28.3562 928.078 Z\" fill=\"#000000\" fill-rule=\"evenodd\" fill-opacity=\"1\" /><path clip-path=\"url(#clip950)\" d=\"M44.7161 854.809 L47.5806 854.809 L47.5806 881.736 Q53.6281 881.354 56.8109 878.107 Q59.9619 874.829 59.9619 869.005 Q59.9619 865.631 59.1344 862.48 Q58.3069 859.297 56.6518 856.178 L62.1899 856.178 Q63.5267 859.329 64.227 862.639 Q64.9272 865.949 64.9272 869.355 Q64.9272 877.885 59.9619 882.882 Q54.9967 887.847 46.5303 887.847 Q37.7774 887.847 32.6531 883.136 Q27.4968 878.394 27.4968 870.373 Q27.4968 863.18 32.1438 859.01 Q36.7589 854.809 44.7161 854.809 M42.9973 860.665 Q38.1912 860.729 35.3266 863.371 Q32.4621 865.981 32.4621 870.309 Q32.4621 875.211 35.2312 878.171 Q38.0002 881.099 43.0292 881.545 L42.9973 860.665 Z\" fill=\"#000000\" fill-rule=\"evenodd\" fill-opacity=\"1\" /><path clip-path=\"url(#clip950)\" d=\"M33.8307 803.82 Q33.2578 804.806 33.0032 805.984 Q32.7167 807.13 32.7167 808.53 Q32.7167 813.496 35.9632 816.169 Q39.1779 818.811 45.2253 818.811 L64.0042 818.811 L64.0042 824.699 L28.3562 824.699 L28.3562 818.811 L33.8944 818.811 Q30.6479 816.965 29.0883 814.005 Q27.4968 811.045 27.4968 806.812 Q27.4968 806.207 27.5923 805.475 Q27.656 804.743 27.8151 803.852 L33.8307 803.82 Z\" fill=\"#000000\" fill-rule=\"evenodd\" fill-opacity=\"1\" /><path clip-path=\"url(#clip950)\" d=\"M44.7161 768.617 L47.5806 768.617 L47.5806 795.544 Q53.6281 795.162 56.8109 791.916 Q59.9619 788.637 59.9619 782.813 Q59.9619 779.439 59.1344 776.288 Q58.3069 773.105 56.6518 769.986 L62.1899 769.986 Q63.5267 773.137 64.227 776.447 Q64.9272 779.757 64.9272 783.163 Q64.9272 791.693 59.9619 796.69 Q54.9967 801.655 46.5303 801.655 Q37.7774 801.655 32.6531 796.945 Q27.4968 792.202 27.4968 784.181 Q27.4968 776.988 32.1438 772.819 Q36.7589 768.617 44.7161 768.617 M42.9973 774.474 Q38.1912 774.537 35.3266 777.179 Q32.4621 779.789 32.4621 784.118 Q32.4621 789.019 35.2312 791.979 Q38.0002 794.908 43.0292 795.353 L42.9973 774.474 Z\" fill=\"#000000\" fill-rule=\"evenodd\" fill-opacity=\"1\" /><path clip-path=\"url(#clip950)\" d=\"M29.7248 733.351 L35.1993 733.351 Q33.8307 735.834 33.1623 738.348 Q32.4621 740.831 32.4621 743.377 Q32.4621 749.075 36.0905 752.226 Q39.6872 755.377 46.212 755.377 Q52.7369 755.377 56.3653 752.226 Q59.9619 749.075 59.9619 743.377 Q59.9619 740.831 59.2935 738.348 Q58.5933 735.834 57.2247 733.351 L62.6355 733.351 Q63.7814 735.802 64.3543 738.444 Q64.9272 741.054 64.9272 744.014 Q64.9272 752.066 59.8664 756.809 Q54.8057 761.551 46.212 761.551 Q37.491 761.551 32.4939 756.777 Q27.4968 751.971 27.4968 743.632 Q27.4968 740.926 28.0697 738.348 Q28.6108 735.77 29.7248 733.351 Z\" fill=\"#000000\" fill-rule=\"evenodd\" fill-opacity=\"1\" /><path clip-path=\"url(#clip950)\" d=\"M32.4621 709.353 Q32.4621 714.063 36.1542 716.8 Q39.8145 719.538 46.212 719.538 Q52.6095 719.538 56.3017 716.832 Q59.9619 714.095 59.9619 709.353 Q59.9619 704.674 56.2698 701.937 Q52.5777 699.199 46.212 699.199 Q39.8781 699.199 36.186 701.937 Q32.4621 704.674 32.4621 709.353 M27.4968 709.353 Q27.4968 701.714 32.4621 697.353 Q37.4273 692.993 46.212 692.993 Q54.9649 692.993 59.9619 697.353 Q64.9272 701.714 64.9272 709.353 Q64.9272 717.023 59.9619 721.384 Q54.9649 725.712 46.212 725.712 Q37.4273 725.712 32.4621 721.384 Q27.4968 717.023 27.4968 709.353 Z\" fill=\"#000000\" fill-rule=\"evenodd\" fill-opacity=\"1\" /><path clip-path=\"url(#clip950)\" d=\"M28.3562 687.486 L28.3562 681.28 L58.275 670.14 L28.3562 659 L28.3562 652.793 L64.0042 666.161 L64.0042 674.118 L28.3562 687.486 Z\" fill=\"#000000\" fill-rule=\"evenodd\" fill-opacity=\"1\" /><path clip-path=\"url(#clip950)\" d=\"M44.7161 614.217 L47.5806 614.217 L47.5806 641.144 Q53.6281 640.762 56.8109 637.516 Q59.9619 634.237 59.9619 628.413 Q59.9619 625.039 59.1344 621.888 Q58.3069 618.705 56.6518 615.586 L62.1899 615.586 Q63.5267 618.737 64.227 622.047 Q64.9272 625.357 64.9272 628.763 Q64.9272 637.293 59.9619 642.29 Q54.9967 647.255 46.5303 647.255 Q37.7774 647.255 32.6531 642.545 Q27.4968 637.802 27.4968 629.781 Q27.4968 622.588 32.1438 618.418 Q36.7589 614.217 44.7161 614.217 M42.9973 620.074 Q38.1912 620.137 35.3266 622.779 Q32.4621 625.389 32.4621 629.718 Q32.4621 634.619 35.2312 637.579 Q38.0002 640.507 43.0292 640.953 L42.9973 620.074 Z\" fill=\"#000000\" fill-rule=\"evenodd\" fill-opacity=\"1\" /><path clip-path=\"url(#clip950)\" d=\"M33.8307 583.948 Q33.2578 584.935 33.0032 586.113 Q32.7167 587.258 32.7167 588.659 Q32.7167 593.624 35.9632 596.298 Q39.1779 598.939 45.2253 598.939 L64.0042 598.939 L64.0042 604.828 L28.3562 604.828 L28.3562 598.939 L33.8944 598.939 Q30.6479 597.093 29.0883 594.133 Q27.4968 591.173 27.4968 586.94 Q27.4968 586.335 27.5923 585.603 Q27.656 584.871 27.8151 583.98 L33.8307 583.948 Z\" fill=\"#000000\" fill-rule=\"evenodd\" fill-opacity=\"1\" /><path clip-path=\"url(#clip950)\" d=\"M67.3143 562.973 Q73.68 565.456 75.6216 567.811 Q77.5631 570.166 77.5631 574.113 L77.5631 578.792 L72.6615 578.792 L72.6615 575.354 Q72.6615 572.935 71.5157 571.599 Q70.3699 570.262 66.1048 568.639 L63.4312 567.588 L28.3562 582.007 L28.3562 575.8 L56.238 564.66 L28.3562 553.52 L28.3562 547.314 L67.3143 562.973 Z\" fill=\"#000000\" fill-rule=\"evenodd\" fill-opacity=\"1\" /><path clip-path=\"url(#clip950)\" d=\"M44.7161 488.017 L47.5806 488.017 L47.5806 514.944 Q53.6281 514.562 56.8109 511.315 Q59.9619 508.037 59.9619 502.212 Q59.9619 498.839 59.1344 495.688 Q58.3069 492.505 56.6518 489.386 L62.1899 489.386 Q63.5267 492.537 64.227 495.847 Q64.9272 499.157 64.9272 502.563 Q64.9272 511.093 59.9619 516.09 Q54.9967 521.055 46.5303 521.055 Q37.7774 521.055 32.6531 516.344 Q27.4968 511.602 27.4968 503.581 Q27.4968 496.388 32.1438 492.218 Q36.7589 488.017 44.7161 488.017 M42.9973 493.873 Q38.1912 493.937 35.3266 496.579 Q32.4621 499.189 32.4621 503.517 Q32.4621 508.419 35.2312 511.379 Q38.0002 514.307 43.0292 514.753 L42.9973 493.873 Z\" fill=\"#000000\" fill-rule=\"evenodd\" fill-opacity=\"1\" /><path clip-path=\"url(#clip950)\" d=\"M33.8307 457.748 Q33.2578 458.735 33.0032 459.912 Q32.7167 461.058 32.7167 462.459 Q32.7167 467.424 35.9632 470.098 Q39.1779 472.739 45.2253 472.739 L64.0042 472.739 L64.0042 478.628 L28.3562 478.628 L28.3562 472.739 L33.8944 472.739 Q30.6479 470.893 29.0883 467.933 Q27.4968 464.973 27.4968 460.74 Q27.4968 460.135 27.5923 459.403 Q27.656 458.671 27.8151 457.78 L33.8307 457.748 Z\" fill=\"#000000\" fill-rule=\"evenodd\" fill-opacity=\"1\" /><path clip-path=\"url(#clip950)\" d=\"M33.8307 432.094 Q33.2578 433.081 33.0032 434.259 Q32.7167 435.404 32.7167 436.805 Q32.7167 441.77 35.9632 444.444 Q39.1779 447.085 45.2253 447.085 L64.0042 447.085 L64.0042 452.974 L28.3562 452.974 L28.3562 447.085 L33.8944 447.085 Q30.6479 445.239 29.0883 442.279 Q27.4968 439.319 27.4968 435.086 Q27.4968 434.481 27.5923 433.749 Q27.656 433.017 27.8151 432.126 L33.8307 432.094 Z\" fill=\"#000000\" fill-rule=\"evenodd\" fill-opacity=\"1\" /><path clip-path=\"url(#clip950)\" d=\"M32.4621 413.57 Q32.4621 418.281 36.1542 421.018 Q39.8145 423.755 46.212 423.755 Q52.6095 423.755 56.3017 421.05 Q59.9619 418.312 59.9619 413.57 Q59.9619 408.891 56.2698 406.154 Q52.5777 403.417 46.212 403.417 Q39.8781 403.417 36.186 406.154 Q32.4621 408.891 32.4621 413.57 M27.4968 413.57 Q27.4968 405.931 32.4621 401.571 Q37.4273 397.21 46.212 397.21 Q54.9649 397.21 59.9619 401.571 Q64.9272 405.931 64.9272 413.57 Q64.9272 421.241 59.9619 425.601 Q54.9649 429.93 46.212 429.93 Q37.4273 429.93 32.4621 425.601 Q27.4968 421.241 27.4968 413.57 Z\" fill=\"#000000\" fill-rule=\"evenodd\" fill-opacity=\"1\" /><path clip-path=\"url(#clip950)\" d=\"M33.8307 366.846 Q33.2578 367.832 33.0032 369.01 Q32.7167 370.156 32.7167 371.556 Q32.7167 376.522 35.9632 379.195 Q39.1779 381.837 45.2253 381.837 L64.0042 381.837 L64.0042 387.725 L28.3562 387.725 L28.3562 381.837 L33.8944 381.837 Q30.6479 379.991 29.0883 377.031 Q27.4968 374.071 27.4968 369.838 Q27.4968 369.233 27.5923 368.501 Q27.656 367.769 27.8151 366.878 L33.8307 366.846 Z\" fill=\"#000000\" fill-rule=\"evenodd\" fill-opacity=\"1\" /><polyline clip-path=\"url(#clip952)\" style=\"stroke:#009af9; stroke-linecap:butt; stroke-linejoin:round; stroke-width:8; stroke-opacity:1; fill:none\" points=\"\n",
       "  311.302,85.838 845.311,362.105 1093.61,180.198 1257.16,493.666 1379.32,345.076 1476.86,398.563 1558.06,749.332 1627.62,1162.81 1688.46,337.783 1742.52,309.17 \n",
       "  1791.17,785.07 1835.39,411.139 1875.92,617.485 1913.33,529.818 1948.06,629.804 1980.48,1246.74 2010.87,1309.22 2039.47,530.595 2066.48,883.458 2092.07,1018.26 \n",
       "  2116.38,1003.74 2139.53,640.592 2161.63,1296.83 2182.77,1171.82 2203.02,852.958 2222.47,933.965 2241.17,925.933 2259.17,1230.52 2276.53,520.44 2293.3,1372.3 \n",
       "  \n",
       "  \"/>\n",
       "<polyline clip-path=\"url(#clip952)\" style=\"stroke:#e26f46; stroke-linecap:butt; stroke-linejoin:round; stroke-width:8; stroke-opacity:1; fill:none\" points=\"\n",
       "  311.302,189.971 845.311,362.439 1093.61,442.632 1257.16,495.454 1379.32,534.907 1476.86,566.41 1558.06,592.635 1627.62,615.1 1688.46,634.749 1742.52,652.21 \n",
       "  1791.17,667.922 1835.39,682.203 1875.92,695.293 1913.33,707.375 1948.06,718.593 1980.48,729.062 2010.87,738.877 2039.47,748.114 2066.48,756.838 2092.07,765.103 \n",
       "  2116.38,772.954 2139.53,780.431 2161.63,787.568 2182.77,794.394 2203.02,800.936 2222.47,807.217 2241.17,813.255 2259.17,819.07 2276.53,824.678 2293.3,830.091 \n",
       "  \n",
       "  \"/>\n",
       "<path clip-path=\"url(#clip950)\" d=\"\n",
       "M1716.31 360.717 L2282.73 360.717 L2282.73 92.6992 L1716.31 92.6992  Z\n",
       "  \" fill=\"#ffffff\" fill-rule=\"evenodd\" fill-opacity=\"1\"/>\n",
       "<polyline clip-path=\"url(#clip950)\" style=\"stroke:#000000; stroke-linecap:butt; stroke-linejoin:round; stroke-width:4; stroke-opacity:1; fill:none\" points=\"\n",
       "  1716.31,360.717 2282.73,360.717 2282.73,92.6992 1716.31,92.6992 1716.31,360.717 \n",
       "  \"/>\n",
       "<polyline clip-path=\"url(#clip950)\" style=\"stroke:#009af9; stroke-linecap:butt; stroke-linejoin:round; stroke-width:4; stroke-opacity:1; fill:none\" points=\"\n",
       "  1739.65,182.039 1879.71,182.039 \n",
       "  \"/>\n",
       "<path clip-path=\"url(#clip950)\" d=\"M1918.24 177.374 Q1917.52 176.958 1916.67 176.772 Q1915.83 176.564 1914.81 176.564 Q1911.2 176.564 1909.26 178.925 Q1907.34 181.263 1907.34 185.661 L1907.34 199.319 L1903.05 199.319 L1903.05 173.393 L1907.34 173.393 L1907.34 177.421 Q1908.68 175.059 1910.83 173.925 Q1912.98 172.768 1916.06 172.768 Q1916.5 172.768 1917.04 172.837 Q1917.57 172.884 1918.22 172.999 L1918.24 177.374 Z\" fill=\"#000000\" fill-rule=\"evenodd\" fill-opacity=\"1\" /><path clip-path=\"url(#clip950)\" d=\"M1943.84 185.291 L1943.84 187.374 L1924.26 187.374 Q1924.54 191.772 1926.9 194.087 Q1929.28 196.379 1933.52 196.379 Q1935.97 196.379 1938.26 195.777 Q1940.58 195.175 1942.85 193.971 L1942.85 197.999 Q1940.55 198.971 1938.15 199.481 Q1935.74 199.99 1933.26 199.99 Q1927.06 199.99 1923.42 196.379 Q1919.81 192.768 1919.81 186.61 Q1919.81 180.245 1923.24 176.518 Q1926.69 172.768 1932.52 172.768 Q1937.75 172.768 1940.79 176.147 Q1943.84 179.504 1943.84 185.291 M1939.58 184.041 Q1939.54 180.546 1937.61 178.462 Q1935.72 176.379 1932.57 176.379 Q1929 176.379 1926.85 178.393 Q1924.72 180.407 1924.4 184.064 L1939.58 184.041 Z\" fill=\"#000000\" fill-rule=\"evenodd\" fill-opacity=\"1\" /><path clip-path=\"url(#clip950)\" d=\"M1969.49 174.388 L1969.49 178.37 Q1967.68 177.374 1965.85 176.888 Q1964.05 176.379 1962.2 176.379 Q1958.05 176.379 1955.76 179.018 Q1953.47 181.633 1953.47 186.379 Q1953.47 191.124 1955.76 193.763 Q1958.05 196.379 1962.2 196.379 Q1964.05 196.379 1965.85 195.893 Q1967.68 195.383 1969.49 194.388 L1969.49 198.323 Q1967.71 199.157 1965.79 199.573 Q1963.89 199.99 1961.73 199.99 Q1955.88 199.99 1952.43 196.309 Q1948.98 192.629 1948.98 186.379 Q1948.98 180.036 1952.45 176.402 Q1955.95 172.768 1962.01 172.768 Q1963.98 172.768 1965.85 173.184 Q1967.73 173.578 1969.49 174.388 Z\" fill=\"#000000\" fill-rule=\"evenodd\" fill-opacity=\"1\" /><path clip-path=\"url(#clip950)\" d=\"M1986.94 176.379 Q1983.52 176.379 1981.53 179.064 Q1979.54 181.726 1979.54 186.379 Q1979.54 191.032 1981.5 193.717 Q1983.49 196.379 1986.94 196.379 Q1990.35 196.379 1992.34 193.694 Q1994.33 191.008 1994.33 186.379 Q1994.33 181.772 1992.34 179.087 Q1990.35 176.379 1986.94 176.379 M1986.94 172.768 Q1992.5 172.768 1995.67 176.379 Q1998.84 179.99 1998.84 186.379 Q1998.84 192.745 1995.67 196.379 Q1992.5 199.99 1986.94 199.99 Q1981.36 199.99 1978.19 196.379 Q1975.04 192.745 1975.04 186.379 Q1975.04 179.99 1978.19 176.379 Q1981.36 172.768 1986.94 172.768 Z\" fill=\"#000000\" fill-rule=\"evenodd\" fill-opacity=\"1\" /><path clip-path=\"url(#clip950)\" d=\"M2002.85 173.393 L2007.36 173.393 L2015.46 195.152 L2023.56 173.393 L2028.08 173.393 L2018.35 199.319 L2012.57 199.319 L2002.85 173.393 Z\" fill=\"#000000\" fill-rule=\"evenodd\" fill-opacity=\"1\" /><path clip-path=\"url(#clip950)\" d=\"M2056.13 185.291 L2056.13 187.374 L2036.55 187.374 Q2036.83 191.772 2039.19 194.087 Q2041.57 196.379 2045.81 196.379 Q2048.26 196.379 2050.55 195.777 Q2052.87 195.175 2055.14 193.971 L2055.14 197.999 Q2052.85 198.971 2050.44 199.481 Q2048.03 199.99 2045.55 199.99 Q2039.35 199.99 2035.72 196.379 Q2032.1 192.768 2032.1 186.61 Q2032.1 180.245 2035.53 176.518 Q2038.98 172.768 2044.81 172.768 Q2050.04 172.768 2053.08 176.147 Q2056.13 179.504 2056.13 185.291 M2051.87 184.041 Q2051.83 180.546 2049.91 178.462 Q2048.01 176.379 2044.86 176.379 Q2041.29 176.379 2039.14 178.393 Q2037.01 180.407 2036.69 184.064 L2051.87 184.041 Z\" fill=\"#000000\" fill-rule=\"evenodd\" fill-opacity=\"1\" /><path clip-path=\"url(#clip950)\" d=\"M2078.15 177.374 Q2077.43 176.958 2076.57 176.772 Q2075.74 176.564 2074.72 176.564 Q2071.11 176.564 2069.16 178.925 Q2067.24 181.263 2067.24 185.661 L2067.24 199.319 L2062.96 199.319 L2062.96 173.393 L2067.24 173.393 L2067.24 177.421 Q2068.59 175.059 2070.74 173.925 Q2072.89 172.768 2075.97 172.768 Q2076.41 172.768 2076.94 172.837 Q2077.47 172.884 2078.12 172.999 L2078.15 177.374 Z\" fill=\"#000000\" fill-rule=\"evenodd\" fill-opacity=\"1\" /><path clip-path=\"url(#clip950)\" d=\"M2093.4 201.726 Q2091.59 206.356 2089.88 207.768 Q2088.17 209.18 2085.3 209.18 L2081.9 209.18 L2081.9 205.615 L2084.4 205.615 Q2086.16 205.615 2087.13 204.782 Q2088.1 203.948 2089.28 200.846 L2090.04 198.902 L2079.56 173.393 L2084.07 173.393 L2092.17 193.67 L2100.28 173.393 L2104.79 173.393 L2093.4 201.726 Z\" fill=\"#000000\" fill-rule=\"evenodd\" fill-opacity=\"1\" /><path clip-path=\"url(#clip950)\" d=\"M2147.91 185.291 L2147.91 187.374 L2128.33 187.374 Q2128.61 191.772 2130.97 194.087 Q2133.35 196.379 2137.59 196.379 Q2140.04 196.379 2142.34 195.777 Q2144.65 195.175 2146.92 193.971 L2146.92 197.999 Q2144.63 198.971 2142.22 199.481 Q2139.81 199.99 2137.34 199.99 Q2131.13 199.99 2127.5 196.379 Q2123.89 192.768 2123.89 186.61 Q2123.89 180.245 2127.31 176.518 Q2130.76 172.768 2136.59 172.768 Q2141.83 172.768 2144.86 176.147 Q2147.91 179.504 2147.91 185.291 M2143.65 184.041 Q2143.61 180.546 2141.69 178.462 Q2139.79 176.379 2136.64 176.379 Q2133.08 176.379 2130.92 178.393 Q2128.79 180.407 2128.47 184.064 L2143.65 184.041 Z\" fill=\"#000000\" fill-rule=\"evenodd\" fill-opacity=\"1\" /><path clip-path=\"url(#clip950)\" d=\"M2169.93 177.374 Q2169.21 176.958 2168.35 176.772 Q2167.52 176.564 2166.5 176.564 Q2162.89 176.564 2160.95 178.925 Q2159.03 181.263 2159.03 185.661 L2159.03 199.319 L2154.74 199.319 L2154.74 173.393 L2159.03 173.393 L2159.03 177.421 Q2160.37 175.059 2162.52 173.925 Q2164.67 172.768 2167.75 172.768 Q2168.19 172.768 2168.72 172.837 Q2169.26 172.884 2169.9 172.999 L2169.93 177.374 Z\" fill=\"#000000\" fill-rule=\"evenodd\" fill-opacity=\"1\" /><path clip-path=\"url(#clip950)\" d=\"M2188.59 177.374 Q2187.87 176.958 2187.01 176.772 Q2186.18 176.564 2185.16 176.564 Q2181.55 176.564 2179.6 178.925 Q2177.68 181.263 2177.68 185.661 L2177.68 199.319 L2173.4 199.319 L2173.4 173.393 L2177.68 173.393 L2177.68 177.421 Q2179.02 175.059 2181.18 173.925 Q2183.33 172.768 2186.41 172.768 Q2186.85 172.768 2187.38 172.837 Q2187.91 172.884 2188.56 172.999 L2188.59 177.374 Z\" fill=\"#000000\" fill-rule=\"evenodd\" fill-opacity=\"1\" /><path clip-path=\"url(#clip950)\" d=\"M2202.06 176.379 Q2198.63 176.379 2196.64 179.064 Q2194.65 181.726 2194.65 186.379 Q2194.65 191.032 2196.62 193.717 Q2198.61 196.379 2202.06 196.379 Q2205.46 196.379 2207.45 193.694 Q2209.44 191.008 2209.44 186.379 Q2209.44 181.772 2207.45 179.087 Q2205.46 176.379 2202.06 176.379 M2202.06 172.768 Q2207.61 172.768 2210.78 176.379 Q2213.96 179.99 2213.96 186.379 Q2213.96 192.745 2210.78 196.379 Q2207.61 199.99 2202.06 199.99 Q2196.48 199.99 2193.31 196.379 Q2190.16 192.745 2190.16 186.379 Q2190.16 179.99 2193.31 176.379 Q2196.48 172.768 2202.06 172.768 Z\" fill=\"#000000\" fill-rule=\"evenodd\" fill-opacity=\"1\" /><path clip-path=\"url(#clip950)\" d=\"M2236.04 177.374 Q2235.32 176.958 2234.46 176.772 Q2233.63 176.564 2232.61 176.564 Q2229 176.564 2227.06 178.925 Q2225.14 181.263 2225.14 185.661 L2225.14 199.319 L2220.85 199.319 L2220.85 173.393 L2225.14 173.393 L2225.14 177.421 Q2226.48 175.059 2228.63 173.925 Q2230.78 172.768 2233.86 172.768 Q2234.3 172.768 2234.83 172.837 Q2235.37 172.884 2236.02 172.999 L2236.04 177.374 Z\" fill=\"#000000\" fill-rule=\"evenodd\" fill-opacity=\"1\" /><polyline clip-path=\"url(#clip950)\" style=\"stroke:#e26f46; stroke-linecap:butt; stroke-linejoin:round; stroke-width:4; stroke-opacity:1; fill:none\" points=\"\n",
       "  1739.65,271.378 1879.71,271.378 \n",
       "  \"/>\n",
       "<path clip-path=\"url(#clip950)\" d=\"M1939.29 237.88 L1939.29 236.381 Q1945.06 236.381 1948.03 233.313 Q1948.85 233.313 1948.99 233.5 Q1949.13 233.687 1949.13 234.554 L1949.13 261.466 Q1949.13 262.895 1949.83 263.34 Q1950.54 263.785 1953.61 263.785 L1955.13 263.785 L1955.13 265.261 Q1953.44 265.12 1947.35 265.12 Q1941.26 265.12 1939.6 265.261 L1939.6 263.785 L1941.12 263.785 Q1944.14 263.785 1944.87 263.364 Q1945.59 262.919 1945.59 261.466 L1945.59 236.615 Q1943.09 237.88 1939.29 237.88 Z\" fill=\"#000000\" fill-rule=\"evenodd\" fill-opacity=\"1\" /><path clip-path=\"url(#clip950)\" d=\"\n",
       "M1913.29 278.061 L1986.86 278.061 L1986.86 275.501 L1913.29 275.501  Z\n",
       "  \" fill=\"#000000\" fill-rule=\"evenodd\" fill-opacity=\"1\"/>\n",
       "<path clip-path=\"url(#clip950)\" d=\"M1913.29 313.035 L1918.05 305.692 L1919.99 315.435 L1920.35 317.21 Q1920.44 316.746 1920.68 315.96 Q1920.94 315.153 1920.98 314.951 L1927.37 290.401 Q1927.42 290.239 1927.48 289.977 Q1927.56 289.695 1927.6 289.594 Q1927.64 289.493 1927.7 289.291 Q1927.76 289.09 1927.8 289.029 Q1927.84 288.948 1927.9 288.807 Q1927.96 288.666 1928.04 288.626 Q1928.12 288.585 1928.22 288.505 Q1928.32 288.424 1928.44 288.404 Q1928.59 288.384 1928.73 288.363 Q1928.87 288.343 1929.07 288.343 L1932.68 288.343 Q1933.95 288.343 1933.95 289.17 Q1933.95 289.997 1932.72 289.997 L1929.19 289.997 L1920.86 321.85 Q1920.74 322.314 1920.64 322.496 Q1920.56 322.677 1920.27 322.839 Q1919.99 323 1919.49 323 L1919.08 323 L1916.44 309.868 L1913.96 313.7 L1913.29 313.035 Z\" fill=\"#000000\" fill-rule=\"evenodd\" fill-opacity=\"1\" /><path clip-path=\"url(#clip950)\" d=\"\n",
       "M1932.59 290.017 L1981.74 290.017 L1981.74 288.301 L1932.59 288.301  Z\n",
       "  \" fill=\"#000000\" fill-rule=\"evenodd\" fill-opacity=\"1\"/>\n",
       "<path clip-path=\"url(#clip950)\" d=\"M1977.01 315.138 Q1977.01 315.326 1976.8 316.052 Q1976.59 316.778 1976.07 317.902 Q1975.58 319.026 1974.88 320.057 Q1974.2 321.064 1973.08 321.814 Q1971.98 322.54 1970.71 322.54 Q1969.02 322.54 1967.9 321.416 Q1966.78 320.291 1966.78 318.605 Q1966.78 317.691 1967.41 315.958 Q1970.38 308.041 1970.38 305.207 Q1970.38 301.858 1967.78 301.858 Q1966.31 301.858 1964.97 302.467 Q1963.64 303.076 1962.77 303.919 Q1961.9 304.762 1961.22 305.722 Q1960.55 306.683 1960.24 307.315 Q1959.96 307.948 1959.89 308.229 L1957.01 319.799 Q1956.77 320.783 1956.61 321.252 Q1956.45 321.72 1956 322.118 Q1955.56 322.54 1954.85 322.54 Q1954.27 322.54 1953.85 322.188 Q1953.45 321.837 1953.45 321.228 Q1953.45 321.134 1953.57 320.643 Q1953.68 320.151 1953.85 319.471 Q1954.01 318.792 1954.08 318.394 Q1954.92 315.209 1955.04 314.764 L1956.38 309.189 Q1957.1 306.425 1957.1 305.207 Q1957.1 301.858 1954.5 301.858 Q1953.21 301.858 1952 302.35 Q1950.8 302.818 1949.98 303.474 Q1949.16 304.13 1948.41 305.043 Q1947.69 305.933 1947.31 306.542 Q1946.96 307.128 1946.68 307.713 L1946.07 310.102 Q1945.93 310.758 1945.25 313.311 L1944.2 317.644 Q1943.45 320.877 1943.28 321.181 Q1943.05 321.837 1942.53 322.188 Q1942.02 322.54 1941.5 322.54 Q1940.92 322.54 1940.52 322.188 Q1940.12 321.837 1940.12 321.228 Q1940.12 321.134 1940.19 320.783 Q1940.26 320.432 1940.38 319.94 Q1940.5 319.448 1940.54 319.167 L1943.33 308.088 Q1943.85 306.074 1943.96 305.441 Q1944.1 304.786 1944.1 304.059 Q1944.1 301.858 1942.6 301.858 Q1941.39 301.858 1940.59 303.31 Q1939.79 304.762 1939.11 307.573 Q1938.9 308.346 1938.76 308.51 Q1938.65 308.674 1938.29 308.674 Q1937.71 308.65 1937.71 308.182 Q1937.71 308.065 1937.9 307.315 Q1938.08 306.566 1938.43 305.441 Q1938.81 304.294 1939.21 303.544 Q1939.44 303.052 1939.65 302.724 Q1939.86 302.396 1940.29 301.881 Q1940.71 301.366 1941.34 301.085 Q1941.97 300.804 1942.74 300.804 Q1944.45 300.804 1945.72 301.905 Q1947.01 303.005 1947.17 304.973 Q1950.29 300.804 1954.64 300.804 Q1957.1 300.804 1958.58 302.045 Q1959.96 303.24 1960.12 305.441 Q1963.36 300.804 1967.95 300.804 Q1970.59 300.804 1972.02 302.186 Q1973.45 303.544 1973.45 305.933 Q1973.45 307.175 1972.82 309.54 Q1972.19 311.883 1971.77 313.054 Q1971.34 314.225 1970.52 316.473 Q1969.66 318.628 1969.66 319.893 Q1969.66 320.713 1969.94 321.088 Q1970.22 321.462 1970.83 321.462 Q1971.77 321.462 1972.58 320.924 Q1973.4 320.361 1973.99 319.448 Q1974.6 318.511 1975 317.574 Q1975.4 316.614 1975.7 315.536 Q1975.89 314.951 1975.98 314.81 Q1976.1 314.67 1976.43 314.67 Q1977.01 314.67 1977.01 315.138 Z\" fill=\"#000000\" fill-rule=\"evenodd\" fill-opacity=\"1\" /></svg>\n"
      ]
     },
     "metadata": {},
     "output_type": "display_data"
    }
   ],
   "source": [
    "M2 = load(\"../result/error.jld\", \"error\")\n",
    "m_list = load(\"../result/error.jld\", \"measurement\")\n",
    "\n",
    "average_recov = mean(M2, dims=2)\n",
    "std_recov = std(M2, dims=2)\n",
    "# plot(m_list, average_recov + std_recov, fillrange = max.(average_recov - std_recov, 1e-7) ,fillalpha = 0.35, c = 1, label = false, xaxis=:log, yaxis=:log)\n",
    "plot(m_list, average_recov, label = \"recovery error\", xlabel = \"number of measurement\", ylabel = \"relative recovery error\", xaxis=:log, yaxis=:log, linewidth = 2)\n",
    "plot!(m_list, 1m_list.^(-.5), label = \"\\$ \\\\frac{1}{\\\\sqrt{m}}\\$\", linewidth = 2)\n",
    "\n"
   ]
  },
  {
   "cell_type": "code",
   "execution_count": 19,
   "metadata": {},
   "outputs": [
    {
     "data": {
      "text/plain": [
       "1×30 transpose(::Vector{Float64}) with eltype Float64:\n",
       " 5.5571e-8  1.66713e-7  2.77855e-7  …  3.0564e-6  3.16755e-6  3.27869e-6"
      ]
     },
     "metadata": {},
     "output_type": "display_data"
    }
   ],
   "source": [
    "1/m_list"
   ]
  },
  {
   "cell_type": "markdown",
   "metadata": {},
   "source": [
    "We now define a function that quantizes the input into $2k-1$ bits. For an input $x$ with entries bounded, $k$-quantized version of $x$ is given by:\n",
    "\n",
    "$$ Q_k(x) = \\frac{1}{k-1}\\text{Round}((k-1)x).$$\n",
    "\n",
    "The recovery problem we consider is to recover a fixed vector $z$ from $k$-quantized measurements of the form\n",
    "\n",
    "$$ y = Q_k(AG(z)) + \\epsilon,$$\n",
    "\n",
    "where $G:\\mathbb{R}^k\\rightarrow \\mathbb{R}^n$ is a known generator and $A\\in\\mathbb{R}^{m\\times n}$ is the compressive measurement. We implement a version of PLUGIn to recover $z$."
   ]
  },
  {
   "cell_type": "markdown",
   "metadata": {},
   "source": [
    "Below we examine the recovery of a fixed latent signal $z$ in the noiseless case from $k$-quantized measurement. We take $k$ in the range $[3,10]$. Comparision to One-bit is made."
   ]
  },
  {
   "cell_type": "code",
   "execution_count": 111,
   "metadata": {},
   "outputs": [],
   "source": [
    "net_param = [5, 200, 750]\n",
    "x_dim  = net_param[length(net_param)]\n",
    "z_dim = net_param[1]\n",
    "\n",
    "G = create_network(net_param)\n",
    "W = normalized_weight_product(G)\n",
    "\n",
    "stepsize = 1\n",
    "max_iter = 2000\n",
    "tolerance = 1e-7\n",
    "m = 10000\n",
    "\n",
    "trials = 10\n",
    "k_max = 10\n",
    "\n",
    "recov_error_matrix_kquant = zeros(k_max - 2)\n",
    "recov_error_matrix_noquant = zeros(k_max - 2)\n",
    "recov_error_matrix_CS = zeros(k_max - 2)\n",
    "\n",
    "recov_error_onebit = []\n",
    "\n",
    "for trial in 1:trials\n",
    "    recov_error_kquant = []\n",
    "    recov_error_noquant = []\n",
    "    recov_error_CS = []\n",
    "\n",
    "    A = randn(m, x_dim)/sqrt(m)\n",
    "    z = randn(5)*sqrt(m/20)\n",
    "    y_onebit = sign.(A*G(z))\n",
    "\n",
    "\n",
    "    for k in 3:k_max\n",
    "        y_kquant = k_quantized(A*G(z), k)\n",
    "        \n",
    "        # use PLUGIn-kquant to recover the signal\n",
    "        z_est_kquant = zeros(z_dim)\n",
    "        iter = 1\n",
    "        succ_error = 1\n",
    "\n",
    "        while iter <= max_iter && succ_error > tolerance\n",
    "            z_old = z_est_kquant\n",
    "            z_est_kquant = PLUGIN_kbitCS_estimate(A, G, W, y_kquant, z_est_kquant, k, stepsize)\n",
    "            succ_error = norm(z_old - z_est_kquant, 2)\n",
    "            iter += 1\n",
    "        end\n",
    "        push!(recov_error_kquant, norm(z/norm(z) - z_est_kquant/norm(z_est_kquant)))\n",
    "       \n",
    "        # use PLUGIn-CS to recover the signal\n",
    "        z_est_CS = randn(z_dim)\n",
    "        iter = 1\n",
    "        succ_error = 1\n",
    "\n",
    "        while iter <= max_iter && succ_error > tolerance\n",
    "            z_old = z_est_CS\n",
    "            z_est_CS = PLUGIN_CS_estimate(A, G, W, y_kquant, z_est_CS, stepsize)\n",
    "            succ_error = norm(z_old - z_est_CS, 2)\n",
    "            iter += 1\n",
    "        end\n",
    "        push!(recov_error_CS, norm(z/norm(z) - z_est_CS/norm(z_est_CS)))\n",
    "\n",
    "        # use gradient descent with just the compression and no quanitization to recover from quantized measurements\n",
    "        z_est_noquant = randn(z_dim)\n",
    "        iter = 1\n",
    "        succ_error = 1\n",
    "        \n",
    "        while iter <= max_iter && succ_error > tolerance\n",
    "            z_old = z_est_noquant\n",
    "            d = gradient(z->norm(A*G(z) - y_kquant,2)^2, z_est_noquant)[1]\n",
    "            z_est_noquant -= stepsize*d\n",
    "            succ_error = norm(z_old - z_est_noquant, 2)\n",
    "            iter += 1\n",
    "        end\n",
    "        push!(recov_error_noquant, norm(z/norm(z) - z_est_noquant/norm(z_est_noquant)))\n",
    "\n",
    "\n",
    "    end\n",
    "    recov_error_matrix_kquant = hcat(recov_error_matrix_kquant, recov_error_kquant)\n",
    "    recov_error_matrix_noquant = hcat(recov_error_matrix_noquant, recov_error_noquant)\n",
    "    recov_error_matrix_CS = hcat(recov_error_matrix_CS, recov_error_CS)\n",
    "\n",
    "\n",
    "    z_est_onebit = zeros(z_dim)\n",
    "    iter = 1\n",
    "    succ_error = 1\n",
    "    while iter <= max_iter && succ_error > tolerance\n",
    "        z_old = z_est_onebit\n",
    "        z_est_onebit = PLUGIN_1bitCS_estimate(A, G, W, y_onebit, z_est_onebit, stepsize)\n",
    "        succ_error = norm(z_old - z_est_onebit, 2)\n",
    "        iter += 1\n",
    "    end\n",
    "    push!(recov_error_onebit, norm(z/norm(z) - z_est_onebit/norm(z_est_onebit)))\n",
    "\n",
    "end\n",
    "\n",
    "# save(\"result/recov_error_kquant.jld\", \"error\", recov_error_matrix_kquant[:,2:end], \"quantization level\", 3:k_max, \"trials\", trials)\n",
    "# save(\"result/recov_error_noquant.jld\", \"error\", recov_error_matrix_noquant[:,2:end], \"quantization level\", 3:k_max, \"trials\", trials)\n",
    "# save(\"result/recov_error_onebit.jld\", \"error\", recov_error_onebit, \"trials\", trials)\n"
   ]
  },
  {
   "cell_type": "markdown",
   "metadata": {},
   "source": [
    "The plot shows that including quantization information in the algorithm helps get an accurate estimate. "
   ]
  },
  {
   "cell_type": "code",
   "execution_count": 11,
   "metadata": {},
   "outputs": [
    {
     "ename": "UndefVarError",
     "evalue": "UndefVarError: recov_error_matrix_CS not defined",
     "output_type": "error",
     "traceback": [
      "UndefVarError: recov_error_matrix_CS not defined\n",
      "\n",
      "Stacktrace:\n",
      "  [1] top-level scope\n",
      "    @ ~/Documents/GitHub/PLUGIn_Julia/old codes/PLUGIn_onebitCS_old.ipynb:17\n",
      "  [2] eval\n",
      "    @ ./boot.jl:373 [inlined]\n",
      "  [3] include_string(mapexpr::typeof(REPL.softscope), mod::Module, code::String, filename::String)\n",
      "    @ Base ./loading.jl:1196\n",
      "  [4] #invokelatest#2\n",
      "    @ ./essentials.jl:716 [inlined]\n",
      "  [5] invokelatest\n",
      "    @ ./essentials.jl:714 [inlined]\n",
      "  [6] (::VSCodeServer.var\"#164#165\"{VSCodeServer.NotebookRunCellArguments, String})()\n",
      "    @ VSCodeServer ~/.vscode/extensions/julialang.language-julia-1.6.17/scripts/packages/VSCodeServer/src/serve_notebook.jl:19\n",
      "  [7] withpath(f::VSCodeServer.var\"#164#165\"{VSCodeServer.NotebookRunCellArguments, String}, path::String)\n",
      "    @ VSCodeServer ~/.vscode/extensions/julialang.language-julia-1.6.17/scripts/packages/VSCodeServer/src/repl.jl:184\n",
      "  [8] notebook_runcell_request(conn::VSCodeServer.JSONRPC.JSONRPCEndpoint{Base.PipeEndpoint, Base.PipeEndpoint}, params::VSCodeServer.NotebookRunCellArguments)\n",
      "    @ VSCodeServer ~/.vscode/extensions/julialang.language-julia-1.6.17/scripts/packages/VSCodeServer/src/serve_notebook.jl:13\n",
      "  [9] dispatch_msg(x::VSCodeServer.JSONRPC.JSONRPCEndpoint{Base.PipeEndpoint, Base.PipeEndpoint}, dispatcher::VSCodeServer.JSONRPC.MsgDispatcher, msg::Dict{String, Any})\n",
      "    @ VSCodeServer.JSONRPC ~/.vscode/extensions/julialang.language-julia-1.6.17/scripts/packages/JSONRPC/src/typed.jl:67\n",
      " [10] serve_notebook(pipename::String, outputchannel_logger::Base.CoreLogging.SimpleLogger; crashreporting_pipename::String)\n",
      "    @ VSCodeServer ~/.vscode/extensions/julialang.language-julia-1.6.17/scripts/packages/VSCodeServer/src/serve_notebook.jl:136\n",
      " [11] top-level scope\n",
      "    @ ~/.vscode/extensions/julialang.language-julia-1.6.17/scripts/notebook/notebook.jl:32\n",
      " [12] include(mod::Module, _path::String)\n",
      "    @ Base ./Base.jl:418\n",
      " [13] exec_options(opts::Base.JLOptions)\n",
      "    @ Base ./client.jl:292\n",
      " [14] _start()\n",
      "    @ Base ./client.jl:495"
     ]
    }
   ],
   "source": [
    "k_max = 10\n",
    "recov_error_matrix_kquant = load(\"../result/recov_error_kquant.jld\", \"error\")\n",
    "recov_error_matrix_noquant = load(\"../result/recov_error_noquant.jld\", \"error\")\n",
    "recov_error_matrix_onebit = load(\"../result/recov_error_onebit.jld\", \"error\")\n",
    "\n",
    "\n",
    "average_recov_kquant = mean(recov_error_matrix_kquant[:,2:end], dims=2)\n",
    "std_recov_kquant = std(recov_error_matrix_kquant[:,2:end], dims=2)\n",
    "plot(3:k_max, average_recov_kquant + std_recov_kquant, fillrange = average_recov_kquant - std_recov_kquant, fillalpha = 0.5, c = 0, label = false)\n",
    "plot!(3:k_max, average_recov_kquant, label = \"PLUGIn-Quantized, \\$ Q(x) = \\\\frac{1}{k-1} {round}((k-1)x)\\$\", xlabel = \"quantization level k\", ylabel = \"average recovery error\", linewidth = 2, c =:black)\n",
    "\n",
    "average_recov_noquant = mean(recov_error_matrix_noquant[:,2:end], dims=2)\n",
    "std_recov_noquant = std(recov_error_matrix_noquant[:,2:end], dims=2)\n",
    "plot!(3:k_max, average_recov_noquant + std_recov_noquant, fillrange = average_recov_noquant - std_recov_noquant, fillalpha = 0.5, c = 8, label = false)\n",
    "plot!(3:k_max, average_recov_noquant, label = \"\\$\\\\min_z \\\\|| A(G(z)) - Q(AG(z^*))\\\\||_2^2 \\$\", xlabel = \"quantization level k\", ylabel = \"average recovery error\", linewidth = 2, c =:red)\n",
    "\n",
    "average_recov_CS = mean(recov_error_matrix_CS[:,2:end], dims=2)\n",
    "std_recov_CS = std(recov_error_matrix_CS[:,2:end], dims=2)\n",
    "plot!(3:k_max, average_recov_CS + std_recov_CS, fillrange = average_recov_CS - std_recov_CS, fillalpha = 0.5, c = 12, label = false)\n",
    "plot!(3:k_max, average_recov_CS, label = \"PLUGIn-CS\", xlabel = \"quantization level k\", ylabel = \"average recovery error\", linewidth = 2, c =:blue)\n",
    "\n",
    "\n",
    "\n",
    "\n",
    "# average_recov_onebit = mean(recov_error_onebit)\n",
    "# std_recov_onebit = std(recov_error_onebit)\n",
    "\n",
    "# plot!([2],[average_recov_onebit],yerr = [std_recov_onebit],seriestype = :scatter, label = \"onebit\", c = :red)"
   ]
  },
  {
   "cell_type": "code",
   "execution_count": null,
   "metadata": {},
   "outputs": [],
   "source": [
    "recov_error_matrix_kquant = load(\"result/recov_error_kquant.jld\", \"error\")\n",
    "recov_error_onebit = load(\"result/recov_error_onebit.jld\", \"error\")\n",
    "quantization_levels = load(\"result/recov_error_kquant.jld\", \"quantization level\")\n",
    " \n",
    "average_recov = mean(recov_error_matrix_kquant, dims=2)\n",
    "std_recov = std(recov_error_matrix_kquant, dims=2)\n",
    "plot(quantization_levels, average_recov + std_recov, fillrange = average_recov - std_recov, fillalpha = 0.5, c = 0, label = false)\n",
    "plot!(quantization_levels, average_recov, label = \"k-quantized, \\$ Q(x) = \\\\frac{1}{k-1} round((k-1)x)\\$\", xlabel = \"quantization level k\", ylabel = \"average recovery error\", linewidth = 2, c =:black)\n",
    "\n",
    "average_recov_onebit = mean(recov_error_onebit)\n",
    "std_recov_onebit = std(recov_error_onebit)\n",
    "\n",
    "plot!([2],[average_recov_onebit],yerr = [std_recov_onebit],seriestype = :scatter, label = \"onebit\", c = :red)"
   ]
  },
  {
   "cell_type": "code",
   "execution_count": 23,
   "metadata": {},
   "outputs": [
    {
     "data": {
      "text/plain": [
       "0.797464529569265"
      ]
     },
     "execution_count": 23,
     "metadata": {},
     "output_type": "execute_result"
    }
   ],
   "source": [
    "net_param = [5, 200, 750]\n",
    "x_dim  = net_param[length(net_param)]\n",
    "z_dim = net_param[1]\n",
    "\n",
    "G = create_network(net_param)\n",
    "W = normalized_weight_product(G)\n",
    "\n",
    "stepsize = 1/500\n",
    "max_iter = 2000\n",
    "# tolerance = 1e-7\n",
    "m = 1000\n",
    "k = 2000\n",
    "δ = 1/1000\n",
    "\n",
    "\n",
    "trials = 1\n",
    "z = randn(5)*sqrt(m/20)\n",
    "A = randn(m, x_dim)/sqrt(m)\n",
    "inf_y = norm(A*G(z), Inf)\n",
    "y_ΣΔ, u = sigma_delta_quant(A*G(z)/(2*inf_y), k, δ)\n",
    "\n",
    "z_est = randn(5)\n",
    "z_temp = z_est\n",
    "D_inv = LowerTriangular(ones(m, m))\n",
    "\n",
    "for i in 1:max_iter\n",
    "    z_est = PLUGIN_CS_estimate(A, G, W, y_ΣΔ, z_est, stepsize)\n",
    "end\n",
    "\n",
    "norm(z_est - z, 2)/norm(z)\n"
   ]
  },
  {
   "cell_type": "code",
   "execution_count": 36,
   "metadata": {},
   "outputs": [
    {
     "data": {
      "text/plain": [
       "1000-element Vector{Float64}:\n",
       " -0.0035\n",
       " -0.047\n",
       " -0.1605\n",
       " -0.19\n",
       "  0.05449999999999999\n",
       "  0.346\n",
       "  0.20549999999999996\n",
       " -0.07100000000000006\n",
       " -0.03750000000000006\n",
       "  0.14799999999999994\n",
       "  0.36049999999999993\n",
       "  0.16199999999999992\n",
       "  0.18549999999999991\n",
       "  ⋮\n",
       " -1.3754999999999997\n",
       " -1.2599999999999998\n",
       " -1.3034999999999997\n",
       " -1.3579999999999997\n",
       " -1.7014999999999998\n",
       " -1.6699999999999997\n",
       " -1.6714999999999998\n",
       " -1.3139999999999996\n",
       " -1.1984999999999997\n",
       " -1.0469999999999997\n",
       " -0.8674999999999997\n",
       " -0.8879999999999999"
      ]
     },
     "execution_count": 36,
     "metadata": {},
     "output_type": "execute_result"
    }
   ],
   "source": [
    "net_param = [5, 200, 750]\n",
    "x_dim  = net_param[length(net_param)]\n",
    "z_dim = net_param[1]\n",
    "\n",
    "G = create_network(net_param)\n",
    "W = normalized_weight_product(G)\n",
    "\n",
    "stepsize = 1/500\n",
    "max_iter = 2000\n",
    "# tolerance = 1e-7\n",
    "m = 1000\n",
    "k = 2000\n",
    "δ = 1/1000\n",
    "\n",
    "\n",
    "trials = 1\n",
    "z = randn(5)*sqrt(m/20)\n",
    "A = randn(m, x_dim)/sqrt(m)\n",
    "inf_y = norm(A*G(z), Inf)\n",
    "y_ΣΔ, u = sigma_delta_quant(A*G(z)/(2*inf_y), k, δ)\n",
    "D_inv = LowerTriangular(ones(m, m))\n",
    "\n",
    "D_inv * y_ΣΔ\n",
    "# [A*G(z)/(2*inf_y) y_ΣΔ]\n",
    "# norm(A*G(z)/(2*inf_y) - y_ΣΔ)"
   ]
  },
  {
   "cell_type": "code",
   "execution_count": null,
   "metadata": {},
   "outputs": [],
   "source": [
    "    \n",
    "G = Chain(\n",
    "    Dense(5, 75, relu, bias = false; initW =(out,in) ->  randn(75, 5)/sqrt(75)),\n",
    "    Dense(75, 100, relu, bias = false; initW =(out,in) -> randn(75, 75)/sqrt(75)),\n",
    "    Dense(75, 150, relu, bias = false; initW =(out,in) -> randn(150, 75)/sqrt(150))\n",
    ")\n",
    "W = normalized_weight_product(G)\n",
    "\n",
    "\n",
    "m = 50000; A = randn(m, 150)/sqrt(m)\n",
    "k = 2\n",
    "z = randn(5)*sqrt(m/20)\n",
    "y = k_quantized(A*G(z), k) \n",
    "\n",
    "stepsize = 1\n",
    "tolerance = 1e-14\n",
    "max_iter = 100\n",
    "out_toggle = 1000\n",
    "lambda = 100\n",
    "\n",
    "z_est = randn(5)*sqrt(m/20)\n",
    "for i in 1:max_iter\n",
    "    z_est = PLUGIN_kbitCS_estimate(A, G, W, y, z_est, k, stepsize)\n",
    "end\n",
    "recov_error = norm(z/norm(z) - z_est/norm(z_est))\n",
    "recon_error = norm(G(z) - G(z_est))\n",
    "println(\"recovery error: $recov_error, reconstruction error: $recon_error\")\n",
    "\n",
    "# y_onebit = sign.(A*G(z))\n",
    "# z_rec_onebit = PLUGIn_onebitCS(G,y_onebit,A, max_iter, stepsize, tolerance, lambda, out_toggle)\n",
    "# recov_error = norm(z/norm(z) - z_rec_onebit/norm(z_rec_onebit))\n",
    "# recon_error = norm(G(z) - G(z_rec_onebit))\n",
    "# println(\"recovery error: $recov_error, reconstruction error: $recon_error\")"
   ]
  },
  {
   "cell_type": "markdown",
   "metadata": {},
   "source": [
    "The following code segment can be used to estimate the ground truth using the function PLUGIn_onebitCS."
   ]
  },
  {
   "cell_type": "code",
   "execution_count": null,
   "metadata": {},
   "outputs": [],
   "source": [
    "    \n",
    "G = Chain(\n",
    "    Dense(5, 75, relu, bias = false; initW =(out,in) ->  randn(75, 5)/sqrt(75)),\n",
    "    Dense(75, 100, relu, bias = false; initW =(out,in) -> randn(75, 75)/sqrt(75)),\n",
    "    Dense(75, 150, relu, bias = false; initW =(out,in) -> randn(150, 75)/sqrt(150))\n",
    ")\n",
    "\n",
    "\n",
    "z = randn(5)\n",
    "m = 50000; A = randn(m, 150)/sqrt(m)\n",
    "y = sign.(A*G(z)) + 1e-14 * randn(m)\n",
    "\n",
    "stepsize = 1\n",
    "tolerance = 1e-14\n",
    "max_iter = 10000\n",
    "out_toggle = 1000\n",
    "lambda = 100\n",
    "z_rec = PLUGIn_onebitCS(G,y,A, max_iter, stepsize, tolerance, lambda, out_toggle)\n",
    "recov_error = norm(z/norm(z) - z_rec/norm(z_rec))\n",
    "recon_error = norm(G(z) - G(z_rec))\n",
    "println(\"recovery error: $recov_error, reconstruction error: $recon_error\")"
   ]
  },
  {
   "cell_type": "markdown",
   "metadata": {},
   "source": [
    "The following code segment is an attempt to implement another algorithm for 1-bit CS with generative model introduced in the paper:\n",
    "https://arxiv.org/pdf/1908.05368.pdf \n",
    "\n",
    "This still needs to be debugged."
   ]
  },
  {
   "cell_type": "code",
   "execution_count": null,
   "metadata": {},
   "outputs": [],
   "source": [
    "#using Zygote to solve ERM for a synthetic problem\n",
    "\n",
    "\n",
    "G = Chain(\n",
    "    Dense(5, 75, relu, bias = false; initW =(out,in) ->  randn(75, 5)/sqrt(75)),\n",
    "    Dense(75, 75, relu, bias = false; initW =(out,in) -> randn(75, 75)/sqrt(75)),\n",
    "    Dense(75, 150, relu, bias = false; initW =(out,in) -> randn(150, 75)/sqrt(150))\n",
    ")\n",
    "\n",
    "\n",
    "z = randn(5)\n",
    "m = 5000; A = randn(m, 150)/sqrt(m)\n",
    "y = sign.(A*G(z)) + 1e-14 * randn(m)\n",
    "\n",
    "stepsize = .1\n",
    "tolerance = 1e-7\n",
    "max_iter = 1000\n",
    "out_toggle = 1000\n",
    "lambda = 10\n",
    "\n",
    "z_rec = randn(5)\n",
    "\n",
    "\n",
    "for i in 1:max_iter\n",
    "\n",
    "    d = gradient(z_rec -> norm(G(z_rec),2)^2 - 2*lambda * y'*(A * G(z_rec))/m, z_rec)[1]\n",
    "    z_rec -= stepsize * d\n",
    "    succ_error = norm(stepsize * d)\n",
    "    if i % out_toggle == 0  \n",
    "        println(\"====> In quasi-gradient: Iteration: $i Successive error: $succ_error\")\n",
    "    end\n",
    "end\n",
    "\n",
    "\n",
    "# z_rec = PLUGIn_onebitCS(G,y,A, max_iter, stepsize, tolerance, out_toggle)\n",
    "recov_error = norm(z/norm(z) - z_rec/norm(z_rec))\n",
    "recon_error = norm(G(z) - G(z_rec))\n",
    "println(\"recovery error: $recov_error, reconstruction error: $recon_error\")"
   ]
  },
  {
   "cell_type": "code",
   "execution_count": null,
   "metadata": {},
   "outputs": [],
   "source": []
  }
 ],
 "metadata": {
  "kernelspec": {
   "display_name": "Julia 1.7.2",
   "language": "julia",
   "name": "julia-1.7"
  },
  "language_info": {
   "file_extension": ".jl",
   "mimetype": "application/julia",
   "name": "julia",
   "version": "1.7.2"
  },
  "orig_nbformat": 4
 },
 "nbformat": 4,
 "nbformat_minor": 2
}
