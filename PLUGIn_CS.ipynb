{
 "cells": [
  {
   "cell_type": "code",
   "execution_count": 1,
   "metadata": {
    "vscode": {
     "languageId": "julia"
    }
   },
   "outputs": [],
   "source": [
    "using BSON: @load\n",
    "using Flux\n",
    "using Flux: chunk\n",
    "using Flux.Data: DataLoader\n",
    "using ImageFiltering\n",
    "using Images\n",
    "using ImageIO\n",
    "using MLDatasets: FashionMNIST\n",
    "using LinearAlgebra\n",
    "using MLDatasets\n",
    "using Plots\n",
    "using Zygote\n",
    "using FFTW\n",
    "using Distributions\n",
    "using SparseArrays"
   ]
  },
  {
   "cell_type": "markdown",
   "metadata": {},
   "source": [
    "Consider the denoising problem of recovering $x\\in\\mathbb{R}^n$ from noisy measurements of the form\n",
    "\n",
    "$$y = A(x) + \\epsilon, $$\n",
    "\n",
    "where $\\epsilon\\in\\mathbb{R}^n$ is noise. We assume the unknown signal $x$ lives in the range of known generative model $G:\\mathbb{R}^k \\rightarrow \\mathbb{R}^n$, i.e. $x = G(z)$ for some $z \\in \\mathbb{R}^k$. We assume the generative model $G$ is  fully-connected feedforward network of the form \n",
    "\n",
    "$$ G(x) = \\sigma_d(A_d\\sigma_{d-1}(A_{d-1} \\cdots \\sigma_1(A_1 z)\\cdots)),$$\n",
    "\n",
    "where $A_i \\in \\mathbb{R}^{n_i \\times n_{i-1}}$ is the weight matrix and $\\sigma_i$ is the activation function correpsonding to the $i\\text{th}$ layer of $G$. Thus, the task of recovering $x$ can be reduced to recovering the corresponding $z$ such that $G(z) = x$. \n",
    "\n",
    "\n",
    "We solve this problem using the following iterative algorithm called Partially Linearized Updates for Generative Inversion (PLUGIn):\n",
    "\n",
    "$$x^{k+1} = x^k -\\eta A_1^{\\top}\\cdots A_d^{\\top}A^\\top\\left(AG(x^k) - y \\right) .$$\n",
    "\n",
    "Here, $\\eta$ is the stepsize that depends on the weight matrices and the activation functions. This algorithm is implemented below:\n",
    "\n"
   ]
  },
  {
   "cell_type": "code",
   "execution_count": 6,
   "metadata": {
    "vscode": {
     "languageId": "julia"
    }
   },
   "outputs": [
    {
     "data": {
      "text/plain": [
       "relative_error (generic function with 1 method)"
      ]
     },
     "metadata": {},
     "output_type": "display_data"
    }
   ],
   "source": [
    "# output the plugin Iterate\n",
    "function PLUGIN_denoise(G, W, A, y, z, stepsize)\n",
    "    d = W'* A'*(A*G(z) - y )\n",
    "    return z - stepsize * d\n",
    "end\n",
    "\n",
    "# output the plugin Iterate\n",
    "function PLUGIN_denoise_regularized(G, W, A, y, z, stepsize, λ)\n",
    "    d = W'* A'*(A*G(z) - y ) + 2*λ*z  \n",
    "    return z - stepsize * d\n",
    "    println(\"1\")\n",
    "end\n",
    "\n",
    "# output the plugin Iterate\n",
    "function PLUGIN_denoise_normalized(G, W, A, y, z, stepsize, scale)\n",
    "    d = W'* A'*(A*G(z) - y)\n",
    "    return (z - stepsize * d) * scale / norm(z - stepsize * d,2)\n",
    "end\n",
    "\n",
    "# output the plugin Iterate\n",
    "function proj(z, scale)\n",
    "    if norm(z) > scale\n",
    "        z = scale * z/norm(z)\n",
    "    end\n",
    "    return z\n",
    "end\n",
    "\n",
    "\n",
    "function relative_error(x_true, x_estimate)\n",
    "    return norm(x_true - x_estimate)/norm(x_true)\n",
    "end"
   ]
  },
  {
   "cell_type": "markdown",
   "metadata": {},
   "source": [
    "One advantage of PLUGIn algorithm in general is that it allows us to pre-multiply the weight matrices. The following function is used to compute $A_d\\cdot A_{d-1}\\cdots A_1$ given a generative model $G$. It also normalizes each weight matrix w.r.t. its top singular value."
   ]
  },
  {
   "cell_type": "code",
   "execution_count": 7,
   "metadata": {
    "vscode": {
     "languageId": "julia"
    }
   },
   "outputs": [
    {
     "data": {
      "text/plain": [
       "normalized_weight_product (generic function with 1 method)"
      ]
     },
     "metadata": {},
     "output_type": "display_data"
    }
   ],
   "source": [
    "function normalized_weight_product(G)\n",
    "    (_, z_dim) = size(Flux.params(G[1])[1]);\n",
    "    W = I(z_dim)\n",
    "    for i in 1:length(G)\n",
    "        _, s, _ = svd(Flux.params(G[i])[1])\n",
    "        W = Flux.params(G[i])[1] * W /(s[1]^2)\n",
    "    end\n",
    "    return W\n",
    "end  "
   ]
  },
  {
   "cell_type": "code",
   "execution_count": 8,
   "metadata": {
    "vscode": {
     "languageId": "julia"
    }
   },
   "outputs": [
    {
     "data": {
      "text/plain": [
       "create_network (generic function with 1 method)"
      ]
     },
     "metadata": {},
     "output_type": "display_data"
    }
   ],
   "source": [
    "function create_network(net_param)\n",
    "    n_0 = net_param[1]\n",
    "    n_1 = net_param[2]\n",
    "    L = Chain(Dense(n_0, n_1, relu; initW =(out,in) ->  randn(n_1, n_0)/sqrt(n_1)))\n",
    "\n",
    "    for i in 2:length(net_param)-1\n",
    "        n_0 = net_param[i]\n",
    "        n_1 = net_param[i+1]\n",
    "        L = Chain(L, Dense(n_0, n_1, relu; initW =(out,in) ->  randn(n_1, n_0)/sqrt(n_1)))\n",
    "    end\n",
    "    return L\n",
    "end"
   ]
  },
  {
   "cell_type": "code",
   "execution_count": 9,
   "metadata": {
    "vscode": {
     "languageId": "julia"
    }
   },
   "outputs": [
    {
     "ename": "DimensionMismatch",
     "evalue": "DimensionMismatch(\"dimensions must match: a has dims (Base.OneTo(500),), b has dims (Base.OneTo(750),), mismatch at 1\")",
     "output_type": "error",
     "traceback": [
      "DimensionMismatch(\"dimensions must match: a has dims (Base.OneTo(500),), b has dims (Base.OneTo(750),), mismatch at 1\")\n",
      "\n",
      "Stacktrace:\n",
      "  [1] promote_shape\n",
      "    @ ./indices.jl:178 [inlined]\n",
      "  [2] promote_shape\n",
      "    @ ./indices.jl:169 [inlined]\n",
      "  [3] +(A::Vector{Float64}, Bs::Vector{Float64})\n",
      "    @ Base ./arraymath.jl:45\n",
      "  [4] top-level scope\n",
      "    @ ~/Documents/GitHub/PLUGIn_Julia/PLUGIn_CS.ipynb:65\n",
      "  [5] eval\n",
      "    @ ./boot.jl:373 [inlined]\n",
      "  [6] include_string(mapexpr::typeof(REPL.softscope), mod::Module, code::String, filename::String)\n",
      "    @ Base ./loading.jl:1196\n",
      "  [7] #invokelatest#2\n",
      "    @ ./essentials.jl:716 [inlined]\n",
      "  [8] invokelatest\n",
      "    @ ./essentials.jl:714 [inlined]\n",
      "  [9] (::VSCodeServer.var\"#164#165\"{VSCodeServer.NotebookRunCellArguments, String})()\n",
      "    @ VSCodeServer ~/.vscode/extensions/julialang.language-julia-1.6.15/scripts/packages/VSCodeServer/src/serve_notebook.jl:19\n",
      " [10] withpath(f::VSCodeServer.var\"#164#165\"{VSCodeServer.NotebookRunCellArguments, String}, path::String)\n",
      "    @ VSCodeServer ~/.vscode/extensions/julialang.language-julia-1.6.15/scripts/packages/VSCodeServer/src/repl.jl:184\n",
      " [11] notebook_runcell_request(conn::VSCodeServer.JSONRPC.JSONRPCEndpoint{Base.PipeEndpoint, Base.PipeEndpoint}, params::VSCodeServer.NotebookRunCellArguments)\n",
      "    @ VSCodeServer ~/.vscode/extensions/julialang.language-julia-1.6.15/scripts/packages/VSCodeServer/src/serve_notebook.jl:13\n",
      " [12] dispatch_msg(x::VSCodeServer.JSONRPC.JSONRPCEndpoint{Base.PipeEndpoint, Base.PipeEndpoint}, dispatcher::VSCodeServer.JSONRPC.MsgDispatcher, msg::Dict{String, Any})\n",
      "    @ VSCodeServer.JSONRPC ~/.vscode/extensions/julialang.language-julia-1.6.15/scripts/packages/JSONRPC/src/typed.jl:67\n",
      " [13] serve_notebook(pipename::String, outputchannel_logger::Base.CoreLogging.SimpleLogger; crashreporting_pipename::String)\n",
      "    @ VSCodeServer ~/.vscode/extensions/julialang.language-julia-1.6.15/scripts/packages/VSCodeServer/src/serve_notebook.jl:136\n",
      " [14] top-level scope\n",
      "    @ ~/.vscode/extensions/julialang.language-julia-1.6.15/scripts/notebook/notebook.jl:32\n",
      " [15] include(mod::Module, _path::String)\n",
      "    @ Base ./Base.jl:418\n",
      " [16] exec_options(opts::Base.JLOptions)\n",
      "    @ Base ./client.jl:292\n",
      " [17] _start()\n",
      "    @ Base ./client.jl:495"
     ]
    }
   ],
   "source": [
    "#########  SNR  #################\n",
    "max_iter = 1000\n",
    "stepsize_PLUGIn = .5\n",
    "stepsize_GD = .5\n",
    "noise_level_list = 0:.1:1\n",
    "trials = 10\n",
    "\n",
    "m = 500\n",
    "\n",
    "recov_error_matrix_PLUGIn = zeros(length(noise_level_list))\n",
    "recon_error_matrix_PLUGIn = zeros(length(noise_level_list))\n",
    "\n",
    "recov_error_matrix_GD = zeros(length(noise_level_list))\n",
    "recon_error_matrix_GD = zeros(length(noise_level_list))\n",
    "\n",
    "recov_error_matrix_PLUGIn_proj = zeros(length(noise_level_list))\n",
    "recon_error_matrix_PLUGIn_proj = zeros(length(noise_level_list))\n",
    "\n",
    "recov_error_matrix_GD_proj = zeros(length(noise_level_list))\n",
    "recon_error_matrix_GD_proj = zeros(length(noise_level_list))\n",
    "\n",
    "recov_error_matrix_PLUGIn_reg = zeros(length(noise_level_list))\n",
    "recon_error_matrix_PLUGIn_reg = zeros(length(noise_level_list))\n",
    "\n",
    "recov_error_matrix_GD_reg = zeros(length(noise_level_list))\n",
    "recon_error_matrix_GD_reg = zeros(length(noise_level_list))\n",
    "\n",
    "for trial in 1:trials\n",
    "\n",
    "    net_param = [20, 200, 750]\n",
    "    G = create_network(net_param)\n",
    "    W = normalized_weight_product(G)\n",
    "\n",
    "    depth = length(Flux.params(G))/2\n",
    "\n",
    "    (_, z_dim) = size(Flux.params(G)[1]);\n",
    "    (x_dim, _ ) = size(Flux.params(G)[Int(depth*2 - 1)])\n",
    "    W = normalized_weight_product(G)\n",
    "\n",
    "    A = randn(m, 750)/sqrt(m)\n",
    "\n",
    "\n",
    "    recov_error_PLUGIn = []\n",
    "    recon_error_PLUGIn = []\n",
    "\n",
    "    recov_error_GD = []\n",
    "    recon_error_GD = []\n",
    "\n",
    "    recov_error_PLUGIn_proj = []\n",
    "    recon_error_PLUGIn_proj = []\n",
    "\n",
    "    recov_error_GD_proj = []\n",
    "    recon_error_GD_proj = []\n",
    "\n",
    "    recov_error_PLUGIn_reg = []\n",
    "    recon_error_PLUGIn_reg = []\n",
    "\n",
    "    recov_error_GD_reg = []\n",
    "    recon_error_GD_reg = []\n",
    "\n",
    "    z = randn(z_dim)\n",
    "    z = z/norm(z) #unit sphere\n",
    "    \n",
    "    for noise_level in noise_level_list\n",
    "        y = A*G(z) + noise_level * randn(x_dim)\n",
    "        descent(z) = gradient(z->norm(A*G(z) - y,2)^2, z)[1]   \n",
    "        descent_regularized(z, λ) = gradient(z->norm(A*G(z) - y,2)^2 +λ*norm(z,2)^2, z)[1]        \n",
    "\n",
    "        z_est_PLUGIn = randn(z_dim)\n",
    "        z_est_GD = randn(z_dim)\n",
    "\n",
    "        z_est_PLUGIn_proj = randn(z_dim)\n",
    "        z_est_GD_proj = randn(z_dim)\n",
    "\n",
    "        z_est_PLUGIn_reg = randn(z_dim)\n",
    "        z_est_GD_reg = randn(z_dim)\n",
    "\n",
    "        iter = 1\n",
    "        for iter in 1:max_iter\n",
    "            z_est_PLUGIn = PLUGIN_denoise(G, W, A, y, z_est_PLUGIn, stepsize_PLUGIn)\n",
    "            d = descent(z_est_GD); z_est_GD -= stepsize_GD *d\n",
    "\n",
    "            z_est_PLUGIn_proj = PLUGIN_denoise(G, W, A, y, z_est_PLUGIn_proj, stepsize_PLUGIn)\n",
    "            z_est_PLUGIn_proj = proj(z_est_PLUGIn_proj, 2 * sqrt(20))\n",
    "\n",
    "            d = descent(z_est_GD_proj); z_est_GD_proj -= stepsize_GD *d; z_est_GD_proj = proj(z_est_GD_proj, 2 * sqrt(20))\n",
    "\n",
    "            z_est_PLUGIn_reg = PLUGIN_denoise_regularized(G, W, A, y, z_est_PLUGIn_reg, stepsize_PLUGIn, 0.05)\n",
    "\n",
    "            d = descent_regularized(z_est_GD_reg, 0.05); z_est_GD_reg -= stepsize_GD *d\n",
    "\n",
    "        end\n",
    "\n",
    "        push!(recov_error_PLUGIn, relative_error(z, z_est_PLUGIn))\n",
    "        push!(recon_error_PLUGIn,  relative_error(G(z), G(z_est_PLUGIn)) )\n",
    "\n",
    "        push!(recov_error_GD, relative_error(z, z_est_GD))\n",
    "        push!(recon_error_GD, relative_error(G(z), G(z_est_GD)) )  \n",
    "\n",
    "        push!(recov_error_PLUGIn_proj, relative_error(z, z_est_PLUGIn_proj))\n",
    "        push!(recon_error_PLUGIn_proj,  relative_error(G(z), G(z_est_PLUGIn_proj)) )\n",
    "\n",
    "        push!(recov_error_GD_proj, relative_error(z, z_est_GD_proj))\n",
    "        push!(recon_error_GD_proj, relative_error(G(z), G(z_est_GD_proj)) )  \n",
    "\n",
    "        push!(recov_error_PLUGIn_reg, relative_error(z, z_est_PLUGIn_reg))\n",
    "        push!(recon_error_PLUGIn_reg,  relative_error(G(z), G(z_est_PLUGIn_reg)) )\n",
    "\n",
    "        push!(recov_error_GD_reg, relative_error(z, z_est_GD_reg))\n",
    "        push!(recon_error_GD_reg, relative_error(G(z), G(z_est_GD_reg)) )  \n",
    "    end\n",
    "\n",
    "    recov_error_matrix_PLUGIn = hcat(recov_error_matrix_PLUGIn, recov_error_PLUGIn)\n",
    "    recon_error_matrix_PLUGIn =  hcat(recon_error_matrix_PLUGIn, recon_error_PLUGIn)\n",
    "\n",
    "    recov_error_matrix_GD = hcat(recov_error_matrix_GD, recov_error_GD)\n",
    "    recon_error_matrix_GD = hcat(recon_error_matrix_GD, recon_error_GD)\n",
    "\n",
    "    recov_error_matrix_PLUGIn_proj = hcat(recov_error_matrix_PLUGIn_proj, recov_error_PLUGIn_proj)\n",
    "    recon_error_matrix_PLUGIn_proj =  hcat(recon_error_matrix_PLUGIn_proj, recon_error_PLUGIn_proj)\n",
    "\n",
    "    recov_error_matrix_GD_proj = hcat(recov_error_matrix_GD_proj, recov_error_GD_proj)\n",
    "    recon_error_matrix_GD_proj = hcat(recon_error_matrix_GD_proj, recon_error_GD_proj)\n",
    "\n",
    "    recov_error_matrix_PLUGIn_reg = hcat(recov_error_matrix_PLUGIn_reg, recov_error_PLUGIn_reg)\n",
    "    recon_error_matrix_PLUGIn_reg =  hcat(recon_error_matrix_PLUGIn_reg, recon_error_PLUGIn_reg)\n",
    "\n",
    "    recov_error_matrix_GD_reg = hcat(recov_error_matrix_GD_reg, recov_error_GD_reg)\n",
    "    recon_error_matrix_GD_reg = hcat(recon_error_matrix_GD_reg, recon_error_GD_reg)\n",
    "\n",
    "end\n",
    "\n",
    "\n",
    "save(\"result/talk/CS_error_denoise_recov.jld\", \"error_GD\", recov_error_matrix_GD, \"error_PLUGIn\", recov_error_matrix_PLUGIn, \"error_GD_proj\", recov_error_matrix_GD_proj, \"error_PLUGIn_proj\", recov_error_matrix_PLUGIn_proj, \"error_GD_reg\", recov_error_matrix_GD_reg, \"error_PLUGIn_reg\", recov_error_matrix_PLUGIn_reg)\n",
    "save(\"result/talk/CS_error_denoise_recon.jld\", \"error_GD\", recon_error_matrix_GD, \"error_PLUGIn\", recon_error_matrix_PLUGIn, \"error_GD_proj\", recon_error_matrix_GD_proj, \"error_PLUGIn_proj\", recon_error_matrix_PLUGIn_proj, \"error_GD_reg\", recon_error_matrix_GD_reg, \"error_PLUGIn_reg\", recon_error_matrix_PLUGIn_reg)\n"
   ]
  },
  {
   "cell_type": "code",
   "execution_count": null,
   "metadata": {
    "vscode": {
     "languageId": "julia"
    }
   },
   "outputs": [],
   "source": []
  }
 ],
 "metadata": {
  "language_info": {
   "name": "python"
  },
  "orig_nbformat": 4
 },
 "nbformat": 4,
 "nbformat_minor": 2
}
