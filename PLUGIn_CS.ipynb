{
 "cells": [
  {
   "cell_type": "code",
   "execution_count": 24,
   "metadata": {},
   "outputs": [],
   "source": [
    "using BSON: @load\n",
    "using Flux\n",
    "using Flux: chunk\n",
    "using Flux.Data: DataLoader\n",
    "using ImageFiltering\n",
    "using Images\n",
    "using ImageIO\n",
    "using MLDatasets: FashionMNIST\n",
    "using LinearAlgebra\n",
    "using MLDatasets\n",
    "using Plots\n",
    "using Zygote\n",
    "using FFTW\n",
    "using Distributions\n",
    "using SparseArrays"
   ]
  },
  {
   "cell_type": "code",
   "execution_count": 4,
   "metadata": {},
   "outputs": [
    {
     "data": {
      "text/plain": [
       "PLUGIn_CS (generic function with 1 method)"
      ]
     },
     "execution_count": 4,
     "metadata": {},
     "output_type": "execute_result"
    }
   ],
   "source": [
    "function PLUGIn_CS(G, y, A, max_iter, stepsize, tolerance, out_toggle)\n",
    "    \n",
    "    (_, z_dim) = size(Flux.params(G[1])[1]);\n",
    "    W = I(z_dim)\n",
    "  \n",
    "    #normalize the weights of the network\n",
    "    for i in 1:length(G)\n",
    "        _, s, _ = svd(Flux.params(G[i])[1])\n",
    "        W = Flux.params(G[i])[1] * W /s[1]\n",
    "    end\n",
    "  \n",
    "    z = randn(z_dim)\n",
    "    iter = 1\n",
    "    succ_error = 1\n",
    "  \n",
    "    while iter <= max_iter && succ_error > tolerance\n",
    "      \n",
    "      # d gives the PLUGIn direction\n",
    "      d = W'*A'*(A * G(z) - y)\n",
    "      z -= stepsize * d\n",
    "      succ_error = norm(stepsize * d)\n",
    "      if iter % out_toggle == 0  \n",
    "          println(\"====> In quasi-gradient: Iteration: $iter Successive error: $succ_error\")\n",
    "      end\n",
    "      iter += 1\n",
    "    end\n",
    "    println(\"====> In quasi-gradient: Iteration: $iter Successive error: $succ_error\")\n",
    "  \n",
    "    return z\n",
    "  end"
   ]
  },
  {
   "cell_type": "code",
   "execution_count": 5,
   "metadata": {},
   "outputs": [
    {
     "data": {
      "text/plain": [
       "GD_CS (generic function with 1 method)"
      ]
     },
     "execution_count": 5,
     "metadata": {},
     "output_type": "execute_result"
    }
   ],
   "source": [
    "function GD_CS(G, y, A, max_iter, stepsize, tolerance, out_toggle)\n",
    "\n",
    "    z = randn(20)\n",
    "    iter = 1\n",
    "    succ_error = 1\n",
    "    while iter <= max_iter && succ_error > tolerance\n",
    "        # d gives the PLUGIn direction\n",
    "        d = gradient(z -> norm(y - A*G(z)), z)[1]\n",
    "        z -= stepsize * d\n",
    "        succ_error = norm(stepsize * d)\n",
    "        if iter % out_toggle == 0  \n",
    "            println(\"====> In quasi-gradient: Iteration: $iter Successive error: $succ_error\")\n",
    "        end\n",
    "        iter += 1\n",
    "    end\n",
    "    println(\"====> In quasi-gradient: Iteration: $iter Successive error: $succ_error\")\n",
    "\n",
    "    return z\n",
    "end"
   ]
  },
  {
   "cell_type": "code",
   "execution_count": 6,
   "metadata": {},
   "outputs": [
    {
     "name": "stdout",
     "output_type": "stream",
     "text": [
      "====> In quasi-gradient: Iteration: 1000 Successive error: 1.9656888979299607e-5\n",
      "====> In quasi-gradient: Iteration: 2000 Successive error: 5.5364298995732266e-9\n",
      "====> In quasi-gradient: Iteration: 3000 Successive error: 1.3135294395789192e-12\n",
      "====> In quasi-gradient: Iteration: 3629 Successive error: 9.937721023672761e-15\n",
      "recovery error: 5.613198580172336e-13, reconstruction error: 1.612694150932187e-13\n"
     ]
    }
   ],
   "source": [
    "#setup a synthetic problem\n",
    "G = Chain(\n",
    "    Dense(20, 500, relu, bias = false; initW =(out,in) ->  randn(500, 20)/sqrt(500)),\n",
    "    Dense(500, 500, relu, bias = false; initW =(out,in) -> randn(500, 500)/sqrt(500)),\n",
    "    Dense(500, 784, relu, bias = false; initW =(out,in) -> randn(784, 500)/sqrt(784))\n",
    ")\n",
    "\n",
    "\n",
    "z = randn(20)\n",
    "m = 300; A = randn(m, 784)/sqrt(m)\n",
    "y = A*G(z) + 1e-14 * randn(m)\n",
    "\n",
    "stepsize = 2\n",
    "tolerance = 1e-14\n",
    "max_iter = 10000\n",
    "out_toggle = 1000\n",
    "z_rec = PLUGIn_CS(G,y,A, max_iter, stepsize, tolerance, out_toggle)\n",
    "recov_error = norm(z - z_rec)\n",
    "recon_error = norm(G(z) - G(z_rec))\n",
    "println(\"recovery error: $recov_error, reconstruction error: $recon_error\")"
   ]
  },
  {
   "cell_type": "markdown",
   "metadata": {},
   "source": [
    "Compresed sensing with Fourier measurements"
   ]
  },
  {
   "cell_type": "code",
   "execution_count": 25,
   "metadata": {},
   "outputs": [
    {
     "ename": "LoadError",
     "evalue": "MethodError: no method matching findnz(::Vector{Bool})\n\u001b[0mClosest candidates are:\n\u001b[0m  findnz(\u001b[91m::SparseArrays.AbstractSparseMatrixCSC{Tv, Ti}\u001b[39m) where {Tv, Ti} at /cvmfs/soft.computecanada.ca/easybuild/software/2020/avx2/Core/julia/1.7.0/share/julia/stdlib/v1.7/SparseArrays/src/sparsematrix.jl:1538\n\u001b[0m  findnz(\u001b[91m::SparseVector{Tv, Ti}\u001b[39m) where {Tv, Ti} at /cvmfs/soft.computecanada.ca/easybuild/software/2020/avx2/Core/julia/1.7.0/share/julia/stdlib/v1.7/SparseArrays/src/sparsevector.jl:783\n\u001b[0m  findnz(\u001b[91m::AbstractSparseMatrix\u001b[39m) at /project/def-mpf/bjoshi/.julia/packages/Plots/hxZ0l/src/recipes.jl:1610\n\u001b[0m  ...",
     "output_type": "error",
     "traceback": [
      "MethodError: no method matching findnz(::Vector{Bool})\n\u001b[0mClosest candidates are:\n\u001b[0m  findnz(\u001b[91m::SparseArrays.AbstractSparseMatrixCSC{Tv, Ti}\u001b[39m) where {Tv, Ti} at /cvmfs/soft.computecanada.ca/easybuild/software/2020/avx2/Core/julia/1.7.0/share/julia/stdlib/v1.7/SparseArrays/src/sparsematrix.jl:1538\n\u001b[0m  findnz(\u001b[91m::SparseVector{Tv, Ti}\u001b[39m) where {Tv, Ti} at /cvmfs/soft.computecanada.ca/easybuild/software/2020/avx2/Core/julia/1.7.0/share/julia/stdlib/v1.7/SparseArrays/src/sparsevector.jl:783\n\u001b[0m  findnz(\u001b[91m::AbstractSparseMatrix\u001b[39m) at /project/def-mpf/bjoshi/.julia/packages/Plots/hxZ0l/src/recipes.jl:1610\n\u001b[0m  ...",
      "",
      "Stacktrace:",
      " [1] top-level scope",
      "   @ In[25]:11",
      " [2] eval",
      "   @ ./boot.jl:373 [inlined]",
      " [3] include_string(mapexpr::typeof(REPL.softscope), mod::Module, code::String, filename::String)",
      "   @ Base ./loading.jl:1196"
     ]
    }
   ],
   "source": [
    "x_dim = 100\n",
    "sampling = rand(Bernoulli(.5), x_dim)\n",
    "sampling[1] = 1\n",
    "m = sum(sampling)\n",
    "F = fft(Diagonal(sampling), 2)\n",
    "\n",
    "\n",
    "# x = zeros(x_dim); x[1] = 1\n",
    "# fft(x)\n",
    "\n",
    "findnz(sampling)\n",
    "\n"
   ]
  },
  {
   "cell_type": "code",
   "execution_count": 26,
   "metadata": {},
   "outputs": [
    {
     "name": "stdout",
     "output_type": "stream",
     "text": [
      "search: \u001b[0m\u001b[1mf\u001b[22m\u001b[0m\u001b[1mi\u001b[22m\u001b[0m\u001b[1mn\u001b[22m\u001b[0m\u001b[1md\u001b[22m\u001b[0m\u001b[1mn\u001b[22m\u001b[0m\u001b[1mz\u001b[22m \u001b[0m\u001b[1mf\u001b[22m\u001b[0m\u001b[1mi\u001b[22m\u001b[0m\u001b[1mn\u001b[22m\u001b[0m\u001b[1md\u001b[22m\u001b[0m\u001b[1mn\u001b[22mext \u001b[0m\u001b[1mf\u001b[22m\u001b[0m\u001b[1mi\u001b[22m\u001b[0m\u001b[1mn\u001b[22m\u001b[0m\u001b[1md\u001b[22mmi\u001b[0m\u001b[1mn\u001b[22m! \u001b[0m\u001b[1mf\u001b[22m\u001b[0m\u001b[1mi\u001b[22m\u001b[0m\u001b[1mn\u001b[22m\u001b[0m\u001b[1md\u001b[22mmi\u001b[0m\u001b[1mn\u001b[22m \u001b[0m\u001b[1mf\u001b[22m\u001b[0m\u001b[1mi\u001b[22m\u001b[0m\u001b[1mn\u001b[22m\u001b[0m\u001b[1md\u001b[22mlocalmi\u001b[0m\u001b[1mn\u001b[22mima\n",
      "\n"
     ]
    },
    {
     "data": {
      "text/latex": [
       "\\begin{verbatim}\n",
       "findnz(A::SparseMatrixCSC)\n",
       "\\end{verbatim}\n",
       "Return a tuple \\texttt{(I, J, V)} where \\texttt{I} and \\texttt{J} are the row and column indices of the stored (\"structurally non-zero\") values in sparse matrix \\texttt{A}, and \\texttt{V} is a vector of the values.\n",
       "\n",
       "\\section{Examples}\n",
       "\\begin{verbatim}\n",
       "julia> A = sparse([1 2 0; 0 0 3; 0 4 0])\n",
       "3×3 SparseMatrixCSC{Int64, Int64} with 4 stored entries:\n",
       " 1  2  ⋅\n",
       " ⋅  ⋅  3\n",
       " ⋅  4  ⋅\n",
       "\n",
       "julia> findnz(A)\n",
       "([1, 1, 3, 2], [1, 2, 2, 3], [1, 2, 4, 3])\n",
       "\\end{verbatim}\n",
       "\\rule{\\textwidth}{1pt}\n",
       "\\begin{verbatim}\n",
       "findnz(x::SparseVector)\n",
       "\\end{verbatim}\n",
       "Return a tuple \\texttt{(I, V)}  where \\texttt{I} is the indices of the stored (\"structurally non-zero\") values in sparse vector \\texttt{x} and \\texttt{V} is a vector of the values.\n",
       "\n",
       "\\section{Examples}\n",
       "\\begin{verbatim}\n",
       "julia> x = sparsevec([1 2 0; 0 0 3; 0 4 0])\n",
       "9-element SparseVector{Int64, Int64} with 4 stored entries:\n",
       "  [1]  =  1\n",
       "  [4]  =  2\n",
       "  [6]  =  4\n",
       "  [8]  =  3\n",
       "\n",
       "julia> findnz(x)\n",
       "([1, 4, 6, 8], [1, 2, 4, 3])\n",
       "\\end{verbatim}\n"
      ],
      "text/markdown": [
       "```\n",
       "findnz(A::SparseMatrixCSC)\n",
       "```\n",
       "\n",
       "Return a tuple `(I, J, V)` where `I` and `J` are the row and column indices of the stored (\"structurally non-zero\") values in sparse matrix `A`, and `V` is a vector of the values.\n",
       "\n",
       "# Examples\n",
       "\n",
       "```jldoctest\n",
       "julia> A = sparse([1 2 0; 0 0 3; 0 4 0])\n",
       "3×3 SparseMatrixCSC{Int64, Int64} with 4 stored entries:\n",
       " 1  2  ⋅\n",
       " ⋅  ⋅  3\n",
       " ⋅  4  ⋅\n",
       "\n",
       "julia> findnz(A)\n",
       "([1, 1, 3, 2], [1, 2, 2, 3], [1, 2, 4, 3])\n",
       "```\n",
       "\n",
       "---\n",
       "\n",
       "```\n",
       "findnz(x::SparseVector)\n",
       "```\n",
       "\n",
       "Return a tuple `(I, V)`  where `I` is the indices of the stored (\"structurally non-zero\") values in sparse vector `x` and `V` is a vector of the values.\n",
       "\n",
       "# Examples\n",
       "\n",
       "```jldoctest\n",
       "julia> x = sparsevec([1 2 0; 0 0 3; 0 4 0])\n",
       "9-element SparseVector{Int64, Int64} with 4 stored entries:\n",
       "  [1]  =  1\n",
       "  [4]  =  2\n",
       "  [6]  =  4\n",
       "  [8]  =  3\n",
       "\n",
       "julia> findnz(x)\n",
       "([1, 4, 6, 8], [1, 2, 4, 3])\n",
       "```\n"
      ],
      "text/plain": [
       "\u001b[36m  findnz(A::SparseMatrixCSC)\u001b[39m\n",
       "\n",
       "  Return a tuple \u001b[36m(I, J, V)\u001b[39m where \u001b[36mI\u001b[39m and \u001b[36mJ\u001b[39m are the row and column indices of the\n",
       "  stored (\"structurally non-zero\") values in sparse matrix \u001b[36mA\u001b[39m, and \u001b[36mV\u001b[39m is a\n",
       "  vector of the values.\n",
       "\n",
       "\u001b[1m  Examples\u001b[22m\n",
       "\u001b[1m  ≡≡≡≡≡≡≡≡≡≡\u001b[22m\n",
       "\n",
       "\u001b[36m  julia> A = sparse([1 2 0; 0 0 3; 0 4 0])\u001b[39m\n",
       "\u001b[36m  3×3 SparseMatrixCSC{Int64, Int64} with 4 stored entries:\u001b[39m\n",
       "\u001b[36m   1  2  ⋅\u001b[39m\n",
       "\u001b[36m   ⋅  ⋅  3\u001b[39m\n",
       "\u001b[36m   ⋅  4  ⋅\u001b[39m\n",
       "\u001b[36m  \u001b[39m\n",
       "\u001b[36m  julia> findnz(A)\u001b[39m\n",
       "\u001b[36m  ([1, 1, 3, 2], [1, 2, 2, 3], [1, 2, 4, 3])\u001b[39m\n",
       "\n",
       "  ────────────────────────────────────────────────────────────────────────────\n",
       "\n",
       "\u001b[36m  findnz(x::SparseVector)\u001b[39m\n",
       "\n",
       "  Return a tuple \u001b[36m(I, V)\u001b[39m where \u001b[36mI\u001b[39m is the indices of the stored (\"structurally\n",
       "  non-zero\") values in sparse vector \u001b[36mx\u001b[39m and \u001b[36mV\u001b[39m is a vector of the values.\n",
       "\n",
       "\u001b[1m  Examples\u001b[22m\n",
       "\u001b[1m  ≡≡≡≡≡≡≡≡≡≡\u001b[22m\n",
       "\n",
       "\u001b[36m  julia> x = sparsevec([1 2 0; 0 0 3; 0 4 0])\u001b[39m\n",
       "\u001b[36m  9-element SparseVector{Int64, Int64} with 4 stored entries:\u001b[39m\n",
       "\u001b[36m    [1]  =  1\u001b[39m\n",
       "\u001b[36m    [4]  =  2\u001b[39m\n",
       "\u001b[36m    [6]  =  4\u001b[39m\n",
       "\u001b[36m    [8]  =  3\u001b[39m\n",
       "\u001b[36m  \u001b[39m\n",
       "\u001b[36m  julia> findnz(x)\u001b[39m\n",
       "\u001b[36m  ([1, 4, 6, 8], [1, 2, 4, 3])\u001b[39m"
      ]
     },
     "execution_count": 26,
     "metadata": {},
     "output_type": "execute_result"
    }
   ],
   "source": [
    "?findnz"
   ]
  },
  {
   "cell_type": "code",
   "execution_count": 27,
   "metadata": {},
   "outputs": [
    {
     "name": "stdout",
     "output_type": "stream",
     "text": [
      "Loading model..."
     ]
    },
    {
     "ename": "LoadError",
     "evalue": "SystemError: opening file \"result/model-20.bson\": No such file or directory",
     "output_type": "error",
     "traceback": [
      "SystemError: opening file \"result/model-20.bson\": No such file or directory",
      "",
      "Stacktrace:",
      "  [1] systemerror(p::String, errno::Int32; extrainfo::Nothing)",
      "    @ Base ./error.jl:174",
      "  [2] #systemerror#68",
      "    @ ./error.jl:173 [inlined]",
      "  [3] systemerror",
      "    @ ./error.jl:173 [inlined]",
      "  [4] open(fname::String; lock::Bool, read::Nothing, write::Nothing, create::Nothing, truncate::Nothing, append::Nothing)",
      "    @ Base ./iostream.jl:293",
      "  [5] open",
      "    @ ./iostream.jl:282 [inlined]",
      "  [6] open(f::typeof(BSON.parse), args::String; kwargs::Base.Pairs{Symbol, Union{}, Tuple{}, NamedTuple{(), Tuple{}}})",
      "    @ Base ./io.jl:328",
      "  [7] open",
      "    @ ./io.jl:328 [inlined]",
      "  [8] parse",
      "    @ /project/def-mpf/bjoshi/.julia/packages/BSON/rOaki/src/read.jl:106 [inlined]",
      "  [9] load (repeats 2 times)",
      "    @ /project/def-mpf/bjoshi/.julia/packages/BSON/rOaki/src/read.jl:108 [inlined]",
      " [10] macro expansion",
      "    @ /project/def-mpf/bjoshi/.julia/packages/BSON/rOaki/src/BSON.jl:50 [inlined]",
      " [11] load_model(load_dir::String, epoch::Int64)",
      "    @ Main ./In[27]:4",
      " [12] top-level scope",
      "    @ In[27]:18",
      " [13] eval",
      "    @ ./boot.jl:373 [inlined]",
      " [14] include_string(mapexpr::typeof(REPL.softscope), mod::Module, code::String, filename::String)",
      "    @ Base ./loading.jl:1196"
     ]
    }
   ],
   "source": [
    "# experiments with MNIST dataset\n",
    "function load_model(load_dir::String, epoch::Int)\n",
    "    print(\"Loading model...\")\n",
    "    @load joinpath(load_dir, \"model-$epoch.bson\") encoder_μ encoder_logvar decoder\n",
    "    println(\"Done\")\n",
    "    return encoder_μ, encoder_logvar, decoder\n",
    "end\n",
    "\n",
    "function get_train_loader(batch_size, shuffle::Bool)\n",
    "    # The MNIST training set is made up of 60k 28 by 28 greyscale images\n",
    "    train_x, train_y = MNIST.traindata(Float32)\n",
    "    train_x = 1 .- reshape(train_x, (784, :))\n",
    "    return DataLoader((train_x, train_y), batchsize=batch_size, shuffle=shuffle, partial=false)\n",
    "end\n",
    "\n",
    "epoch_to_load = 20\n",
    "# Load the model and test set loader\n",
    "encoder_mu, encoder_logvar, decoder = load_model(\"result\", epoch_to_load)\n",
    "\n",
    "# pick a image in MNIST to denoise\n",
    "num = 8\n",
    "batch_size = 64\n",
    "shuffle_data = true\n",
    "dataloader = get_train_loader(batch_size, shuffle_data)\n",
    "\n",
    "(x_batch, y_batch) = first(dataloader)\n",
    "i = 1\n",
    "while y_batch[i] != num\n",
    "    i += 1\n",
    "end\n",
    "\n",
    "x = x_batch[:,i]\n",
    "noise_level = .1\n",
    "\n",
    "m = 300; A = randn(m, 784)/sqrt(m)\n",
    "\n",
    "y = A*x + noise_level * randn(m)\n",
    "\n",
    "stepsize = 1\n",
    "tolerance = 1e-7\n",
    "max_iter = 10000\n",
    "out_toggle = 1000\n",
    "z_rec_PLUGIn = PLUGIn_CS(decoder, y, A, max_iter, stepsize, tolerance, out_toggle)\n",
    "error = norm(x - decoder(z_rec_PLUGIn))\n",
    "println(\"reconstruction error: $error\")\n",
    "\n",
    "z_rec_GD = GD_CS(decoder, y, A, max_iter, stepsize, tolerance, out_toggle)\n",
    "\n",
    "recovered_image_PLUGIn = colorview(Gray, reshape(decoder(z_rec_PLUGIn), 28,28)' )\n",
    "recovered_image_GD = colorview(Gray, reshape(decoder(z_rec_GD), 28,28)' )\n",
    "\n",
    "true_image = colorview(Gray, reshape(x, 28,28)' );\n",
    "p1 = plot(true_image, framestyle = :none, bg =:black, title = \"original image\")\n",
    "p2 = plot(recovered_image_PLUGIn, framestyle = :none, bg =:black, title = \"recovered image PLUGIn,\\n m = $m\")\n",
    "p3 = plot(recovered_image_GD, framestyle = :none, bg =:black, title = \"recovered image GD,\\n m = $m\")\n",
    "plot(p1, p2, p3, layout = 3)\n"
   ]
  },
  {
   "cell_type": "code",
   "execution_count": null,
   "metadata": {},
   "outputs": [],
   "source": []
  }
 ],
 "metadata": {
  "kernelspec": {
   "display_name": "Julia 1.7.0",
   "language": "julia",
   "name": "julia-1.7"
  },
  "language_info": {
   "file_extension": ".jl",
   "mimetype": "application/julia",
   "name": "julia",
   "version": "1.7.0"
  },
  "orig_nbformat": 4
 },
 "nbformat": 4,
 "nbformat_minor": 2
}
